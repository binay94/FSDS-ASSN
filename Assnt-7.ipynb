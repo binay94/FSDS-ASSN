{
 "cells": [
  {
   "cell_type": "markdown",
   "id": "54a1d3e1-09a0-455a-a349-8bb189b86cdf",
   "metadata": {},
   "source": [
    "1. What is the name of the feature responsible for generating Regex objects?\n",
    "\n",
    "   Ans: re.compile() is the feature responsible for generation of Regex objects."
   ]
  },
  {
   "cell_type": "markdown",
   "id": "61a0aee2-4fc2-4ddc-9f0f-d96b9669f9ef",
   "metadata": {},
   "source": [
    "2. Why do raw strings often appear in Regex objects?\n",
    "\n",
    "   Ans: In a normal string, an escape sequence is considered to be one character, but in a raw string, backslashes are also counted as characters.Hence, Raw strings are used so that backslashes do not have to be escaped."
   ]
  },
  {
   "cell_type": "code",
   "execution_count": null,
   "id": "16aa79d4-abf2-48ea-847b-ba74b453ec70",
   "metadata": {},
   "outputs": [
    {
     "name": "stdout",
     "output_type": "stream",
     "text": [
      "re.compile('ram\\nshyam')\n"
     ]
    }
   ],
   "source": [
    "import re\n",
    "x=re.compile(\"ram\\nshyam\")\n",
    "print(x)"
   ]
  },
  {
   "cell_type": "code",
   "execution_count": null,
   "id": "a61b4c0b-14a3-40e4-8729-bc898d557708",
   "metadata": {},
   "outputs": [
    {
     "name": "stdout",
     "output_type": "stream",
     "text": [
      "ram\n",
      "shyam\n"
     ]
    }
   ],
   "source": [
    "print(\"ram\\nshyam\")"
   ]
  },
  {
   "cell_type": "markdown",
   "id": "30cb9804-eeaa-42d5-be08-f86170e46f6e",
   "metadata": {},
   "source": [
    "3. What is the return value of the search() method?\n",
    "\n",
    "Ans : The return value of re.search(pattern,string) ,returns a match object if the pattern is observed in the string else it returns a None."
   ]
  },
  {
   "cell_type": "code",
   "execution_count": 23,
   "id": "a7d5f2d1-e55f-4c77-987b-6c81afe055be",
   "metadata": {},
   "outputs": [
    {
     "name": "stdout",
     "output_type": "stream",
     "text": [
      "x1 = <re.Match object; span=(2, 3), match='n'>\n",
      "x2 = None\n",
      "<class 're.Match'>\n"
     ]
    }
   ],
   "source": [
    "import re\n",
    "s=\"binaya \\n kumar \\n pradhan\"\n",
    "x1=re.search(\"n\",s)\n",
    "x2=re.search(\"x\",s)\n",
    "print(f\"x1 = {x1}\")\n",
    "print(f\"x2 = {x2}\")\n",
    "print(type(x1))"
   ]
  },
  {
   "cell_type": "markdown",
   "id": "d8fbcb79-ebb0-4d42-b3d9-14fd0fb134fd",
   "metadata": {},
   "source": [
    "4. From a Match item, how do you get the actual strings that match the pattern?\n",
    "\n",
    "   Ans : For matched items, group() method returns actual strings that matchs the pattern"
   ]
  },
  {
   "cell_type": "code",
   "execution_count": 25,
   "id": "5c750df5-fd4b-4bd8-9d9a-a6215531bcc0",
   "metadata": {},
   "outputs": [
    {
     "name": "stdout",
     "output_type": "stream",
     "text": [
      "x1 = n\n"
     ]
    }
   ],
   "source": [
    "import re\n",
    "s=\"binaya \\n kumar \\n pradhan\"\n",
    "x1=re.search(\"n\",s)\n",
    "print(f\"x1 = {x1.group()}\")"
   ]
  },
  {
   "cell_type": "markdown",
   "id": "d7f35662-17df-4393-85ff-f3737e7490c8",
   "metadata": {},
   "source": [
    "5. In the regex which created from the r'(\\d\\d\\d)-(\\d\\d\\d-\\d\\d\\d\\d)', what does group zero cover? Group 2? Group 1?\n",
    "\n",
    "   Ans : the zero group covers the entire pattern match (\\d\\d\\d)-(\\d\\d\\d-\\d\\d\\d\\d) where as the first group cover (\\d\\d\\d) and the second group cover (\\d\\d\\d-\\d\\d\\d\\d)"
   ]
  },
  {
   "cell_type": "code",
   "execution_count": 34,
   "id": "e2a9b315-7205-4f97-8929-00f982f33c69",
   "metadata": {},
   "outputs": [
    {
     "name": "stdout",
     "output_type": "stream",
     "text": [
      "797-895-5691\n",
      "797\n",
      "895-5691\n"
     ]
    }
   ],
   "source": [
    "import re\n",
    "a=re.compile('(\\d\\d\\d)-(\\d\\d\\d-\\d\\d\\d\\d)')\n",
    "b=a.search(\"Given number is 797-895-5691\")\n",
    "print(b.group(0))\n",
    "print(b.group(1))\n",
    "print(b.group(2))"
   ]
  },
  {
   "cell_type": "markdown",
   "id": "bef9b8dd-9f6d-40d8-aa74-671dbb11ea96",
   "metadata": {},
   "source": [
    "6. In standard expression syntax, parentheses and intervals have distinct meanings. How can you tell\n",
    "   a regex that you want it to fit real parentheses and periods?\n",
    "   \n",
    "Ans : \\( and \\) escape characters in the raw string passed to re.compile() , which will match actual    \n",
    "     parenthesis characters."
   ]
  },
  {
   "cell_type": "code",
   "execution_count": 13,
   "id": "f4e9adf2-e032-4bd9-8ee0-59301789e976",
   "metadata": {},
   "outputs": [
    {
     "name": "stdout",
     "output_type": "stream",
     "text": [
      "(91)-7978-955-691\n"
     ]
    }
   ],
   "source": [
    "import re\n",
    "a=re.compile(\"(\\(\\d\\d\\))-(\\d\\d\\d\\d)-(\\d\\d\\d)-(\\d\\d\\d)\")\n",
    "b=a.search(\"the given no. is (91)-7978-955-691\")\n",
    "print(b.group())"
   ]
  },
  {
   "cell_type": "markdown",
   "id": "ebc71d00-9467-4c66-b00e-6a32b1b7226f",
   "metadata": {},
   "source": [
    "7. The findall() method returns a string list or a list of string tuples. What causes it to return one of\n",
    "the two options?\n",
    "\n",
    "Ans : The findall() method returns a string list if there is no groups and returns a list of string tuples if there is groups."
   ]
  },
  {
   "cell_type": "code",
   "execution_count": 22,
   "id": "5626216a-3cc4-4616-bc25-852aa8941e22",
   "metadata": {},
   "outputs": [
    {
     "name": "stdout",
     "output_type": "stream",
     "text": [
      "[('(91)', '7978', '955', '691')]\n"
     ]
    }
   ],
   "source": [
    "import re\n",
    "a=re.compile(\"(\\(\\d\\d\\))-(\\d\\d\\d\\d)-(\\d\\d\\d)-(\\d\\d\\d)\")\n",
    "b=a.findall(\"the given no. is (91)-7978-955-691\")\n",
    "print(b)"
   ]
  },
  {
   "cell_type": "code",
   "execution_count": 23,
   "id": "5661e2d9-5e8e-4766-a53e-522b3fc11dea",
   "metadata": {},
   "outputs": [
    {
     "name": "stdout",
     "output_type": "stream",
     "text": [
      "['91-7978-955-691']\n"
     ]
    }
   ],
   "source": [
    "import re\n",
    "a=re.compile(\"\\d{2}-\\d{4}-\\d{3}-\\d{3}\")\n",
    "b=a.findall(\"the given no. is 91-7978-955-691\")\n",
    "print(b)"
   ]
  },
  {
   "cell_type": "markdown",
   "id": "91008a91-0dfd-426d-a926-712c3f2599dd",
   "metadata": {},
   "source": [
    "8. In standard expressions, what does the | character mean ?\n",
    "\n",
    "  Ans : In Standard Expressions | means OR operator."
   ]
  },
  {
   "cell_type": "markdown",
   "id": "90a344bb-4ae5-4ecb-a884-f887b1abf68a",
   "metadata": {},
   "source": [
    "9. In regular expressions, what does the ? character stand for?\n",
    "\n",
    "Ans :  In regular Expressions, ? characters represents zero or one match of the preceeding group."
   ]
  },
  {
   "cell_type": "markdown",
   "id": "21604eec-22d7-4681-ae45-de79e14f3421",
   "metadata": {},
   "source": [
    "10.In regular expressions, what is the difference between the + and * characters?\n",
    "\n",
    "Ans : In regular expressions, + searches one or more than one occurances where * searches zero or more than zero occurances"
   ]
  },
  {
   "cell_type": "markdown",
   "id": "6c589c9e-7b4d-49fb-8f0c-e8ccf84b1f19",
   "metadata": {},
   "source": [
    "11. What is the difference between {4} and {4,5} in regular expression?\n",
    "\n",
    "Ans : {4} means that its preceeding group should repeat 4 times. where as {4,5} means that its preceeding group should repeat mininum 4 times and maximum 5 times \n"
   ]
  },
  {
   "cell_type": "markdown",
   "id": "5005fbcf-f25d-4381-a802-76d731eb27e8",
   "metadata": {},
   "source": [
    "12. What do you mean by the \\d, \\w, and \\s shorthand character classes signify in regular\n",
    "expressions?\n",
    "\n",
    "1) \\d – Matches digit character equivalent to [0-9]\n",
    "2) \\w – Matches a word character equivalent to [a-zA-Z0-9](digits + alphabets)\n",
    "3) \\s – Matches space character only"
   ]
  },
  {
   "cell_type": "markdown",
   "id": "d6749602-bdd4-46ab-a710-96d870016d81",
   "metadata": {},
   "source": [
    "13. What do means by \\D, \\W, and \\S shorthand character classes signify in regular expressions?\n",
    "\n",
    "1) \\D – Matches non-digit character equivalent to [^0-9]\n",
    "2) \\W – Matches non-alphanumeric character equivalent to [a-zA-Z0-9](digits + alphabets)\n",
    "3) \\S – Matches non-space characters"
   ]
  },
  {
   "cell_type": "markdown",
   "id": "f7de2e0c-511d-4f05-8a1f-e24a1f668b65",
   "metadata": {},
   "source": [
    "14. What is the difference between .*? and .* ?\n",
    "\n",
    "Ans : .* is a Greedy mode, which returns the longest string that meets the condition. Whereas .*? is a non greedy mode which returns the shortest string that meets the condition."
   ]
  },
  {
   "cell_type": "markdown",
   "id": "12d8badc-a649-4fdd-8893-14faa141eacb",
   "metadata": {},
   "source": [
    "15. What is the syntax for matching both numbers and lowercase letters with a character class?\n",
    "\n",
    "Ans : the syntax for matching both numbers and lowercase letters with a character class is eithor [a-z0-9] or [0-9a-z]"
   ]
  },
  {
   "cell_type": "markdown",
   "id": "702c1b21-2c12-4c0f-a157-792633e39cbc",
   "metadata": {},
   "source": [
    "16. What is the procedure for making a normal expression in regax case insensitive?\n",
    "\n",
    "Ans : for making a normal expression in regax case insensitive we can pass re.IGNORECASE as a flag."
   ]
  },
  {
   "cell_type": "markdown",
   "id": "e3f1aefa-1dcd-4bc0-a2e3-792b9da4114f",
   "metadata": {},
   "source": [
    "17. What does the . character normally match? What does it match if re.DOTALL is passed as 2nd\n",
    "argument in re.compile()?"
   ]
  },
  {
   "cell_type": "markdown",
   "id": "6443c532-b0c7-4567-aa89-969f0f42f6c6",
   "metadata": {},
   "source": [
    "18. If numReg = re.compile(r'\\d+'), what will numRegex.sub('X', '11 drummers, 10 pipers, five rings, 4 hen') return?\n",
    "\n",
    "Ans: The Ouput will be 'X drummers,X pipers,five rings,X hen'"
   ]
  },
  {
   "cell_type": "code",
   "execution_count": 12,
   "id": "5a39bd95-0891-4e0b-ac6c-bd37a698896d",
   "metadata": {},
   "outputs": [
    {
     "data": {
      "text/plain": [
       "'X drummers,X pipers,five rings,X hen'"
      ]
     },
     "execution_count": 12,
     "metadata": {},
     "output_type": "execute_result"
    }
   ],
   "source": [
    "import re\n",
    "def fun():\n",
    "    numreg=re.compile('\\d+')\n",
    "    return numreg.sub('X','11 drummers,10 pipers,five rings,4 hen')\n",
    "fun()"
   ]
  },
  {
   "cell_type": "markdown",
   "id": "eda33c57-4965-4fc5-b390-305baa641e65",
   "metadata": {},
   "source": [
    "19. What does passing re.VERBOSE as the 2nd argument to re.compile() allow to do?\n",
    "\n",
    "Ans : re.VERBOSE will allow to add space and comments to string passed to re.compile()."
   ]
  },
  {
   "cell_type": "markdown",
   "id": "9ac250cf-7fad-45df-98b8-b6dca86610d1",
   "metadata": {},
   "source": [
    "20. How would you write a regex that match a number with comma for every three digits? It must match the given following:\n",
    "\n",
    "'42','1,234', '6,368,745'but not the following: '12,34,567' (which has only two digits between the commas) '1234' (which lacks commas)"
   ]
  },
  {
   "cell_type": "code",
   "execution_count": 43,
   "id": "ac55e57f-a9bd-479b-a859-7a089674c38e",
   "metadata": {},
   "outputs": [
    {
     "name": "stdout",
     "output_type": "stream",
     "text": [
      "42 ------> <re.Match object; span=(0, 2), match='42'>\n",
      "1,234 ------> <re.Match object; span=(0, 5), match='1,234'>\n",
      "6,368,745 ------> <re.Match object; span=(0, 9), match='6,368,745'>\n",
      "12,34,567 ------> None\n",
      "1234 ------> None\n"
     ]
    }
   ],
   "source": [
    "import re\n",
    "pattern = '^\\d{1,3}(,\\d{3})*$'\n",
    "pagex = re.compile(pattern)\n",
    "for i in ['42','1,234', '6,368,745','12,34,567','1234']:\n",
    "    print(i, '------>' , pagex.search(i))"
   ]
  },
  {
   "cell_type": "markdown",
   "id": "0195435c-f361-4f2f-a2fc-a2bae3dcebfa",
   "metadata": {},
   "source": [
    "21. How would you write a regex that matches the full name of someone whose last name is Watanabe? You can assume that the first name that comes before it will always be one word that begins with a capital letter. \n",
    "\n",
    "The regex must match the following:\n",
    "\n",
    "'Haruto Watanabe'\n",
    "\n",
    "'Alice Watanabe'\n",
    "\n",
    "'RoboCop Watanabe'\n",
    "\n",
    "but not the following:\n",
    "\n",
    "'haruto Watanabe' (where the first name is not capitalized)\n",
    "\n",
    "'Mr. Watanabe' (where the preceding word has a nonletter character)\n",
    "\n",
    "'Watanabe' (which has no first name)\n",
    "\n",
    "'Haruto watanabe' (where Watanabe is not capitalized)"
   ]
  },
  {
   "cell_type": "code",
   "execution_count": 49,
   "id": "f853c59c-7bbd-487b-bfff-c7b03567959f",
   "metadata": {},
   "outputs": [
    {
     "name": "stdout",
     "output_type": "stream",
     "text": [
      "Haruto Watanabe --------> <re.Match object; span=(0, 15), match='Haruto Watanabe'>\n",
      "Alice Watanabe --------> <re.Match object; span=(0, 14), match='Alice Watanabe'>\n",
      "RoboCop Watanabe --------> <re.Match object; span=(4, 16), match='Cop Watanabe'>\n",
      "haruto Watanabe --------> None\n",
      "Mr. Watanabe --------> None\n",
      "Watanabe --------> None\n",
      "Haruto watanabe --------> None\n"
     ]
    }
   ],
   "source": [
    "import re\n",
    "sp=\"[A-Z][a-z]+\\sWatanabe\"\n",
    "l=['Haruto Watanabe','Alice Watanabe','RoboCop Watanabe','haruto Watanabe','Mr. Watanabe','Watanabe','Haruto watanabe']\n",
    "for i in l:\n",
    "    print(\"{} --------> {}\".format(i,re.search(sp,i)))\n"
   ]
  },
  {
   "cell_type": "markdown",
   "id": "4ac3b13b-8f35-470f-ab1f-eeb06fbdfdcd",
   "metadata": {},
   "source": [
    "22. How would you write a regex that matches a sentence where the first word is either Alice, Bob,or Carol; the second word is either eats, pets, or throws; the third word is eithor apples, cats, or baseballs; and the sentence ends with a period? This regex should be case-insensitive. \n",
    "\n",
    "It must match the following:\n",
    "\n",
    "'Alice eats apples.'\n",
    "\n",
    "'Bob pets cats.'\n",
    "\n",
    "'Carol throws baseballs.'\n",
    "\n",
    "'Alice throws Apples.'\n",
    "\n",
    "'BOB EATS CATS.'\n",
    "\n",
    "but not the following:\n",
    "\n",
    "'RoboCop eats apples.'\n",
    "\n",
    "'ALICE THROWS FOOTBALLS.'\n",
    "\n",
    "'Carol eats 7 cats.'\n"
   ]
  },
  {
   "cell_type": "code",
   "execution_count": 55,
   "id": "ad34f0fa-8b13-4d9d-b11d-18037325b555",
   "metadata": {},
   "outputs": [
    {
     "name": "stdout",
     "output_type": "stream",
     "text": [
      "Alice eats apples. ----------> <re.Match object; span=(0, 18), match='Alice eats apples.'>\n",
      "Bob pets cats. ----------> <re.Match object; span=(0, 14), match='Bob pets cats.'>\n",
      "Carol throws baseballs. ----------> <re.Match object; span=(0, 23), match='Carol throws baseballs.'>\n",
      "Alice throws Apples. ----------> <re.Match object; span=(0, 20), match='Alice throws Apples.'>\n",
      "BOB EATS CATS. ----------> <re.Match object; span=(0, 14), match='BOB EATS CATS.'>\n",
      "RoboCop eats apples. ----------> None\n",
      "ALICE THROWS FOOTBALLS. ----------> None\n",
      "Carol eats 7 cats. ----------> None\n"
     ]
    }
   ],
   "source": [
    "import re\n",
    "sp=\"(Alice|Bob|Carol)\\s(eats|pets|throws)\\s(apples|cats|baseballs).\"\n",
    "p=re.compile(sp,re.IGNORECASE)\n",
    "l=['Alice eats apples.','Bob pets cats.','Carol throws baseballs.','Alice throws Apples.','BOB EATS CATS.','RoboCop eats apples.','ALICE THROWS FOOTBALLS.','Carol eats 7 cats.']\n",
    "for i in l:\n",
    "    print(\"{} ----------> {}\".format(i,re.search(p,i)))"
   ]
  },
  {
   "cell_type": "code",
   "execution_count": null,
   "id": "ae374167-5712-4cd5-9b29-98b6547b90c2",
   "metadata": {},
   "outputs": [],
   "source": []
  }
 ],
 "metadata": {
  "kernelspec": {
   "display_name": "Python 3 (ipykernel)",
   "language": "python",
   "name": "python3"
  },
  "language_info": {
   "codemirror_mode": {
    "name": "ipython",
    "version": 3
   },
   "file_extension": ".py",
   "mimetype": "text/x-python",
   "name": "python",
   "nbconvert_exporter": "python",
   "pygments_lexer": "ipython3",
   "version": "3.10.6"
  }
 },
 "nbformat": 4,
 "nbformat_minor": 5
}
