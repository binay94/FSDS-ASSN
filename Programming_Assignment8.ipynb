{
 "cells": [
  {
   "cell_type": "code",
   "execution_count": 1,
   "id": "60ef037c-ae9c-4b3a-ae39-090874a070b8",
   "metadata": {},
   "outputs": [
    {
     "name": "stdin",
     "output_type": "stream",
     "text": [
      "enter 1st number : 123\n",
      "enter 2nd number : 7\n"
     ]
    },
    {
     "name": "stdout",
     "output_type": "stream",
     "text": [
      "sum = 130\n"
     ]
    }
   ],
   "source": [
    "def sum():\n",
    "    n1=int(input(\"enter 1st number :\"))\n",
    "    n2=int(input(\"enter 2nd number :\"))\n",
    "    s=n1+n2\n",
    "    print(\"sum =\",s)\n",
    "sum()"
   ]
  },
  {
   "cell_type": "code",
   "execution_count": 2,
   "id": "dfdb6c1c-aea8-4956-81ce-a2cd5e21bcc4",
   "metadata": {},
   "outputs": [
    {
     "name": "stdin",
     "output_type": "stream",
     "text": [
      "enter 1st number : 12\n",
      "enter 2nd number : 8\n"
     ]
    },
    {
     "name": "stdout",
     "output_type": "stream",
     "text": [
      "sum = 20\n"
     ]
    }
   ],
   "source": [
    "n1=int(input(\"enter 1st number :\"))\n",
    "n2=int(input(\"enter 2nd number :\"))\n",
    "s=n1+n2\n",
    "print(\"sum =\",s)"
   ]
  },
  {
   "cell_type": "code",
   "execution_count": null,
   "id": "4a9adf77-adfd-4299-bbf8-e5bd2ec80689",
   "metadata": {},
   "outputs": [],
   "source": []
  }
 ],
 "metadata": {
  "kernelspec": {
   "display_name": "Python 3 (ipykernel)",
   "language": "python",
   "name": "python3"
  },
  "language_info": {
   "codemirror_mode": {
    "name": "ipython",
    "version": 3
   },
   "file_extension": ".py",
   "mimetype": "text/x-python",
   "name": "python",
   "nbconvert_exporter": "python",
   "pygments_lexer": "ipython3",
   "version": "3.10.6"
  }
 },
 "nbformat": 4,
 "nbformat_minor": 5
}
