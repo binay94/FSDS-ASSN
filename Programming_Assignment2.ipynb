{
 "cells": [
  {
   "cell_type": "markdown",
   "id": "a64795dc-074a-4b95-b04c-5ba920d3dfd1",
   "metadata": {},
   "source": [
    "1. Write a Python program to convert kilometers to miles?"
   ]
  },
  {
   "cell_type": "code",
   "execution_count": 1,
   "id": "34cdc8c2",
   "metadata": {},
   "outputs": [
    {
     "name": "stdin",
     "output_type": "stream",
     "text": [
      "Enter distance in Kilometers :  14\n"
     ]
    },
    {
     "name": "stdout",
     "output_type": "stream",
     "text": [
      "14.0 Kilometers = 8.68 miles\n"
     ]
    }
   ],
   "source": [
    "a=float(input(\"Enter distance in Kilometers : \"))\n",
    "print(\"{} Kilometers = {} miles\".format(a,(a*0.62)))\n"
   ]
  },
  {
   "cell_type": "markdown",
   "id": "7371b0f4-6aa3-412c-9aa1-2ac235675ea2",
   "metadata": {},
   "source": [
    "2. Write a Python program to convert Celsius to Fahrenheit?"
   ]
  },
  {
   "cell_type": "code",
   "execution_count": 2,
   "id": "6bb19be0",
   "metadata": {},
   "outputs": [
    {
     "name": "stdin",
     "output_type": "stream",
     "text": [
      "Enter Temperature in Deg C :  28\n"
     ]
    },
    {
     "name": "stdout",
     "output_type": "stream",
     "text": [
      "28.0 Deg C = 82.4 Deg F\n"
     ]
    }
   ],
   "source": [
    "a=float(input(\"Enter Temperature in Deg C : \"))\n",
    "print(\"{} Deg C = {} Deg F\".format(a,((9/5)*a)+32))"
   ]
  },
  {
   "cell_type": "markdown",
   "id": "4b984bc6-24f3-4485-827a-7fe3590df8d6",
   "metadata": {},
   "source": [
    "3. Write a Python program to display calendar?"
   ]
  },
  {
   "cell_type": "code",
   "execution_count": 5,
   "id": "c11bac18",
   "metadata": {},
   "outputs": [
    {
     "name": "stdin",
     "output_type": "stream",
     "text": [
      "enter a year : 2022\n"
     ]
    },
    {
     "name": "stdout",
     "output_type": "stream",
     "text": [
      "                                  2022\n",
      "\n",
      "      January                   February                   March\n",
      "Mo Tu We Th Fr Sa Su      Mo Tu We Th Fr Sa Su      Mo Tu We Th Fr Sa Su\n",
      "                1  2          1  2  3  4  5  6          1  2  3  4  5  6\n",
      " 3  4  5  6  7  8  9       7  8  9 10 11 12 13       7  8  9 10 11 12 13\n",
      "10 11 12 13 14 15 16      14 15 16 17 18 19 20      14 15 16 17 18 19 20\n",
      "17 18 19 20 21 22 23      21 22 23 24 25 26 27      21 22 23 24 25 26 27\n",
      "24 25 26 27 28 29 30      28                        28 29 30 31\n",
      "31\n",
      "\n",
      "       April                      May                       June\n",
      "Mo Tu We Th Fr Sa Su      Mo Tu We Th Fr Sa Su      Mo Tu We Th Fr Sa Su\n",
      "             1  2  3                         1             1  2  3  4  5\n",
      " 4  5  6  7  8  9 10       2  3  4  5  6  7  8       6  7  8  9 10 11 12\n",
      "11 12 13 14 15 16 17       9 10 11 12 13 14 15      13 14 15 16 17 18 19\n",
      "18 19 20 21 22 23 24      16 17 18 19 20 21 22      20 21 22 23 24 25 26\n",
      "25 26 27 28 29 30         23 24 25 26 27 28 29      27 28 29 30\n",
      "                          30 31\n",
      "\n",
      "        July                     August                  September\n",
      "Mo Tu We Th Fr Sa Su      Mo Tu We Th Fr Sa Su      Mo Tu We Th Fr Sa Su\n",
      "             1  2  3       1  2  3  4  5  6  7                1  2  3  4\n",
      " 4  5  6  7  8  9 10       8  9 10 11 12 13 14       5  6  7  8  9 10 11\n",
      "11 12 13 14 15 16 17      15 16 17 18 19 20 21      12 13 14 15 16 17 18\n",
      "18 19 20 21 22 23 24      22 23 24 25 26 27 28      19 20 21 22 23 24 25\n",
      "25 26 27 28 29 30 31      29 30 31                  26 27 28 29 30\n",
      "\n",
      "      October                   November                  December\n",
      "Mo Tu We Th Fr Sa Su      Mo Tu We Th Fr Sa Su      Mo Tu We Th Fr Sa Su\n",
      "                1  2          1  2  3  4  5  6                1  2  3  4\n",
      " 3  4  5  6  7  8  9       7  8  9 10 11 12 13       5  6  7  8  9 10 11\n",
      "10 11 12 13 14 15 16      14 15 16 17 18 19 20      12 13 14 15 16 17 18\n",
      "17 18 19 20 21 22 23      21 22 23 24 25 26 27      19 20 21 22 23 24 25\n",
      "24 25 26 27 28 29 30      28 29 30                  26 27 28 29 30 31\n",
      "31\n",
      "\n"
     ]
    }
   ],
   "source": [
    "import calendar\n",
    "y=int(input(\"enter a year :\"))\n",
    "print(calendar.calendar(y))"
   ]
  },
  {
   "cell_type": "markdown",
   "id": "c248ff1b-7463-4c25-93fb-fe74101f8889",
   "metadata": {},
   "source": [
    "4. Write a Python program to solve quadratic equation?"
   ]
  },
  {
   "cell_type": "code",
   "execution_count": 4,
   "id": "3e19981f",
   "metadata": {},
   "outputs": [
    {
     "name": "stdin",
     "output_type": "stream",
     "text": [
      "Enter Value of a :  1\n",
      "Enter Value of b :  2\n",
      "Enter Value of c :  1\n"
     ]
    },
    {
     "name": "stdout",
     "output_type": "stream",
     "text": [
      "Given Quadratic Equation is :1.0xx+2.0x+1.0=0\n",
      "Real & Equal Roots\n",
      "R= -1.0\n"
     ]
    }
   ],
   "source": [
    "a=float(input(\"Enter Value of a : \"))\n",
    "b=float(input(\"Enter Value of b : \"))\n",
    "c=float(input(\"Enter Value of c : \"))\n",
    "print(f\"Given Quadratic Equation is :{a}xx+{b}x+{c}=0\")\n",
    "if a==0:\n",
    "    print(\"Invalid Quadritic Equation\")\n",
    "else:\n",
    "    d=((b*b)-(4*a*c))**0.5\n",
    "    if d>0:\n",
    "        print(\"Real & Different Roots\")\n",
    "        print(\"R1=\",(-b+d)/(2*a))\n",
    "        print(\"R2=\",(-b-d)/(2*a))\n",
    "    elif d==0:\n",
    "        print(\"Real & Equal Roots\")\n",
    "        print(\"R=\", -b/(2*a))\n",
    "    else:\n",
    "        print(\"Imaginary & Different roots\")\n",
    "        print(\"R1=\",(-b)/(2*a),\"+i\",d)\n",
    "        print(\"R2=\",(-b)/(2*a),\"-i\",d)\n"
   ]
  },
  {
   "cell_type": "markdown",
   "id": "d0bf1d2a-ece9-4d1b-ad51-e41de32655f7",
   "metadata": {},
   "source": [
    "5. Write a Python program to swap two variables without temp variable?"
   ]
  },
  {
   "cell_type": "code",
   "execution_count": 6,
   "id": "60274a46",
   "metadata": {},
   "outputs": [
    {
     "name": "stdin",
     "output_type": "stream",
     "text": [
      "Enter first number 11\n",
      "Enter second number 66\n"
     ]
    },
    {
     "name": "stdout",
     "output_type": "stream",
     "text": [
      "Value of first number= 66\n",
      "Value of second number= 11\n"
     ]
    }
   ],
   "source": [
    "a=int(input(\"Enter first number\"))\n",
    "b=int(input(\"Enter second number\"))\n",
    "a= a^b\n",
    "b= a^b\n",
    "a= a^b\n",
    "print(\"Value of first number=\",a)\n",
    "print(\"Value of second number=\",b)"
   ]
  }
 ],
 "metadata": {
  "kernelspec": {
   "display_name": "Python 3 (ipykernel)",
   "language": "python",
   "name": "python3"
  },
  "language_info": {
   "codemirror_mode": {
    "name": "ipython",
    "version": 3
   },
   "file_extension": ".py",
   "mimetype": "text/x-python",
   "name": "python",
   "nbconvert_exporter": "python",
   "pygments_lexer": "ipython3",
   "version": "3.10.6"
  }
 },
 "nbformat": 4,
 "nbformat_minor": 5
}
