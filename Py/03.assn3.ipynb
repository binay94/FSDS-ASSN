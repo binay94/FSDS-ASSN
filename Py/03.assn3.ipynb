{
 "cells": [
  {
   "cell_type": "markdown",
   "id": "376b7af6-376d-49d7-9ed4-361852e70a69",
   "metadata": {},
   "source": [
    "1. What is the concept of an abstract superclass?"
   ]
  },
  {
   "cell_type": "markdown",
   "id": "14135812-44b9-44b7-a52e-cbd66189d10c",
   "metadata": {},
   "source": [
    "Ans.  An abstract class/superclass can be considered as a blueprint for other classes. It allows you to create a set of methods that must be created within any child classes built from the abstract class. A class which contains one or more abstract methods is called an abstract class.\n",
    "\n",
    "Whereas an abstract method is a method that has a declaration but does not have an implementation."
   ]
  },
  {
   "cell_type": "code",
   "execution_count": null,
   "id": "493c3f84-8784-46e4-8750-9d6a4ec630f5",
   "metadata": {},
   "outputs": [],
   "source": [
    "from abc import ABC, abstractmethod\n",
    "class Polygon(ABC): # Abstract Class\n",
    "    @abstractmethod\n",
    "    def noofsides(self): # Abstract Method\n",
    "        pass\n",
    "class Triangle(Polygon):\n",
    "    def noofsides(self):  # overriding abstract method in child class Triangle\n",
    "        print(\"I have 3 sides\")\n",
    "class Pentagon(Polygon):\n",
    "    def noofsides(self): # overriding abstract method in child class Pentagon\n",
    "        print(\"I have 5 sides\")"
   ]
  },
  {
   "cell_type": "markdown",
   "id": "47808a8c-3eee-483f-be5c-8c5f6e52a1e0",
   "metadata": {},
   "source": [
    "2. What happens when a class statement&#39;s top level contains a basic assignment statement?"
   ]
  },
  {
   "cell_type": "markdown",
   "id": "6029bc5c-27a5-420d-9dd1-497d115d684b",
   "metadata": {},
   "source": [
    "Ans. When a Class statement's top level contains a basic assignment statement, its usually treated as a class attribute or class level variable.\n",
    "\n",
    "where as assignment statements inside methods are treated as instance attributes or local attributes.\n",
    "\n",
    "When an instance of a class is created a single copy of class attributes is maintained and shared to all instances of class. where as each instance object maintains its own copy of instance variables."
   ]
  },
  {
   "cell_type": "code",
   "execution_count": null,
   "id": "06c3b04c-9c3b-41d6-84bf-e1d9171372fd",
   "metadata": {},
   "outputs": [],
   "source": [
    "class Person:\n",
    "    species = 'Homesapiens' # class attribute\n",
    "    def __init__(self,name,gender):\n",
    "        self.name = name # instance attributes\n",
    "        self.gender = gender"
   ]
  },
  {
   "cell_type": "markdown",
   "id": "2007e246-17df-4be6-b5f7-dc14962d73dc",
   "metadata": {},
   "source": [
    "3. Why does a class need to manually call a superclass's __init__ method?"
   ]
  },
  {
   "cell_type": "markdown",
   "id": "0eaf5325-93ee-401e-82ff-f1342e96a487",
   "metadata": {},
   "source": [
    "Ans. if a child class has __init__ method, then it will not inherit the __init__ method of the parent class. in other words the __init__ method of the child class overrides the __init__ method of the parent class. so we have to manually call a parent superclass's __init__ using super() method."
   ]
  },
  {
   "cell_type": "code",
   "execution_count": 1,
   "id": "8a575350-5163-4540-8bba-ec23b02f7faa",
   "metadata": {},
   "outputs": [
    {
     "name": "stdout",
     "output_type": "stream",
     "text": [
      "{'name': 'Vivek', 'age': 28, 'salary': 20000}\n"
     ]
    }
   ],
   "source": [
    "class Person:\n",
    "    def __init__(self,name,age):\n",
    "        self.name = name\n",
    "        self.age = age       \n",
    "class Employee(Person):\n",
    "    def __init__(self,name,age,salary):\n",
    "        super().__init__(name,age)\n",
    "        self.salary = salary\n",
    "emp_1 = Employee('Vivek',28,20000)\n",
    "print(emp_1.__dict__)"
   ]
  },
  {
   "cell_type": "markdown",
   "id": "a0120d2a-fb78-4c46-b012-83e964aa41d0",
   "metadata": {},
   "source": [
    "4. How can you augment, instead of completely replacing, an inherited method?"
   ]
  },
  {
   "cell_type": "markdown",
   "id": "cf6525b6-14cf-4fc4-96a6-00dc13328f86",
   "metadata": {},
   "source": [
    "Ans. super() method can be used to augment, instead of completely replacing, an inherited method.      "
   ]
  },
  {
   "cell_type": "code",
   "execution_count": 2,
   "id": "628eedd7-9f0e-4811-ab08-f9e922ec8ec8",
   "metadata": {},
   "outputs": [
    {
     "name": "stdout",
     "output_type": "stream",
     "text": [
      "{'name': 'Vivek', 'gender': 'Male', 'salary': 10000}\n"
     ]
    }
   ],
   "source": [
    "class Person:\n",
    "    def __init__(self,name,gender):\n",
    "        self.name = name\n",
    "        self.gender = gender\n",
    "class Employee(Person):\n",
    "    def __init__(self,name,gender,salary):\n",
    "        super().__init__(name,gender) \n",
    "        self.salary = salary\n",
    "emp_1 = Employee('Vivek','Male',10000)\n",
    "print(emp_1.__dict__) "
   ]
  },
  {
   "cell_type": "markdown",
   "id": "acd0bea0-fb1d-4b62-bba0-7453b00e6dce",
   "metadata": {},
   "source": [
    "5. How is the local scope of a class different from that of a function?"
   ]
  },
  {
   "cell_type": "markdown",
   "id": "f0afef63-cd11-49fe-9d75-2400fd5154af",
   "metadata": {},
   "source": [
    "Ans. A Variable which is defined inside a function is local to that function. it is accesible from the point at which it is defined until the end of the function, and exists for as long as the function is existing.\n",
    "\n",
    "Similary a variable inside of a class also has a local variable scope. Variables which are defined in the class body (but outside all methods) are called as class level variables or class attributes. they can be referenced by there bare names within the same scope, but they can also be accessed from outside this scope if we use the attribute access operator (.). on a class or an instance of the class."
   ]
  }
 ],
 "metadata": {
  "kernelspec": {
   "display_name": "Python 3 (ipykernel)",
   "language": "python",
   "name": "python3"
  },
  "language_info": {
   "codemirror_mode": {
    "name": "ipython",
    "version": 3
   },
   "file_extension": ".py",
   "mimetype": "text/x-python",
   "name": "python",
   "nbconvert_exporter": "python",
   "pygments_lexer": "ipython3",
   "version": "3.10.6"
  }
 },
 "nbformat": 4,
 "nbformat_minor": 5
}
