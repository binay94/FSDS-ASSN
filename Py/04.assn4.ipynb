{
 "cells": [
  {
   "cell_type": "markdown",
   "id": "36ffe588-b468-45c6-90c2-4efd380c6288",
   "metadata": {},
   "source": [
    "## Assignment 4 Solution"
   ]
  },
  {
   "cell_type": "markdown",
   "id": "f77e8919-c570-4737-a60f-96c2c2c52329",
   "metadata": {},
   "source": [
    "Q1. Which two operator overloading methods can you use in your classes to support iteration?"
   ]
  },
  {
   "cell_type": "code",
   "execution_count": null,
   "id": "4195c12b-93d5-4c8f-8983-261341a5b1d0",
   "metadata": {},
   "outputs": [],
   "source": [
    "Ans. __iter__ and __next__ are the operator overloading methods in python that support iteration and are collectively called\n",
    "iterator protocol.\n",
    "\n",
    "__iter__ returns the iterator object and is called at the start of loop in our respective class.\n",
    "__next__ is called at each loop increment, it returns the incremented value. Also Stopiteration is raised when there is no\n",
    "value to return."
   ]
  },
  {
   "cell_type": "code",
   "execution_count": 5,
   "id": "feec335f-b371-4e05-90e6-30008a968415",
   "metadata": {},
   "outputs": [
    {
     "name": "stdout",
     "output_type": "stream",
     "text": [
      "10 11 12 13 14 15 16 17 18 19 20 "
     ]
    }
   ],
   "source": [
    "class Counter:\n",
    "    def __init__(self,low,high):\n",
    "        self.current = low\n",
    "        self.high = high\n",
    "    def __iter__(self):\n",
    "        return self\n",
    "    def __next__(self):\n",
    "        if self.current > self.high:\n",
    "            raise StopIteration\n",
    "        else:\n",
    "            self.current += 1\n",
    "            return self.current - 1\n",
    "for i in Counter(10,20):\n",
    "    print(i, end=\" \")"
   ]
  },
  {
   "cell_type": "markdown",
   "id": "a2f2dacd-2288-44d6-bcd9-0a18c04b555b",
   "metadata": {},
   "source": [
    "Q2. In what contexts do the two operator overloading methods manage printing?"
   ]
  },
  {
   "cell_type": "code",
   "execution_count": null,
   "id": "91c0271e-733d-4ec0-9fa4-ec00b85824cb",
   "metadata": {},
   "outputs": [],
   "source": [
    "Ans. __str__ and __repr__ are two operator overloading methods that manage printing.\n",
    "\n",
    "In Short, the difference between both these operators is the goal of __repr__ is to be unambiguous and __str__ is to be \n",
    "readable.\n",
    "\n",
    "Whenever we are printing any object reference internally __str__ method will be called by default.\n",
    "\n",
    "The main purpose of __str__ is for readability. it prints the informal string representation of an object, one that is useful\n",
    "for printing the object. it may not be possible to convert result string to original object.\n",
    "\n",
    "__repr__ is used to print official string representation of an object, so it includes all information and development."
   ]
  },
  {
   "cell_type": "markdown",
   "id": "3614d9a8-7a12-48a4-9cee-a7bd1586cb07",
   "metadata": {},
   "source": [
    "Q3. In a class, how do you intercept slice operations?"
   ]
  },
  {
   "cell_type": "code",
   "execution_count": null,
   "id": "61301829-d41f-4a24-a48e-83a3fdbb0e1e",
   "metadata": {},
   "outputs": [],
   "source": [
    "Ans.In a class use of slice() in __getitem__ method is used for intercept slice operation. This slice method is provided with \n",
    "start integer number, stop integer number and step integer number.\n",
    "\n",
    "Syntax: __getitem__(slice(start,stop,step))"
   ]
  },
  {
   "cell_type": "markdown",
   "id": "1f911fc5-7619-4caf-9489-76ad4d4e5320",
   "metadata": {},
   "source": [
    "Q4. In a class, how do you capture in-place addition?"
   ]
  },
  {
   "cell_type": "code",
   "execution_count": null,
   "id": "feda0328-2c64-42ef-9d1c-0f895eb9de11",
   "metadata": {},
   "outputs": [],
   "source": [
    "Ans. a+b is normal addition. Whereas a+=b is inplace addition operation. In this in-place addition a itself will store the \n",
    "value of addition. In a class __iadd__ method is used for this in-place operation"
   ]
  },
  {
   "cell_type": "code",
   "execution_count": 1,
   "id": "57b6c8c1-8806-4b15-b57a-250a8ebfcc06",
   "metadata": {},
   "outputs": [
    {
     "name": "stdout",
     "output_type": "stream",
     "text": [
      "300\n"
     ]
    }
   ],
   "source": [
    "class Book:\n",
    "    def __init__(self,pages):\n",
    "        self.pages = pages\n",
    "    def __iadd__(self,other):\n",
    "        self.pages += other.pages\n",
    "        return self.pages\n",
    "        \n",
    "b1 = Book(100)\n",
    "b2 = Book(200)\n",
    "b1+=b2\n",
    "print(b1)"
   ]
  },
  {
   "cell_type": "markdown",
   "id": "674a0b1b-4c9a-496f-bf4d-8558b713ac8f",
   "metadata": {},
   "source": [
    "Q5. When is it appropriate to use operator overloading?"
   ]
  },
  {
   "cell_type": "markdown",
   "id": "816c9d8f-9254-4c1d-9d26-2cc7ec56ecdc",
   "metadata": {},
   "source": [
    "Ans. Operator overloading is used when we want to use an operator other than its normal operation to have different meaning according to the context required in user defined function."
   ]
  },
  {
   "cell_type": "code",
   "execution_count": 2,
   "id": "5c63b0cc-f8a5-4d47-a3bf-87db859dfc33",
   "metadata": {},
   "outputs": [
    {
     "name": "stdout",
     "output_type": "stream",
     "text": [
      "Total Number of Pages -> 300\n"
     ]
    }
   ],
   "source": [
    "class Book:\n",
    "    def __init__(self,pages):\n",
    "        self.pages = pages\n",
    "    def __add__(self,other):\n",
    "        return self.pages+other.pages\n",
    "b1 = Book(100)\n",
    "b2 = Book(200)\n",
    "print(f'Total Number of Pages -> {b1+b2}')"
   ]
  }
 ],
 "metadata": {
  "kernelspec": {
   "display_name": "Python 3 (ipykernel)",
   "language": "python",
   "name": "python3"
  },
  "language_info": {
   "codemirror_mode": {
    "name": "ipython",
    "version": 3
   },
   "file_extension": ".py",
   "mimetype": "text/x-python",
   "name": "python",
   "nbconvert_exporter": "python",
   "pygments_lexer": "ipython3",
   "version": "3.10.6"
  }
 },
 "nbformat": 4,
 "nbformat_minor": 5
}
