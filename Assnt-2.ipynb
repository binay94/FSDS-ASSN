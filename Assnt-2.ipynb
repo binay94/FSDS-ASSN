{
 "cells": [
  {
   "cell_type": "markdown",
   "id": "971676d0-11c5-4a1d-a956-ec735a69b28b",
   "metadata": {},
   "source": [
    "1.What are the two values of the Boolean data type? How do you write them?\n",
    "\n",
    " Ans : two values of boolean data type are true and false.we write those values as True and False"
   ]
  },
  {
   "cell_type": "markdown",
   "id": "3e8f42af-7308-4ebe-845b-77f322d0cf47",
   "metadata": {},
   "source": [
    "2. What are the three different types of Boolean operators?\n",
    "\n",
    "Ans : Three different types of Boolean operators are \"and\",\"or\",\"not\""
   ]
  },
  {
   "cell_type": "raw",
   "id": "47ab6db6-becb-4be7-bce8-459109ccfc89",
   "metadata": {},
   "source": [
    "3. Make a list of each Boolean operator's truth tables (i.e. every possible combination of Boolean values for \n",
    "   the operator and what it evaluate ).\n",
    "   \n",
    "   Truth Table for and operaotor :\n",
    "   \n",
    "   True and True is True\n",
    "   \n",
    "   True and False is False\n",
    "   \n",
    "   False and True is False\n",
    "   \n",
    "   False and False is False\n",
    "\n",
    "    Truth Table for or operaotor :\n",
    "    \n",
    "    True or True is True\n",
    "    \n",
    "    True or False is True\n",
    "    \n",
    "    False or True is True\n",
    "    \n",
    "    False or False is False\n",
    "\n",
    "    Truth Table for not operaotor :\n",
    "    \n",
    "    True not is False False not is True"
   ]
  },
  {
   "cell_type": "markdown",
   "id": "3726b6cb-27a7-4835-a222-c0b095b7cb93",
   "metadata": {},
   "source": [
    "4. What are the values of the following expressions?\n",
    "\n",
    "   (5 > 4) and (3 == 5)  ----------------------->False\n",
    "   \n",
    "   not (5 > 4)  -------------------------------->False\n",
    "   \n",
    "   (5 > 4) or (3 == 5)  ------------------------>True\n",
    "   \n",
    "   not ((5 > 4) or (3 == 5)) ------------------->False\n",
    "   \n",
    "   (True and True) and (True == False) --------->False\n",
    "   \n",
    "   (not False) or (not True) ------------------->True\n",
    "   \n"
   ]
  },
  {
   "cell_type": "markdown",
   "id": "71b7f6a3-c362-476f-bcff-34b845f0724b",
   "metadata": {},
   "source": [
    "5. What are the six comparison operators?\n",
    "   \n",
    "   Six comparison operators are \n",
    "   \n",
    "   equality(==) \n",
    "   \n",
    "   not equal to(!=)\n",
    "   \n",
    "   greater than(>)\n",
    "   \n",
    "   greater than or equal to(>=)\n",
    "   \n",
    "   less than(<) \n",
    "   \n",
    "   less than or equal to(<=)."
   ]
  },
  {
   "cell_type": "code",
   "execution_count": null,
   "id": "931f16fe-e047-4f12-8105-3e23bc617e3c",
   "metadata": {},
   "outputs": [],
   "source": [
    "'''6. How do you tell the difference between the equal to and assignment operators?Describe a condition and      when you would use one.\n",
    "             equal to operator                           assignment operator\n",
    "   symbol --->     ==                                --->       =\n",
    "   purpose -->it asks a question that is the         --->it transfers the right hand side \n",
    "              right hand side value is equals            value to left hand side variable\n",
    "              to left hand side value or variable\n",
    "   output --->it provides a boolean result eithor    --->it assigns the right hand side value to      \n",
    "              True or False                              left hand side variable '''"
   ]
  },
  {
   "cell_type": "markdown",
   "id": "a22f3645-e82d-4498-a622-7f3a05dfb7c6",
   "metadata": {},
   "source": [
    "7. Identify the three blocks in this code:\n",
    "    \n",
    "    spam = 0\n",
    "    \n",
    "    if spam == 10:\n",
    "    \n",
    "    print('eggs')\n",
    "    \n",
    "    if spam > 5:\n",
    "    \n",
    "    print('bacon')\n",
    "    \n",
    "    else:\n",
    "    \n",
    "    print('ham')\n",
    "    \n",
    "    print('spam')\n",
    "    \n",
    "    print('spam')\n"
   ]
  },
  {
   "cell_type": "code",
   "execution_count": 3,
   "id": "02639866-62d8-49d8-b66f-db7966166243",
   "metadata": {},
   "outputs": [
    {
     "name": "stdout",
     "output_type": "stream",
     "text": [
      "ham\n",
      "spam\n",
      "spam\n"
     ]
    }
   ],
   "source": [
    "spam = 0\n",
    "if spam == 10:\n",
    "    print('eggs')\n",
    "elif spam > 5:\n",
    "    print('bacon')\n",
    "else:\n",
    "    print('ham')\n",
    "    print('spam')\n",
    "    print('spam')"
   ]
  },
  {
   "cell_type": "markdown",
   "id": "e4190397-ac24-489a-940a-211a455eb3c4",
   "metadata": {},
   "source": [
    "8. Write code that prints Hello if 1 is stored in spam, prints Howdy if 2 is stored in spam, and prints          Greetings! if anything else is stored in spam.\n"
   ]
  },
  {
   "cell_type": "code",
   "execution_count": 2,
   "id": "f28b5f11-10fc-4d3a-a47f-ba1bed65bfb9",
   "metadata": {},
   "outputs": [
    {
     "name": "stdin",
     "output_type": "stream",
     "text": [
      "enter value : 2\n"
     ]
    },
    {
     "name": "stdout",
     "output_type": "stream",
     "text": [
      "Howdy\n"
     ]
    }
   ],
   "source": [
    "spam=int(input(\"enter value :\"))\n",
    "if spam==1:\n",
    "    print(\"Hello\")\n",
    "elif spam==2:\n",
    "    print(\"Howdy\")\n",
    "else:\n",
    "    print(\"Greetings!\")"
   ]
  },
  {
   "cell_type": "markdown",
   "id": "947b7f01-6ca6-48a5-bade-c968c9d3e753",
   "metadata": {},
   "source": [
    "9.If your programme is stuck in an endless loop, what keys you’ll press?\n",
    "\n",
    "  By pressing \"ctrl+c\" we can terminate the loop.we should use \"break\" keyword in programming"
   ]
  },
  {
   "cell_type": "markdown",
   "id": "39f57ddf-b792-483f-ac90-75472ea0eac3",
   "metadata": {},
   "source": [
    "10. How can you tell the difference between break and continue?\n",
    "\n",
    "    \"break\" keyword terminates the loop when certain condition is satisfied and comes out of that loop where\n",
    "    as \"comtinue\" skips that particukar iteration and executes next iteration of that loop"
   ]
  },
  {
   "cell_type": "code",
   "execution_count": null,
   "id": "08f87554-e895-4420-9f61-d72e14bb913d",
   "metadata": {},
   "outputs": [],
   "source": [
    "print(\"numbers from 1 to 10 using for loop :\")\n",
    "for i in range(1,11):\n",
    "    print(i)\n",
    "print(\"numbers from 1 to 10 using while loop :\")\n",
    "j=1\n",
    "while(j<=10):\n",
    "    print(j)\n",
    "    j=j+1"
   ]
  },
  {
   "cell_type": "markdown",
   "id": "fb869ce3-0a46-403d-a209-998bc12c98ee",
   "metadata": {},
   "source": [
    "11. In a for loop, what is the difference between range(10), range(0, 10), and range(0, 10, 1)?\n",
    "    \n",
    "    There is no difference in output of range(10), range(0, 10), and range(0, 10, 1)\n",
    "    \n",
    "    range(10)----->it will give value ranges from 0(by default) to 9\n",
    "    \n",
    "    range(0,10)----->it will give value ranges from 0(starting given) to 9\n",
    "    \n",
    "    range(0,10,1)----->it will give value ranges from 0(starting given) to 9 with step 1\n",
    "    "
   ]
  },
  {
   "cell_type": "markdown",
   "id": "252e501f-b2bd-42cc-a4de-a598cf27168d",
   "metadata": {},
   "source": [
    "12. Write a short program that prints the numbers 1 to 10 using a for loop. Then write an equivalent program     that prints the numbers 1 to 10 using a while loop.\n"
   ]
  },
  {
   "cell_type": "markdown",
   "id": "f08b1cf3-5b8b-476a-957e-36de71d12467",
   "metadata": {},
   "source": [
    "13. If you had a function named bacon() inside a module named spam, how would you call it after importing         spam?\n",
    "\n",
    "    from spam import bacon :"
   ]
  },
  {
   "cell_type": "code",
   "execution_count": null,
   "id": "3fc4dade-1d18-43c1-aadd-69f10d4bd45e",
   "metadata": {},
   "outputs": [],
   "source": []
  }
 ],
 "metadata": {
  "kernelspec": {
   "display_name": "Python 3 (ipykernel)",
   "language": "python",
   "name": "python3"
  },
  "language_info": {
   "codemirror_mode": {
    "name": "ipython",
    "version": 3
   },
   "file_extension": ".py",
   "mimetype": "text/x-python",
   "name": "python",
   "nbconvert_exporter": "python",
   "pygments_lexer": "ipython3",
   "version": "3.10.6"
  }
 },
 "nbformat": 4,
 "nbformat_minor": 5
}
