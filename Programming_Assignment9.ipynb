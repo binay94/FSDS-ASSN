{
 "cells": [
  {
   "cell_type": "code",
   "execution_count": null,
   "id": "af47bc29",
   "metadata": {},
   "outputs": [],
   "source": [
    "1. Write a Python program to check if the given number is a Disarium Number?"
   ]
  },
  {
   "cell_type": "code",
   "execution_count": 5,
   "id": "e772ed9d",
   "metadata": {},
   "outputs": [
    {
     "name": "stdout",
     "output_type": "stream",
     "text": [
      "Enter a Number: 90\n",
      "90 is not a Disarium Number\n"
     ]
    }
   ],
   "source": [
    "def disarium():\n",
    "    n=int(input(\"Enter a Number: \"))\n",
    "    if n<=0:\n",
    "        print(\"Inalid Input\")\n",
    "    else:\n",
    "        sum=0\n",
    "        for i in range(len(str(n))):\n",
    "            sum+=int(str(n)[i]) ** (i+1)\n",
    "        if sum==n:\n",
    "            print(f\"{n} is a Disarium Number\")\n",
    "        else:\n",
    "            print(f\"{n} is not a Disarium Number\")\n",
    "disarium()\n"
   ]
  },
  {
   "cell_type": "code",
   "execution_count": null,
   "id": "06576ba2",
   "metadata": {},
   "outputs": [],
   "source": [
    "2. Write a Python program to print all disarium numbers between 1 to 100?"
   ]
  },
  {
   "cell_type": "code",
   "execution_count": 7,
   "id": "a6688468",
   "metadata": {},
   "outputs": [
    {
     "name": "stdout",
     "output_type": "stream",
     "text": [
      "1\t2\t3\t4\t5\t6\t7\t8\t9\t89\t"
     ]
    }
   ],
   "source": [
    "def disarium():\n",
    "    for n in range(1,101):\n",
    "        sum=0\n",
    "        for i in range(len(str(n))):\n",
    "            sum+=int(str(n)[i]) ** (i+1)\n",
    "        if sum==n:\n",
    "            print(n,end=\"\\t\")\n",
    "        \n",
    "disarium()\n"
   ]
  },
  {
   "cell_type": "code",
   "execution_count": null,
   "id": "87fc2224",
   "metadata": {},
   "outputs": [],
   "source": [
    "3. Write a Python program to check if the given number is Happy Number?"
   ]
  },
  {
   "cell_type": "code",
   "execution_count": 50,
   "id": "ab9a25b9",
   "metadata": {},
   "outputs": [
    {
     "name": "stdout",
     "output_type": "stream",
     "text": [
      "Enter a Number: 49\n"
     ]
    },
    {
     "data": {
      "text/plain": [
       "True"
      ]
     },
     "execution_count": 50,
     "metadata": {},
     "output_type": "execute_result"
    }
   ],
   "source": [
    "def is_happy_num():\n",
    "    n=int(input(\"Enter a Number: \"))\n",
    "    if n<=0:\n",
    "        print(\"Inalid Input\")\n",
    "    else:\n",
    "        temp = []\n",
    "        while n != 1:\n",
    "            n = sum(int(i)**2 for i in str(n))\n",
    "            if n in temp:\n",
    "                return False\n",
    "            temp.append(n)\n",
    "        return True\n",
    "is_happy_num()"
   ]
  },
  {
   "cell_type": "code",
   "execution_count": null,
   "id": "d34ebf9f",
   "metadata": {},
   "outputs": [],
   "source": [
    "4. Write a Python program to print all happy numbers between 1 and 100?"
   ]
  },
  {
   "cell_type": "code",
   "execution_count": 58,
   "id": "30706f9f",
   "metadata": {},
   "outputs": [
    {
     "name": "stdout",
     "output_type": "stream",
     "text": [
      "Happy Numbers Between 1 to 100 :\n",
      " [1, 7, 10, 13, 19, 23, 28, 31, 32, 44, 49, 68, 70, 79, 82, 86, 91, 94, 97, 100]\n"
     ]
    }
   ],
   "source": [
    "def happy_num(n):\n",
    "    \n",
    "        temp = []\n",
    "        while n != 1:\n",
    "            n = sum(int(i)**2 for i in str(n))\n",
    "            if n in temp:\n",
    "                return False\n",
    "            temp.append(n)\n",
    "        return True\n",
    "print(\"Happy Numbers Between 1 to 100 :\\n\",[x for x in range(101) if happy_num(x)])\n"
   ]
  },
  {
   "cell_type": "code",
   "execution_count": null,
   "id": "8f1ddc16",
   "metadata": {},
   "outputs": [],
   "source": [
    "5. Write a Python program to determine whether the given number is a Harshad Number?"
   ]
  },
  {
   "cell_type": "code",
   "execution_count": 64,
   "id": "7f482aa9",
   "metadata": {},
   "outputs": [
    {
     "name": "stdout",
     "output_type": "stream",
     "text": [
      "Enter a Number: 156\n",
      "156 is a Harshad Number\n"
     ]
    }
   ],
   "source": [
    "def harshad_num():\n",
    "    n=int(input(\"Enter a Number: \"))\n",
    "    if n<=0:\n",
    "        print(\"Inalid Input\")\n",
    "    else:\n",
    "        sum=0\n",
    "        for i in range(len(str(n))):\n",
    "            sum+=int(str(n)[i])\n",
    "        if n%sum == 0:\n",
    "            print(f\"{n} is a Harshad Number\")\n",
    "        else:\n",
    "            print(f\"{n} is not Harshad Number\")\n",
    "harshad_num()\n"
   ]
  },
  {
   "cell_type": "code",
   "execution_count": null,
   "id": "58bd670b",
   "metadata": {},
   "outputs": [],
   "source": [
    "6. Write a Python program to print all pronic numbers between 1 and 100?"
   ]
  },
  {
   "cell_type": "code",
   "execution_count": 67,
   "id": "ffa2f9bd",
   "metadata": {},
   "outputs": [
    {
     "name": "stdout",
     "output_type": "stream",
     "text": [
      "Pronic Numbers between 1 and 100: \n",
      " [2, 6, 12, 20, 30, 42, 56, 72, 90]\n"
     ]
    }
   ],
   "source": [
    "def pronic():\n",
    "    l=[]\n",
    "    for i in range(1,101):\n",
    "        for j in range(1,101):\n",
    "            if j*(j+1)==i:\n",
    "                    l.append(i)\n",
    "    print(\"Pronic Numbers between 1 and 100: \\n\",l)\n",
    "pronic()"
   ]
  }
 ],
 "metadata": {
  "kernelspec": {
   "display_name": "Python 3 (ipykernel)",
   "language": "python",
   "name": "python3"
  },
  "language_info": {
   "codemirror_mode": {
    "name": "ipython",
    "version": 3
   },
   "file_extension": ".py",
   "mimetype": "text/x-python",
   "name": "python",
   "nbconvert_exporter": "python",
   "pygments_lexer": "ipython3",
   "version": "3.9.13"
  }
 },
 "nbformat": 4,
 "nbformat_minor": 5
}
