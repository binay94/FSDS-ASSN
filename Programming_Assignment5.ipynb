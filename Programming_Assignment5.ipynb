{
 "cells": [
  {
   "cell_type": "markdown",
   "id": "3e97e792-a472-4602-89c9-f652c2a21e51",
   "metadata": {},
   "source": [
    "1. Write a Python Program to Find LCM?"
   ]
  },
  {
   "cell_type": "code",
   "execution_count": 1,
   "id": "be12df54",
   "metadata": {},
   "outputs": [
    {
     "name": "stdin",
     "output_type": "stream",
     "text": [
      "enter first number : 24\n",
      "enter second number : 36\n"
     ]
    },
    {
     "name": "stdout",
     "output_type": "stream",
     "text": [
      "LCM of24 and 36 is 72\n"
     ]
    }
   ],
   "source": [
    "n1=int(input(\"enter first number :\"))\n",
    "n2=int(input(\"enter second number :\"))\n",
    "for i in range(2,max(n1,n2)):\n",
    "    if n1%i==n2%i==0:\n",
    "        hcf=i     \n",
    "lcm=(n1*n2)//hcf\n",
    "print(\"LCM of{} and {} is {}\".format(n1,n2,lcm))\n",
    "        "
   ]
  },
  {
   "cell_type": "markdown",
   "id": "4b1acf6f-08c7-4d9f-ba1f-922c1b167834",
   "metadata": {},
   "source": [
    "2. Write a Python Program to Find HCF?"
   ]
  },
  {
   "cell_type": "code",
   "execution_count": 2,
   "id": "2a570eb2",
   "metadata": {},
   "outputs": [
    {
     "name": "stdin",
     "output_type": "stream",
     "text": [
      "enter first number : 24\n",
      "enter second number : 36\n"
     ]
    },
    {
     "name": "stdout",
     "output_type": "stream",
     "text": [
      "HCF of 24 and 36 is :12\n"
     ]
    }
   ],
   "source": [
    "n1=int(input(\"enter first number :\"))\n",
    "n2=int(input(\"enter second number :\"))\n",
    "for i in range(1,max(n1,n2)):\n",
    "    if n1%i==n2%i==0:\n",
    "        hcf=i\n",
    "print(\"HCF of {} and {} is :{}\".format(n1,n2,hcf))"
   ]
  },
  {
   "cell_type": "markdown",
   "id": "e44747e5-04d6-496d-a6e9-dd48c96851cb",
   "metadata": {},
   "source": [
    "3. Write a Python Program to Convert Decimal to Binary, Octal and Hexadecimal?"
   ]
  },
  {
   "cell_type": "code",
   "execution_count": 3,
   "id": "3b344b75",
   "metadata": {},
   "outputs": [
    {
     "name": "stdin",
     "output_type": "stream",
     "text": [
      "Enter a Number:  120\n"
     ]
    },
    {
     "name": "stdout",
     "output_type": "stream",
     "text": [
      "Binary of 120: 0b1111000\n",
      "Octal of 120: 0o170\n",
      "Hexadecimal of 120: 0x78\n"
     ]
    }
   ],
   "source": [
    "n=int(input(\"Enter a Number: \"))\n",
    "print(\"Binary of {}: {}\".format(n, bin(n)))\n",
    "print(\"Octal of {}: {}\".format(n, oct(n)))\n",
    "print(\"Hexadecimal of {}: {}\".format(n, hex(n)))\n"
   ]
  },
  {
   "cell_type": "markdown",
   "id": "05e49a51-f90b-44db-971e-50e943567118",
   "metadata": {},
   "source": [
    "4. Write a Python Program To Find ASCII value of a character?"
   ]
  },
  {
   "cell_type": "code",
   "execution_count": 6,
   "id": "57be511c",
   "metadata": {},
   "outputs": [
    {
     "name": "stdin",
     "output_type": "stream",
     "text": [
      "Enter a String :  ineuron\n"
     ]
    },
    {
     "name": "stdout",
     "output_type": "stream",
     "text": [
      "i  -->  105\n",
      "n  -->  110\n",
      "e  -->  101\n",
      "u  -->  117\n",
      "r  -->  114\n",
      "o  -->  111\n",
      "n  -->  110\n"
     ]
    }
   ],
   "source": [
    "s=input(\"Enter a String : \")\n",
    "for i in s:\n",
    "    print(i,\" --> \",ord(i))\n"
   ]
  },
  {
   "cell_type": "markdown",
   "id": "30236815-1573-4ec7-8b2f-cdd7ec1df30c",
   "metadata": {},
   "source": [
    "5. Write a Python Program to Make a Simple Calculator with 4 basic mathematical operations?"
   ]
  },
  {
   "cell_type": "code",
   "execution_count": 1,
   "id": "262ef0df",
   "metadata": {},
   "outputs": [
    {
     "name": "stdin",
     "output_type": "stream",
     "text": [
      "Enter first Number: 12\n",
      "Enter second Number: 8\n"
     ]
    },
    {
     "name": "stdout",
     "output_type": "stream",
     "text": [
      "Sum=  20.0\n"
     ]
    },
    {
     "name": "stdin",
     "output_type": "stream",
     "text": [
      "Enter first Number: 12\n",
      "Enter second Number: 8\n"
     ]
    },
    {
     "name": "stdout",
     "output_type": "stream",
     "text": [
      "Diff=  4.0\n"
     ]
    },
    {
     "name": "stdin",
     "output_type": "stream",
     "text": [
      "Enter first Number: 12\n",
      "Enter second Number: 8\n"
     ]
    },
    {
     "name": "stdout",
     "output_type": "stream",
     "text": [
      "Div=  1.5\n"
     ]
    },
    {
     "name": "stdin",
     "output_type": "stream",
     "text": [
      "Enter first Number: 12\n",
      "Enter second Number: 8\n"
     ]
    },
    {
     "name": "stdout",
     "output_type": "stream",
     "text": [
      "Prod=  96.0\n"
     ]
    }
   ],
   "source": [
    "class calc: \n",
    "    def add(self):\n",
    "        self.a=float(input(\"Enter first Number:\"))\n",
    "        self.b=float(input(\"Enter second Number:\"))\n",
    "        print(\"Sum= \",self.a+self.b)\n",
    "    def sub(self):\n",
    "        self.a=float(input(\"Enter first Number:\"))\n",
    "        self.b=float(input(\"Enter second Number:\"))\n",
    "        print(\"Diff= \",self.a-self.b)\n",
    "    def div(self):\n",
    "        self.a=float(input(\"Enter first Number:\"))\n",
    "        self.b=float(input(\"Enter second Number:\"))\n",
    "        print(\"Div= \",self.a/self.b)\n",
    "    def mul(self):\n",
    "        self.a=float(input(\"Enter first Number:\"))\n",
    "        self.b=float(input(\"Enter second Number:\"))\n",
    "        print(\"Prod= \",self.a*self.b)\n",
    "c=calc()\n",
    "c.add()\n",
    "c.sub()\n",
    "c.div()\n",
    "c.mul()        "
   ]
  }
 ],
 "metadata": {
  "kernelspec": {
   "display_name": "Python 3 (ipykernel)",
   "language": "python",
   "name": "python3"
  },
  "language_info": {
   "codemirror_mode": {
    "name": "ipython",
    "version": 3
   },
   "file_extension": ".py",
   "mimetype": "text/x-python",
   "name": "python",
   "nbconvert_exporter": "python",
   "pygments_lexer": "ipython3",
   "version": "3.10.6"
  }
 },
 "nbformat": 4,
 "nbformat_minor": 5
}
