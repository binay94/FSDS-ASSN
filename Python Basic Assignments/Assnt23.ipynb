{
 "cells": [
  {
   "cell_type": "markdown",
   "id": "d9d5067e-8da4-4fc0-a57b-4e98b4d785fe",
   "metadata": {},
   "source": [
    "1. What is the result of the code, and why?\n",
    "\n",
    "&gt;&gt;&gt; def func(a, b=6, c=8):\n",
    "\n",
    "print(a, b, c)\n",
    "\n",
    "&gt;&gt;&gt; func(1, 2)"
   ]
  },
  {
   "cell_type": "markdown",
   "id": "e6a6c5c0-bc8b-4f32-96d8-197b21c89f60",
   "metadata": {},
   "source": [
    "Ans: The result of the above code is 1 2 8. its because the function uses the default value of c ie 8 which is provided at the time of declaration"
   ]
  },
  {
   "cell_type": "code",
   "execution_count": 10,
   "id": "96f6ee4e-929c-4027-9590-ff0f1e4dbfaa",
   "metadata": {},
   "outputs": [
    {
     "name": "stdout",
     "output_type": "stream",
     "text": [
      "1 2 8\n"
     ]
    }
   ],
   "source": [
    "def func(a, b=6, c=8):\n",
    "    print(a, b, c)\n",
    "func(1,2)"
   ]
  },
  {
   "cell_type": "markdown",
   "id": "c1f502f2-29b4-40f7-a4f2-14c6972988f9",
   "metadata": {},
   "source": [
    "2. What is the result of this code, and why?\n",
    "\n",
    "&gt;&gt;&gt; def func(a, b, c=5):\n",
    "\n",
    "print(a, b, c)"
   ]
  },
  {
   "cell_type": "markdown",
   "id": "21c6f986-0636-4be1-b8d9-14cef7e8f65e",
   "metadata": {},
   "source": [
    "Ans: The result of the above code is 1 2 3. it is because the function will use default values only when a value for a argument is not provided and if argument name is mentioned while doing a function call, the order of arguments is also ignored by the python interpreter"
   ]
  },
  {
   "cell_type": "code",
   "execution_count": 11,
   "id": "7dc8c9fd-52c7-4461-b57e-15815c0002ac",
   "metadata": {},
   "outputs": [
    {
     "name": "stdout",
     "output_type": "stream",
     "text": [
      "1 2 3\n"
     ]
    }
   ],
   "source": [
    "def func(a, b, c=5):\n",
    "    print(a, b, c)\n",
    "func(1, c=3, b=2)"
   ]
  },
  {
   "cell_type": "markdown",
   "id": "77a7c17c-5185-4de7-bb49-5740a888cbc7",
   "metadata": {},
   "source": [
    "3. How about this code: what is its result, and why?\n",
    "\n",
    "&gt;&gt;&gt; def func(a, *pargs):\n",
    "\n",
    "print(a, pargs)"
   ]
  },
  {
   "cell_type": "markdown",
   "id": "ff12ed30-98be-450f-9d2f-da70b13a7bdb",
   "metadata": {},
   "source": [
    "Ans: The result of the code is 1 (2,3). *pargs stands for variable length arguments. this format is used when we are not sure about the no of arguments to be passed to a function. all the values under this argument will be stored in a tuple."
   ]
  },
  {
   "cell_type": "code",
   "execution_count": 12,
   "id": "094622b1-6863-4945-a70f-c6f4354b9b92",
   "metadata": {},
   "outputs": [
    {
     "name": "stdout",
     "output_type": "stream",
     "text": [
      "1 (2, 3)\n"
     ]
    }
   ],
   "source": [
    "def func(a, *pargs):\n",
    "    print(a, pargs)\n",
    "func(1, 2, 3)"
   ]
  },
  {
   "cell_type": "markdown",
   "id": "b1a0a6c1-a767-49b0-a580-8d7b923518ab",
   "metadata": {},
   "source": [
    "4. What does this code print, and why?\n",
    "\n",
    "&gt;&gt;&gt; def func(a, **kargs):\n",
    "\n",
    "print(a, kargs)"
   ]
  },
  {
   "cell_type": "markdown",
   "id": "f4596b61-ab8a-4c88-9f17-a8eeea8ffecc",
   "metadata": {},
   "source": [
    "Ans: The result of the above code is 1 {'c': 3, 'b': 2}. **args stands for variable length keyword arguments. this format is used when we want pass key value pairs as input to a function. All these key value pairs will be stored in a dictionary"
   ]
  },
  {
   "cell_type": "code",
   "execution_count": 13,
   "id": "ac11dce2-3c37-40ce-9a0f-47baa8d20b57",
   "metadata": {},
   "outputs": [
    {
     "name": "stdout",
     "output_type": "stream",
     "text": [
      "1 {'c': 3, 'b': 2}\n"
     ]
    }
   ],
   "source": [
    "def func(a, **kargs):\n",
    "    print(a, kargs)\n",
    "func(a=1, c=3, b=2)"
   ]
  },
  {
   "cell_type": "markdown",
   "id": "0e69ff08-500d-4e36-b617-6de5f4a06428",
   "metadata": {},
   "source": [
    "5. What gets printed by this, and explain?\n",
    "\n",
    "&gt;&gt;&gt; def func(a, b, c=8, d=5): print(a, b, c, d)\n",
    "\n",
    "&gt;&gt;&gt; func(1, *(5, 6))"
   ]
  },
  {
   "cell_type": "markdown",
   "id": "ad58bfc6-e4eb-42d2-b4e0-9b11f5503f21",
   "metadata": {},
   "source": [
    "Ans: The output of the above is 1 5 6 5. This reason for this function not throwing an error is because, this function expects 4 arguments. the value for a is provided explicitly whereas for arguments b and c, the function will expand the *(5,6) and consider the value of b as 5 and value of c as 6. since the default value of d is provided in function declaration d value will be 5. However it is recommended to use the feature of positional arguments at the end."
   ]
  },
  {
   "cell_type": "code",
   "execution_count": 14,
   "id": "8903dd60-6f90-4534-8bc0-be08cebf44c3",
   "metadata": {},
   "outputs": [
    {
     "name": "stdout",
     "output_type": "stream",
     "text": [
      "1 5 6 5\n"
     ]
    }
   ],
   "source": [
    "def func(a, b, c=8, d=5): \n",
    "    print(a, b, c, d)\n",
    "func(1, *(5, 6))"
   ]
  },
  {
   "cell_type": "markdown",
   "id": "c53fc699-73af-466c-b644-96af695a51ae",
   "metadata": {},
   "source": [
    "6. what is the result of this, and explain?\n",
    "\n",
    "&gt;&gt;&gt; def func(a, b, c): a = 2; b[0] = &#39;x&#39;; c[&#39;a&#39;] = &#39;y&#39;\n",
    "\n",
    "&gt;&gt;&gt; l=1; m=[1]; n={&#39;a&#39;:0}\n",
    "\n",
    "&gt;&gt;&gt; func(l, m, n)\n",
    "\n",
    "&gt;&gt;&gt; l, m, n\n"
   ]
  },
  {
   "cell_type": "markdown",
   "id": "e003e8e1-4c88-4893-8255-a50bbbb4654f",
   "metadata": {},
   "source": [
    "Ans: The output of above code is 1, ['x'], {'a': 'y'}.\n",
    "\n",
    "Eventhough Python gives importance to indentation. its provides a facility to declare an entire function in one single line. where statements in a function body are sepereated by ;\n",
    "When l,m,n are provided as inputs to the function. its modifies the values of l,m,n and sets the value of l=2 ,m=['x'] and n={'a':'y'}"
   ]
  }
 ],
 "metadata": {
  "kernelspec": {
   "display_name": "Python 3 (ipykernel)",
   "language": "python",
   "name": "python3"
  },
  "language_info": {
   "codemirror_mode": {
    "name": "ipython",
    "version": 3
   },
   "file_extension": ".py",
   "mimetype": "text/x-python",
   "name": "python",
   "nbconvert_exporter": "python",
   "pygments_lexer": "ipython3",
   "version": "3.10.6"
  }
 },
 "nbformat": 4,
 "nbformat_minor": 5
}
