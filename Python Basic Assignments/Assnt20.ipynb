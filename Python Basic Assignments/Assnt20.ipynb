{
 "cells": [
  {
   "cell_type": "markdown",
   "id": "c1591de4-f160-45f1-8532-e12f5c0e2346",
   "metadata": {},
   "source": [
    "1. Set the variable test1 to the string &#39;This is a test of the emergency text system,&#39; and save test1 to a\n",
    "file named test.txt."
   ]
  },
  {
   "cell_type": "code",
   "execution_count": 1,
   "id": "d1542225-e1ad-4238-80bc-ea4587084f92",
   "metadata": {},
   "outputs": [
    {
     "name": "stdout",
     "output_type": "stream",
     "text": [
      "This is a test of the emergency text system,\n"
     ]
    }
   ],
   "source": [
    "test1 = 'This is a test of the emergency text system,'\n",
    "print(test1)\n",
    "with open('test.txt','w') as file:\n",
    "    file.write(test1)\n",
    "    file.close()"
   ]
  },
  {
   "cell_type": "code",
   "execution_count": 6,
   "id": "f4036853-47cb-46f1-8c89-196c3e98f032",
   "metadata": {},
   "outputs": [
    {
     "name": "stdout",
     "output_type": "stream",
     "text": [
      "This is a test of the emergency text system,\n"
     ]
    }
   ],
   "source": [
    "# read the contents of test.txt\n",
    "with open('test.txt','r') as fp:\n",
    "    print(fp.read())"
   ]
  },
  {
   "cell_type": "markdown",
   "id": "87a501b8-13d6-4560-82b4-c25935fdbf61",
   "metadata": {},
   "source": [
    "2. Read the contents of the file test.txt into the variable test2. Is there a difference between test 1 and test 2?"
   ]
  },
  {
   "cell_type": "code",
   "execution_count": 7,
   "id": "1bd19ef9-4dd1-40c5-b17f-d57e2f521a9b",
   "metadata": {},
   "outputs": [
    {
     "name": "stdout",
     "output_type": "stream",
     "text": [
      "This is a test of the emergency text system,\n",
      "True\n"
     ]
    }
   ],
   "source": [
    "with open('test.txt','r') as fp:\n",
    "    test2 = fp.read()\n",
    "print(test2)   \n",
    "print(test1 == test2)"
   ]
  },
  {
   "cell_type": "markdown",
   "id": "a47139de-7667-438e-a4ce-b45d1e0a76f8",
   "metadata": {},
   "source": [
    "3. Create a CSV file called books.csv by using these lines:\n",
    "title,author,year\n",
    "The Weirdstone of Brisingamen,Alan Garner,1960\n",
    "Perdido Street Station,China Miéville,2000\n",
    "Thud!,Terry Pratchett,2005\n",
    "The Spellman Files,Lisa Lutz,2007\n",
    "Small Gods,Terry Pratchett,1992"
   ]
  },
  {
   "cell_type": "code",
   "execution_count": 8,
   "id": "c4ed70c4-020c-4c4b-a910-58c153f084bb",
   "metadata": {},
   "outputs": [],
   "source": [
    "data=\"\"\"title,author,year\n",
    "The Weirdstone of Brisingamen,Alan Garner,1960\n",
    "Perdido Street Station,China Miéville,2000\n",
    "Thud!,Terry Pratchett,2005\n",
    "The Spellman Files,Lisa Lutz,2007\n",
    "Small Gods,Terry Pratchett,1992\"\"\"\n",
    "with open('books.csv','w')as fp:\n",
    "    fp.write(data)"
   ]
  },
  {
   "cell_type": "markdown",
   "id": "0663478f-d780-4dad-a48a-825374717886",
   "metadata": {},
   "source": [
    "4. Use the sqlite3 module to create a SQLite database called books.db, and a table called books with\n",
    "these fields: title (text), author (text), and year (integer)."
   ]
  },
  {
   "cell_type": "code",
   "execution_count": 9,
   "id": "31cbb18b-3405-4a4b-901b-667ff0c6b38d",
   "metadata": {},
   "outputs": [],
   "source": [
    "import sqlite3\n",
    "db = sqlite3.connect('books.db')\n",
    "cursor = db.cursor()\n",
    "cursor.execute(\"CREATE TABLE books (title text, author text, year int)\")\n",
    "db.commit()\n",
    "db.close()"
   ]
  },
  {
   "cell_type": "markdown",
   "id": "18fba38d-80eb-4149-b836-e9ef706d9310",
   "metadata": {},
   "source": [
    "5. Read books.csv and insert its data into the books table."
   ]
  },
  {
   "cell_type": "code",
   "execution_count": 10,
   "id": "93fed829-bfd8-40fc-bd58-725b111e4edf",
   "metadata": {},
   "outputs": [],
   "source": [
    "import sqlite3\n",
    "import csv\n",
    "conn = sqlite3.connect(\"books.db\")\n",
    "cursor = conn.cursor()\n",
    "with open(\"books.csv\",\"r\") as file:\n",
    "    books = csv.DictReader(file)\n",
    "    for book in books:\n",
    "        cursor.execute(\"INSERT INTO books VALUES (?,?,?)\",(book['title'],book['author'],book['year']))\n",
    "conn.commit()\n",
    "conn.close()"
   ]
  },
  {
   "cell_type": "markdown",
   "id": "cbe9ebd8-2296-48dd-9851-9d89c00e265e",
   "metadata": {},
   "source": [
    "6. Select and print the title column from the books table in alphabetical order."
   ]
  },
  {
   "cell_type": "code",
   "execution_count": 11,
   "id": "f3cc855e-1265-4229-9231-34db713313b0",
   "metadata": {},
   "outputs": [
    {
     "name": "stdout",
     "output_type": "stream",
     "text": [
      "Perdido Street Station\n",
      "Small Gods\n",
      "The Spellman Files\n",
      "The Weirdstone of Brisingamen\n",
      "Thud!\n"
     ]
    }
   ],
   "source": [
    "import sqlite3\n",
    "conn = sqlite3.connect('books.db')\n",
    "cursor = conn.cursor()\n",
    "output = cursor.execute(\"SELECT title FROM books ORDER BY title ASC\")\n",
    "for ele in output:\n",
    "    print(ele[0])\n",
    "conn.commit()\n",
    "conn.close()"
   ]
  },
  {
   "cell_type": "markdown",
   "id": "a7c6efe1-86a1-46a8-ac8f-f0b6f6d00678",
   "metadata": {},
   "source": [
    "7. From the books table, select and print all columns in the order of publication."
   ]
  },
  {
   "cell_type": "code",
   "execution_count": 12,
   "id": "1dfe5c5d-7fd6-42e3-9852-f65d097bfaf7",
   "metadata": {},
   "outputs": [
    {
     "name": "stdout",
     "output_type": "stream",
     "text": [
      "('The Weirdstone of Brisingamen', 'Alan Garner', 1960)\n",
      "('Small Gods', 'Terry Pratchett', 1992)\n",
      "('Perdido Street Station', 'China Miéville', 2000)\n",
      "('Thud!', 'Terry Pratchett', 2005)\n",
      "('The Spellman Files', 'Lisa Lutz', 2007)\n"
     ]
    }
   ],
   "source": [
    "import sqlite3\n",
    "conn = sqlite3.connect('books.db')\n",
    "cursor = conn.cursor()\n",
    "ouput = cursor.execute(\"SELECT * FROM books ORDER BY year\")\n",
    "for record in ouput:\n",
    "    print(record)"
   ]
  },
  {
   "cell_type": "markdown",
   "id": "ac4e311e-97ca-44f6-b4ee-e951998d5cba",
   "metadata": {},
   "source": [
    "8. Use the sqlalchemy module to connect to the sqlite3 database books.db that you just made in exercise 6."
   ]
  },
  {
   "cell_type": "code",
   "execution_count": 13,
   "id": "84d75871-15d7-4154-8227-043f5dd243ae",
   "metadata": {},
   "outputs": [
    {
     "data": {
      "text/plain": [
       "Engine(sqlite:///books.db)"
      ]
     },
     "execution_count": 13,
     "metadata": {},
     "output_type": "execute_result"
    }
   ],
   "source": [
    "import sqlalchemy\n",
    "conn = sqlalchemy.create_engine('sqlite:///books.db')\n",
    "conn"
   ]
  },
  {
   "cell_type": "markdown",
   "id": "6aed7b54-137e-4c81-ad3b-cda1ffd045ce",
   "metadata": {},
   "source": [
    "9. Install the Redis server and the Python redis library (pip install redis) on your computer. Create a\n",
    "Redis hash called test with the fields count (1) and name (&#39;Fester Bestertester&#39;). Print all the fields for\n",
    "test."
   ]
  },
  {
   "cell_type": "code",
   "execution_count": 14,
   "id": "1addf61d-0262-4d6c-bc75-009c14f93752",
   "metadata": {},
   "outputs": [
    {
     "name": "stdout",
     "output_type": "stream",
     "text": [
      "Collecting redis\n",
      "  Downloading redis-4.5.4-py3-none-any.whl (238 kB)\n",
      "\u001b[2K     \u001b[90m━━━━━━━━━━━━━━━━━━━━━━━━━━━━━━━━━━━━━━\u001b[0m \u001b[32m238.9/238.9 kB\u001b[0m \u001b[31m21.0 MB/s\u001b[0m eta \u001b[36m0:00:00\u001b[0m\n",
      "\u001b[?25hCollecting async-timeout>=4.0.2\n",
      "  Downloading async_timeout-4.0.2-py3-none-any.whl (5.8 kB)\n",
      "Installing collected packages: async-timeout, redis\n",
      "Successfully installed async-timeout-4.0.2 redis-4.5.4\n",
      "Note: you may need to restart the kernel to use updated packages.\n"
     ]
    }
   ],
   "source": [
    "pip install redis"
   ]
  },
  {
   "cell_type": "code",
   "execution_count": null,
   "id": "78dddc9d-7f02-41a6-96b6-df3e09757848",
   "metadata": {},
   "outputs": [],
   "source": [
    "import redis\n",
    "conn = redis.Redis()\n",
    "conn.hset('test',{\n",
    "    'count':1,\n",
    "    'name':'Fester Bestertester'\n",
    "})\n",
    "conn.hgetall('test')"
   ]
  },
  {
   "cell_type": "markdown",
   "id": "3d688fa2-dc3b-4be9-bc96-453c5de773df",
   "metadata": {},
   "source": [
    "10. Increment the count field of test and print it."
   ]
  },
  {
   "cell_type": "code",
   "execution_count": null,
   "id": "81fb6ed1-bc96-416b-9801-4cd20f66a505",
   "metadata": {},
   "outputs": [],
   "source": [
    "conn.hincrby('test', 'count', 1)\n",
    "conn.hget('test', 'count')"
   ]
  }
 ],
 "metadata": {
  "kernelspec": {
   "display_name": "Python 3 (ipykernel)",
   "language": "python",
   "name": "python3"
  },
  "language_info": {
   "codemirror_mode": {
    "name": "ipython",
    "version": 3
   },
   "file_extension": ".py",
   "mimetype": "text/x-python",
   "name": "python",
   "nbconvert_exporter": "python",
   "pygments_lexer": "ipython3",
   "version": "3.10.6"
  }
 },
 "nbformat": 4,
 "nbformat_minor": 5
}
