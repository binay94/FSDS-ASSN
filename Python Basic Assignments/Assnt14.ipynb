{
 "cells": [
  {
   "cell_type": "markdown",
   "id": "975491d0-0a92-4410-9248-8ea58016bf24",
   "metadata": {},
   "source": [
    "1. What does RGBA stand for?"
   ]
  },
  {
   "cell_type": "markdown",
   "id": "1a8df349-2a1b-4db5-87b5-f9ec5e827e61",
   "metadata": {},
   "source": [
    "Ans : RGBA is a four-channel format containing data for Red, Green, Blue, and an Alpha value. Where Alpha Represents the Opacity"
   ]
  },
  {
   "cell_type": "markdown",
   "id": "9a8cd651-64df-4118-8e91-7b6ed595cf7b",
   "metadata": {},
   "source": [
    "2. From the Pillow module, how do you get the RGBA value of any images?"
   ]
  },
  {
   "cell_type": "markdown",
   "id": "e1bbadaa-1943-437c-b9a9-7a6edb997039",
   "metadata": {},
   "source": [
    "Ans :  ImageColor.getcolor() gives rgba value of any image"
   ]
  },
  {
   "cell_type": "markdown",
   "id": "0308a744-395f-4145-a163-e38b6ed4daff",
   "metadata": {},
   "source": [
    "3. What is a box tuple, and how does it work?"
   ]
  },
  {
   "cell_type": "markdown",
   "id": "e316767d-1969-445e-9dac-5ad5080b039a",
   "metadata": {},
   "source": [
    "Ans : A box tuple is a tuple value of four integers: the left-edge x-coordinate, the top-edge y-coordinate,the width, and the height, respectively."
   ]
  },
  {
   "cell_type": "markdown",
   "id": "e43ebc52-eea8-40fa-93d4-4aa4af5ecce4",
   "metadata": {},
   "source": [
    "4. Use your image and load in notebook then, How can you find out the width and height of an Image object?"
   ]
  },
  {
   "cell_type": "markdown",
   "id": "f5e3bc0c-6b5d-4047-bc4a-eccbb5d9aae8",
   "metadata": {},
   "source": [
    "Ans : we can use attributes size or width or height "
   ]
  },
  {
   "cell_type": "code",
   "execution_count": 3,
   "id": "3159d300-5d77-4439-bc17-9efd7defde44",
   "metadata": {},
   "outputs": [
    {
     "name": "stdout",
     "output_type": "stream",
     "text": [
      "Width, Height -> (728, 410)\n",
      "Width, Height -> 728,410\n"
     ]
    }
   ],
   "source": [
    "#Example\n",
    "from PIL import Image\n",
    "pic = Image.open('msi.jpg')\n",
    "# Approach 1\n",
    "print(f'Width, Height -> {pic.size}')\n",
    "# Approach 2\n",
    "print(f'Width, Height -> {pic.width},{pic.height}') "
   ]
  },
  {
   "cell_type": "markdown",
   "id": "4f9659c7-ab83-4477-a41c-d31331d72f85",
   "metadata": {},
   "source": [
    "5. What method would you call to get Image object for a 100×100 image, excluding the lower-left quarter of it?"
   ]
  },
  {
   "cell_type": "markdown",
   "id": "c4b14aa1-2315-414a-9957-44e06192186f",
   "metadata": {},
   "source": [
    "Ans : crop() method is used to get Image object for a 100×100 image."
   ]
  },
  {
   "cell_type": "code",
   "execution_count": 4,
   "id": "2041e69d-9a26-47cd-b402-cc9d5a675a76",
   "metadata": {},
   "outputs": [],
   "source": [
    "from PIL import Image\n",
    "img = Image.open('msi.jpg')\n",
    "new_img = img.crop((0,50,50,50))"
   ]
  },
  {
   "cell_type": "markdown",
   "id": "8f678026-8c8e-4b5a-9a09-7559fe80889c",
   "metadata": {},
   "source": [
    "6. After making changes to an Image object, how could you save it as an image file?"
   ]
  },
  {
   "cell_type": "markdown",
   "id": "72ede91a-6268-444b-bbed-a11198649242",
   "metadata": {},
   "source": [
    "Ans : After making changes to an Image object ,we can save it by save() method"
   ]
  },
  {
   "cell_type": "code",
   "execution_count": 5,
   "id": "442fcd31-bd22-4982-be3d-ffce80bb631a",
   "metadata": {},
   "outputs": [],
   "source": [
    "from PIL import Image\n",
    "pic = Image.open('msi.jpg')\n",
    "pic.save('new_msi.jpg')"
   ]
  },
  {
   "cell_type": "markdown",
   "id": "97969dbd-c9f2-423c-95f7-3949cabd50c1",
   "metadata": {},
   "source": [
    "7. What module contains Pillow’s shape-drawing code?"
   ]
  },
  {
   "cell_type": "markdown",
   "id": "5984ab99-4778-411b-9e7a-1e941710e35b",
   "metadata": {},
   "source": [
    "Ans : Pillows ImageDraw module contains Shape drawing methods"
   ]
  },
  {
   "cell_type": "markdown",
   "id": "a6b0a498-c0f4-4ee5-961f-4417c173b7d1",
   "metadata": {},
   "source": [
    "8. Image objects do not have drawing methods. What kind of object does? How do you get this kind of object?"
   ]
  },
  {
   "cell_type": "markdown",
   "id": "b63fd969-ed36-4695-82ec-25b7c9827cb8",
   "metadata": {},
   "source": [
    "Ans : ImageDraw objects have shape-drawing methods such as point(), line(), or rectangle().They are returned by passing the Image object to the ImageDraw.Draw() function."
   ]
  }
 ],
 "metadata": {
  "kernelspec": {
   "display_name": "Python 3 (ipykernel)",
   "language": "python",
   "name": "python3"
  },
  "language_info": {
   "codemirror_mode": {
    "name": "ipython",
    "version": 3
   },
   "file_extension": ".py",
   "mimetype": "text/x-python",
   "name": "python",
   "nbconvert_exporter": "python",
   "pygments_lexer": "ipython3",
   "version": "3.10.6"
  }
 },
 "nbformat": 4,
 "nbformat_minor": 5
}
