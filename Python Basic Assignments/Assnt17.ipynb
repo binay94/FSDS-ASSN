{
 "cells": [
  {
   "cell_type": "markdown",
   "id": "16960fd8-2eed-41a3-9fc3-081fe70f1f8f",
   "metadata": {},
   "source": [
    "1. Assign the value 7 to the variable guess_me. Then, write the conditional tests (if, else, and elif) to print the string \n",
    "'too low' if guess_me is less than 7, 'too high' if greater than 7, and 'just right' if equal to 7."
   ]
  },
  {
   "cell_type": "code",
   "execution_count": 9,
   "id": "e51a176f-4c6e-4a89-b8b8-a721e081f94f",
   "metadata": {},
   "outputs": [
    {
     "name": "stdout",
     "output_type": "stream",
     "text": [
      "just Right\n",
      "too Low\n",
      "too High\n"
     ]
    }
   ],
   "source": [
    "def guess_me(guess_me):\n",
    "    if guess_me < 7:\n",
    "        print('too Low')\n",
    "    elif guess_me > 7:\n",
    "        print('too High')\n",
    "    else:\n",
    "        print('just Right')\n",
    "\n",
    "guess_me(guess_me=7)\n",
    "guess_me(guess_me=5)\n",
    "guess_me(guess_me=15)"
   ]
  },
  {
   "cell_type": "markdown",
   "id": "30d1f379-151a-4019-ae14-616c88b127f7",
   "metadata": {},
   "source": [
    "2. Assign the value 7 to the variable guess_me and the value 1 to the variable start. Write a while loop that compares start\n",
    "with guess_me. Print too low if start is less than guess me. If start equals guess_me, print 'found it!' and exit the loop. \n",
    "If start is greater than guess_me, print 'oops' and exit the loop. Increment start at the end of the loop"
   ]
  },
  {
   "cell_type": "code",
   "execution_count": 10,
   "id": "fbcd1d4b-ec98-42f9-b2c7-32035d4a4885",
   "metadata": {},
   "outputs": [
    {
     "name": "stdout",
     "output_type": "stream",
     "text": [
      "too low\n",
      "too low\n",
      "too low\n",
      "too low\n",
      "too low\n",
      "too low\n",
      "found it\n"
     ]
    }
   ],
   "source": [
    "guess_me = 7\n",
    "start = 1\n",
    "while True:\n",
    "    if start < guess_me:\n",
    "        print('too low')\n",
    "    elif start == guess_me:\n",
    "        print('found it')\n",
    "        break\n",
    "    else:\n",
    "        print('oops')\n",
    "        break\n",
    "    start += 1"
   ]
  },
  {
   "cell_type": "markdown",
   "id": "fe26266e-5461-4c57-9638-f69f63a431ec",
   "metadata": {},
   "source": [
    "3. Print the following values of the list [3, 2, 1, 0] using a for loop."
   ]
  },
  {
   "cell_type": "code",
   "execution_count": 11,
   "id": "d8079b61-b231-4ede-9b13-5525695d24ec",
   "metadata": {},
   "outputs": [
    {
     "name": "stdout",
     "output_type": "stream",
     "text": [
      "3\n",
      "2\n",
      "1\n",
      "0\n"
     ]
    }
   ],
   "source": [
    "lst = [3,2,1,0]\n",
    "for i in lst:\n",
    "    print(i)"
   ]
  },
  {
   "cell_type": "markdown",
   "id": "ab27f76f-8629-4add-a3dc-48fe8d69746e",
   "metadata": {},
   "source": [
    "4. Use a list comprehension to make a list of the even numbers in range(10)"
   ]
  },
  {
   "cell_type": "code",
   "execution_count": 12,
   "id": "22c76c79-3e35-467a-8c56-8a5b8ca477d9",
   "metadata": {},
   "outputs": [
    {
     "name": "stdout",
     "output_type": "stream",
     "text": [
      "[0, 2, 4, 6, 8, 10]\n"
     ]
    }
   ],
   "source": [
    "print([x for x in range(10+1) if x%2==0 ])"
   ]
  },
  {
   "cell_type": "markdown",
   "id": "45bf4938-6fec-4ecd-b297-23942fcc4715",
   "metadata": {},
   "source": [
    "5. Use a dictionary comprehension to create the dictionary squares. Use range(10) to return the keys, and use the square of \n",
    "each key as its value."
   ]
  },
  {
   "cell_type": "code",
   "execution_count": 13,
   "id": "f0dc1949-5177-4103-8579-3562222dfddf",
   "metadata": {},
   "outputs": [
    {
     "name": "stdout",
     "output_type": "stream",
     "text": [
      "{0: 0, 1: 1, 2: 4, 3: 9, 4: 16, 5: 25, 6: 36, 7: 49, 8: 64, 9: 81}\n"
     ]
    }
   ],
   "source": [
    "print({x:x**2 for x in range(10)})"
   ]
  },
  {
   "cell_type": "markdown",
   "id": "81b0ccef-2f4b-48db-9092-cc32978dd21e",
   "metadata": {},
   "source": [
    "6. Construct the set odd from the odd numbers in the range using a set comprehension (10)."
   ]
  },
  {
   "cell_type": "code",
   "execution_count": 14,
   "id": "a9187647-1b5a-40c0-8876-5d91d63440dc",
   "metadata": {},
   "outputs": [
    {
     "name": "stdout",
     "output_type": "stream",
     "text": [
      "{1, 3, 5, 7, 9}\n"
     ]
    }
   ],
   "source": [
    "print({x for x in range(10) if x%2 !=0})"
   ]
  },
  {
   "cell_type": "markdown",
   "id": "18c4e74a-3792-425b-a0c9-eae12bc54ad1",
   "metadata": {},
   "source": [
    "7. Use a generator comprehension to return the string 'Got ' and a number for the numbers in range(10). Iterate through this by\n",
    "using a for loop"
   ]
  },
  {
   "cell_type": "code",
   "execution_count": 15,
   "id": "42ad1085-267c-40b4-a8ce-6f8a81896a22",
   "metadata": {},
   "outputs": [
    {
     "name": "stdout",
     "output_type": "stream",
     "text": [
      "Got 0 Got 1 Got 2 Got 3 Got 4 Got 5 Got 6 Got 7 Got 8 Got 9 "
     ]
    }
   ],
   "source": [
    "gen_com = ('Got '+str(x) for x in range(10))\n",
    "for i in gen_com:\n",
    "    print(i, end=' ')"
   ]
  },
  {
   "cell_type": "markdown",
   "id": "1b9bbd50-f068-41f5-8352-02776b7fc839",
   "metadata": {},
   "source": [
    "8. Define a function called good that returns the list ['Harry', 'Ron', 'Hermione']."
   ]
  },
  {
   "cell_type": "code",
   "execution_count": 16,
   "id": "4e85b5d2-a66a-4b84-8aa4-4c73919db1b8",
   "metadata": {},
   "outputs": [
    {
     "name": "stdout",
     "output_type": "stream",
     "text": [
      "['Harry', 'Ron', 'Hermione']\n"
     ]
    }
   ],
   "source": [
    "def good():\n",
    "    x =  ['Harry', 'Ron', 'Hermione']\n",
    "    return x\n",
    "print(good())"
   ]
  },
  {
   "cell_type": "markdown",
   "id": "1bd2a851-099f-4c58-b607-66ee270a9397",
   "metadata": {},
   "source": [
    "9. Define a generator function called get_odds that returns the odd numbers from range(10). Use a for loop to find and print \n",
    "the third value returned."
   ]
  },
  {
   "cell_type": "code",
   "execution_count": 17,
   "id": "1681d584-80ac-4c88-82c8-71583cfc244f",
   "metadata": {},
   "outputs": [
    {
     "data": {
      "text/plain": [
       "5"
      ]
     },
     "execution_count": 17,
     "metadata": {},
     "output_type": "execute_result"
    }
   ],
   "source": [
    "def get_odds():\n",
    "    output = []\n",
    "    for i in range(10):\n",
    "        if i%2 != 0:\n",
    "            output.append(i)\n",
    "    yield output\n",
    "\n",
    "next(get_odds())[2]"
   ]
  },
  {
   "cell_type": "markdown",
   "id": "f3f7c89f-f9fe-4bf0-96f8-0f3bad5cc96c",
   "metadata": {},
   "source": [
    "10. Define an exception called OopsException. Raise this exception to see what happens. Then write the code to catch this \n",
    "exception and print 'Caught an oops'."
   ]
  },
  {
   "cell_type": "code",
   "execution_count": 18,
   "id": "1b7dba0d-4de0-4d91-afaa-4215792c0273",
   "metadata": {},
   "outputs": [
    {
     "name": "stdout",
     "output_type": "stream",
     "text": [
      "Caught in Oops -> name 'a' is not defined\n"
     ]
    }
   ],
   "source": [
    "class OopsException(Exception):\n",
    "    pass\n",
    "\n",
    "def test(input):\n",
    "    if input <0:\n",
    "        raise OopsException(a)\n",
    "try:\n",
    "    test(-100)\n",
    "except Exception as e:\n",
    "    print('Caught in Oops ->',e)"
   ]
  },
  {
   "cell_type": "markdown",
   "id": "000b0064-637b-4254-8cdf-927bbabb288c",
   "metadata": {},
   "source": [
    "11. Use zip() to make a dictionary called movies that pairs these lists: titles = ['Creature of Habit', 'Crewel Fate'] and\n",
    "    plots = ['A nun turns into a monster', 'A haunted yarn shop']."
   ]
  },
  {
   "cell_type": "code",
   "execution_count": 19,
   "id": "127595ff-6801-4bb0-a36e-5da3e1ac0172",
   "metadata": {},
   "outputs": [
    {
     "name": "stdout",
     "output_type": "stream",
     "text": [
      "{'Creature of Habit': 'A nun turns into a monster', 'Crewel Fate': 'A haunted yarn shop'}\n"
     ]
    }
   ],
   "source": [
    "titles = ['Creature of Habit', 'Crewel Fate']\n",
    "plots = ['A nun turns into a monster', 'A haunted yarn shop']\n",
    "output = dict(zip(titles,plots))\n",
    "print(output)"
   ]
  }
 ],
 "metadata": {
  "kernelspec": {
   "display_name": "Python 3 (ipykernel)",
   "language": "python",
   "name": "python3"
  },
  "language_info": {
   "codemirror_mode": {
    "name": "ipython",
    "version": 3
   },
   "file_extension": ".py",
   "mimetype": "text/x-python",
   "name": "python",
   "nbconvert_exporter": "python",
   "pygments_lexer": "ipython3",
   "version": "3.10.6"
  }
 },
 "nbformat": 4,
 "nbformat_minor": 5
}
