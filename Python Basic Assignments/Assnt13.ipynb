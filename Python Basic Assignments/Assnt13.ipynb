{
 "cells": [
  {
   "cell_type": "markdown",
   "id": "a0414e20-7ac0-4654-99ba-dfc2ca2f8480",
   "metadata": {},
   "source": [
    "1. What advantages do Excel spreadsheets have over CSV spreadsheets?"
   ]
  },
  {
   "cell_type": "markdown",
   "id": "11cd9a39-2180-4c91-aa67-5cb37ea455a3",
   "metadata": {},
   "source": [
    "Ans: The Advantages of Excel over CSV are:\n",
    "\n",
    "1) Excel (XLS and XLSX) file formats are better for storing and analysing complex data.\n",
    "2) An Excel not only stores data but can also do operations on the data using macros, formulas etc\n",
    "3) CSV files are plain-text files, Does not contain formatting, formulas, macros, etc. It is also known as flat files"
   ]
  },
  {
   "cell_type": "markdown",
   "id": "ed5e9a12-2e11-4659-9759-75dec26df155",
   "metadata": {},
   "source": [
    "2.What do you pass to csv.reader() and csv.writer() to create reader and writer objects?"
   ]
  },
  {
   "cell_type": "code",
   "execution_count": null,
   "id": "286e7ac5-246e-498c-9ea0-a24cd09e3d94",
   "metadata": {},
   "outputs": [],
   "source": [
    "import csv\n",
    "with open('test.csv','r') as file:\n",
    "    csv_files = csv.reader(file,delimiter=',')\n",
    "    for i in csv_files:\n",
    "        print(i)"
   ]
  },
  {
   "cell_type": "markdown",
   "id": "67b705be-30b2-41e0-8cd2-6ad768fd03dd",
   "metadata": {},
   "source": [
    "3. What modes do File objects for reader and writer objects need to be opened in?"
   ]
  },
  {
   "cell_type": "markdown",
   "id": "c7f2b278-4dea-41e3-9263-52949bd2c509",
   "metadata": {},
   "source": [
    "Ans: For csv.reader(iterable_file_object), the file objects needed to be opened in read mode mode='r' Whereas for csv.writer(iterable_file_object) the file objects needed to be opened in write mode mode='w'"
   ]
  },
  {
   "cell_type": "markdown",
   "id": "9ef8fb90-96a4-4144-a3ca-2830f00ea33a",
   "metadata": {},
   "source": [
    "4. What method takes a list argument and writes it to a CSV file?"
   ]
  },
  {
   "cell_type": "markdown",
   "id": "7e7b652a-11b5-49cb-9ff0-9e8f5b76c43d",
   "metadata": {},
   "source": [
    "Ans: csv.writer class provides two methods for writing to CSV. They are writerow() and writerows(). writerow() method writes a single row at a time. Whereas writerows() method is used to write multiple rows at a time"
   ]
  },
  {
   "cell_type": "markdown",
   "id": "44e6a706-2637-4943-9630-df413e42b942",
   "metadata": {},
   "source": [
    "5. What do the keyword arguments delimiter and line terminator do?"
   ]
  },
  {
   "cell_type": "markdown",
   "id": "474bdf93-bdae-414c-981b-78bd2e12ba99",
   "metadata": {},
   "source": [
    "Ans: Lets take the example of a csv file:\n",
    "\n",
    "emp_name,emp_id,emp_sal\n",
    "\n",
    "goura,38,7.7\n",
    "\n",
    "jiten,42,8.2\n",
    "\n",
    "som,33,7.\n",
    "\n",
    "Here ',' is Delimiter. We can use any Character as per our needs if required. Similarly Line Terminator comes at end of line by default it is newline and can be changed accourding to Requirement."
   ]
  },
  {
   "cell_type": "markdown",
   "id": "1e6e8ca8-4fdf-4026-9469-f15a7a17af93",
   "metadata": {},
   "source": [
    "6. What function takes a string of JSON data and returns a Python data structure?"
   ]
  },
  {
   "cell_type": "markdown",
   "id": "f0037f30-6d5f-416e-a73a-2a224239023d",
   "metadata": {},
   "source": [
    "Ans: loads() method takes a string of JSON data and returns a Python data structure"
   ]
  },
  {
   "cell_type": "code",
   "execution_count": 5,
   "id": "b3daadac-9a9a-4dc9-8446-937f524cdc7f",
   "metadata": {},
   "outputs": [
    {
     "name": "stdout",
     "output_type": "stream",
     "text": [
      "{\n",
      "    \"Name\": \"Binaya Kumar\",\n",
      "    \"Qualification\": \"Bachelor of Technology\",\n",
      "    \"Course\":\"Data Science\",\n",
      "    \"institution\":\"ineuron\"\n",
      "}\n",
      "Type of my_details_json is : <class 'str'>\n",
      "======================================================================\n",
      "{'Name': 'Binaya Kumar', 'Qualification': 'Bachelor of Technology', 'Course': 'Data Science', 'institution': 'ineuron'}\n",
      "Type of my_details is : <class 'dict'>\n"
     ]
    }
   ],
   "source": [
    "# Example of json.loads() method\n",
    "import json\n",
    "my_details_json ='''{\n",
    "    \"Name\": \"Binaya Kumar\",\n",
    "    \"Qualification\": \"Bachelor of Technology\",\n",
    "    \"Course\":\"Data Science\",\n",
    "    \"institution\":\"ineuron\"\n",
    "}'''\n",
    "print(my_details_json)\n",
    "print(f'Type of my_details_json is : {type(my_details_json)}')\n",
    "print(\"=\"*70)\n",
    "my_details = json.loads(my_details_json)\n",
    "print(my_details)\n",
    "print(f'Type of my_details is : {type(my_details)}')"
   ]
  },
  {
   "cell_type": "markdown",
   "id": "e7cbd275-e3b5-47cf-86b4-6fb8d36fd925",
   "metadata": {},
   "source": [
    "7. What function takes a Python data structure and returns a string of JSON data?"
   ]
  },
  {
   "cell_type": "markdown",
   "id": "feb1597b-dfe0-4132-b6b8-8bee716c9280",
   "metadata": {},
   "source": [
    "Ans: dumps() method takes a python data structure and returns a string of JSON data"
   ]
  },
  {
   "cell_type": "code",
   "execution_count": 9,
   "id": "c8664860-1e04-4d53-ad83-7ff7d7121b6c",
   "metadata": {},
   "outputs": [
    {
     "name": "stdout",
     "output_type": "stream",
     "text": [
      "{'Name': 'Binaya Kumar', 'Qualification': 'Bachelor of Technology', 'Course': 'Data Science', 'institution': 'ineuron'}\n",
      "Type of my_details is : <class 'dict'>\n",
      "====================================================================================================\n",
      "{\"Name\": \"Binaya Kumar\", \"Qualification\": \"Bachelor of Technology\", \"Course\": \"Data Science\", \"institution\": \"ineuron\"}\n",
      "Type of my_details is : <class 'str'>\n"
     ]
    }
   ],
   "source": [
    "# Example of json.dumps() method\n",
    "import json\n",
    "my_details ={\n",
    "    \"Name\": \"Binaya Kumar\",\n",
    "    \"Qualification\": \"Bachelor of Technology\",\n",
    "    \"Course\":\"Data Science\",\n",
    "    \"institution\":\"ineuron\"}\n",
    "print(my_details)\n",
    "print(f'Type of my_details is : {type(my_details)}')\n",
    "print(\"=\"*100)\n",
    "my_details = json.dumps(my_details)\n",
    "print(my_details)\n",
    "print(f'Type of my_details is : {type(my_details)}')"
   ]
  }
 ],
 "metadata": {
  "kernelspec": {
   "display_name": "Python 3 (ipykernel)",
   "language": "python",
   "name": "python3"
  },
  "language_info": {
   "codemirror_mode": {
    "name": "ipython",
    "version": 3
   },
   "file_extension": ".py",
   "mimetype": "text/x-python",
   "name": "python",
   "nbconvert_exporter": "python",
   "pygments_lexer": "ipython3",
   "version": "3.10.6"
  }
 },
 "nbformat": 4,
 "nbformat_minor": 5
}
