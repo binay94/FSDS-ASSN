{
 "cells": [
  {
   "cell_type": "markdown",
   "id": "d8b7ecaa-57d7-4629-8810-19d7c2371ada",
   "metadata": {},
   "source": [
    "1. Create an assert statement that throws an AssertionError if the variable spam is a negative\n",
    "integer."
   ]
  },
  {
   "cell_type": "code",
   "execution_count": 22,
   "id": "64cc7336-76f4-4932-aad4-c2a561cfc00a",
   "metadata": {},
   "outputs": [
    {
     "ename": "AssertionError",
     "evalue": "spam should be positive",
     "output_type": "error",
     "traceback": [
      "\u001b[0;31m---------------------------------------------------------------------------\u001b[0m",
      "\u001b[0;31mAssertionError\u001b[0m                            Traceback (most recent call last)",
      "Cell \u001b[0;32mIn [22], line 2\u001b[0m\n\u001b[1;32m      1\u001b[0m spam\u001b[38;5;241m=\u001b[39m\u001b[38;5;241m-\u001b[39m\u001b[38;5;241m12\u001b[39m\n\u001b[0;32m----> 2\u001b[0m \u001b[38;5;28;01massert\u001b[39;00m spam\u001b[38;5;241m>\u001b[39m\u001b[38;5;241m=\u001b[39m\u001b[38;5;241m0\u001b[39m,\u001b[38;5;124m\"\u001b[39m\u001b[38;5;124mspam should be positive\u001b[39m\u001b[38;5;124m\"\u001b[39m\n",
      "\u001b[0;31mAssertionError\u001b[0m: spam should be positive"
     ]
    }
   ],
   "source": [
    "spam=-12\n",
    "assert spam>=0,\"spam should be positive\""
   ]
  },
  {
   "cell_type": "markdown",
   "id": "00df93a5-fbc1-4402-b31e-3735561b6a36",
   "metadata": {},
   "source": [
    "2. Write an assert statement that triggers an AssertionError if the variables eggs and bacon contain\n",
    "strings that are the same as each other, even if their cases are different (that is, 'hello' and 'hello' are\n",
    "considered the same, and 'goodbye' and 'GOODbye' are also considered the same)."
   ]
  },
  {
   "cell_type": "code",
   "execution_count": 21,
   "id": "adf13a25-b681-4495-93c6-69db6a2cb125",
   "metadata": {},
   "outputs": [
    {
     "ename": "AssertionError",
     "evalue": "eggs and bacon should not be same",
     "output_type": "error",
     "traceback": [
      "\u001b[0;31m---------------------------------------------------------------------------\u001b[0m",
      "\u001b[0;31mAssertionError\u001b[0m                            Traceback (most recent call last)",
      "Cell \u001b[0;32mIn [21], line 5\u001b[0m\n\u001b[1;32m      3\u001b[0m     b\u001b[38;5;241m=\u001b[39mbacon\u001b[38;5;241m.\u001b[39mlower()\n\u001b[1;32m      4\u001b[0m     \u001b[38;5;28;01massert\u001b[39;00m e\u001b[38;5;241m!=\u001b[39mb,\u001b[38;5;124m\"\u001b[39m\u001b[38;5;124meggs and bacon should not be same\u001b[39m\u001b[38;5;124m\"\u001b[39m \n\u001b[0;32m----> 5\u001b[0m \u001b[43massert_stat\u001b[49m\u001b[43m(\u001b[49m\u001b[38;5;124;43m\"\u001b[39;49m\u001b[38;5;124;43mhello\u001b[39;49m\u001b[38;5;124;43m\"\u001b[39;49m\u001b[43m,\u001b[49m\u001b[38;5;124;43m\"\u001b[39;49m\u001b[38;5;124;43mhello\u001b[39;49m\u001b[38;5;124;43m\"\u001b[39;49m\u001b[43m)\u001b[49m\n",
      "Cell \u001b[0;32mIn [21], line 4\u001b[0m, in \u001b[0;36massert_stat\u001b[0;34m(eggs, bacon)\u001b[0m\n\u001b[1;32m      2\u001b[0m e\u001b[38;5;241m=\u001b[39meggs\u001b[38;5;241m.\u001b[39mlower()\n\u001b[1;32m      3\u001b[0m b\u001b[38;5;241m=\u001b[39mbacon\u001b[38;5;241m.\u001b[39mlower()\n\u001b[0;32m----> 4\u001b[0m \u001b[38;5;28;01massert\u001b[39;00m e\u001b[38;5;241m!=\u001b[39mb,\u001b[38;5;124m\"\u001b[39m\u001b[38;5;124meggs and bacon should not be same\u001b[39m\u001b[38;5;124m\"\u001b[39m\n",
      "\u001b[0;31mAssertionError\u001b[0m: eggs and bacon should not be same"
     ]
    }
   ],
   "source": [
    "def assert_stat(eggs,bacon):\n",
    "    e=eggs.lower()\n",
    "    b=bacon.lower()\n",
    "    assert e!=b,\"eggs and bacon should not be same\" \n",
    "assert_stat(\"hello\",\"hello\") "
   ]
  },
  {
   "cell_type": "code",
   "execution_count": 20,
   "id": "cd6ef958-4cbe-4dc0-910c-994b977b4a50",
   "metadata": {},
   "outputs": [
    {
     "ename": "AssertionError",
     "evalue": "eggs and bacon should not be same",
     "output_type": "error",
     "traceback": [
      "\u001b[0;31m---------------------------------------------------------------------------\u001b[0m",
      "\u001b[0;31mAssertionError\u001b[0m                            Traceback (most recent call last)",
      "Cell \u001b[0;32mIn [20], line 1\u001b[0m\n\u001b[0;32m----> 1\u001b[0m \u001b[43massert_stat\u001b[49m\u001b[43m(\u001b[49m\u001b[38;5;124;43m\"\u001b[39;49m\u001b[38;5;124;43mgoodbye\u001b[39;49m\u001b[38;5;124;43m\"\u001b[39;49m\u001b[43m,\u001b[49m\u001b[38;5;124;43m\"\u001b[39;49m\u001b[38;5;124;43mGOODbye\u001b[39;49m\u001b[38;5;124;43m\"\u001b[39;49m\u001b[43m)\u001b[49m\n",
      "Cell \u001b[0;32mIn [13], line 4\u001b[0m, in \u001b[0;36massert_stat\u001b[0;34m(eggs, bacon)\u001b[0m\n\u001b[1;32m      2\u001b[0m e\u001b[38;5;241m=\u001b[39meggs\u001b[38;5;241m.\u001b[39mlower()\n\u001b[1;32m      3\u001b[0m b\u001b[38;5;241m=\u001b[39mbacon\u001b[38;5;241m.\u001b[39mlower()\n\u001b[0;32m----> 4\u001b[0m \u001b[38;5;28;01massert\u001b[39;00m e\u001b[38;5;241m!=\u001b[39mb,\u001b[38;5;124m\"\u001b[39m\u001b[38;5;124meggs and bacon should not be same\u001b[39m\u001b[38;5;124m\"\u001b[39m\n",
      "\u001b[0;31mAssertionError\u001b[0m: eggs and bacon should not be same"
     ]
    }
   ],
   "source": [
    "assert_stat(\"goodbye\",\"GOODbye\")"
   ]
  },
  {
   "cell_type": "markdown",
   "id": "70a4a023-49df-45c2-839f-622cb71b33ed",
   "metadata": {},
   "source": [
    "3. Create an assert statement that throws an AssertionError every time."
   ]
  },
  {
   "cell_type": "code",
   "execution_count": 19,
   "id": "edde0e08-9b4b-4cee-8353-8a82403bc5d4",
   "metadata": {},
   "outputs": [
    {
     "ename": "AssertionError",
     "evalue": "Assertion Error every time",
     "output_type": "error",
     "traceback": [
      "\u001b[0;31m---------------------------------------------------------------------------\u001b[0m",
      "\u001b[0;31mAssertionError\u001b[0m                            Traceback (most recent call last)",
      "Cell \u001b[0;32mIn [19], line 3\u001b[0m\n\u001b[1;32m      1\u001b[0m \u001b[38;5;28;01mdef\u001b[39;00m \u001b[38;5;21massert_everytime\u001b[39m():\n\u001b[1;32m      2\u001b[0m     \u001b[38;5;28;01massert\u001b[39;00m \u001b[38;5;28;01mFalse\u001b[39;00m,\u001b[38;5;124m\"\u001b[39m\u001b[38;5;124mAssertion Error every time\u001b[39m\u001b[38;5;124m\"\u001b[39m\n\u001b[0;32m----> 3\u001b[0m \u001b[43massert_everytime\u001b[49m\u001b[43m(\u001b[49m\u001b[43m)\u001b[49m\n",
      "Cell \u001b[0;32mIn [19], line 2\u001b[0m, in \u001b[0;36massert_everytime\u001b[0;34m()\u001b[0m\n\u001b[1;32m      1\u001b[0m \u001b[38;5;28;01mdef\u001b[39;00m \u001b[38;5;21massert_everytime\u001b[39m():\n\u001b[0;32m----> 2\u001b[0m     \u001b[38;5;28;01massert\u001b[39;00m \u001b[38;5;28;01mFalse\u001b[39;00m,\u001b[38;5;124m\"\u001b[39m\u001b[38;5;124mAssertion Error every time\u001b[39m\u001b[38;5;124m\"\u001b[39m\n",
      "\u001b[0;31mAssertionError\u001b[0m: Assertion Error every time"
     ]
    }
   ],
   "source": [
    "def assert_everytime():\n",
    "    assert False,\"Assertion Error every time\"\n",
    "assert_everytime()"
   ]
  },
  {
   "cell_type": "markdown",
   "id": "0448dd1f-4c9e-4ddf-b0f4-5673063a2cc4",
   "metadata": {},
   "source": [
    "4. What are the two lines that must be present in your software in order to call logging.debug()?"
   ]
  },
  {
   "cell_type": "code",
   "execution_count": null,
   "id": "4d4c3d33-e926-4807-8e3f-7154dfe49a5e",
   "metadata": {},
   "outputs": [],
   "source": [
    "import logging\n",
    "logging.basicConfig(filename = 'application_log.txt',level=logging.DEBUG, format=' %(asctime)s - %(levelname)s - %(message)s')"
   ]
  },
  {
   "cell_type": "markdown",
   "id": "374ca30b-bab6-4f24-a2a0-60d087c73e72",
   "metadata": {},
   "source": [
    "5. What are the two lines that your program must have in order to have logging.debug() send a\n",
    "logging message to a file named programLog.txt?"
   ]
  },
  {
   "cell_type": "code",
   "execution_count": 16,
   "id": "11f6820c-bdf6-40ea-bf81-03f23de3974b",
   "metadata": {},
   "outputs": [],
   "source": [
    "import logging\n",
    "logging.basicConfig(filename = 'application_log.txt',level=logging.DEBUG, format=' %(asctime)s - %(levelname)s - %(message)s')\n",
    "logging.debug(\"DATA INSERTED SUCCESSFULLY\")\n",
    "logging.debug(\"DATA CREATED SUCCESSFULLY\")\n",
    "file = open(\"./application_log.txt\",\"r\")\n",
    "for record in file.readlines():\n",
    "    print(record)"
   ]
  },
  {
   "cell_type": "markdown",
   "id": "a43d247d-1793-42e3-9469-19f4ff741729",
   "metadata": {},
   "source": [
    "6. What are the five levels of logging?"
   ]
  },
  {
   "cell_type": "markdown",
   "id": "b76d095e-0ab6-46a1-a676-2ea13d94ddd1",
   "metadata": {},
   "source": [
    "Ans : The Five levels provided by python's logging module are CRITICAL(50), ERROR(40), WARNING(30), INFO(20), DEBUG(10), NOTSET(0)"
   ]
  },
  {
   "cell_type": "markdown",
   "id": "99b52ec3-08bf-4160-8a58-16d2a3a73e39",
   "metadata": {},
   "source": [
    "7. What line of code would you add to your software to disable all logging messages?"
   ]
  },
  {
   "cell_type": "markdown",
   "id": "ff212c42-f58a-4563-bee3-8290847df1ca",
   "metadata": {},
   "source": [
    "Ans : To disable all logging messages ,we need to add logging.disable = True"
   ]
  },
  {
   "cell_type": "markdown",
   "id": "e5c3a578-d0d3-4447-81b7-a3c2c2b2a1a5",
   "metadata": {},
   "source": [
    "8.Why is using logging messages better than using print() to display the same message?"
   ]
  },
  {
   "cell_type": "markdown",
   "id": "f72f8315-3ba6-4e4f-9e4c-46f58818f404",
   "metadata": {},
   "source": [
    "Ans : Post devlopment of your code, you can disable logging messages without removing the logging function, whereas you need to manually remove print() statements, which is tedious activity. and also print is used when you want to display any particular message or help whereas logging is used to record all events like error, info, debug messages, timestamps."
   ]
  },
  {
   "cell_type": "markdown",
   "id": "21949916-5063-454f-967b-328fd32e66bd",
   "metadata": {},
   "source": [
    "9. What are the differences between the Step Over, Step In, and Step Out buttons in the debugger?"
   ]
  },
  {
   "cell_type": "markdown",
   "id": "06ba4705-1065-4a85-81b5-abd63abf6233",
   "metadata": {},
   "source": [
    "Ans : The Differences between Step Over, Step In, Step Out buttons in debugger are:\n",
    "\n",
    "1) Step in - Step In button will cause the debugger to execute the next line of code and then pause again.\n",
    "2) Step Over - Step Over button will execute the next line of code, similar to the Step In button. However, if the next line of code is a function call, the Step Over button will “step over” the code in the function. The function’s code will be executed at full speed, and the debugger will pause as soon as the function call returns.\n",
    "3) Step out - Step Out button will cause the debugger to execute lines of code at full speed until it returns from the current function."
   ]
  },
  {
   "cell_type": "markdown",
   "id": "d94fc6d1-27f5-4b34-96eb-680af4243f8c",
   "metadata": {},
   "source": [
    "10.After you click Continue, when will the debugger stop ?"
   ]
  },
  {
   "cell_type": "markdown",
   "id": "a29de672-adc9-4ad1-a0ce-0e90ec83a260",
   "metadata": {},
   "source": [
    "Ans :  After you clicking Continue,the program continue running normally, without pausing for debugging untill it terminates or reaches a breakpoint."
   ]
  },
  {
   "cell_type": "markdown",
   "id": "36b6509f-30b6-4ab6-ac75-e2bf92fd007e",
   "metadata": {},
   "source": [
    "11. What is the concept of a breakpoint?"
   ]
  },
  {
   "cell_type": "markdown",
   "id": "7676f934-4cdc-4c0c-893a-6bf91d76c3ec",
   "metadata": {},
   "source": [
    "Ans :  Breakpoint is a setting on a line of code that causes the debugger to pause when the program execution reaches the line."
   ]
  }
 ],
 "metadata": {
  "kernelspec": {
   "display_name": "Python 3 (ipykernel)",
   "language": "python",
   "name": "python3"
  },
  "language_info": {
   "codemirror_mode": {
    "name": "ipython",
    "version": 3
   },
   "file_extension": ".py",
   "mimetype": "text/x-python",
   "name": "python",
   "nbconvert_exporter": "python",
   "pygments_lexer": "ipython3",
   "version": "3.10.6"
  }
 },
 "nbformat": 4,
 "nbformat_minor": 5
}
