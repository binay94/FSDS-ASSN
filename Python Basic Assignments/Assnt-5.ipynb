{
 "cells": [
  {
   "cell_type": "markdown",
   "id": "664d548d-2e7e-4be2-b6a6-2f950d9323af",
   "metadata": {},
   "source": [
    "1. What does an empty dictionary's code look like?\n",
    "\n",
    "Ans: An empty dictionary's code look like {}"
   ]
  },
  {
   "cell_type": "markdown",
   "id": "385d737a-3f34-4d46-9c5b-4f7d6cde1ea4",
   "metadata": {},
   "source": [
    "2. What is the value of a dictionary value with the key 'foo' and the value 42?\n",
    "\n",
    "Ans: The value of a dictionary value with the key 'foo' and the value 42 is {'foo': 42}"
   ]
  },
  {
   "cell_type": "markdown",
   "id": "b58b6c75-bec4-4fca-950a-e5d27a943de7",
   "metadata": {},
   "source": [
    "3. What is the most significant distinction between a dictionary and a list?\n",
    "\n",
    "Ans:The items in a list are ordered items, while the items stored in a dictionary as key,value format are unordered"
   ]
  },
  {
   "cell_type": "markdown",
   "id": "87918e68-ca8a-4b54-a70a-2a574053a464",
   "metadata": {},
   "source": [
    "4. What happens if you try to access spam['foo'] if spam is {'bar': 100}?\n",
    "\n",
    "Ans:if you try to access spam['foo'] if spam is {'bar': 100} , we will get a KeyError:'foo' error"
   ]
  },
  {
   "cell_type": "markdown",
   "id": "5202a8f9-6392-4a04-8840-48134f1dec87",
   "metadata": {},
   "source": [
    "5. If a dictionary is stored in spam, what is the difference between the expressions 'cat' in spam and 'cat' in spam.keys()?\n",
    "\n",
    "Ans:\"There is no difference. Both the expressions checks whether a value exists as a key in the dictionary"
   ]
  },
  {
   "cell_type": "markdown",
   "id": "e61b9085-786f-46e8-bfdb-5bebf5ff5424",
   "metadata": {},
   "source": [
    "6. If a dictionary is stored in spam, what is the difference between the expressions 'cat' in spam and 'cat' in spam.values()?\n",
    "\n",
    "Ans:'cat' in spam checks whether there is a key named 'cat' or not but 'cat' in spam.values() checks whether      there is a value      named 'cat' for any one key of spam dictionary"
   ]
  },
  {
   "cell_type": "markdown",
   "id": "bec7d2da-9869-4c99-8716-24ce24fe541c",
   "metadata": {},
   "source": [
    "7. What is a shortcut for the following code?\n",
    "\n",
    "if 'color' not in spam:\n",
    "\n",
    "spam['color'] = 'black\n",
    "   \n",
    "Ans:spam.setdefault('color','black')"
   ]
  },
  {
   "cell_type": "markdown",
   "id": "55eb7322-3e30-4615-9e5d-394b95cc208a",
   "metadata": {},
   "source": [
    "8. How do you \"pretty print\" dictionary values using which module and function?\n",
    "\n",
    "Ans:by using pprint() function of pprint module"
   ]
  },
  {
   "cell_type": "code",
   "execution_count": null,
   "id": "65b02db3-9004-4acd-b6e8-dfde72acaa06",
   "metadata": {},
   "outputs": [],
   "source": []
  }
 ],
 "metadata": {
  "kernelspec": {
   "display_name": "Python 3 (ipykernel)",
   "language": "python",
   "name": "python3"
  },
  "language_info": {
   "codemirror_mode": {
    "name": "ipython",
    "version": 3
   },
   "file_extension": ".py",
   "mimetype": "text/x-python",
   "name": "python",
   "nbconvert_exporter": "python",
   "pygments_lexer": "ipython3",
   "version": "3.10.6"
  }
 },
 "nbformat": 4,
 "nbformat_minor": 5
}
