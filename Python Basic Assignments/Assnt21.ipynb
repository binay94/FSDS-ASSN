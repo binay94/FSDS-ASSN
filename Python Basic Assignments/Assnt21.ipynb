{
 "cells": [
  {
   "cell_type": "markdown",
   "id": "5f89643a-af02-47f5-b3b2-64b6c2b690fe",
   "metadata": {},
   "source": [
    "1. Add the current date to the text file today.txt as a string."
   ]
  },
  {
   "cell_type": "code",
   "execution_count": 20,
   "id": "6c61deeb-66b5-490f-b47c-72d4b06650ce",
   "metadata": {},
   "outputs": [
    {
     "name": "stdout",
     "output_type": "stream",
     "text": [
      "02-05-2023\n"
     ]
    }
   ],
   "source": [
    "import datetime\n",
    "# Code to Add current date to the today.txt file\n",
    "with open('today.txt','w') as fp:\n",
    "    fp.write(datetime.datetime.now().strftime(\"%d-%m-%Y\"))\n",
    "\n",
    "# Code to Read current date from today.txt file\n",
    "with open('today.txt','r') as fp:\n",
    "    print(fp.read())"
   ]
  },
  {
   "cell_type": "markdown",
   "id": "adcaee07-80be-4603-bcb3-5827a74e389c",
   "metadata": {},
   "source": [
    "2. Read the text file today.txt into the string today_string"
   ]
  },
  {
   "cell_type": "code",
   "execution_count": 21,
   "id": "2d750978-54b2-42cd-9553-c05c0f66c79b",
   "metadata": {},
   "outputs": [
    {
     "name": "stdout",
     "output_type": "stream",
     "text": [
      "02-05-2023\n"
     ]
    }
   ],
   "source": [
    "with open('today.txt','r') as fp:\n",
    "    today_string = fp.read()\n",
    "    print(today_string)"
   ]
  },
  {
   "cell_type": "markdown",
   "id": "55ac34b5-e1d5-499a-ade7-cce06352eca9",
   "metadata": {},
   "source": [
    "3. Parse the date from today_string."
   ]
  },
  {
   "cell_type": "code",
   "execution_count": 22,
   "id": "48a4f517-cd40-44cd-9d8f-4cd727a59ee0",
   "metadata": {},
   "outputs": [
    {
     "name": "stdout",
     "output_type": "stream",
     "text": [
      "2023-05-02 00:00:00\n"
     ]
    }
   ],
   "source": [
    "from datetime import datetime\n",
    "parsed_data = datetime.strptime(today_string, '%d-%m-%Y')\n",
    "print(parsed_data)"
   ]
  },
  {
   "cell_type": "markdown",
   "id": "7e9f04ec-76d7-4ac6-a322-bdce40ef16b7",
   "metadata": {},
   "source": [
    "4. List the files in your current directory"
   ]
  },
  {
   "cell_type": "code",
   "execution_count": 23,
   "id": "1ac3ee5c-fb8d-4804-a069-a862adb0c4c4",
   "metadata": {},
   "outputs": [
    {
     "name": "stdout",
     "output_type": "stream",
     "text": [
      "README.md\n",
      "Programming_Assignment3.ipynb\n",
      "Programming_Assignment4.ipynb\n",
      "Assnt-5.ipynb\n",
      "Programming Assignment_12.ipynb\n",
      "sample-code.ipynb\n",
      "Assnt12.ipynb\n",
      "Assnt-9.ipynb\n",
      "Assnt-6.ipynb\n",
      "Programming_Assignment5.ipynb\n",
      "Assnt22.ipynb\n",
      "Programming_Assignment_10.ipynb\n",
      "Programming_Assignment8.ipynb\n",
      "Assnt21.ipynb\n",
      "Programming_Assignment_9.ipynb\n",
      "Assnt-7.ipynb\n",
      "msi.jpg\n",
      "Assnt25.ipynb\n",
      "Assnt-3.ipynb\n",
      "05.assn5.ipynb\n",
      "university_records.csv\n",
      "Programming_Assignment6.ipynb\n",
      "04.assn4.ipynb\n",
      "01.assn1.ipynb\n",
      "new_msi.jpg\n",
      "03.assn3.ipynb\n",
      "Programming_Assignment 1.ipynb\n",
      "Assnt-8.ipynb\n",
      "Untitled1.ipynb\n",
      "Assnt14.ipynb\n",
      "Assnt10.ipynb\n",
      "Assnt23.ipynb\n",
      "Assnt-2.ipynb\n",
      "Assnt-4.ipynb\n",
      "Programming_Assignment_11.ipynb\n",
      "sample.pdf\n",
      "Assnt13.ipynb\n",
      "Assnt-1.ipynb\n",
      "02.assn2.ipynb\n",
      "Programming_Assignment2.ipynb\n",
      "today.txt\n",
      "Assnt11.ipynb\n",
      "application_log.txt\n",
      "Assnt24.ipynb\n",
      "Programming_Assignment7.ipynb\n",
      "packed-refs\n",
      "HEAD\n",
      "index\n",
      "config\n",
      "description\n",
      "HEAD\n",
      "main\n",
      "HEAD\n",
      "exclude\n",
      "pack-290036e657c294196be1b61a981e44da145e2135.pack\n",
      "pack-290036e657c294196be1b61a981e44da145e2135.idx\n",
      "pre-push.sample\n",
      "prepare-commit-msg.sample\n",
      "applypatch-msg.sample\n",
      "pre-applypatch.sample\n",
      "commit-msg.sample\n",
      "pre-rebase.sample\n",
      "pre-receive.sample\n",
      "update.sample\n",
      "fsmonitor-watchman.sample\n",
      "pre-merge-commit.sample\n",
      "pre-commit.sample\n",
      "push-to-checkout.sample\n",
      "post-update.sample\n",
      "main\n",
      "HEAD\n",
      "Assnt22-checkpoint.ipynb\n",
      "Assnt13-checkpoint.ipynb\n",
      "Assnt12-checkpoint.ipynb\n",
      "Programming_Assignment2-checkpoint.ipynb\n",
      "Assnt23-checkpoint.ipynb\n",
      "Programming Assignment_12-checkpoint.ipynb\n",
      "Programming_Assignment4-checkpoint.ipynb\n",
      "today-checkpoint.txt\n",
      "Assnt21-checkpoint.ipynb\n",
      "Programming_Assignment 1-checkpoint.ipynb\n",
      "Programming_Assignment3-checkpoint.ipynb\n",
      "Programming_Assignment7-checkpoint.ipynb\n",
      "04.assn4-checkpoint.ipynb\n",
      "Assnt25-checkpoint.ipynb\n",
      "Untitled1-checkpoint.ipynb\n",
      "Assnt24-checkpoint.ipynb\n",
      "Programming_Assignment_9-checkpoint.ipynb\n",
      "application_log-checkpoint.txt\n",
      "Assnt-3-checkpoint.ipynb\n",
      "Assnt-1-checkpoint.ipynb\n",
      "Assnt-9-checkpoint.ipynb\n",
      "05.assn5-checkpoint.ipynb\n",
      "Assnt-5-checkpoint.ipynb\n",
      "Programming_Assignment_10-checkpoint.ipynb\n",
      "Assnt-8-checkpoint.ipynb\n",
      "Programming_Assignment6-checkpoint.ipynb\n",
      "Assnt11-checkpoint.ipynb\n",
      "Programming_Assignment8-checkpoint.ipynb\n",
      "Assnt-4-checkpoint.ipynb\n",
      "Assnt-7-checkpoint.ipynb\n",
      "Assnt-6-checkpoint.ipynb\n",
      "Assnt14-checkpoint.ipynb\n",
      "01.assn1-checkpoint.ipynb\n",
      "sample-checkpoint.pdf\n",
      "Assnt-2-checkpoint.ipynb\n",
      "Programming_Assignment_11-checkpoint.ipynb\n",
      "Assnt10-checkpoint.ipynb\n",
      "03.assn3-checkpoint.ipynb\n",
      "02.assn2-checkpoint.ipynb\n",
      "Programming_Assignment5-checkpoint.ipynb\n"
     ]
    }
   ],
   "source": [
    "import os\n",
    "for folders, subfolders, files in os.walk(os.getcwd()):\n",
    "    for file in files:\n",
    "        print(file)"
   ]
  },
  {
   "cell_type": "markdown",
   "id": "89d33038-de4d-4a66-95ed-d6bf5dea6f28",
   "metadata": {},
   "source": [
    "5. Create a list of all of the files in your parent directory (minimum five files should be available)."
   ]
  },
  {
   "cell_type": "code",
   "execution_count": 24,
   "id": "769707dc-8087-4fa8-bb33-425ac319dc30",
   "metadata": {},
   "outputs": [
    {
     "data": {
      "text/plain": [
       "['README.md',\n",
       " 'Programming_Assignment3.ipynb',\n",
       " 'Programming_Assignment4.ipynb',\n",
       " 'Assnt-5.ipynb',\n",
       " 'Programming Assignment_12.ipynb',\n",
       " 'sample-code.ipynb',\n",
       " 'Assnt12.ipynb',\n",
       " 'Assnt-9.ipynb',\n",
       " 'Assnt-6.ipynb',\n",
       " 'Programming_Assignment5.ipynb',\n",
       " 'Assnt22.ipynb',\n",
       " 'Programming_Assignment_10.ipynb',\n",
       " 'Programming_Assignment8.ipynb',\n",
       " 'Assnt21.ipynb',\n",
       " 'Programming_Assignment_9.ipynb',\n",
       " 'Assnt-7.ipynb',\n",
       " 'msi.jpg',\n",
       " '.git',\n",
       " 'Assnt25.ipynb',\n",
       " 'Assnt-3.ipynb',\n",
       " '05.assn5.ipynb',\n",
       " 'university_records.csv',\n",
       " 'Programming_Assignment6.ipynb',\n",
       " '04.assn4.ipynb',\n",
       " '01.assn1.ipynb',\n",
       " 'new_msi.jpg',\n",
       " '03.assn3.ipynb',\n",
       " 'Programming_Assignment 1.ipynb',\n",
       " 'Assnt-8.ipynb',\n",
       " 'Untitled1.ipynb',\n",
       " 'Assnt14.ipynb',\n",
       " 'Assnt10.ipynb',\n",
       " 'Assnt23.ipynb',\n",
       " 'Assnt-2.ipynb',\n",
       " 'Assnt-4.ipynb',\n",
       " 'Programming_Assignment_11.ipynb',\n",
       " 'sample.pdf',\n",
       " 'Assnt13.ipynb',\n",
       " 'Assnt-1.ipynb',\n",
       " '.ipynb_checkpoints',\n",
       " '02.assn2.ipynb',\n",
       " 'Programming_Assignment2.ipynb',\n",
       " 'today.txt',\n",
       " 'Assnt11.ipynb',\n",
       " 'application_log.txt',\n",
       " 'Assnt24.ipynb',\n",
       " 'Programming_Assignment7.ipynb']"
      ]
     },
     "execution_count": 24,
     "metadata": {},
     "output_type": "execute_result"
    }
   ],
   "source": [
    "import os \n",
    "os.listdir()"
   ]
  },
  {
   "cell_type": "markdown",
   "id": "89c5eb12-4412-4c0b-94ae-20833e2ac65c",
   "metadata": {},
   "source": [
    "6. Use multiprocessing to create three separate processes. Make each one wait a random number of seconds between one and five, print the current time, and then exit."
   ]
  },
  {
   "cell_type": "code",
   "execution_count": 25,
   "id": "245b47bb-bb00-4a3d-9dd2-4adf74f0f3b5",
   "metadata": {},
   "outputs": [
    {
     "name": "stdout",
     "output_type": "stream",
     "text": [
      "Proc_one_Starttime -> 2023-05-02 07:03:38.075311\n",
      "Proc_two_Starttime -> 2023-05-02 07:03:38.080541\n",
      "Proc_two_Starttime -> 2023-05-02 07:03:38.086496\n",
      "Proc_one_Endtime -> 2023-05-02 07:03:39.080881\n",
      "Proc_two_Endtime -> 2023-05-02 07:03:39.088028\n",
      "Proc_two_Endtime -> 2023-05-02 07:03:40.091170\n"
     ]
    }
   ],
   "source": [
    "import multiprocessing\n",
    "import time \n",
    "import random\n",
    "import datetime\n",
    "\n",
    "def procOne():\n",
    "    print(f'Proc_one_Starttime -> {datetime.datetime.now()}')\n",
    "    time.sleep(random.randint(1,5))\n",
    "    print(f'Proc_one_Endtime -> {datetime.datetime.now()}')\n",
    "    \n",
    "def procTwo():\n",
    "    print(f'Proc_two_Starttime -> {datetime.datetime.now()}')\n",
    "    time.sleep(random.randint(1,5))\n",
    "    print(f'Proc_two_Endtime -> {datetime.datetime.now()}')\n",
    "\n",
    "def procThree():\n",
    "    print(f'Proc_two_Starttime -> {datetime.datetime.now()}')\n",
    "    time.sleep(random.randint(1,5))\n",
    "    print(f'Proc_two_Endtime -> {datetime.datetime.now()}')\n",
    "    \n",
    "if __name__ == \"__main__\":    \n",
    "    p1 = multiprocessing.Process(target=procOne)\n",
    "    p2 = multiprocessing.Process(target=procTwo)\n",
    "    p3 = multiprocessing.Process(target=procThree)\n",
    "\n",
    "    p1.start()\n",
    "    p2.start()\n",
    "    p3.start()\n",
    "\n",
    "    p1.join()\n",
    "    p2.join()\n",
    "    p3.join()"
   ]
  },
  {
   "cell_type": "markdown",
   "id": "720e6749-e79f-46c2-9851-8f62b4c232ac",
   "metadata": {},
   "source": [
    "7. Create a date object of your day of birth."
   ]
  },
  {
   "cell_type": "code",
   "execution_count": 26,
   "id": "7940fe35-e9a8-42c8-b5f8-952fbbd2c474",
   "metadata": {},
   "outputs": [
    {
     "name": "stdout",
     "output_type": "stream",
     "text": [
      "1994-12-30 00:00:00 <class 'datetime.datetime'>\n"
     ]
    }
   ],
   "source": [
    "from datetime import datetime\n",
    "my_dob = datetime.strptime('30/12/1994','%d/%m/%Y')\n",
    "print(my_dob, type(my_dob))"
   ]
  },
  {
   "cell_type": "markdown",
   "id": "751a6991-283b-40c1-aa39-3f6851d78e92",
   "metadata": {},
   "source": [
    "8. What day of the week was your day of birth?"
   ]
  },
  {
   "cell_type": "code",
   "execution_count": 27,
   "id": "58a59d92-c70a-4765-b832-b2915801c4d9",
   "metadata": {},
   "outputs": [
    {
     "data": {
      "text/plain": [
       "'Friday'"
      ]
     },
     "execution_count": 27,
     "metadata": {},
     "output_type": "execute_result"
    }
   ],
   "source": [
    "from datetime import datetime\n",
    "my_dob = datetime(1994,12,30)\n",
    "my_dob.strftime(\"%A\")"
   ]
  },
  {
   "cell_type": "markdown",
   "id": "c4a3792a-0d82-4e4b-b4f7-9edbe48829b0",
   "metadata": {},
   "source": [
    "9. When will you be (or when were you) 10,000 days old?"
   ]
  },
  {
   "cell_type": "code",
   "execution_count": 28,
   "id": "d3b99fb2-6700-4fd7-b379-11778771f659",
   "metadata": {},
   "outputs": [
    {
     "data": {
      "text/plain": [
       "datetime.datetime(2022, 5, 17, 0, 0)"
      ]
     },
     "execution_count": 28,
     "metadata": {},
     "output_type": "execute_result"
    }
   ],
   "source": [
    "from datetime import datetime, timedelta\n",
    "my_dob = datetime.strptime(\"30/12/1994\",'%d/%m/%Y')\n",
    "future_date = my_dob+timedelta(10000)\n",
    "future_date"
   ]
  }
 ],
 "metadata": {
  "kernelspec": {
   "display_name": "Python 3 (ipykernel)",
   "language": "python",
   "name": "python3"
  },
  "language_info": {
   "codemirror_mode": {
    "name": "ipython",
    "version": 3
   },
   "file_extension": ".py",
   "mimetype": "text/x-python",
   "name": "python",
   "nbconvert_exporter": "python",
   "pygments_lexer": "ipython3",
   "version": "3.10.6"
  }
 },
 "nbformat": 4,
 "nbformat_minor": 5
}
