{
 "cells": [
  {
   "cell_type": "markdown",
   "id": "4bf5fb6a-c32e-407e-917e-7bb1b62d98e5",
   "metadata": {},
   "source": [
    "1. What are escape characters, and how do you use them?\n",
    "\n",
    "Ans:Escape characters represent characters in string values that would otherwise be difficult or impossible to type into code.The escape character allows us to use double quotes when you normally would not be allowed."
   ]
  },
  {
   "cell_type": "markdown",
   "id": "433f914d-0d15-41c9-ba25-88258c290bfe",
   "metadata": {},
   "source": [
    "2. What do the escape characters n and t stand for?\n",
    "\n",
    "Ans:The escape characters n and t stand for newline and tab respectively. \\n is a newline and  \\t is a tab space"
   ]
  },
  {
   "cell_type": "markdown",
   "id": "6b5c509a-0215-4488-9c56-525e7efc027d",
   "metadata": {},
   "source": [
    "3. What is the way to include backslash characters in a string?\n",
    "\n",
    "Ans:The \\ escape character will represent a backslash character"
   ]
  },
  {
   "cell_type": "markdown",
   "id": "af9ab8e1-83ef-4915-967d-92dac05c096e",
   "metadata": {},
   "source": [
    "4. The string \"Howl's Moving Castle\" is a correct value. Why isn't the single quote character in the word Howl's not escaped a problem?\n",
    "\n",
    "Ans:The single quote in Howl's is'nt create any problem because we have used double quotes to mark the beginning and end of the string."
   ]
  },
  {
   "cell_type": "markdown",
   "id": "4406eb0a-c39b-4797-acd2-9ba8fab154fa",
   "metadata": {},
   "source": [
    "5. How do you write a string of newlines if you don't want to use the n character?\n",
    "\n",
    "Ans: Multiline strings(using triple single or double quote) allow us to use newlines in strings without the \\n escape character."
   ]
  },
  {
   "cell_type": "markdown",
   "id": "ee9cd23b-3d69-4b5d-9d1c-0a3abad1f412",
   "metadata": {},
   "source": [
    "6. What are the values of the given expressions?\n",
    "\n",
    "'Hello, world!'[1]   -------------->'e'\n",
    "\n",
    "'Hello, world!'[0:5] -------------->'Hello'\n",
    "\n",
    "'Hello, world!'[:5]  -------------->'Hello'\n",
    "\n",
    "'Hello, world!'[3:]  -------------->'lo, world!'"
   ]
  },
  {
   "cell_type": "code",
   "execution_count": 32,
   "id": "83c4336e-3447-4b7f-8731-599523bddf5d",
   "metadata": {},
   "outputs": [
    {
     "data": {
      "text/plain": [
       "'e'"
      ]
     },
     "execution_count": 32,
     "metadata": {},
     "output_type": "execute_result"
    }
   ],
   "source": [
    "'Hello, world!'[1]"
   ]
  },
  {
   "cell_type": "code",
   "execution_count": 33,
   "id": "e14c6c2b-9d9a-496a-b157-cde0befac8e0",
   "metadata": {},
   "outputs": [
    {
     "data": {
      "text/plain": [
       "'Hello'"
      ]
     },
     "execution_count": 33,
     "metadata": {},
     "output_type": "execute_result"
    }
   ],
   "source": [
    "'Hello, world!'[0:5]"
   ]
  },
  {
   "cell_type": "code",
   "execution_count": 34,
   "id": "c5deae69-ff4e-46c0-8724-617420254677",
   "metadata": {},
   "outputs": [
    {
     "data": {
      "text/plain": [
       "'Hello'"
      ]
     },
     "execution_count": 34,
     "metadata": {},
     "output_type": "execute_result"
    }
   ],
   "source": [
    "'Hello, world!'[:5]"
   ]
  },
  {
   "cell_type": "code",
   "execution_count": 35,
   "id": "470c3f96-a138-4f41-8bae-7ee7b9ae3777",
   "metadata": {},
   "outputs": [
    {
     "data": {
      "text/plain": [
       "'lo, world!'"
      ]
     },
     "execution_count": 35,
     "metadata": {},
     "output_type": "execute_result"
    }
   ],
   "source": [
    "'Hello, world!'[3:]"
   ]
  },
  {
   "cell_type": "markdown",
   "id": "0f8a8092-2769-4677-a7d1-f0ec8b892f5b",
   "metadata": {},
   "source": [
    "7. What are the values of the following expressions?\n",
    "\n",
    "'Hello'.upper()  ------------------->'HELLO'\n",
    "\n",
    "'Hello'.upper().isupper() ---------->True\n",
    "\n",
    "'Hello'.upper().lower() ------------>'hello'"
   ]
  },
  {
   "cell_type": "code",
   "execution_count": 36,
   "id": "6c1b9132-63ba-4339-be9b-700d14708dee",
   "metadata": {},
   "outputs": [
    {
     "data": {
      "text/plain": [
       "'HELLO'"
      ]
     },
     "execution_count": 36,
     "metadata": {},
     "output_type": "execute_result"
    }
   ],
   "source": [
    "'Hello'.upper()"
   ]
  },
  {
   "cell_type": "code",
   "execution_count": 37,
   "id": "dbe207b8-dd29-4938-aab9-cf5e55f3d3fc",
   "metadata": {},
   "outputs": [
    {
     "data": {
      "text/plain": [
       "True"
      ]
     },
     "execution_count": 37,
     "metadata": {},
     "output_type": "execute_result"
    }
   ],
   "source": [
    "'Hello'.upper().isupper()"
   ]
  },
  {
   "cell_type": "code",
   "execution_count": 38,
   "id": "3d5c8246-b408-4418-b983-65886138c639",
   "metadata": {},
   "outputs": [
    {
     "data": {
      "text/plain": [
       "'hello'"
      ]
     },
     "execution_count": 38,
     "metadata": {},
     "output_type": "execute_result"
    }
   ],
   "source": [
    "'Hello'.upper().lower()"
   ]
  },
  {
   "cell_type": "markdown",
   "id": "07275eb8-19c9-4da9-852e-58b7f6c5a40f",
   "metadata": {},
   "source": [
    "8. What are the values of the following expressions?\n",
    "\n",
    "'Remember, remember, the fifth of July.'.split() ------------->['Remember,', 'remember,', 'the', 'fifth', 'of', 'July.']\n",
    "\n",
    "'-'.join('There can only one.'.split()) ----------------------->'There-can-only-one.'"
   ]
  },
  {
   "cell_type": "code",
   "execution_count": 39,
   "id": "c85e5a8f-b76c-428c-b797-c919faf966ca",
   "metadata": {},
   "outputs": [
    {
     "data": {
      "text/plain": [
       "['Remember,', 'remember,', 'the', 'fifth', 'of', 'July.']"
      ]
     },
     "execution_count": 39,
     "metadata": {},
     "output_type": "execute_result"
    }
   ],
   "source": [
    "'Remember, remember, the fifth of July.'.split() "
   ]
  },
  {
   "cell_type": "code",
   "execution_count": 40,
   "id": "15634e98-fdb3-4418-8c0f-bb75f26a8fa9",
   "metadata": {},
   "outputs": [
    {
     "data": {
      "text/plain": [
       "'There-can-only-one.'"
      ]
     },
     "execution_count": 40,
     "metadata": {},
     "output_type": "execute_result"
    }
   ],
   "source": [
    "'-'.join('There can only one.'.split())"
   ]
  },
  {
   "cell_type": "markdown",
   "id": "039d082d-9982-4f8d-a7ba-c3c49ca07c35",
   "metadata": {},
   "source": [
    "9. What are the methods for right-justifying, left-justifying, and centering a string?\n",
    "\n",
    "Ans :rjust() ----> string  methods for right-justifying\n",
    "\n",
    "ljust() ----> string method for left-justifying\n",
    "\n",
    "center() ----> string method for centering "
   ]
  },
  {
   "cell_type": "code",
   "execution_count": 1,
   "id": "cbdc08f4-317c-403f-86a3-6cbcb901226a",
   "metadata": {},
   "outputs": [
    {
     "name": "stdout",
     "output_type": "stream",
     "text": [
      "s=assignment6 , length of s : 11\n",
      "assignment6*********\n",
      "*********assignment6\n",
      "****assignment6*****\n"
     ]
    }
   ],
   "source": [
    "s=\"assignment6\"\n",
    "print(f\"s={s} , length of s :\",len(s))\n",
    "print(s.ljust(20,\"*\"))\n",
    "print(s.rjust(20,\"*\"))\n",
    "print(s.center(20,\"*\"))"
   ]
  },
  {
   "cell_type": "markdown",
   "id": "94db6222-2696-4352-8b53-6114dab4d8f9",
   "metadata": {},
   "source": [
    "10. What is the best way to remove whitespace characters from the start or end?\n",
    "\n",
    "Ans: The lstrip() and rstrip() methods remove whitespace from the left and right ends of a string, respectively."
   ]
  },
  {
   "cell_type": "code",
   "execution_count": 30,
   "id": "cd3f5035-e6c4-4778-84f1-35bde26017bc",
   "metadata": {},
   "outputs": [
    {
     "name": "stdout",
     "output_type": "stream",
     "text": [
      "str=  string  \n",
      "length of s : 10\n",
      "string  \n",
      "  string\n",
      "string\n"
     ]
    }
   ],
   "source": [
    "str=\"  string  \"\n",
    "print(f\"str={str}\\nlength of s :\",len(str))\n",
    "print(str.lstrip())\n",
    "print(str.rstrip())\n",
    "print(str.strip())"
   ]
  }
 ],
 "metadata": {
  "kernelspec": {
   "display_name": "Python 3 (ipykernel)",
   "language": "python",
   "name": "python3"
  },
  "language_info": {
   "codemirror_mode": {
    "name": "ipython",
    "version": 3
   },
   "file_extension": ".py",
   "mimetype": "text/x-python",
   "name": "python",
   "nbconvert_exporter": "python",
   "pygments_lexer": "ipython3",
   "version": "3.10.6"
  }
 },
 "nbformat": 4,
 "nbformat_minor": 5
}
