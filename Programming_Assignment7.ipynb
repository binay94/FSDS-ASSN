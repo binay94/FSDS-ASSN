{
 "cells": [
  {
   "cell_type": "code",
   "execution_count": null,
   "id": "2a1d68c5-6903-4b56-a2b0-f335273e1295",
   "metadata": {},
   "outputs": [],
   "source": [
    "1. Write a Python Program to find sum of array?"
   ]
  },
  {
   "cell_type": "code",
   "execution_count": null,
   "id": "38cee527-eb24-4884-b3d6-07b6798fda8a",
   "metadata": {},
   "outputs": [],
   "source": [
    "def sum_array():\n",
    "    a=input(\"Enter the Array: \")\n",
    "    print(f'The sum of {a} is {sum(a)}')\n",
    "\n",
    "sum_array()"
   ]
  },
  {
   "cell_type": "code",
   "execution_count": null,
   "id": "4fc156f0-1dc5-493a-b7f6-6de8265ca047",
   "metadata": {},
   "outputs": [],
   "source": [
    "2. Write a Python Program to find largest element in an array?"
   ]
  },
  {
   "cell_type": "code",
   "execution_count": null,
   "id": "de75453f-0f88-4803-98c9-42d7439b3b8b",
   "metadata": {},
   "outputs": [],
   "source": [
    "def largestelement():\n",
    "    a=input(\"Enter the Array: \")\n",
    "    print(f\"The Largest Element in {a} is {sorted(a,reverse=True)[0]}\")\n",
    "largestelement()"
   ]
  },
  {
   "cell_type": "code",
   "execution_count": null,
   "id": "07a08fe3-1da7-4482-8e0d-8af6f1e71c2d",
   "metadata": {},
   "outputs": [],
   "source": [
    "3. Write a Python Program for array rotation?"
   ]
  },
  {
   "cell_type": "code",
   "execution_count": null,
   "id": "e5b0d3e6-1510-4cb0-9d97-1e0e4aeaea76",
   "metadata": {},
   "outputs": [],
   "source": [
    "def r_array():\n",
    "    a=input(\"Enter the Array: \")\n",
    "    print(f\"The Reverse of Array {a} is {a[::-1]}\")\n",
    "r_array()"
   ]
  },
  {
   "cell_type": "code",
   "execution_count": null,
   "id": "d6b51731-57b7-4fb3-b96a-62eae2948d96",
   "metadata": {},
   "outputs": [],
   "source": [
    "4. Write a Python Program to Split the array and add the first part to the end?"
   ]
  },
  {
   "cell_type": "code",
   "execution_count": null,
   "id": "1534ed7f-50f1-4db9-beb3-ecffae73479d",
   "metadata": {},
   "outputs": [],
   "source": [
    "def split_add():\n",
    "    a=eval(input(\"Enter the Array: \"))\n",
    "    p=int(input(\"enter the position :\"))\n",
    "    x=a[:p-1]\n",
    "    y=a[p-1:]\n",
    "    y.extend(x)\n",
    "    for i in y:\n",
    "        print(i,end=\" , \")\n",
    "split_add()"
   ]
  },
  {
   "cell_type": "code",
   "execution_count": null,
   "id": "199c4286-89d0-4cba-8533-9214782c80a2",
   "metadata": {},
   "outputs": [],
   "source": [
    "5. Write a Python Program to check if given array is Monotonic?"
   ]
  },
  {
   "cell_type": "code",
   "execution_count": null,
   "id": "e5dfdeaf-e529-4f16-8f86-ad91ddb1dba3",
   "metadata": {},
   "outputs": [],
   "source": [
    "def monotonic():\n",
    "    a=eval(input(\"Enter the Array: \"))\n",
    "    x,y=[],[]\n",
    "    x.extend(a)\n",
    "    y.extend(a)\n",
    "    x.sort()\n",
    "    y.sort(reverse=True)\n",
    "    if(x==a or y==a):\n",
    "        print(f\"{a} is monotonic\")\n",
    "    else:\n",
    "        print(f\"{a} is not monotonic\")\n",
    "monotonic()    "
   ]
  }
 ],
 "metadata": {
  "kernelspec": {
   "display_name": "Python 3 (ipykernel)",
   "language": "python",
   "name": "python3"
  },
  "language_info": {
   "codemirror_mode": {
    "name": "ipython",
    "version": 3
   },
   "file_extension": ".py",
   "mimetype": "text/x-python",
   "name": "python",
   "nbconvert_exporter": "python",
   "pygments_lexer": "ipython3",
   "version": "3.10.6"
  }
 },
 "nbformat": 4,
 "nbformat_minor": 5
}
