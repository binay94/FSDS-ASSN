{
 "cells": [
  {
   "cell_type": "markdown",
   "id": "65326173-2e14-4f37-8d2b-5069a0f7eabb",
   "metadata": {},
   "source": [
    "1. Write a Python Program to Find the Factorial of a Number?"
   ]
  },
  {
   "cell_type": "code",
   "execution_count": 3,
   "id": "a4d3f74c",
   "metadata": {},
   "outputs": [
    {
     "name": "stdin",
     "output_type": "stream",
     "text": [
      "Enter a Number:  5\n"
     ]
    },
    {
     "name": "stdout",
     "output_type": "stream",
     "text": [
      "Factorial of 5 : 120\n"
     ]
    }
   ],
   "source": [
    "a=int(input(\"Enter a Number: \"))\n",
    "if a<=0:\n",
    "    print(\"Invalid Input\")\n",
    "else:\n",
    "    f=1\n",
    "    for i in range(1,a+1):\n",
    "        f=f*i\n",
    "    print(\"Factorial of {} : {}\".format(a,f))        "
   ]
  },
  {
   "cell_type": "markdown",
   "id": "c491d6b7-2cc4-42ed-9490-fba551667a47",
   "metadata": {},
   "source": [
    "2. Write a Python Program to Display the multiplication Table?"
   ]
  },
  {
   "cell_type": "code",
   "execution_count": 4,
   "id": "91d4f7fa",
   "metadata": {},
   "outputs": [
    {
     "name": "stdin",
     "output_type": "stream",
     "text": [
      "Enter a Number:  5\n"
     ]
    },
    {
     "name": "stdout",
     "output_type": "stream",
     "text": [
      "5 * 1 = 5\n",
      "5 * 2 = 10\n",
      "5 * 3 = 15\n",
      "5 * 4 = 20\n",
      "5 * 5 = 25\n",
      "5 * 6 = 30\n",
      "5 * 7 = 35\n",
      "5 * 8 = 40\n",
      "5 * 9 = 45\n",
      "5 * 10 = 50\n"
     ]
    }
   ],
   "source": [
    "a=int(input(\"Enter a Number: \"))\n",
    "if a<=0:\n",
    "    print(\"Invalid Input\")\n",
    "else:\n",
    "    for j in range(1,11):\n",
    "        print(f\"{a} * {j} = {a*j}\")    \n",
    "        \n",
    "    "
   ]
  },
  {
   "cell_type": "markdown",
   "id": "c205f134-cfdb-421c-9a8e-5617f802400a",
   "metadata": {},
   "source": [
    "3. Write a Python Program to Print the Fibonacci sequence?"
   ]
  },
  {
   "cell_type": "code",
   "execution_count": 5,
   "id": "d7f27cab-3c0d-4918-b99a-7214bcbe0678",
   "metadata": {},
   "outputs": [
    {
     "name": "stdin",
     "output_type": "stream",
     "text": [
      "how many numbers of fibonacci series you want : 5\n"
     ]
    },
    {
     "name": "stdout",
     "output_type": "stream",
     "text": [
      "0 1 1 2 3 "
     ]
    }
   ],
   "source": [
    "n=int(input(\"how many numbers of fibonacci series you want :\"))\n",
    "n1=0\n",
    "n2=1\n",
    "sum=0\n",
    "if n<=0:\n",
    "    print(f\"{n} is not a valid input\")\n",
    "else:\n",
    "    for i in range(0,n):\n",
    "        print(sum,end=\" \")\n",
    "        n1=n2\n",
    "        n2=sum\n",
    "        sum=n1+n2\n",
    "        "
   ]
  },
  {
   "cell_type": "markdown",
   "id": "74ce44d4-8c3d-4947-8b42-1e294e5365bf",
   "metadata": {},
   "source": [
    "4. Write a Python Program to Check Armstrong Number?"
   ]
  },
  {
   "cell_type": "code",
   "execution_count": 2,
   "id": "b360af90",
   "metadata": {},
   "outputs": [
    {
     "name": "stdin",
     "output_type": "stream",
     "text": [
      "Enter a number:  407\n"
     ]
    },
    {
     "name": "stdout",
     "output_type": "stream",
     "text": [
      "407 is an Armstrong Number\n"
     ]
    }
   ],
   "source": [
    "n=int(input(\"Enter a number: \"))\n",
    "m=str(n)\n",
    "if n<=0:\n",
    "    print(\"Invalid input\")\n",
    "else:\n",
    "    sum=0\n",
    "    for i in range(len(m)):\n",
    "        sum+=int(m[i])**len(m)\n",
    "    if sum==n:\n",
    "        print(f\"{n} is an Armstrong Number\")\n",
    "    else:\n",
    "        print(f\"{n} is not an Armstrong Number\")        \n",
    "        "
   ]
  },
  {
   "cell_type": "markdown",
   "id": "1b6993f6-b6c2-45a4-98d1-7b34bd9dcc7f",
   "metadata": {},
   "source": [
    "5. Write a Python Program to Find Armstrong Numbers in an Interval?"
   ]
  },
  {
   "cell_type": "code",
   "execution_count": 31,
   "id": "f37aac15",
   "metadata": {},
   "outputs": [
    {
     "name": "stdin",
     "output_type": "stream",
     "text": [
      "Enter initial limit :  9\n",
      "Enter ending limit :  1000\n"
     ]
    },
    {
     "name": "stdout",
     "output_type": "stream",
     "text": [
      "Armstrong Numbers in an Interval of 9 to 1000 : [9, 153, 370, 371, 407]\n"
     ]
    }
   ],
   "source": [
    "m=int(input(\"Enter initial limit : \"))\n",
    "n=int(input(\"Enter ending limit : \"))\n",
    "lst=[]\n",
    "if n<=0:\n",
    "    print(\"Invalid input\")\n",
    "else:\n",
    "    for i in range(m,n+1):\n",
    "        d=len(str(i)) \n",
    "        sum=0\n",
    "        temp=i\n",
    "        while temp>0:\n",
    "            a=temp%10\n",
    "            sum=sum+a**d\n",
    "            temp//=10\n",
    "        if sum==i:\n",
    "            lst.append(i)\n",
    "    print(f\"Armstrong Numbers in an Interval of {m} to {n} : {lst}\")\n",
    "        \n",
    "    "
   ]
  },
  {
   "cell_type": "code",
   "execution_count": 34,
   "id": "7a0d7397-2407-4c11-85c3-b4068dc4272a",
   "metadata": {},
   "outputs": [
    {
     "name": "stdin",
     "output_type": "stream",
     "text": [
      "Enter initial limit :  100\n",
      "Enter ending limit :  1000\n"
     ]
    },
    {
     "name": "stdout",
     "output_type": "stream",
     "text": [
      "Armstrong Numbers in an Interval of 100 to 1000 : [153, 370, 370, 371, 407]\n"
     ]
    }
   ],
   "source": [
    "#program for armstrong number in an interval\n",
    "m=int(input(\"Enter initial limit : \"))\n",
    "n=int(input(\"Enter ending limit : \"))\n",
    "o=str(m)\n",
    "p=str(n)\n",
    "lst=[]\n",
    "for i in range(m,n+1):\n",
    "    sum=0\n",
    "    for j in range(len(str(i))):\n",
    "        sum+=int(str(i)[j])**len(str(i))\n",
    "        if sum==i:\n",
    "            lst.append(i)\n",
    "print(f\"Armstrong Numbers in an Interval of {m} to {n} : {lst}\")\n",
    "        "
   ]
  },
  {
   "cell_type": "markdown",
   "id": "90bff1f3-9e2e-4ec5-b447-1b7707380eca",
   "metadata": {},
   "source": [
    "6. Write a Python Program to Find the Sum of Natural Numbers?"
   ]
  },
  {
   "cell_type": "code",
   "execution_count": 53,
   "id": "84cb463e",
   "metadata": {},
   "outputs": [
    {
     "name": "stdout",
     "output_type": "stream",
     "text": [
      "Enter a Number: 5\n",
      "Sum of 5 Natural Numbers is : 15\n"
     ]
    }
   ],
   "source": [
    "a=int(input(\"Enter a Number: \"))\n",
    "if a<=0:\n",
    "    print(\"{} is not a Natural Number\".format(a))\n",
    "else:\n",
    "    s=0\n",
    "    for i in range(1,a+1):\n",
    "        s=s+i\n",
    "    print(\"Sum of {} Natural Numbers is : {}\".format(a,s))"
   ]
  }
 ],
 "metadata": {
  "kernelspec": {
   "display_name": "Python 3 (ipykernel)",
   "language": "python",
   "name": "python3"
  },
  "language_info": {
   "codemirror_mode": {
    "name": "ipython",
    "version": 3
   },
   "file_extension": ".py",
   "mimetype": "text/x-python",
   "name": "python",
   "nbconvert_exporter": "python",
   "pygments_lexer": "ipython3",
   "version": "3.10.6"
  }
 },
 "nbformat": 4,
 "nbformat_minor": 5
}
