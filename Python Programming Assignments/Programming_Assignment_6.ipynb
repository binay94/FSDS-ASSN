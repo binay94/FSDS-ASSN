{
 "cells": [
  {
   "cell_type": "markdown",
   "id": "3119608f-dcce-41a3-99f6-90de13521c0f",
   "metadata": {},
   "source": [
    "1. Write a Python Program to Display Fibonacci Sequence Using Recursion?"
   ]
  },
  {
   "cell_type": "code",
   "execution_count": 3,
   "id": "ebdfebd5-c1ae-48c9-bae0-a8044156eec9",
   "metadata": {},
   "outputs": [
    {
     "name": "stdin",
     "output_type": "stream",
     "text": [
      "enter a number : 6\n"
     ]
    },
    {
     "name": "stdout",
     "output_type": "stream",
     "text": [
      "6 fibonacci number is : 5\n"
     ]
    }
   ],
   "source": [
    "def fibonacci(n):\n",
    "    if n<=0:\n",
    "        return \"invalid input\"\n",
    "    elif n==1:\n",
    "        return 0\n",
    "    elif n==2:\n",
    "        return 1\n",
    "    else:\n",
    "        return fibonacci(n-1)+fibonacci(n-2)\n",
    "num=int(input(\"enter a number :\"))\n",
    "res=fibonacci(num)\n",
    "print(f\"{num} fibonacci number is : {res}\")\n"
   ]
  },
  {
   "cell_type": "markdown",
   "id": "23b3e775-dbbf-4791-b6c1-00859ef783d1",
   "metadata": {},
   "source": [
    "2. Write a Python Program to Find Factorial of Number Using Recursion?"
   ]
  },
  {
   "cell_type": "code",
   "execution_count": 18,
   "id": "781df780-6ae3-4cea-af0f-cd609386b24c",
   "metadata": {},
   "outputs": [
    {
     "name": "stdin",
     "output_type": "stream",
     "text": [
      "enter a number : 4\n"
     ]
    },
    {
     "name": "stdout",
     "output_type": "stream",
     "text": [
      "factorial of 4 is 24\n"
     ]
    }
   ],
   "source": [
    "def fact(n):\n",
    "    if n<=0:\n",
    "        print(\"invalid input\")\n",
    "    elif n==0 or n==1:\n",
    "        return 1\n",
    "    else:\n",
    "        return n*fact(n-1)\n",
    "num=int(input(\"enter a number :\"))\n",
    "res=fact(num)\n",
    "print(f\"factorial of {num} is {res}\")\n"
   ]
  },
  {
   "cell_type": "markdown",
   "id": "8174caa4-fa1c-4b53-9343-11e49f6c0a7c",
   "metadata": {},
   "source": [
    "3. Write a Python Program to calculate your Body Mass Index?"
   ]
  },
  {
   "cell_type": "code",
   "execution_count": 17,
   "id": "6e413b12-95c8-425f-810e-a80d62cedc78",
   "metadata": {},
   "outputs": [
    {
     "name": "stdin",
     "output_type": "stream",
     "text": [
      "enter your body weight (in kgs): 65\n",
      "enter your body height (in mts): 1.8\n"
     ]
    },
    {
     "name": "stdout",
     "output_type": "stream",
     "text": [
      "Your Body Mass Index is 20.062 and status is Healthy\n"
     ]
    }
   ],
   "source": [
    "def BMI():\n",
    "    wt=float(input(\"enter your body weight (in kgs):\"))\n",
    "    ht=float(input(\"enter your body height (in mts):\"))               \n",
    "    bmi=wt/(ht**2)  \n",
    "    if(bmi<18.5):\n",
    "        res=\"UnderWeight\"\n",
    "    elif(18.5<=bmi<24.9):\n",
    "        res=\"Healthy\"\n",
    "    elif(24.9<=bmi<30):\n",
    "        res=\"OverWeight\"\n",
    "    else:\n",
    "        res=\"Obesity\"\n",
    "    print(f\"Your Body Mass Index is %0.3f and status is {res}\"%bmi)\n",
    "BMI()"
   ]
  },
  {
   "cell_type": "markdown",
   "id": "640df6e2-d63b-4884-9f7e-7993b01ef347",
   "metadata": {},
   "source": [
    "4. Write a Python Program to calculate the natural logarithm of any number?"
   ]
  },
  {
   "cell_type": "code",
   "execution_count": 16,
   "id": "5aee291d-e68f-4ab1-8478-90ab7c0f3683",
   "metadata": {},
   "outputs": [
    {
     "name": "stdin",
     "output_type": "stream",
     "text": [
      "enter a number : 32\n"
     ]
    },
    {
     "name": "stdout",
     "output_type": "stream",
     "text": [
      "Natural logarithm of 32 is 3.466\n"
     ]
    }
   ],
   "source": [
    "def logarithm():    \n",
    "    import math\n",
    "    n=int(input(\"enter a number :\"))\n",
    "    ln=math.log(n)\n",
    "    print(f\"Natural logarithm of {n} is %0.3f\"%ln)\n",
    "logarithm()"
   ]
  },
  {
   "cell_type": "markdown",
   "id": "365099c1-01fe-465b-965b-98e69f51666f",
   "metadata": {},
   "source": [
    "5. Write a Python Program for cube sum of first n natural numbers?"
   ]
  },
  {
   "cell_type": "code",
   "execution_count": 19,
   "id": "11ae6f1e-f9e9-49ce-9adb-605bb85ff870",
   "metadata": {},
   "outputs": [
    {
     "name": "stdin",
     "output_type": "stream",
     "text": [
      "enter the number of natural numbers: 4\n"
     ]
    },
    {
     "name": "stdout",
     "output_type": "stream",
     "text": [
      "cube sum of first 4 natural numbers: 100.0\n"
     ]
    }
   ],
   "source": [
    "def cube_sum():\n",
    "    n=int(input(\"enter the number of natural numbers:\"))\n",
    "    sum=((n*(n+1))/2)**2\n",
    "    print(\"cube sum of first {} natural numbers: {}\".format(n,sum))\n",
    "cube_sum()"
   ]
  }
 ],
 "metadata": {
  "kernelspec": {
   "display_name": "Python 3 (ipykernel)",
   "language": "python",
   "name": "python3"
  },
  "language_info": {
   "codemirror_mode": {
    "name": "ipython",
    "version": 3
   },
   "file_extension": ".py",
   "mimetype": "text/x-python",
   "name": "python",
   "nbconvert_exporter": "python",
   "pygments_lexer": "ipython3",
   "version": "3.10.6"
  }
 },
 "nbformat": 4,
 "nbformat_minor": 5
}
