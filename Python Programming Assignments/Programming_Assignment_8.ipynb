{
 "cells": [
  {
   "cell_type": "markdown",
   "id": "46e3fbd7-09c8-4804-96b3-f5917bd839d4",
   "metadata": {},
   "source": [
    "1. Write a Python Program to Add Two Matrices?"
   ]
  },
  {
   "cell_type": "code",
   "execution_count": 1,
   "id": "baa0901b-d83d-4ab8-8753-c1356ed9986f",
   "metadata": {},
   "outputs": [
    {
     "name": "stdout",
     "output_type": "stream",
     "text": [
      "[[10, 10, 10], [10, 10, 10], [10, 10, 10]]\n"
     ]
    }
   ],
   "source": [
    "def madd(a,b):\n",
    "    if len(a)==len(b):\n",
    "        res=[]\n",
    "        for i in range(len(a)):\n",
    "            if len(a[i])==len(b[i]):\n",
    "                res.append([])\n",
    "                for  j in range(len(a[i])):\n",
    "                    res[i].append(a[i][j]+b[i][j])\n",
    "            else:\n",
    "                print(\"both matrices must contain same no of row and columns\")\n",
    "    else:\n",
    "        print(\"Both matrices must contain same no of row and columns\")\n",
    "    print(res)\n",
    "madd([[1,2,3],[4,5,6],[7,8,9]],[[9,8,7],[6,5,4],[3,2,1]])"
   ]
  },
  {
   "cell_type": "markdown",
   "id": "bd7547a2-bc81-452d-ad3b-8faaa61f3df8",
   "metadata": {},
   "source": [
    "2. Write a Python Program to Multiply Two Matrices?"
   ]
  },
  {
   "cell_type": "code",
   "execution_count": 2,
   "id": "c77a5b96-ff32-4088-8a62-ede05c5a9ca4",
   "metadata": {},
   "outputs": [
    {
     "name": "stdout",
     "output_type": "stream",
     "text": [
      "[[5, 14, 23], [14, 41, 68]]\n"
     ]
    }
   ],
   "source": [
    "def mul(a,b):\n",
    "    o=[]\n",
    "    if len(a[0])==len(b):\n",
    "        for i in range(len(a[0])):\n",
    "            o.append([0 for i in range(len(b[0]))])\n",
    "        for i in range(len(a)):\n",
    "            for j in range(len(b[0])):\n",
    "                for k in range(len(b)):\n",
    "                    o[i][j]+=a[i][k]*b[k][j]\n",
    "        print(o)\n",
    "    else:\n",
    "        print(\"Multiplication can't be done\")\n",
    "mul([[1,2],[4,5]],[[1,4,7],[2,5,8]])"
   ]
  },
  {
   "cell_type": "markdown",
   "id": "9fc20050-2a12-477d-8ef2-45277d5755bf",
   "metadata": {},
   "source": [
    "3. Write a Python Program to Transpose a Matrix?"
   ]
  },
  {
   "cell_type": "code",
   "execution_count": 3,
   "id": "39066686-598c-4c1e-a421-e83b2da55c3b",
   "metadata": {},
   "outputs": [
    {
     "name": "stdout",
     "output_type": "stream",
     "text": [
      "transpose ([[1, 2], [4, 5]]) : [[1, 4], [2, 5]]\n"
     ]
    }
   ],
   "source": [
    "def transpose(a):\n",
    "    o=[]\n",
    "    for i in range(len(a[0])):\n",
    "        o.append([0 for i in range(len(a))])\n",
    "    for i in range(len(a)):\n",
    "        for j in range(len(a[i])):\n",
    "            o[j][i]=a[i][j]\n",
    "    print(f\"transpose ({a}) : {o}\")\n",
    "transpose([[1,2],[4,5]])"
   ]
  },
  {
   "cell_type": "markdown",
   "id": "34ff3008-7624-437c-9d69-3aab414834d3",
   "metadata": {},
   "source": [
    "4. Write a Python Program to Sort Words in Alphabetic Order?"
   ]
  },
  {
   "cell_type": "code",
   "execution_count": 6,
   "id": "824a8d22-be0b-4a53-a203-2dcae3551d46",
   "metadata": {
    "tags": []
   },
   "outputs": [
    {
     "name": "stdin",
     "output_type": "stream",
     "text": [
      "enter your string:  mr binaya kumar pradhan\n"
     ]
    },
    {
     "name": "stdout",
     "output_type": "stream",
     "text": [
      "Binaya Kumar Mr Pradhan\n"
     ]
    }
   ],
   "source": [
    "def sort():\n",
    "    s=input(\"enter your string: \").title()\n",
    "    sl=sorted(s.split(' '))\n",
    "    print(\" \".join(sl))\n",
    "sort()"
   ]
  },
  {
   "cell_type": "markdown",
   "id": "0d1cd4f5-8172-444b-b727-c8378ca3246b",
   "metadata": {},
   "source": [
    "5. Write a Python Program to Remove Punctuation From a String?"
   ]
  },
  {
   "cell_type": "code",
   "execution_count": 7,
   "id": "220fdea3-4d07-4f6d-95a9-b2a80e5e2eb5",
   "metadata": {},
   "outputs": [
    {
     "name": "stdin",
     "output_type": "stream",
     "text": [
      "Enter a String:  bk';[p.,_\n"
     ]
    },
    {
     "name": "stdout",
     "output_type": "stream",
     "text": [
      "bkp\n"
     ]
    }
   ],
   "source": [
    "def rpun():\n",
    "    punctuation='''!()-[]{};:'\"\\,<>./?@#$%^&*_~'''\n",
    "    str=input(\"Enter a String: \")\n",
    "    res=\"\"\n",
    "    for i in str:\n",
    "        if i not in punctuation:\n",
    "            res+=i\n",
    "    print(res)  \n",
    "rpun()"
   ]
  }
 ],
 "metadata": {
  "kernelspec": {
   "display_name": "Python 3 (ipykernel)",
   "language": "python",
   "name": "python3"
  },
  "language_info": {
   "codemirror_mode": {
    "name": "ipython",
    "version": 3
   },
   "file_extension": ".py",
   "mimetype": "text/x-python",
   "name": "python",
   "nbconvert_exporter": "python",
   "pygments_lexer": "ipython3",
   "version": "3.10.6"
  }
 },
 "nbformat": 4,
 "nbformat_minor": 5
}
