{
 "cells": [
  {
   "cell_type": "code",
   "execution_count": null,
   "id": "2800a3d1",
   "metadata": {},
   "outputs": [],
   "source": [
    "1.Create a function that takes a string and returns a string in which each character is repeated once.\n",
    "Examples:\n",
    "double_char(\"String\") ➞ \"SSttrriinngg\"\n",
    "double_char(\"Hello World!\") ➞ \"HHeelllloo WWoorrlldd!!\"\n",
    "doublechar(\"1234!_\") ➞ \"11223344!!__\""
   ]
  },
  {
   "cell_type": "code",
   "execution_count": 1,
   "id": "3338ff15",
   "metadata": {},
   "outputs": [
    {
     "name": "stdout",
     "output_type": "stream",
     "text": [
      "Enter a String: String\n",
      "Entered String: String, Output ➞ SSttrriinngg\n"
     ]
    }
   ],
   "source": [
    "def double_characters(string):\n",
    "    new_string = \"\"\n",
    "    for char in string:\n",
    "        new_string += char * 2\n",
    "    return new_string\n",
    "string=input(\"Enter a String: \")\n",
    "print(f\"Entered String: {string}, Output ➞ {double_characters(string)}\")"
   ]
  },
  {
   "cell_type": "code",
   "execution_count": null,
   "id": "504517e5",
   "metadata": {},
   "outputs": [],
   "source": [
    "2.Create a function that reverses a boolean value and returns the string \"boolean expected\" if another variable type is given.\n",
    "Examples:\n",
    "reverse(True) ➞ False\n",
    "reverse(False) ➞ True\n",
    "reverse(0) ➞ \"boolean expected\"\n",
    "reverse(None) ➞ \"boolean expected\""
   ]
  },
  {
   "cell_type": "code",
   "execution_count": 2,
   "id": "7efbd3c9",
   "metadata": {},
   "outputs": [
    {
     "name": "stdout",
     "output_type": "stream",
     "text": [
      "Enter a Value :True\n",
      "Output ➞ False\n"
     ]
    }
   ],
   "source": [
    "def reverse_boolean(value):\n",
    "    if isinstance(value, bool):\n",
    "        return not value\n",
    "    else:\n",
    "        return \"boolean expected\"\n",
    "value= eval(input(\"Enter a Value :\"))\n",
    "print(f\"Output ➞ {reverse_boolean(value)}\")"
   ]
  },
  {
   "cell_type": "code",
   "execution_count": null,
   "id": "162ce493",
   "metadata": {},
   "outputs": [],
   "source": [
    "3. Create a function that returns the thickness (in meters) of a piece of paper after folding it n number of times. \n",
    "The paper starts off with a thickness of 0.5mm.\n",
    "Examples:\n",
    "num_layers(1) ➞ \"0.001m\" \n",
    "# Paper folded once is 1mm (equal to 0.001m) num_layers(4) ➞ \"0.008m\" \n",
    "# Paper folded 4 times is 8mm (equal to 0.008m) num_layers(21) ➞ \"1048.576m\" \n",
    "# Paper folded 21 times is 1048576mm (equal to 1048.576m)"
   ]
  },
  {
   "cell_type": "code",
   "execution_count": 3,
   "id": "1c3323a9",
   "metadata": {},
   "outputs": [
    {
     "name": "stdout",
     "output_type": "stream",
     "text": [
      "Enter no of folds: 21\n"
     ]
    },
    {
     "data": {
      "text/plain": [
       "'Thickness = 1048.576 meters'"
      ]
     },
     "execution_count": 3,
     "metadata": {},
     "output_type": "execute_result"
    }
   ],
   "source": [
    "def paper_thickness(n):\n",
    "    thickness = 0.0005  \n",
    "    for i in range(n):\n",
    "        thickness *= 2\n",
    "    return f\"Thickness = {round(thickness,3)} meters\"\n",
    "n=int(input(\"Enter no of folds: \"))\n",
    "paper_thickness(n)"
   ]
  },
  {
   "cell_type": "code",
   "execution_count": null,
   "id": "fc852a2a",
   "metadata": {},
   "outputs": [],
   "source": [
    "4.Create a function that takes a single string as argument and returns an ordered list containing the indices of all capital \n",
    "letters in the string.\n",
    "Examples:\n",
    "index_of_caps(\"eDaBiT\") ➞ [1, 3, 5]\n",
    "index_of_caps(\"eQuINoX\") ➞ [1, 3, 4, 6]\n",
    "index_of_caps(\"determine\") ➞ []\n",
    "index_of_caps(\"STRIKE\") ➞ [0, 1, 2, 3, 4, 5]\n",
    "index_of_caps(\"sUn\") ➞ [1]"
   ]
  },
  {
   "cell_type": "code",
   "execution_count": 4,
   "id": "de3c4f2b",
   "metadata": {},
   "outputs": [
    {
     "name": "stdout",
     "output_type": "stream",
     "text": [
      "Enter a String: eQuINoX\n",
      "Indices of all capital letters in the string eQuINoX ➞ [1, 3, 4, 6]\n"
     ]
    }
   ],
   "source": [
    "def find_capital_indices(s):\n",
    "    return [i for i in range(len(s)) if s[i].isupper()]\n",
    "s=input(\"Enter a String: \")\n",
    "print(f\"Indices of all capital letters in the string {s} ➞ {find_capital_indices(s)}\")"
   ]
  },
  {
   "cell_type": "code",
   "execution_count": null,
   "id": "be9c3e34",
   "metadata": {},
   "outputs": [],
   "source": [
    "5.Using list comprehensions, create a function that finds all even numbers from 1 to the given number.\n",
    "Examples:\n",
    "find_even_nums(8) ➞ [2, 4, 6, 8]\n",
    "find_even_nums(4) ➞ [2, 4]\n",
    "find_even_nums(2) ➞ [2]"
   ]
  },
  {
   "cell_type": "code",
   "execution_count": 5,
   "id": "7ba1b94f",
   "metadata": {},
   "outputs": [
    {
     "name": "stdout",
     "output_type": "stream",
     "text": [
      "Enter a Number: 15\n",
      "Even Numbers in the range of 15 ➞ [2, 4, 6, 8, 10, 12, 14] \n"
     ]
    }
   ],
   "source": [
    "def find_even_numbers(n):\n",
    "    return [i for i in range(1, n+1) if i % 2 == 0]\n",
    "n=int(input(\"Enter a Number: \"))\n",
    "print(f\"Even Numbers in the range of {n} ➞ {find_even_numbers(n)} \")\n"
   ]
  },
  {
   "cell_type": "code",
   "execution_count": null,
   "id": "4c1375be",
   "metadata": {},
   "outputs": [],
   "source": []
  }
 ],
 "metadata": {
  "kernelspec": {
   "display_name": "Python 3 (ipykernel)",
   "language": "python",
   "name": "python3"
  },
  "language_info": {
   "codemirror_mode": {
    "name": "ipython",
    "version": 3
   },
   "file_extension": ".py",
   "mimetype": "text/x-python",
   "name": "python",
   "nbconvert_exporter": "python",
   "pygments_lexer": "ipython3",
   "version": "3.9.13"
  }
 },
 "nbformat": 4,
 "nbformat_minor": 5
}
