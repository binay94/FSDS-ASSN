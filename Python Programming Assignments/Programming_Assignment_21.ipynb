{
 "cells": [
  {
   "cell_type": "code",
   "execution_count": null,
   "id": "0f2ae18a",
   "metadata": {},
   "outputs": [],
   "source": [
    "Question1.Write a function that takes a list and a number as arguments. Add the number to the end of the list, then remove the first\n",
    "element of the list. The function should then return the updated list.\n",
    "Examples:\n",
    "next_in_line([5, 6, 7, 8, 9], 1) ➞ [6, 7, 8, 9, 1]\n",
    "next_in_line([7, 6, 3, 23, 17], 10) ➞ [6, 3, 23, 17, 10]\n",
    "next_in_line([1, 10, 20, 42 ], 6) ➞ [10, 20, 42, 6]\n",
    "next_in_line([], 6) ➞ \"No list has been selected\""
   ]
  },
  {
   "cell_type": "code",
   "execution_count": 1,
   "id": "f24e838f",
   "metadata": {},
   "outputs": [
    {
     "data": {
      "text/plain": [
       "'Output ➞ [6, 7, 8, 9, 1]'"
      ]
     },
     "execution_count": 1,
     "metadata": {},
     "output_type": "execute_result"
    }
   ],
   "source": [
    "def next_in_line(lst, num):\n",
    "    lst.append(num)\n",
    "    lst.pop(0)\n",
    "    return f\"Output ➞ {lst}\"\n",
    "next_in_line([5, 6, 7, 8, 9], 1)"
   ]
  },
  {
   "cell_type": "code",
   "execution_count": null,
   "id": "ad0e4638",
   "metadata": {},
   "outputs": [],
   "source": [
    "Question2.Create the function that takes a list of dictionaries and returns the sum of people's budgets.\n",
    "Examples:\n",
    "get_budgets([ { \"name\": \"John\", \"age\": 21, \"budget\": 23000 }, { \"name\": \"Steve\", \"age\": 32, \"budget\": 40000 }, { \"name\": \"Martin\", \"age\": 16, \"budget\": 2700 } ]) ➞ 65700\n",
    "\n",
    "get_budgets([ { \"name\": \"John\", \"age\": 21, \"budget\": 29000 }, { \"name\": \"Steve\", \"age\": 32, \"budget\": 32000 }, { \"name\": \"Martin\", \"age\": 16, \"budget\": 1600 } ]) ➞ 62600"
   ]
  },
  {
   "cell_type": "code",
   "execution_count": 2,
   "id": "2f5c784d",
   "metadata": {},
   "outputs": [
    {
     "data": {
      "text/plain": [
       "'Total➞65700'"
      ]
     },
     "execution_count": 2,
     "metadata": {},
     "output_type": "execute_result"
    }
   ],
   "source": [
    "def get_budgets(people_list):\n",
    "    total = 0\n",
    "    for person in people_list:\n",
    "        total += person[\"budget\"]\n",
    "    return f\"Total➞{total}\"\n",
    "people_list=[{ \"name\": \"John\", \"age\": 21, \"budget\": 23000 },\n",
    "             { \"name\": \"Steve\", \"age\": 32, \"budget\": 40000 },\n",
    "             { \"name\": \"Martin\", \"age\": 16, \"budget\": 2700 } ]\n",
    "get_budgets(people_list)"
   ]
  },
  {
   "cell_type": "code",
   "execution_count": null,
   "id": "79f2229d",
   "metadata": {},
   "outputs": [],
   "source": [
    "Question3.Create a function that takes a string and returns a string with its letters in alphabetical order.\n",
    "Examples:\n",
    "alphabet_soup(\"hello\") ➞ \"ehllo\"\n",
    "alphabet_soup(\"edabit\") ➞ \"abdeit\"\n",
    "alphabet_soup(\"hacker\") ➞ \"acehkr\"\n",
    "alphabet_soup(\"geek\") ➞ \"eegk\"\n",
    "alphabet_soup(\"javascript\") ➞ \"aacijprstv\""
   ]
  },
  {
   "cell_type": "code",
   "execution_count": 3,
   "id": "9544a8b1",
   "metadata": {},
   "outputs": [
    {
     "name": "stdout",
     "output_type": "stream",
     "text": [
      "Enter a String: javascript\n",
      "Output: aacijprstv\n"
     ]
    }
   ],
   "source": [
    "def alphabetical_order(string):\n",
    "    return ''.join(sorted(string))\n",
    "string=input(\"Enter a String: \")\n",
    "result=alphabetical_order(string)\n",
    "print(f\"Output: {result}\")\n"
   ]
  },
  {
   "cell_type": "code",
   "execution_count": null,
   "id": "8b13ac8b",
   "metadata": {},
   "outputs": [],
   "source": [
    "Question4.What will be the value of your investment at the end of the 10 year period?\n",
    "Create a function that accepts the principal p, the term in years t, the interest rate r, and the number of compounding periods\n",
    "per year n. The function returns the value at the end of term rounded to the nearest cent.\n",
    "\n",
    "For the example above:\n",
    "compound_interest(10000, 10, 0.06, 12) ➞ 18193.97\n",
    "Note that the interest rate is given as a decimal and n=12 because with monthly compounding there are 12 periods per year. Compounding can also be done annually, quarterly, weekly, or daily.\n",
    "\n",
    "Examples:\n",
    "compound_interest(100, 1, 0.05, 1) ➞ 105.0\n",
    "compound_interest(3500, 15, 0.1, 4) ➞ 15399.26\n",
    "compound_interest(100000, 20, 0.15, 365) ➞ 2007316.26"
   ]
  },
  {
   "cell_type": "code",
   "execution_count": 4,
   "id": "0f52ae3c",
   "metadata": {},
   "outputs": [
    {
     "name": "stdout",
     "output_type": "stream",
     "text": [
      "Enter Principal Amount: 3500\n",
      "Enter Term in Years: 15\n",
      "Enter Rate of Interest: 0.1\n",
      "Enter no of compounding periods per year: 4\n"
     ]
    },
    {
     "data": {
      "text/plain": [
       "'Amount Invested 3500.0 for 15.0 Years @ 10.0% Interest Rate will result in Payout Amount ➞ 15399.26'"
      ]
     },
     "execution_count": 4,
     "metadata": {},
     "output_type": "execute_result"
    }
   ],
   "source": [
    "def compound_interest():\n",
    "    \n",
    "    p=float(input(\"Enter Principal Amount: \"))\n",
    "    \n",
    "    t=float(input(\"Enter Term in Years: \"))\n",
    "    \n",
    "    r=float(input(\"Enter Rate of Interest: \"))\n",
    "    \n",
    "    n=float(input(\"Enter no of compounding periods per year: \"))\n",
    "    \n",
    "    amount = p * (1 + r / n) ** (n * t)\n",
    "    \n",
    "    rounded_amount = round(amount, 2)\n",
    "    \n",
    "    return f\"Amount Invested {p} for {t} Years @ {r*100}% Interest Rate will result in Payout Amount ➞ {rounded_amount}\"\n",
    "compound_interest()"
   ]
  },
  {
   "cell_type": "code",
   "execution_count": null,
   "id": "6d3f0433",
   "metadata": {},
   "outputs": [],
   "source": [
    "Question5.Write a function that takes a list of elements and returns only the integers.\n",
    "Examples:\n",
    "return_only_integer([9, 2, \"space\", \"car\", \"lion\", 16]) ➞ [9, 2, 16]\n",
    "return_only_integer([\"hello\", 81, \"basketball\", 123, \"fox\"]) ➞ [81, 123]\n",
    "return_only_integer([10, \"121\", 56, 20, \"car\", 3, \"lion\"]) ➞ [10, 56, 20,3]\n",
    "return_only_integer([\"String\", True, 3.3, 1]) ➞ [1]"
   ]
  },
  {
   "cell_type": "code",
   "execution_count": 5,
   "id": "3606dada",
   "metadata": {},
   "outputs": [
    {
     "name": "stdout",
     "output_type": "stream",
     "text": [
      "Entered List:['hello', 81, 'basketball', 123, 'fox'] ➞ Filtered Values:[81, 123]\n"
     ]
    }
   ],
   "source": [
    "def return_only_integer(lst):\n",
    "    \n",
    "    filter = [x for x in lst if isinstance(x, int)]\n",
    "    return filter\n",
    "lst=[\"hello\", 81, \"basketball\", 123, \"fox\"]\n",
    "result=return_only_integer(lst)\n",
    "print(f\"Entered List:{lst} ➞ Filtered Values:{result}\")"
   ]
  }
 ],
 "metadata": {
  "kernelspec": {
   "display_name": "Python 3 (ipykernel)",
   "language": "python",
   "name": "python3"
  },
  "language_info": {
   "codemirror_mode": {
    "name": "ipython",
    "version": 3
   },
   "file_extension": ".py",
   "mimetype": "text/x-python",
   "name": "python",
   "nbconvert_exporter": "python",
   "pygments_lexer": "ipython3",
   "version": "3.10.6"
  }
 },
 "nbformat": 4,
 "nbformat_minor": 5
}
