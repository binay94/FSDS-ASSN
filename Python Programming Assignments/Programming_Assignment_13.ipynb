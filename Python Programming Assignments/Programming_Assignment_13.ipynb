{
 "cells": [
  {
   "cell_type": "code",
   "execution_count": null,
   "id": "8f6a6e49-9f6b-4052-8bef-8343fd8d0020",
   "metadata": {},
   "outputs": [],
   "source": [
    "Question 1:\n",
    "Write a program that calculates and prints the value according to the given formula:\n",
    "Q = Square root of [(2 * C * D)/H]\n",
    "Following are the fixed values of C and H:\n",
    "C is 50. H is 30.\n",
    "D is the variable whose values should be input to your program in a comma-separated\n",
    "sequence.\n",
    "Example\n",
    "Let us assume the following comma separated input sequence is given to the program:\n",
    "100,150,180\n",
    "The output of the program should be:\n",
    "18,22,24"
   ]
  },
  {
   "cell_type": "code",
   "execution_count": 1,
   "id": "283209c1",
   "metadata": {},
   "outputs": [
    {
     "name": "stdin",
     "output_type": "stream",
     "text": [
      "Enter three Numbers : 100,120,180\n"
     ]
    },
    {
     "name": "stdout",
     "output_type": "stream",
     "text": [
      "Output: 18,20,24\n"
     ]
    }
   ],
   "source": [
    "from math import sqrt\n",
    "def calc():\n",
    "    C,H = 50,30\n",
    "    D = [eval(v) for v in input(\"Enter three Numbers :\").split(',')]\n",
    "    Q=[]\n",
    "    for i in D:\n",
    "        Q.append(str(int(sqrt((2 * C * i)/H))))\n",
    "\n",
    "    print(\"Output: {}\".format(','.join(Q)))\n",
    "calc()"
   ]
  },
  {
   "cell_type": "code",
   "execution_count": null,
   "id": "92604401",
   "metadata": {},
   "outputs": [],
   "source": [
    "Question 2:\n",
    "Write a program which takes 2 digits, X,Y as input and generates a 2-dimensional array. The\n",
    "element value in the i-th row and j-th column of the array should be i*j.\n",
    "Note: i=0,1.., X-1; j=0,1,¡Y-1.\n",
    "Example\n",
    "Suppose the following inputs are given to the program:\n",
    "3,5\n",
    "Then, the output of the program should be:\n",
    "[[0, 0, 0, 0, 0], [0, 1, 2, 3, 4], [0, 2, 4, 6, 8]]"
   ]
  },
  {
   "cell_type": "code",
   "execution_count": 2,
   "id": "f024cfdf",
   "metadata": {},
   "outputs": [
    {
     "name": "stdout",
     "output_type": "stream",
     "text": [
      "Enter No of Rows:3\n",
      "Enter No of Columns:5\n",
      "[[0, 0, 0, 0, 0], [0, 1, 2, 3, 4], [0, 2, 4, 6, 8]]\n"
     ]
    }
   ],
   "source": [
    "def array():\n",
    "    \n",
    "    x = int(input('Enter No of Rows:'))\n",
    "    y = int(input('Enter No of Columns:')) \n",
    "    z = []\n",
    "    for i in range(x):\n",
    "        z.insert(i,[])\n",
    "        for j in range(y):\n",
    "            z[i].append(i*j)\n",
    "    print(z)\n",
    "array()"
   ]
  },
  {
   "cell_type": "code",
   "execution_count": null,
   "id": "f19ab1e1",
   "metadata": {},
   "outputs": [],
   "source": [
    "Question 3:\n",
    "Write a program that accepts a comma separated sequence of words as input and prints the\n",
    "words in a comma-separated sequence after sorting them alphabetically.\n",
    "Suppose the following input is supplied to the program:\n",
    "without,hello,bag,world\n",
    "Then, the output should be:\n",
    "bag,hello,without,world"
   ]
  },
  {
   "cell_type": "code",
   "execution_count": 4,
   "id": "8b48f082",
   "metadata": {},
   "outputs": [
    {
     "name": "stdout",
     "output_type": "stream",
     "text": [
      "Enter a comma separated sequence of words: without,hello,bag,world\n",
      "Output:\n",
      "bag,hello,without,world\n"
     ]
    }
   ],
   "source": [
    "def sortstring():\n",
    "    input_str = input(\"Enter a comma separated sequence of words: \")\n",
    "    words = input_str.split(\",\")\n",
    "    sorted_words = sorted(words)\n",
    "    print(\"Output:\")\n",
    "    print(\",\".join(sorted_words))\n",
    "    \n",
    "sortstring()"
   ]
  },
  {
   "cell_type": "code",
   "execution_count": null,
   "id": "51170917",
   "metadata": {},
   "outputs": [],
   "source": [
    "Question 4:\n",
    "Write a program that accepts a sequence of whitespace separated words as input and prints\n",
    "the words after removing all duplicate words and sorting them alphanumerically.\n",
    "Suppose the following input is supplied to the program:\n",
    "hello world and practice makes perfect and hello world again\n",
    "Then, the output should be:\n",
    "again and hello makes perfect practice world"
   ]
  },
  {
   "cell_type": "code",
   "execution_count": 5,
   "id": "1bdd5c74",
   "metadata": {},
   "outputs": [
    {
     "name": "stdout",
     "output_type": "stream",
     "text": [
      "Enter whitespace separated words: hello world and practice makes perfect and hello world again\n",
      "Output :\n",
      "again and hello makes perfect practice world\n"
     ]
    }
   ],
   "source": [
    "def sort_alnum():    \n",
    "    input_str = input(\"Enter whitespace separated words: \")\n",
    "    words = input_str.split()\n",
    "    unique_words = list(set(words))\n",
    "    sorted_words = sorted(unique_words)\n",
    "    print(\"Output :\")\n",
    "    print(\" \".join(sorted_words))\n",
    "    \n",
    "sort_alnum()\n"
   ]
  },
  {
   "cell_type": "code",
   "execution_count": null,
   "id": "bd1b6689",
   "metadata": {},
   "outputs": [],
   "source": [
    "Question 5:\n",
    "Write a program that accepts a sentence and calculate the number of letters and digits.\n",
    "Suppose the following input is supplied to the program:\n",
    "hello world! 123\n",
    "Then, the output should be:\n",
    "LETTERS 10\n",
    "\n",
    "DIGITS 3"
   ]
  },
  {
   "cell_type": "code",
   "execution_count": 2,
   "id": "60f74bba",
   "metadata": {},
   "outputs": [
    {
     "name": "stdin",
     "output_type": "stream",
     "text": [
      "Enter a sentence:  ineuron fsds-2 2023\n"
     ]
    },
    {
     "name": "stdout",
     "output_type": "stream",
     "text": [
      "LETTERS: 11\n",
      "DIGITS: 5\n"
     ]
    }
   ],
   "source": [
    "def str_num():\n",
    "    input_str = input(\"Enter a sentence: \")\n",
    "    letters = 0\n",
    "    digits = 0\n",
    "    for char in input_str:\n",
    "        # Check if the character is a letter\n",
    "        if char.isalpha():\n",
    "            letters += 1\n",
    "        # Check if the character is a digit\n",
    "        elif char.isdigit():\n",
    "            digits += 1\n",
    "    # Print the counts of letters and digits\n",
    "    print(\"LETTERS:\", letters)\n",
    "    print(\"DIGITS:\", digits)\n",
    "str_num()"
   ]
  },
  {
   "cell_type": "code",
   "execution_count": null,
   "id": "445cf59c",
   "metadata": {},
   "outputs": [],
   "source": [
    "Question 6:\n",
    "A website requires the users to input username and password to register. Write a program to\n",
    "check the validity of password input by users.\n",
    "Following are the criteria for checking the password:\n",
    "1. At least 1 letter between [a-z]\n",
    "2. At least 1 number between [0-9]\n",
    "1. At least 1 letter between [A-Z]\n",
    "3. At least 1 character from [$#@]\n",
    "4. Minimum length of transaction password: 6\n",
    "5. Maximum length of transaction password: 12\n",
    "Your program should accept a sequence of comma separated passwords and will check them\n",
    "according to the above criteria. Passwords that match the criteria are to be printed, each\n",
    "separated by a comma.\n",
    "Example\n",
    "If the following passwords are given as input to the program:\n",
    "ABd1234@1,a F1#,2w3E*,2We3345\n",
    "Then, the output of the program should be:\n",
    "ABd1234@1"
   ]
  },
  {
   "cell_type": "code",
   "execution_count": 7,
   "id": "cf637fc7",
   "metadata": {},
   "outputs": [
    {
     "name": "stdout",
     "output_type": "stream",
     "text": [
      "Enter comma separated passwords: ABd1234@1,a F1#,2w3E*,2We3345\n",
      "Valid Passwords are:\n",
      "ABd1234@1\n"
     ]
    }
   ],
   "source": [
    "import re\n",
    "def pwd_validity():  \n",
    "    passwords = input(\"Enter comma separated passwords: \").split(\",\")\n",
    "    pattern = r\"^(?=.*[a-z])(?=.*[A-Z])(?=.*\\d)(?=.*[$#@])[A-Za-z\\d$#@]{6,12}$\"\n",
    "    valid_passwords = []\n",
    "    for password in passwords:\n",
    "        if re.match(pattern, password):\n",
    "            valid_passwords.append(password)\n",
    "    print(\"Valid Passwords are:\")\n",
    "    print(\",\".join(valid_passwords))\n",
    "\n",
    "pwd_validity()"
   ]
  }
 ],
 "metadata": {
  "kernelspec": {
   "display_name": "Python 3 (ipykernel)",
   "language": "python",
   "name": "python3"
  },
  "language_info": {
   "codemirror_mode": {
    "name": "ipython",
    "version": 3
   },
   "file_extension": ".py",
   "mimetype": "text/x-python",
   "name": "python",
   "nbconvert_exporter": "python",
   "pygments_lexer": "ipython3",
   "version": "3.10.6"
  }
 },
 "nbformat": 4,
 "nbformat_minor": 5
}
