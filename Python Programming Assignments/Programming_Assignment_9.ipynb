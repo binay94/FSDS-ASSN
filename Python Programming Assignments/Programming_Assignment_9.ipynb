{
 "cells": [
  {
   "cell_type": "markdown",
   "id": "753c891c-4021-4f7d-9707-18ba52e5c2fe",
   "metadata": {},
   "source": [
    "1. Write a Python program to check if the given number is a Disarium Number?"
   ]
  },
  {
   "cell_type": "code",
   "execution_count": 1,
   "id": "e772ed9d",
   "metadata": {},
   "outputs": [
    {
     "name": "stdin",
     "output_type": "stream",
     "text": [
      "Enter a Number:  168\n"
     ]
    },
    {
     "name": "stdout",
     "output_type": "stream",
     "text": [
      "168 is not a Disarium Number\n"
     ]
    }
   ],
   "source": [
    "def disarium():\n",
    "    n=int(input(\"Enter a Number: \"))\n",
    "    if n<=0:\n",
    "        print(\"Inalid Input\")\n",
    "    else:\n",
    "        sum=0\n",
    "        for i in range(len(str(n))):\n",
    "            sum+=int(str(n)[i]) ** (i+1)\n",
    "        if sum==n:\n",
    "            print(f\"{n} is a Disarium Number\")\n",
    "        else:\n",
    "            print(f\"{n} is not a Disarium Number\")\n",
    "disarium()\n"
   ]
  },
  {
   "cell_type": "markdown",
   "id": "324001fa-a227-4b9a-b1df-4e563bc0e71a",
   "metadata": {},
   "source": [
    "2. Write a Python program to print all disarium numbers between 1 to 100?"
   ]
  },
  {
   "cell_type": "code",
   "execution_count": 2,
   "id": "a6688468",
   "metadata": {},
   "outputs": [
    {
     "name": "stdout",
     "output_type": "stream",
     "text": [
      "1\t2\t3\t4\t5\t6\t7\t8\t9\t89\t"
     ]
    }
   ],
   "source": [
    "def disarium():\n",
    "    for n in range(1,101):\n",
    "        sum=0\n",
    "        for i in range(len(str(n))):\n",
    "            sum+=int(str(n)[i]) ** (i+1)\n",
    "        if sum==n:\n",
    "            print(n,end=\"\\t\")\n",
    "        \n",
    "disarium()\n"
   ]
  },
  {
   "cell_type": "markdown",
   "id": "ba517d63-ada0-43e3-b289-35cd3d01018b",
   "metadata": {},
   "source": [
    "3. Write a Python program to check if the given number is Happy Number?"
   ]
  },
  {
   "cell_type": "code",
   "execution_count": 3,
   "id": "ab9a25b9",
   "metadata": {},
   "outputs": [
    {
     "name": "stdin",
     "output_type": "stream",
     "text": [
      "Enter a Number:  130\n"
     ]
    },
    {
     "data": {
      "text/plain": [
       "True"
      ]
     },
     "execution_count": 3,
     "metadata": {},
     "output_type": "execute_result"
    }
   ],
   "source": [
    "def is_happy_num():\n",
    "    n=int(input(\"Enter a Number: \"))\n",
    "    if n<=0:\n",
    "        print(\"Inalid Input\")\n",
    "    else:\n",
    "        temp = []\n",
    "        while n != 1:\n",
    "            n = sum(int(i)**2 for i in str(n))\n",
    "            if n in temp:\n",
    "                return False\n",
    "            temp.append(n)\n",
    "        return True\n",
    "is_happy_num()"
   ]
  },
  {
   "cell_type": "markdown",
   "id": "3b0a8eb6-c3b6-4f37-9341-b8c1c7e6bbd1",
   "metadata": {},
   "source": [
    "4. Write a Python program to print all happy numbers between 1 and 100?"
   ]
  },
  {
   "cell_type": "code",
   "execution_count": 4,
   "id": "30706f9f",
   "metadata": {},
   "outputs": [
    {
     "name": "stdout",
     "output_type": "stream",
     "text": [
      "Happy Numbers Between 1 to 100 :\n",
      " [1, 7, 10, 13, 19, 23, 28, 31, 32, 44, 49, 68, 70, 79, 82, 86, 91, 94, 97, 100]\n"
     ]
    }
   ],
   "source": [
    "def happy_num(n):\n",
    "    \n",
    "        temp = []\n",
    "        while n != 1:\n",
    "            n = sum(int(i)**2 for i in str(n))\n",
    "            if n in temp:\n",
    "                return False\n",
    "            temp.append(n)\n",
    "        return True\n",
    "print(\"Happy Numbers Between 1 to 100 :\\n\",[x for x in range(101) if happy_num(x)])\n"
   ]
  },
  {
   "cell_type": "markdown",
   "id": "c8943d3f-d0dc-49c0-ae92-fc1aace4eba1",
   "metadata": {},
   "source": [
    "5. Write a Python program to determine whether the given number is a Harshad Number?"
   ]
  },
  {
   "cell_type": "code",
   "execution_count": 8,
   "id": "7f482aa9",
   "metadata": {},
   "outputs": [
    {
     "name": "stdin",
     "output_type": "stream",
     "text": [
      "Enter a Number:  171\n"
     ]
    },
    {
     "name": "stdout",
     "output_type": "stream",
     "text": [
      "171 is a Harshad Number\n"
     ]
    }
   ],
   "source": [
    "def harshad_num():\n",
    "    n=int(input(\"Enter a Number: \"))\n",
    "    if n<=0:\n",
    "        print(\"Inalid Input\")\n",
    "    else:\n",
    "        sum=0\n",
    "        for i in range(len(str(n))):\n",
    "            sum+=int(str(n)[i])\n",
    "        if n%sum == 0:\n",
    "            print(f\"{n} is a Harshad Number\")\n",
    "        else:\n",
    "            print(f\"{n} is not Harshad Number\")\n",
    "harshad_num()\n"
   ]
  },
  {
   "cell_type": "markdown",
   "id": "6a35f9ed-5990-4133-b821-1d7af4fd9852",
   "metadata": {},
   "source": [
    "6. Write a Python program to print all pronic numbers between 1 and 100?"
   ]
  },
  {
   "cell_type": "code",
   "execution_count": 6,
   "id": "ffa2f9bd",
   "metadata": {},
   "outputs": [
    {
     "name": "stdout",
     "output_type": "stream",
     "text": [
      "Pronic Numbers between 1 and 100: \n",
      " [2, 6, 12, 20, 30, 42, 56, 72, 90]\n"
     ]
    }
   ],
   "source": [
    "def pronic():\n",
    "    l=[]\n",
    "    for i in range(1,101):\n",
    "        for j in range(1,101):\n",
    "            if j*(j+1)==i:\n",
    "                    l.append(i)\n",
    "    print(\"Pronic Numbers between 1 and 100: \\n\",l)\n",
    "pronic()"
   ]
  }
 ],
 "metadata": {
  "kernelspec": {
   "display_name": "Python 3 (ipykernel)",
   "language": "python",
   "name": "python3"
  },
  "language_info": {
   "codemirror_mode": {
    "name": "ipython",
    "version": 3
   },
   "file_extension": ".py",
   "mimetype": "text/x-python",
   "name": "python",
   "nbconvert_exporter": "python",
   "pygments_lexer": "ipython3",
   "version": "3.10.6"
  }
 },
 "nbformat": 4,
 "nbformat_minor": 5
}
