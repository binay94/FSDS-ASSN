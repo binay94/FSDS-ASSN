{
 "cells": [
  {
   "cell_type": "code",
   "execution_count": null,
   "id": "0caa3d62",
   "metadata": {},
   "outputs": [],
   "source": [
    "1.Create a function that takes a number as an argument and returns True or False depending on whether the number is symmetrical\n",
    "or not. A number is symmetrical when it is the same as its reverse.\n",
    "Examples:\n",
    "is_symmetrical(7227) ➞ True\n",
    "is_symmetrical(12567) ➞ False\n",
    "is_symmetrical(44444444) ➞ True\n",
    "is_symmetrical(9939) ➞ False\n",
    "is_symmetrical(1112111) ➞ True"
   ]
  },
  {
   "cell_type": "code",
   "execution_count": 1,
   "id": "81b10d88",
   "metadata": {},
   "outputs": [
    {
     "name": "stdout",
     "output_type": "stream",
     "text": [
      "Enter a Number: 9939\n",
      "Output ➞ False\n"
     ]
    }
   ],
   "source": [
    "def is_symmetrical(n):\n",
    "    return str(n) == str(n)[::-1]\n",
    "n=input(\"Enter a Number: \")\n",
    "print(f\"Output ➞ {is_symmetrical(n)}\")"
   ]
  },
  {
   "cell_type": "code",
   "execution_count": null,
   "id": "dd5f7bb4",
   "metadata": {},
   "outputs": [],
   "source": [
    "2.Given a string of numbers separated by a comma and space, return the product of the numbers.\n",
    "Examples:\n",
    "multiply_nums(\"2, 3\") ➞ 6\n",
    "multiply_nums(\"1, 2, 3, 4\") ➞ 24\n",
    "multiply_nums(\"54, 75, 453, 0\") ➞ 0\n",
    "multiply_nums(\"10, -2\") ➞ -20"
   ]
  },
  {
   "cell_type": "code",
   "execution_count": 2,
   "id": "8c173726",
   "metadata": {},
   "outputs": [
    {
     "name": "stdout",
     "output_type": "stream",
     "text": [
      "Output ➞ 24\n"
     ]
    }
   ],
   "source": [
    "def multiply_nums(nums):\n",
    "    num_list = nums.split(\", \")\n",
    "    product = 1\n",
    "    for num in num_list:\n",
    "        product *= int(num)\n",
    "    return product\n",
    "nums = (\"1, 2, 3, 4\")\n",
    "print(f\"Output ➞ {multiply_nums(nums)}\")"
   ]
  },
  {
   "cell_type": "code",
   "execution_count": null,
   "id": "48c8ef5b",
   "metadata": {},
   "outputs": [],
   "source": [
    "3.Create a function that squares every digit of a number.\n",
    "Examples:\n",
    "square_digits(9119) ➞ 811181\n",
    "square_digits(2483) ➞ 416649\n",
    "square_digits(3212) ➞ 9414\n",
    "\n",
    "Notes:\n",
    "The function receives an integer and must return an integer."
   ]
  },
  {
   "cell_type": "code",
   "execution_count": 3,
   "id": "3e9664e6",
   "metadata": {},
   "outputs": [
    {
     "name": "stdout",
     "output_type": "stream",
     "text": [
      "Enter a Number: 9119\n",
      "Output ➞ 811181\n"
     ]
    }
   ],
   "source": [
    "def square_digits(num):\n",
    "    result = \"\"\n",
    "    for digit in str(num):\n",
    "        square = int(digit) ** 2\n",
    "        result += str(square)\n",
    "    return int(result)\n",
    "num = input(\"Enter a Number: \")\n",
    "print(f\"Output ➞ {square_digits(num)}\")"
   ]
  },
  {
   "cell_type": "code",
   "execution_count": null,
   "id": "17d7357c",
   "metadata": {},
   "outputs": [],
   "source": [
    "4.Create a function that sorts a list and removes all duplicate items from it.\n",
    "Examples:\n",
    "setify([1, 3, 3, 5, 5]) ➞ [1, 3, 5]\n",
    "setify([4, 4, 4, 4]) ➞ [4]\n",
    "setify([5, 7, 8, 9, 10, 15]) ➞ [5, 7, 8, 9, 10, 15]\n",
    "setify([3, 3, 3, 2, 1]) ➞ [1, 2, 3]"
   ]
  },
  {
   "cell_type": "code",
   "execution_count": 4,
   "id": "9163603d",
   "metadata": {},
   "outputs": [
    {
     "name": "stdout",
     "output_type": "stream",
     "text": [
      "Enter list elements separated by comma(,): 1,3,3,5,5\n"
     ]
    },
    {
     "data": {
      "text/plain": [
       "\"Output ➞ ['1', '3', '5']\""
      ]
     },
     "execution_count": 4,
     "metadata": {},
     "output_type": "execute_result"
    }
   ],
   "source": [
    "def setify():\n",
    "    lst=[i for i in input(\"Enter list elements separated by comma(,): \").split(\",\")]\n",
    "    sorted_list = sorted(lst)\n",
    "    result = []\n",
    "    for item in sorted_list:\n",
    "        if item not in result:\n",
    "            result.append(item)\n",
    "    return f\"Output ➞ {result}\"\n",
    "setify()"
   ]
  },
  {
   "cell_type": "code",
   "execution_count": null,
   "id": "7c8aaa95",
   "metadata": {},
   "outputs": [],
   "source": [
    "5.Create a function that returns the mean of all digits.\n",
    "Examples:\n",
    "mean(42) ➞ 3\n",
    "mean(12345) ➞ 3\n",
    "mean(666) ➞ 6\n",
    "\n",
    "Notes:\n",
    "1.The mean of all digits is the sum of digits / how many digits there are (e.g. mean of digits in 512 is (5+1+2)/3(number of digits) = 8/3=2).\n",
    "2.The mean will always be an integer."
   ]
  },
  {
   "cell_type": "code",
   "execution_count": 5,
   "id": "34864a2b",
   "metadata": {},
   "outputs": [
    {
     "name": "stdout",
     "output_type": "stream",
     "text": [
      "Enter a Number :42\n"
     ]
    },
    {
     "data": {
      "text/plain": [
       "'Output ➞ 3'"
      ]
     },
     "execution_count": 5,
     "metadata": {},
     "output_type": "execute_result"
    }
   ],
   "source": [
    "def mean_of_digits():\n",
    "    num = input(\"Enter a Number :\")\n",
    "    digits = [int(digit) for digit in str(num)]\n",
    "    mean = sum(digits) / len(digits)\n",
    "    return f\"Output ➞ {int(mean)}\"\n",
    "mean_of_digits()"
   ]
  },
  {
   "cell_type": "code",
   "execution_count": null,
   "id": "045264e0",
   "metadata": {},
   "outputs": [],
   "source": []
  }
 ],
 "metadata": {
  "kernelspec": {
   "display_name": "Python 3 (ipykernel)",
   "language": "python",
   "name": "python3"
  },
  "language_info": {
   "codemirror_mode": {
    "name": "ipython",
    "version": 3
   },
   "file_extension": ".py",
   "mimetype": "text/x-python",
   "name": "python",
   "nbconvert_exporter": "python",
   "pygments_lexer": "ipython3",
   "version": "3.10.6"
  }
 },
 "nbformat": 4,
 "nbformat_minor": 5
}
