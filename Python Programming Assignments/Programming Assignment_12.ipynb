{
 "cells": [
  {
   "cell_type": "code",
   "execution_count": null,
   "id": "a93d2220",
   "metadata": {},
   "outputs": [],
   "source": [
    "1. Write a Python program to Extract Unique values dictionary values?"
   ]
  },
  {
   "cell_type": "code",
   "execution_count": 5,
   "id": "4cb51b4a",
   "metadata": {},
   "outputs": [
    {
     "name": "stdout",
     "output_type": "stream",
     "text": [
      "Enter number of keys :3\n",
      "Enter the Key: 2\n",
      "Enter the value: b\n",
      "Enter the Key: 3\n",
      "Enter the value: b\n",
      "Enter the Key: 4\n",
      "Enter the value: j\n",
      "Entered dict is:  {'2': 'b', '3': 'b', '4': 'j'}\n",
      "dict_values(['b', 'b', 'j'])\n",
      "Unique Values in the dict are: {'j', 'b'}\n"
     ]
    }
   ],
   "source": [
    "d={}\n",
    "n=int(input(\"Enter number of keys :\"))\n",
    "for i in range(n):\n",
    "    key=input(\"Enter the Key: \")\n",
    "    values=input(\"Enter the value: \")\n",
    "    d[key]=values\n",
    "print(\"Entered dict is: \",d)\n",
    "def ext_uni(dict):\n",
    "    print(dict.values())\n",
    "    print(\"Unique Values in the dict are:\",set(dict.values()))\n",
    "\n",
    "ext_uni(d)"
   ]
  },
  {
   "cell_type": "code",
   "execution_count": null,
   "id": "cebff8e7",
   "metadata": {},
   "outputs": [],
   "source": [
    "2. Write a Python program to find the sum of all items in a dictionary?"
   ]
  },
  {
   "cell_type": "code",
   "execution_count": 8,
   "id": "c9cb4b8b",
   "metadata": {},
   "outputs": [
    {
     "name": "stdout",
     "output_type": "stream",
     "text": [
      "Enter number of keys :2\n",
      "Enter the Key: b\n",
      "Enter the value: 27\n",
      "Enter the Key: n\n",
      "Enter the value: 53\n",
      "Entered dict is:  {'b': 27, 'n': 53}\n",
      "Sum of the Entered Dict Values is:  80\n"
     ]
    }
   ],
   "source": [
    "d={}\n",
    "n=int(input(\"Enter number of keys :\"))\n",
    "for i in range(n):\n",
    "    key=input(\"Enter the Key: \")\n",
    "    values=int(input(\"Enter the value: \"))\n",
    "    d[key]=values\n",
    "print(\"Entered dict is: \",d)\n",
    "def sum_dict(dict):\n",
    "    sum=0\n",
    "    for i in dict.values():\n",
    "        sum+=i\n",
    "    print(\"Sum of the Entered Dict Values is: \",sum)\n",
    "\n",
    "sum_dict(d)"
   ]
  },
  {
   "cell_type": "code",
   "execution_count": null,
   "id": "8ff30128",
   "metadata": {},
   "outputs": [],
   "source": [
    "3. Write a Python program to Merging two Dictionaries?"
   ]
  },
  {
   "cell_type": "code",
   "execution_count": 18,
   "id": "c3c83d4f",
   "metadata": {},
   "outputs": [
    {
     "name": "stdout",
     "output_type": "stream",
     "text": [
      "{'Beyon': 'Babu', 'Jiten': 'Dad'}\n"
     ]
    }
   ],
   "source": [
    "d1={'Beyon':'Babu'}\n",
    "d2={'Jiten':'Dad'}\n",
    "d1.update(d2)\n",
    "print(d1)"
   ]
  },
  {
   "cell_type": "code",
   "execution_count": null,
   "id": "84f6ccf7",
   "metadata": {},
   "outputs": [],
   "source": [
    "4. Write a Python program to convert key-values list to flat dictionary?"
   ]
  },
  {
   "cell_type": "code",
   "execution_count": 23,
   "id": "ad75818e",
   "metadata": {},
   "outputs": [
    {
     "data": {
      "text/plain": [
       "{'Ankuli': 1000,\n",
       " 'Bypass': 2000,\n",
       " 'Chudi': 3000,\n",
       " 'Danger Area': 40000,\n",
       " 'Eng': 5000,\n",
       " 'Fulta': 60,\n",
       " 'Gopalpur': 70,\n",
       " 'Highway': 80,\n",
       " 'I-rani': 90,\n",
       " 'Jiten': 100,\n",
       " 'Khajuria': 110}"
      ]
     },
     "execution_count": 23,
     "metadata": {},
     "output_type": "execute_result"
    }
   ],
   "source": [
    "in_list = [('Ankuli',1000),('Bypass',2000),('Chudi',3000),('Danger Area',(40000)),('Eng',5000),('Fulta',60),('Gopalpur',70),('Highway',80),('I-rani',90),('Jiten',100),('Khajuria',110)]\n",
    "dict(in_list)"
   ]
  },
  {
   "cell_type": "code",
   "execution_count": null,
   "id": "0a423c20",
   "metadata": {},
   "outputs": [],
   "source": [
    "5. Write a Python program to insertion at the beginning in OrderedDict?"
   ]
  },
  {
   "cell_type": "code",
   "execution_count": 26,
   "id": "4d422819",
   "metadata": {},
   "outputs": [
    {
     "name": "stdout",
     "output_type": "stream",
     "text": [
      "OrderedDict([('A', '100'), ('B', '200'), ('C', '300'), ('D', '400')])\n",
      "Resultant Dict : OrderedDict([('D', '400'), ('A', '100'), ('B', '200'), ('C', '300')])\n"
     ]
    }
   ],
   "source": [
    "from collections import OrderedDict  \n",
    "dict = OrderedDict([('A', '100'), ('B', '200'), ('C', '300')])\n",
    "\n",
    "dict.update({\"D\": '400'})\n",
    "print(dict)\n",
    "\n",
    "dict.move_to_end(\"D\", last=False)\n",
    "  \n",
    "\n",
    "print (\"Resultant Dict :\", dict)\n"
   ]
  },
  {
   "cell_type": "code",
   "execution_count": null,
   "id": "4311c67f",
   "metadata": {},
   "outputs": [],
   "source": [
    "6. Write a Python program to check order of character in string using OrderedDict()?"
   ]
  },
  {
   "cell_type": "code",
   "execution_count": 35,
   "id": "e34c0dc2",
   "metadata": {},
   "outputs": [
    {
     "name": "stdout",
     "output_type": "stream",
     "text": [
      "{'a': 1000, 'f': 200, 'd': 300, 'c': 400, 'b': 500, 'e': 600}\n",
      "OrderedDict([('a', 1000), ('b', 500), ('c', 400), ('d', 300), ('e', 600), ('f', 200)])\n"
     ]
    }
   ],
   "source": [
    "from collections import OrderedDict\n",
    "\n",
    "initial_list = {'a': 1000, 'f': 200, 'd': 300, 'c': 400, 'b': 500, 'e': 600}\n",
    "print(initial_list)\n",
    "\n",
    "final_list = OrderedDict(sorted(initial_list.items()))\n",
    "print(final_list)"
   ]
  },
  {
   "cell_type": "code",
   "execution_count": null,
   "id": "c05cb903",
   "metadata": {},
   "outputs": [],
   "source": [
    "7. Write a Python program to sort Python Dictionaries by Key or Value?"
   ]
  },
  {
   "cell_type": "code",
   "execution_count": null,
   "id": "ff949cd8",
   "metadata": {},
   "outputs": [],
   "source": [
    "d_items = {'Mango':100,'PineApple':22,'Banana':60,'Grape':13}\n",
    "\n",
    "def sort_dict(in_dict,sort_type):\n",
    "    if sort_type == 'key':\n",
    "        print(dict(sorted(in_dict.items(), key=lambda x:x[0], reverse=False)))\n",
    "    else:\n",
    "        print(dict(sorted(in_dict.items(), key=lambda x:x[1], reverse=False)))\n",
    "        \n",
    "sort_dict(d_items,'key')        \n",
    "sort_dict(d_items,'value')"
   ]
  }
 ],
 "metadata": {
  "kernelspec": {
   "display_name": "Python 3 (ipykernel)",
   "language": "python",
   "name": "python3"
  },
  "language_info": {
   "codemirror_mode": {
    "name": "ipython",
    "version": 3
   },
   "file_extension": ".py",
   "mimetype": "text/x-python",
   "name": "python",
   "nbconvert_exporter": "python",
   "pygments_lexer": "ipython3",
   "version": "3.10.6"
  }
 },
 "nbformat": 4,
 "nbformat_minor": 5
}
