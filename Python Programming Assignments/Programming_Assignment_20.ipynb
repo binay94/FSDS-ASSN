{
 "cells": [
  {
   "cell_type": "code",
   "execution_count": null,
   "id": "78464094",
   "metadata": {},
   "outputs": [],
   "source": [
    "Question1.Create a function that takes a list of strings and integers, and filters out the list so that it returns a list of integers only.\n",
    "Examples:\n",
    "filter_list([1, 2, 3, \"a\", \"b\", 4]) ➞ [1, 2, 3, 4]\n",
    "filter_list([\"A\", 0, \"Edabit\", 1729, \"Python\", \"1729\"]) ➞ [0, 1729]\n",
    "filter_list([\"Nothing\", \"here\"]) ➞ []"
   ]
  },
  {
   "cell_type": "code",
   "execution_count": 1,
   "id": "f03b6976",
   "metadata": {},
   "outputs": [
    {
     "name": "stdout",
     "output_type": "stream",
     "text": [
      "Entered List:[1, 2, 3, 'a', 'b', 4] ➞ Filtered Values:[1, 2, 3, 4]\n"
     ]
    }
   ],
   "source": [
    "def filter_integers(lst):\n",
    "    \n",
    "    filter = [x for x in lst if isinstance(x, int)]\n",
    "    return filter\n",
    "lst=[1, 2, 3, \"a\", \"b\", 4]\n",
    "result=filter_integers(lst)\n",
    "print(f\"Entered List:{lst} ➞ Filtered Values:{result}\")"
   ]
  },
  {
   "cell_type": "code",
   "execution_count": null,
   "id": "25a50b4f",
   "metadata": {},
   "outputs": [],
   "source": [
    "Question2\n",
    "Given a list of numbers, create a function which returns the list but with each element's index in the list added to itself. \n",
    "This means you add 0 to the number at index 0, add 1 to the number at index 1, etc...\n",
    "Examples\n",
    "add_indexes([0, 0, 0, 0, 0]) ➞ [0, 1, 2, 3, 4]\n",
    "add_indexes([1, 2, 3, 4, 5]) ➞ [1, 3, 5, 7, 9]\n",
    "add_indexes([5, 4, 3, 2, 1]) ➞ [5, 5, 5, 5, 5]\n"
   ]
  },
  {
   "cell_type": "code",
   "execution_count": 2,
   "id": "65f155ff",
   "metadata": {},
   "outputs": [
    {
     "data": {
      "text/plain": [
       "[5, 5, 5, 5, 5]"
      ]
     },
     "execution_count": 2,
     "metadata": {},
     "output_type": "execute_result"
    }
   ],
   "source": [
    "def add_index(lst):\n",
    "    return [num + i for i, num in enumerate(lst)]\n",
    "lst=[5, 4, 3, 2, 1]\n",
    "add_index(lst)"
   ]
  },
  {
   "cell_type": "code",
   "execution_count": null,
   "id": "1f51c48f",
   "metadata": {},
   "outputs": [],
   "source": [
    "Question3\n",
    "Create a function that takes the height and radius of a cone as arguments and returns the\n",
    "volume of the cone rounded to the nearest hundredth. See the resources tab for the formula.\n",
    "\n",
    "Examples\n",
    "cone_volume(3, 2) ➞ 12.57\n",
    "\n",
    "cone_volume(15, 6) ➞ 565.49\n",
    "cone_volume(18, 0) ➞ 0"
   ]
  },
  {
   "cell_type": "code",
   "execution_count": 3,
   "id": "730a2c1f",
   "metadata": {},
   "outputs": [
    {
     "data": {
      "text/plain": [
       "'Volume of Cone = 565.49'"
      ]
     },
     "execution_count": 3,
     "metadata": {},
     "output_type": "execute_result"
    }
   ],
   "source": [
    "import math\n",
    "def cone_volume(height,radius):\n",
    "    volume = (math.pi * radius**2 * height) / 3\n",
    "    return f\"Volume of Cone = {round(volume, 2)}\"\n",
    "cone_volume(15, 6)"
   ]
  },
  {
   "cell_type": "code",
   "execution_count": null,
   "id": "91ffcee9",
   "metadata": {},
   "outputs": [],
   "source": [
    "Question4\n",
    "This Triangular Number Sequence is generated from a pattern of dots that form a triangle.\n",
    "The first 5 numbers of the sequence, or dots, are:\n",
    "1, 3, 6, 10, 15\n",
    "This means that the first triangle has just one dot, the second one has three dots, the third one\n",
    "has 6 dots and so on.\n",
    "Write a function that gives the number of dots with its corresponding triangle number of the\n",
    "sequence.\n",
    "Examples\n",
    "triangle(1) ➞ 1\n",
    "triangle(6) ➞ 21\n",
    "triangle(215) ➞ 23220"
   ]
  },
  {
   "cell_type": "code",
   "execution_count": 4,
   "id": "588f151d",
   "metadata": {},
   "outputs": [
    {
     "name": "stdout",
     "output_type": "stream",
     "text": [
      "Enter a Number: 6\n"
     ]
    },
    {
     "data": {
      "text/plain": [
       "'Triangle Number Sequence ➞ 21'"
      ]
     },
     "execution_count": 4,
     "metadata": {},
     "output_type": "execute_result"
    }
   ],
   "source": [
    "def triangular_number():\n",
    "    n=int(input(\"Enter a Number: \"))\n",
    "    dots = n*(n+1)//2\n",
    "    return f\"Triangle Number Sequence ➞ {dots}\"\n",
    "triangular_number()"
   ]
  },
  {
   "cell_type": "code",
   "execution_count": null,
   "id": "4bcb8e7c",
   "metadata": {},
   "outputs": [],
   "source": [
    "Question5\n",
    "Create a function that takes a list of numbers between 1 and 10 (excluding one number) and\n",
    "returns the missing number.\n",
    "Examples\n",
    "missing_num([1, 2, 3, 4, 6, 7, 8, 9, 10]) ➞ 5\n",
    "missing_num([7, 2, 3, 6, 5, 9, 1, 4, 8]) ➞ 10\n",
    "missing_num([10, 5, 1, 2, 4, 6, 8, 3, 9]) ➞ 7"
   ]
  },
  {
   "cell_type": "code",
   "execution_count": 5,
   "id": "df5bdd69",
   "metadata": {},
   "outputs": [
    {
     "data": {
      "text/plain": [
       "'Missing Numnber ➞ 10'"
      ]
     },
     "execution_count": 5,
     "metadata": {},
     "output_type": "execute_result"
    }
   ],
   "source": [
    "def find_missing_number(lst):\n",
    "    return f\"Missing Numnber ➞ {sum(range(1,11)) - sum(lst)}\"\n",
    "lst=[7, 2, 3, 6, 5, 9, 1, 4, 8]\n",
    "find_missing_number(lst)"
   ]
  }
 ],
 "metadata": {
  "kernelspec": {
   "display_name": "Python 3 (ipykernel)",
   "language": "python",
   "name": "python3"
  },
  "language_info": {
   "codemirror_mode": {
    "name": "ipython",
    "version": 3
   },
   "file_extension": ".py",
   "mimetype": "text/x-python",
   "name": "python",
   "nbconvert_exporter": "python",
   "pygments_lexer": "ipython3",
   "version": "3.10.6"
  }
 },
 "nbformat": 4,
 "nbformat_minor": 5
}
