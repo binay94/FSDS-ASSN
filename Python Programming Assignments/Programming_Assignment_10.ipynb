{
 "cells": [
  {
   "cell_type": "code",
   "execution_count": null,
   "id": "a7ac9913-0b85-498f-9a54-82552f936ba8",
   "metadata": {},
   "outputs": [],
   "source": [
    "1. Write a Python program to find sum of elements in list?"
   ]
  },
  {
   "cell_type": "code",
   "execution_count": 6,
   "id": "71a22527-8807-4d2c-82c0-cb26cba578e3",
   "metadata": {},
   "outputs": [
    {
     "name": "stdin",
     "output_type": "stream",
     "text": [
      "enter elements to list : 12,4,5,9\n"
     ]
    },
    {
     "name": "stdout",
     "output_type": "stream",
     "text": [
      "inputed list : [12, 4, 5, 9]\n",
      "sum of elements of list : 30\n"
     ]
    }
   ],
   "source": [
    "def listsum():\n",
    "    lst=[int(v) for v in input(\"enter elements to list :\").split(',')]\n",
    "    print(\"inputed list :\",lst)\n",
    "    s=0\n",
    "    for i in lst:\n",
    "        s+=i\n",
    "    print(\"sum of elements of list :\",s)\n",
    "listsum()"
   ]
  },
  {
   "cell_type": "code",
   "execution_count": null,
   "id": "cdda6d6a-3ea9-4317-85cc-398d6fba71b6",
   "metadata": {},
   "outputs": [],
   "source": [
    "2. Write a Python program to Multiply all numbers in the list?"
   ]
  },
  {
   "cell_type": "code",
   "execution_count": 7,
   "id": "50760b30-d645-414e-93ff-7305766b803b",
   "metadata": {},
   "outputs": [
    {
     "name": "stdin",
     "output_type": "stream",
     "text": [
      "enter elements to list : 12,4,5\n"
     ]
    },
    {
     "name": "stdout",
     "output_type": "stream",
     "text": [
      "inputed list : [12, 4, 5]\n",
      "multiplication of elements of list : 240\n"
     ]
    }
   ],
   "source": [
    "def listmul():\n",
    "    lst=[int(v) for v in input(\"enter elements to list :\").split(',')]\n",
    "    print(\"inputed list :\",lst)\n",
    "    m=1\n",
    "    for i in lst:\n",
    "        m=m*i\n",
    "    print(\"multiplication of elements of list :\",m)\n",
    "listmul()"
   ]
  },
  {
   "cell_type": "code",
   "execution_count": null,
   "id": "5fb8752f-3a2f-4ad4-bb3a-f802d5b8d4f9",
   "metadata": {},
   "outputs": [],
   "source": [
    "3. Write a Python program to find smallest number in a list?"
   ]
  },
  {
   "cell_type": "code",
   "execution_count": 19,
   "id": "ff151f80-bfaa-470b-b5a0-02e07e707a5e",
   "metadata": {
    "tags": []
   },
   "outputs": [
    {
     "name": "stdin",
     "output_type": "stream",
     "text": [
      "enter elements to list :  1,6,5,4,8,0\n"
     ]
    },
    {
     "name": "stdout",
     "output_type": "stream",
     "text": [
      "inputed list : [1, 6, 5, 4, 8, 0]\n",
      "smallest element in given list is 0\n"
     ]
    }
   ],
   "source": [
    "def listsmall():\n",
    "    lst=[int(v) for v in input(\"enter elements to list :\").split(',')]\n",
    "    print(\"inputed list :\",lst)\n",
    "    lst.sort()\n",
    "    print(f\"smallest element in given list is {lst[0]}\")\n",
    "listsmall()"
   ]
  },
  {
   "cell_type": "code",
   "execution_count": null,
   "id": "f1bb63e8-93ce-420a-9aeb-7dd1145a5ad7",
   "metadata": {},
   "outputs": [],
   "source": [
    "4. Write a Python program to find largest number in a list?"
   ]
  },
  {
   "cell_type": "code",
   "execution_count": 18,
   "id": "30aa0466-cad4-4107-9d3a-d3b4103700a9",
   "metadata": {},
   "outputs": [
    {
     "name": "stdin",
     "output_type": "stream",
     "text": [
      "enter elements to list :  1,6,5,4,8,0\n"
     ]
    },
    {
     "name": "stdout",
     "output_type": "stream",
     "text": [
      "inputed list : [1, 6, 5, 4, 8, 0]\n",
      "largest element in given list is 8\n"
     ]
    }
   ],
   "source": [
    "def listlarge():\n",
    "    lst=[int(v) for v in input(\"enter elements to list :\").split(',')]\n",
    "    print(\"inputed list :\",lst)\n",
    "    lst.sort()\n",
    "    print(f\"largest element in given list is {lst[-1]}\")\n",
    "listlarge()"
   ]
  },
  {
   "cell_type": "code",
   "execution_count": null,
   "id": "89bbd8d3-5839-450e-87da-ec325fdf6587",
   "metadata": {},
   "outputs": [],
   "source": [
    "5. Write a Python program to find second largest number in a list?"
   ]
  },
  {
   "cell_type": "code",
   "execution_count": 20,
   "id": "3f699969-29ae-4c80-b4ec-8861e8460c26",
   "metadata": {},
   "outputs": [
    {
     "name": "stdin",
     "output_type": "stream",
     "text": [
      "enter elements to list : 1,6,5,4,8,0\n"
     ]
    },
    {
     "name": "stdout",
     "output_type": "stream",
     "text": [
      "inputed list : [1, 6, 5, 4, 8, 0]\n",
      "Second largest element in given list is 6\n"
     ]
    }
   ],
   "source": [
    "def listlarge2():\n",
    "    lst=[int(v) for v in input(\"enter elements to list :\").split(',')]\n",
    "    print(\"inputed list :\",lst)\n",
    "    lst.sort()\n",
    "    print(f\"Second largest element in given list is {lst[-2]}\")\n",
    "listlarge2()"
   ]
  },
  {
   "cell_type": "code",
   "execution_count": null,
   "id": "5e2855a0-c4e6-44e9-b8d9-8e1744c941dc",
   "metadata": {},
   "outputs": [],
   "source": [
    "6. Write a Python program to find N largest elements from a list?"
   ]
  },
  {
   "cell_type": "code",
   "execution_count": 30,
   "id": "7a3ebdae-436f-409f-abbd-d83e34798742",
   "metadata": {},
   "outputs": [
    {
     "name": "stdin",
     "output_type": "stream",
     "text": [
      "enter elements to list : 1,6,5,4,8,0\n"
     ]
    },
    {
     "name": "stdout",
     "output_type": "stream",
     "text": [
      "inputed list : [1, 6, 5, 4, 8, 0]\n",
      "3 largest element in given list is [5, 6, 8]\n"
     ]
    }
   ],
   "source": [
    "def listlargeN(n):\n",
    "    lst=[int(v) for v in input(\"enter elements to list :\").split(',')]\n",
    "    print(\"inputed list :\",lst)\n",
    "    lst.sort()\n",
    "    print(\"{} largest element in given list is {}\".format(n,lst[-n:]))\n",
    "listlargeN(3)"
   ]
  },
  {
   "cell_type": "code",
   "execution_count": null,
   "id": "325741a2-5604-4329-b15a-e36a7c7fde13",
   "metadata": {},
   "outputs": [],
   "source": [
    "7. Write a Python program to print even numbers in a list?"
   ]
  },
  {
   "cell_type": "code",
   "execution_count": 32,
   "id": "11077b7a-9df6-49e7-b86b-028945bd28f0",
   "metadata": {},
   "outputs": [
    {
     "name": "stdin",
     "output_type": "stream",
     "text": [
      "enter elements to list : 1,2,3,4,6,77,48,99,102\n"
     ]
    },
    {
     "name": "stdout",
     "output_type": "stream",
     "text": [
      "inputed list : [1, 2, 3, 4, 6, 77, 48, 99, 102]\n",
      "even numbers list in [1, 2, 3, 4, 6, 77, 48, 99, 102] is [2, 4, 6, 48, 102]\n"
     ]
    }
   ],
   "source": [
    "def listeven():\n",
    "    lst=[int(v) for v in input(\"enter elements to list :\").split(',')]\n",
    "    print(\"inputed list :\",lst)\n",
    "    l=[]\n",
    "    for i in lst:\n",
    "        if i%2==0:\n",
    "            l.append(i)\n",
    "    print(f\"even numbers list in {lst} is {l}\")        \n",
    "listeven()"
   ]
  },
  {
   "cell_type": "code",
   "execution_count": null,
   "id": "f29fa1b1-1537-4091-bd8d-bff1ce784df9",
   "metadata": {},
   "outputs": [],
   "source": [
    "8. Write a Python program to print odd numbers in a List?"
   ]
  },
  {
   "cell_type": "code",
   "execution_count": 33,
   "id": "f2a53eae-5a16-484c-aaf7-7f57f060c72e",
   "metadata": {},
   "outputs": [
    {
     "name": "stdin",
     "output_type": "stream",
     "text": [
      "enter elements to list : 1,2,3,4,6,77,48,99,102\n"
     ]
    },
    {
     "name": "stdout",
     "output_type": "stream",
     "text": [
      "inputed list : [1, 2, 3, 4, 6, 77, 48, 99, 102]\n",
      "odd numbers list in [1, 2, 3, 4, 6, 77, 48, 99, 102] is [1, 3, 77, 99]\n"
     ]
    }
   ],
   "source": [
    "def listodd():\n",
    "    lst=[int(v) for v in input(\"enter elements to list :\").split(',')]\n",
    "    print(\"inputed list :\",lst)\n",
    "    l=[]\n",
    "    for i in lst:\n",
    "        if i%2!=0:\n",
    "            l.append(i)\n",
    "    print(f\"odd numbers list in {lst} is {l}\")        \n",
    "listodd()"
   ]
  },
  {
   "cell_type": "code",
   "execution_count": null,
   "id": "f52f06f7-aac5-4bd2-b9dd-1e1924b1b04d",
   "metadata": {},
   "outputs": [],
   "source": [
    "9. Write a Python program to Remove empty List from List?"
   ]
  },
  {
   "cell_type": "code",
   "execution_count": 42,
   "id": "0146635a-f4cc-40a3-bc66-9b1a0748747f",
   "metadata": {},
   "outputs": [
    {
     "name": "stdin",
     "output_type": "stream",
     "text": [
      "enter elements to list : 2,5,7,[],45,5\n"
     ]
    },
    {
     "name": "stdout",
     "output_type": "stream",
     "text": [
      "inputed list : [2, 5, 7, [], 45, 5]\n",
      "empty list is there in given list at 4 position \n",
      "list after removing empty list :  [2, 5, 7, 45, 5]\n"
     ]
    }
   ],
   "source": [
    "def relist():\n",
    "    lst=[eval(v) for v in input(\"enter elements to list :\").split(',')]\n",
    "    print(\"inputed list :\",lst)\n",
    "    if [] in lst:\n",
    "        print(f\"empty list is there in given list at {lst.index([])+1} position \")\n",
    "        lst.remove([])\n",
    "        print(\"list after removing empty list : \",lst)\n",
    "    else:\n",
    "        print(\"there is no empty list\")\n",
    "relist()"
   ]
  },
  {
   "cell_type": "code",
   "execution_count": null,
   "id": "96a013fa-23a5-4e6a-a0e9-9b1a85ccb285",
   "metadata": {},
   "outputs": [],
   "source": [
    "10. Write a Python program to Cloning or Copying a list?"
   ]
  },
  {
   "cell_type": "code",
   "execution_count": 44,
   "id": "96ef09a7-d2c8-453e-9fa7-7f737e612b18",
   "metadata": {},
   "outputs": [
    {
     "name": "stdin",
     "output_type": "stream",
     "text": [
      "enter elements to list : 12,32,42,52,66\n"
     ]
    },
    {
     "name": "stdout",
     "output_type": "stream",
     "text": [
      "given list :[12, 32, 42, 52, 66] with id 140577279267904\n",
      "Cloned list :[12, 32, 42, 52, 66] with id 140577279001600\n"
     ]
    }
   ],
   "source": [
    "def copylist():\n",
    "    lst=[eval(v) for v in input(\"enter elements to list :\").split(',')]\n",
    "    nlst=lst.copy()\n",
    "    print(\"given list :{} with id {}\".format(lst,id(lst)))\n",
    "    print(\"Cloned list :{} with id {}\".format(nlst,id(nlst)))\n",
    "copylist()    "
   ]
  },
  {
   "cell_type": "code",
   "execution_count": null,
   "id": "d390f05c-eb92-460a-a9b7-8d989084bc57",
   "metadata": {},
   "outputs": [],
   "source": [
    "11. Write a Python program to Count occurrences of an element in a list?"
   ]
  },
  {
   "cell_type": "code",
   "execution_count": 50,
   "id": "22c444a2-7731-4fc7-a859-7c53974fdd0b",
   "metadata": {},
   "outputs": [
    {
     "name": "stdin",
     "output_type": "stream",
     "text": [
      "enter elements to list : 21,12,45,4,5,6,1,3,1,45,21,1\n",
      "enter an element to search in the list 45\n"
     ]
    },
    {
     "name": "stdout",
     "output_type": "stream",
     "text": [
      "there is 2 occurences of 45 in the given list [21, 12, 45, 4, 5, 6, 1, 3, 1, 45, 21, 1]\n"
     ]
    }
   ],
   "source": [
    "def coe():\n",
    "    lst=[eval(v) for v in input(\"enter elements to list :\").split(',')]\n",
    "    n=eval(input(\"enter an element to search in the list\"))\n",
    "    count=0\n",
    "    if n in lst:\n",
    "        for i in lst:\n",
    "            if i==n:\n",
    "                count+=1\n",
    "        print(f\"there is {count} occurences of {n} in the given list {lst}\")\n",
    "coe()\n",
    "            "
   ]
  }
 ],
 "metadata": {
  "kernelspec": {
   "display_name": "Python 3 (ipykernel)",
   "language": "python",
   "name": "python3"
  },
  "language_info": {
   "codemirror_mode": {
    "name": "ipython",
    "version": 3
   },
   "file_extension": ".py",
   "mimetype": "text/x-python",
   "name": "python",
   "nbconvert_exporter": "python",
   "pygments_lexer": "ipython3",
   "version": "3.10.6"
  }
 },
 "nbformat": 4,
 "nbformat_minor": 5
}
