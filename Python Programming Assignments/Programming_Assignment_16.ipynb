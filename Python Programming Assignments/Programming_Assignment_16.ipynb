{
 "cells": [
  {
   "cell_type": "code",
   "execution_count": null,
   "id": "5d630dfb",
   "metadata": {},
   "outputs": [],
   "source": [
    "Question1. Write a function that stutters a word as if someone is struggling to read it. \n",
    "The first two letters are repeated twice with an ellipsis ... and space after each, \n",
    "and then the word is pronounced with a question mark ?\n",
    "Examples: stutter(\"incredible\") ➞ \"in... in... incredible?\"\n",
    "stutter(\"enthusiastic\") ➞ \"en... en... enthusiastic?\"\n",
    "stutter(\"outstanding\") ➞ \"ou... ou... outstanding?\"\n",
    "\n",
    "Hint :- Assume all input is in lower case and at least two characters long."
   ]
  },
  {
   "cell_type": "code",
   "execution_count": 1,
   "id": "1a34cce1",
   "metadata": {},
   "outputs": [
    {
     "name": "stdout",
     "output_type": "stream",
     "text": [
      "Enter a Word: enthusiastic\n"
     ]
    },
    {
     "data": {
      "text/plain": [
       "'Output: en... en... enthusiastic?'"
      ]
     },
     "execution_count": 1,
     "metadata": {},
     "output_type": "execute_result"
    }
   ],
   "source": [
    "def stutter():\n",
    "    word = input(\"Enter a Word: \")\n",
    "    return f\"Output: {word[:2]}... {word[:2]}... {word}?\"\n",
    "\n",
    "stutter()"
   ]
  },
  {
   "cell_type": "code",
   "execution_count": null,
   "id": "c44636cb",
   "metadata": {},
   "outputs": [],
   "source": [
    "Question 2.Create a function that takes an angle in radians and returns the corresponding\n",
    "angle in degrees rounded to one decimal place.\n",
    "Examples\n",
    "radians_to_degrees(1) ➞ 57.3\n",
    "radians_to_degrees(20) ➞ 1145.9\n",
    "radians_to_degrees(50) ➞ 2864.8"
   ]
  },
  {
   "cell_type": "code",
   "execution_count": 2,
   "id": "500ae155",
   "metadata": {},
   "outputs": [
    {
     "name": "stdout",
     "output_type": "stream",
     "text": [
      "Enter Angle in Radians: 50\n",
      "50.0 radians = 2864.8 degrees\n"
     ]
    }
   ],
   "source": [
    "import math\n",
    "\n",
    "def rad_to_deg():\n",
    "    angle_rad = float(input(\"Enter Angle in Radians: \"))\n",
    "    angle_deg = angle_rad * 180 / math.pi\n",
    "    return f\"{angle_rad} radians = {angle_deg:.1f} degrees\"\n",
    "\n",
    "print(rad_to_deg())\n"
   ]
  },
  {
   "cell_type": "code",
   "execution_count": null,
   "id": "2747cec3",
   "metadata": {},
   "outputs": [],
   "source": [
    "Question 3. In this challenge, establish if a given integer num is a Curzon number. If 1 plus\n",
    "2 elevated to num is exactly divisible by 1 plus 2 multiplied by num, then num is a Curzon\n",
    "number.\n",
    "Given a non-negative integer num, implement a function that returns True if num is a Curzon\n",
    "number, or False otherwise.\n",
    "Examples\n",
    "is_curzon(5) ➞ True\n",
    "# 2 ** 5 + 1 = 33\n",
    "# 2 * 5 + 1 = 11\n",
    "# 33 is a multiple of 11\n",
    "is_curzon(10) ➞ False\n",
    "# 2 ** 10 + 1 = 1025\n",
    "# 2 * 10 + 1 = 21\n",
    "# 1025 is not a multiple of 21\n",
    "is_curzon(14) ➞ True\n",
    "# 2 ** 14 + 1 = 16385\n",
    "# 2 * 14 + 1 = 29\n",
    "# 16385 is a multiple of 29\n"
   ]
  },
  {
   "cell_type": "code",
   "execution_count": 3,
   "id": "ea5a8ea6",
   "metadata": {},
   "outputs": [
    {
     "name": "stdout",
     "output_type": "stream",
     "text": [
      "Enter a Number: 14\n"
     ]
    },
    {
     "data": {
      "text/plain": [
       "True"
      ]
     },
     "execution_count": 3,
     "metadata": {},
     "output_type": "execute_result"
    }
   ],
   "source": [
    "def is_curzon_number():\n",
    "    num = int(input(\"Enter a Number: \"))\n",
    "    numerator = 2**num + 1\n",
    "    denominator = 2*num + 1\n",
    "    if numerator % denominator == 0:\n",
    "        return True\n",
    "    else:\n",
    "        return False\n",
    "\n",
    "is_curzon_number()\n",
    "\n"
   ]
  },
  {
   "cell_type": "code",
   "execution_count": null,
   "id": "ffe8da13",
   "metadata": {},
   "outputs": [],
   "source": [
    "Question 4.Given the side length x find the area of a hexagon.\n",
    "\n",
    "Examples\n",
    "area_of_hexagon(1) ➞ 2.6\n",
    "area_of_hexagon(2) ➞ 10.4\n",
    "area_of_hexagon(3) ➞ 23.4\n"
   ]
  },
  {
   "cell_type": "code",
   "execution_count": 4,
   "id": "5c8f75a0",
   "metadata": {},
   "outputs": [
    {
     "name": "stdout",
     "output_type": "stream",
     "text": [
      "Enter Length of side: 3\n",
      "Area of Hexagon having side length of 3.0 is 23.4\n"
     ]
    }
   ],
   "source": [
    "import math\n",
    "\n",
    "def area_of_hexagon():\n",
    "    x = float(input(\"Enter Length of side: \"))\n",
    "    area = (3 * math.sqrt(3) * x**2) / 2\n",
    "    return f\"Area of Hexagon having side length of {x} is {area:.1f}\"\n",
    "\n",
    "print(area_of_hexagon())\n"
   ]
  },
  {
   "cell_type": "code",
   "execution_count": null,
   "id": "26e7f7d6",
   "metadata": {},
   "outputs": [],
   "source": [
    "Create a function that returns a base-2 (binary) representation of a base-10 (decimal) string number. To convert is simple:\n",
    "((2) means base-2 and (10) means base-10)\n",
    "010101001(2) = 1 + 8 + 32 + 128.\n",
    "Going from right to left, the value of the most right bit is 1, now from that every bit to the left will be x2 the value, value of an 8 bit binary numbers are (256, 128, 64, 32, 16, 8, 4, 2, 1).\n",
    "Examples:\n",
    "binary(1) ➞ \"1\" # 1* 1 = 1 binary(5) ➞ \"101\" # 1 1 + 1 4 = 5 binary(10) ➞ \"1010\" # 1 2 + 1 8 = 10"
   ]
  },
  {
   "cell_type": "code",
   "execution_count": 5,
   "id": "ef4c8465",
   "metadata": {},
   "outputs": [
    {
     "name": "stdout",
     "output_type": "stream",
     "text": [
      "Enter decimal number: 10\n"
     ]
    },
    {
     "data": {
      "text/plain": [
       "'binary(10) = 1010'"
      ]
     },
     "execution_count": 5,
     "metadata": {},
     "output_type": "execute_result"
    }
   ],
   "source": [
    "def decimal_to_binary():\n",
    "    decimal_num = int(input(\"Enter decimal number: \"))\n",
    "    binary_num = bin(decimal_num)[2:]\n",
    "    return f\"binary({decimal_num}) = {binary_num}\"\n",
    "decimal_to_binary()\n"
   ]
  }
 ],
 "metadata": {
  "kernelspec": {
   "display_name": "Python 3 (ipykernel)",
   "language": "python",
   "name": "python3"
  },
  "language_info": {
   "codemirror_mode": {
    "name": "ipython",
    "version": 3
   },
   "file_extension": ".py",
   "mimetype": "text/x-python",
   "name": "python",
   "nbconvert_exporter": "python",
   "pygments_lexer": "ipython3",
   "version": "3.10.6"
  }
 },
 "nbformat": 4,
 "nbformat_minor": 5
}
