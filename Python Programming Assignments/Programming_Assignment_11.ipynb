{
 "cells": [
  {
   "cell_type": "markdown",
   "id": "f6689b46-164f-4279-8c39-4c4b5084970e",
   "metadata": {},
   "source": [
    "1. Write a Python program to find words which are greater than given length k?"
   ]
  },
  {
   "cell_type": "code",
   "execution_count": 6,
   "id": "62f9aecd",
   "metadata": {},
   "outputs": [
    {
     "name": "stdin",
     "output_type": "stream",
     "text": [
      "Enter Strings separated by comma :  binaya,kum,ar,pra,dhan\n",
      "Enter length of word:  3\n"
     ]
    },
    {
     "name": "stdout",
     "output_type": "stream",
     "text": [
      "words greater than 3 letter are : ['binaya', 'dhan']\n"
     ]
    }
   ],
   "source": [
    "def word_greater():\n",
    "    l=input(\"Enter Strings separated by comma : \")\n",
    "    k=int(input(\"Enter length of word: \"))\n",
    "    lst=[]\n",
    "    for i in l.split(','):\n",
    "        if(len(i)>k):\n",
    "            lst.append(i)\n",
    "    print(f'words greater than {k} letter are : {lst}')\n",
    "word_greater()"
   ]
  },
  {
   "cell_type": "markdown",
   "id": "15d4df06-5987-461b-a8bb-bddda46d326c",
   "metadata": {},
   "source": [
    "2. Write a Python program for removing i-th character from a string?"
   ]
  },
  {
   "cell_type": "code",
   "execution_count": 9,
   "id": "ffc02e7e",
   "metadata": {},
   "outputs": [
    {
     "name": "stdin",
     "output_type": "stream",
     "text": [
      "Enter a String:  binaya\n",
      "Enter index of character:  3\n"
     ]
    },
    {
     "name": "stdout",
     "output_type": "stream",
     "text": [
      "binya"
     ]
    }
   ],
   "source": [
    "def rem_char():    \n",
    "    s=input(\"Enter a String: \")\n",
    "    i=int(input(\"Enter index of character: \"))\n",
    "    l=list(s)\n",
    "    l.pop(i)\n",
    "    for j in l:\n",
    "        print(j, end=\"\")\n",
    "rem_char()"
   ]
  },
  {
   "cell_type": "code",
   "execution_count": 1,
   "id": "d306fa0f-8313-4ee7-9a17-dafa7786d74c",
   "metadata": {},
   "outputs": [
    {
     "name": "stdin",
     "output_type": "stream",
     "text": [
      "Enter a String:  binauya\n",
      "Enter index of character:  4\n"
     ]
    },
    {
     "name": "stdout",
     "output_type": "stream",
     "text": [
      "binaya\n"
     ]
    }
   ],
   "source": [
    "def rem_char():\n",
    "    s=input(\"Enter a String: \")\n",
    "    i=int(input(\"Enter index of character: \"))\n",
    "    res=''\n",
    "    for j in range(len(s)):\n",
    "        if j!=i:\n",
    "            res+=s[j]\n",
    "    print(res)\n",
    "rem_char()"
   ]
  },
  {
   "cell_type": "markdown",
   "id": "ef614764-8303-4323-b5a0-f8036867f1bd",
   "metadata": {},
   "source": [
    "3. Write a Python program to split and join a string?"
   ]
  },
  {
   "cell_type": "code",
   "execution_count": 2,
   "id": "915a8bdf",
   "metadata": {},
   "outputs": [
    {
     "name": "stdout",
     "output_type": "stream",
     "text": [
      "Write\n",
      "a\n",
      "Python\n",
      "program\n",
      "Write a Python program to split and join a string\n"
     ]
    }
   ],
   "source": [
    "def spl_join():\n",
    "    i=\"Write a Python program\"\n",
    "    j=\"to split and join a string\"\n",
    "    for k in i.split():\n",
    "        print(k,end = \"\\n\")\n",
    "    print(i+\" \"+j)\n",
    "spl_join()"
   ]
  },
  {
   "cell_type": "code",
   "execution_count": 5,
   "id": "bd5cb974-6111-4e87-aae1-1ed69ad4fcb0",
   "metadata": {},
   "outputs": [
    {
     "name": "stdin",
     "output_type": "stream",
     "text": [
      "Enter a line of string : Write a Python program to split and join a string\n"
     ]
    },
    {
     "name": "stdout",
     "output_type": "stream",
     "text": [
      "Splited strings : ['Write', 'a', 'Python', 'program', 'to', 'split', 'and', 'join', 'a', 'string']\n",
      "Joined strings : Write a Python program to split and join a string\n"
     ]
    }
   ],
   "source": [
    "def split_join():\n",
    "    i=input('Enter a line of string :')\n",
    "    print(f'Splited strings : {i.split()}')\n",
    "    print(f'Joined strings : {\" \".join(i.split())}')\n",
    "split_join()"
   ]
  },
  {
   "cell_type": "markdown",
   "id": "e57b1497-9069-424c-b4af-60330d9ea629",
   "metadata": {},
   "source": [
    "4. Write a Python to check if a given string is binary string or not?"
   ]
  },
  {
   "cell_type": "code",
   "execution_count": 11,
   "id": "ae95cb81",
   "metadata": {},
   "outputs": [
    {
     "name": "stdin",
     "output_type": "stream",
     "text": [
      "Enter a String:  100010101110\n"
     ]
    },
    {
     "name": "stdout",
     "output_type": "stream",
     "text": [
      "100010101110 is a Binary String\n"
     ]
    },
    {
     "name": "stdin",
     "output_type": "stream",
     "text": [
      "Enter a String:  B101010001\n"
     ]
    },
    {
     "name": "stdout",
     "output_type": "stream",
     "text": [
      "B101010001 is Not a Binary String\n"
     ]
    }
   ],
   "source": [
    "def check_bin():   \n",
    "    l=input(\"Enter a String: \")\n",
    "    if(l.count('0')+l.count('1')==len(l)):\n",
    "        print(f\"{l} is a Binary String\")\n",
    "    else:\n",
    "        print(f\"{l} is Not a Binary String\")\n",
    "check_bin()\n",
    "check_bin()"
   ]
  },
  {
   "cell_type": "code",
   "execution_count": 13,
   "id": "f78b3ace",
   "metadata": {},
   "outputs": [
    {
     "name": "stdin",
     "output_type": "stream",
     "text": [
      "Enter a String:  10020001\n"
     ]
    },
    {
     "name": "stdout",
     "output_type": "stream",
     "text": [
      "10020001 is Not a Binary String\n"
     ]
    },
    {
     "name": "stdin",
     "output_type": "stream",
     "text": [
      "Enter a String:  100111111\n"
     ]
    },
    {
     "name": "stdout",
     "output_type": "stream",
     "text": [
      "100111111 is a Binary String\n"
     ]
    }
   ],
   "source": [
    "def bin_check():    \n",
    "    l=input(\"Enter a String: \")\n",
    "    s=set(l)\n",
    "    if s=={'0','1'} or s=={'0'} or s=={'1'}:\n",
    "        print(f\"{l} is a Binary String\")\n",
    "    else:\n",
    "        print(f\"{l} is Not a Binary String\")\n",
    "bin_check()\n",
    "bin_check()"
   ]
  },
  {
   "cell_type": "markdown",
   "id": "53312f14-699a-4b93-bbfa-9dc575b53eeb",
   "metadata": {},
   "source": [
    "5. Write a Python program to find uncommon words from two Strings"
   ]
  },
  {
   "cell_type": "code",
   "execution_count": 18,
   "id": "accc4cce",
   "metadata": {},
   "outputs": [
    {
     "name": "stdin",
     "output_type": "stream",
     "text": [
      "Enter 1st String:  binaya kumar pradhan\n",
      "Enter 2nd String:  binaya pradhan\n"
     ]
    },
    {
     "name": "stdout",
     "output_type": "stream",
     "text": [
      "binaya kumar pradhan \n",
      " binaya pradhan \n",
      "uncommon strings : ['kumar']\n"
     ]
    }
   ],
   "source": [
    "def uncommon():    \n",
    "    s1=input(\"Enter 1st String: \")\n",
    "    s2=input(\"Enter 2nd String: \")\n",
    "    lst=[]\n",
    "    for i in s1.split(\" \"):\n",
    "        if i not in s2: \n",
    "            lst.append(i)\n",
    "    for i in s2.split(\" \"):\n",
    "        if i not in s1: \n",
    "            lst.append(i)\n",
    "    print(s1,\"\\n\",s2,\"\\nuncommon strings :\",lst)  \n",
    "uncommon()"
   ]
  },
  {
   "cell_type": "code",
   "execution_count": 19,
   "id": "caeeae09",
   "metadata": {},
   "outputs": [
    {
     "name": "stdin",
     "output_type": "stream",
     "text": [
      "Enter 1st String:  b i n a y a k\n",
      "Enter 2nd String:  k u m a r\n"
     ]
    },
    {
     "name": "stdout",
     "output_type": "stream",
     "text": [
      "un common strings :{'u', 'r', 'b', 'm', 'y', 'i', 'n'}\n"
     ]
    }
   ],
   "source": [
    "def str_uncom():   \n",
    "    s1=set(input(\"Enter 1st String: \").split(\" \"))\n",
    "    s2=set(input(\"Enter 2nd String: \").split(\" \"))\n",
    "    r=s1.symmetric_difference(s2)\n",
    "    print(f'un common strings :{r}')\n",
    "str_uncom()"
   ]
  },
  {
   "cell_type": "markdown",
   "id": "387ce182-07dd-46a3-a353-9c1a9801af97",
   "metadata": {},
   "source": [
    "6. Write a Python to find all duplicate characters in string?"
   ]
  },
  {
   "cell_type": "code",
   "execution_count": 21,
   "id": "26c5800f",
   "metadata": {},
   "outputs": [
    {
     "name": "stdin",
     "output_type": "stream",
     "text": [
      "Enter a String:  duplicate\n"
     ]
    },
    {
     "name": "stdout",
     "output_type": "stream",
     "text": [
      "Duplicate charactes available in the string are:\n",
      " []\n"
     ]
    }
   ],
   "source": [
    "def dup_char():\n",
    "    s=input(\"Enter a String: \")\n",
    "    lst=[]\n",
    "    for i in s:\n",
    "        if s.count(i)>1 and i not in lst:\n",
    "            lst.append(i)\n",
    "    print(\"Duplicate charactes available in the string are:\\n\",lst) \n",
    "dup_char()"
   ]
  },
  {
   "cell_type": "code",
   "execution_count": 22,
   "id": "5784189f-9781-4bed-8a5e-20780d095959",
   "metadata": {},
   "outputs": [
    {
     "name": "stdin",
     "output_type": "stream",
     "text": [
      "enter a string :  character\n"
     ]
    },
    {
     "name": "stdout",
     "output_type": "stream",
     "text": [
      "duplicate characters in character : ['c', 'r', 'a']\n"
     ]
    }
   ],
   "source": [
    "def dupl_char():   \n",
    "    s=input(\"enter a string : \")\n",
    "    dl=[]\n",
    "    ndl=[]\n",
    "    for i in s:\n",
    "        if i not in ndl:\n",
    "            ndl.append(i)\n",
    "        else:\n",
    "            dl.append(i)\n",
    "    print(f\"duplicate characters in {s} : {list(set(dl))}\")\n",
    "dupl_char()"
   ]
  },
  {
   "cell_type": "markdown",
   "id": "da843b56-4021-4e81-aaf2-cc41c3365c8e",
   "metadata": {},
   "source": [
    "7. Write a Python Program to check if a string contains any special character?"
   ]
  },
  {
   "cell_type": "code",
   "execution_count": 27,
   "id": "d40f74a3",
   "metadata": {},
   "outputs": [
    {
     "name": "stdin",
     "output_type": "stream",
     "text": [
      "Enter a String:  defin@tion\n"
     ]
    },
    {
     "name": "stdout",
     "output_type": "stream",
     "text": [
      "defin@tion contains the following special character(s) :\n",
      " ['@']\n"
     ]
    }
   ],
   "source": [
    "def is_spcl_char():\n",
    "    import re\n",
    "    s=input(\"Enter a String: \")\n",
    "    r=re.findall('\\W',s)\n",
    "    if len(r)==0:\n",
    "        print(f\"{s} contains no special character\")\n",
    "    else:\n",
    "        print(f\"{s} contains the following special character(s) :\\n {r}\")\n",
    "is_spcl_char()"
   ]
  }
 ],
 "metadata": {
  "kernelspec": {
   "display_name": "Python 3 (ipykernel)",
   "language": "python",
   "name": "python3"
  },
  "language_info": {
   "codemirror_mode": {
    "name": "ipython",
    "version": 3
   },
   "file_extension": ".py",
   "mimetype": "text/x-python",
   "name": "python",
   "nbconvert_exporter": "python",
   "pygments_lexer": "ipython3",
   "version": "3.10.6"
  }
 },
 "nbformat": 4,
 "nbformat_minor": 5
}
