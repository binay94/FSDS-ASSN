{
 "cells": [
  {
   "cell_type": "code",
   "execution_count": null,
   "id": "edd479e6",
   "metadata": {},
   "outputs": [],
   "source": [
    "Question1. Create a function that takes three arguments a, b, c and returns the sum of the\n",
    "numbers that are evenly divided by c from the range a, b inclusive.\n",
    "Examples\n",
    "evenly_divisible(1, 10, 20) ➞ 0\n",
    "# No number between 1 and 10 can be evenly divided by 20.\n",
    "evenly_divisible(1, 10, 2) ➞ 30\n",
    "# 2 + 4 + 6 + 8 + 10 = 30\n",
    "evenly_divisible(1, 10, 3) ➞ 18\n",
    "# 3 + 6 + 9 = 18"
   ]
  },
  {
   "cell_type": "code",
   "execution_count": 1,
   "id": "bac8dd6d",
   "metadata": {},
   "outputs": [
    {
     "name": "stdout",
     "output_type": "stream",
     "text": [
      "Enter Start of Range: 1\n",
      "Enter End of Range: 10\n",
      "Enter a Number: 3\n",
      "(1, 10, 3) ➞ 18\n"
     ]
    }
   ],
   "source": [
    "def sum_divisible_by_c():\n",
    "    a = int(input(\"Enter Start of Range: \"))\n",
    "    b = int(input(\"Enter End of Range: \"))\n",
    "    c = int(input(\"Enter a Number: \"))\n",
    "    total = 0\n",
    "    for i in range(a, b+1):\n",
    "        if i % c == 0:\n",
    "            total += i\n",
    "    return (a, b, c, total)\n",
    "\n",
    "result = sum_divisible_by_c()\n",
    "print(f\"{result[:3]} ➞ {result[3]}\")\n",
    "\n"
   ]
  },
  {
   "cell_type": "code",
   "execution_count": null,
   "id": "a5a17857",
   "metadata": {},
   "outputs": [],
   "source": [
    "Question2.Create a function that returns True if a given inequality expression is correct and False otherwise ?\n",
    "Examples:\n",
    "correct_signs(\"3 < 7 < 11\") ➞ True\n",
    "correct_signs(\"13 > 44 > 33 > 1\") ➞ False\n",
    "correct_signs(\"1 < 2 < 6 < 9 > 3\") ➞ True"
   ]
  },
  {
   "cell_type": "code",
   "execution_count": 2,
   "id": "36c998f3",
   "metadata": {},
   "outputs": [
    {
     "name": "stdout",
     "output_type": "stream",
     "text": [
      "Enter an Expression: 1 < 2 < 6 < 9 > 3\n"
     ]
    },
    {
     "data": {
      "text/plain": [
       "'(1 < 2 < 6 < 9 > 3) ➞ True'"
      ]
     },
     "execution_count": 2,
     "metadata": {},
     "output_type": "execute_result"
    }
   ],
   "source": [
    "def check_inequality():\n",
    "    expression=input(\"Enter an Expression: \")\n",
    "    return f\"({expression}) ➞ {eval(expression)}\"\n",
    "check_inequality()"
   ]
  },
  {
   "cell_type": "code",
   "execution_count": null,
   "id": "9a4b5eac",
   "metadata": {},
   "outputs": [],
   "source": [
    "Question3.Create a function that replaces all the vowels in a string with a specified character ?\n",
    "Examples:\n",
    "replace_vowels(\"the aardvark\", \"#\") ➞ \"th# ##rdv#rk\"\n",
    "replace_vowels(\"minnie mouse\", \"?\") ➞ \"m?nn?? m??s?\"\n",
    "replace_vowels(\"shakespeare\", \"*\") ➞ \"shksp**r\""
   ]
  },
  {
   "cell_type": "code",
   "execution_count": 3,
   "id": "70d994cb",
   "metadata": {},
   "outputs": [
    {
     "name": "stdout",
     "output_type": "stream",
     "text": [
      "Enter a String: the aardvark\n",
      "Enter replacement character: #\n"
     ]
    },
    {
     "data": {
      "text/plain": [
       "'(the aardvark,#) ➞ th# ##rdv#rk'"
      ]
     },
     "execution_count": 3,
     "metadata": {},
     "output_type": "execute_result"
    }
   ],
   "source": [
    "def replace_vowels():\n",
    "    string=input(\"Enter a String: \")\n",
    "    replacement= input(\"Enter replacement character: \")\n",
    "    vowels = \"aeiouAEIOU\"\n",
    "    result = \"\"\n",
    "    for char in string:\n",
    "        if char in vowels:\n",
    "            result += replacement\n",
    "        else:\n",
    "            result += char\n",
    "    return f\"({string},{replacement}) ➞ {result}\"\n",
    "    \n",
    "replace_vowels()\n",
    "      "
   ]
  },
  {
   "cell_type": "code",
   "execution_count": null,
   "id": "243a3af4",
   "metadata": {},
   "outputs": [],
   "source": [
    "Question4. Write a function that calculates the factorial of a number recursively.\n",
    "Examples\n",
    "factorial(5) ➞ 120\n",
    "factorial(3) ➞ 6\n",
    "factorial(1) ➞ 1\n",
    "factorial(0) ➞ 1"
   ]
  },
  {
   "cell_type": "code",
   "execution_count": 4,
   "id": "605319a5",
   "metadata": {},
   "outputs": [
    {
     "name": "stdout",
     "output_type": "stream",
     "text": [
      "Enter a number:5\n",
      "Factorial of 5 ➞ 120\n"
     ]
    }
   ],
   "source": [
    "def factorial(n):\n",
    "    if n == 0:\n",
    "        return 1\n",
    "    else:\n",
    "        return n * factorial(n-1)\n",
    "n = int(input(\"Enter a number:\"))\n",
    "result = factorial(n)\n",
    "print(f\"Factorial of {n} ➞ {result}\")"
   ]
  },
  {
   "cell_type": "code",
   "execution_count": null,
   "id": "f8adbea2",
   "metadata": {},
   "outputs": [],
   "source": [
    "Question5.Hamming distance is the number of characters that differ between two strings ?\n",
    "To illustrate:\n",
    "String1: \"abcbba\"\n",
    "String2: \"abcbda\"\n",
    "Hamming Distance: 1 - \"b\" vs. \"d\" is the only difference.\n",
    "Create a function that computes the hamming distance between two strings.\n",
    "Examples:\n",
    "hamming_distance(\"abcde\", \"bcdef\") ➞ 5\n",
    "hamming_distance(\"abcde\", \"abcde\") ➞ 0\n",
    "hamming_distance(\"strong\", \"strung\") ➞ 1"
   ]
  },
  {
   "cell_type": "code",
   "execution_count": 5,
   "id": "1e46293c",
   "metadata": {},
   "outputs": [
    {
     "name": "stdout",
     "output_type": "stream",
     "text": [
      "Enter First String: abcde\n",
      "Enter Second String: bcdef\n",
      "The Hamming distance between abcde and bcdef ➞ 5\n"
     ]
    }
   ],
   "source": [
    "def hamming_distance(str1, str2):\n",
    "    if len(str1) != len(str2):\n",
    "        raise ValueError(\"Strings must have equal length\")\n",
    "    distance = 0\n",
    "    for i in range(len(str1)):\n",
    "        if str1[i] != str2[i]:\n",
    "            distance += 1\n",
    "    return distance\n",
    "str1 = input(\"Enter First String: \")\n",
    "str2 = input(\"Enter Second String: \")\n",
    "distance = hamming_distance(str1, str2)\n",
    "print(f\"The Hamming distance between {str1} and {str2} ➞ {distance}\")"
   ]
  }
 ],
 "metadata": {
  "kernelspec": {
   "display_name": "Python 3 (ipykernel)",
   "language": "python",
   "name": "python3"
  },
  "language_info": {
   "codemirror_mode": {
    "name": "ipython",
    "version": 3
   },
   "file_extension": ".py",
   "mimetype": "text/x-python",
   "name": "python",
   "nbconvert_exporter": "python",
   "pygments_lexer": "ipython3",
   "version": "3.10.6"
  }
 },
 "nbformat": 4,
 "nbformat_minor": 5
}
