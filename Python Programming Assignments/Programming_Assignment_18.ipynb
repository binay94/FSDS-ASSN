{
 "cells": [
  {
   "cell_type": "code",
   "execution_count": null,
   "id": "e9b07cf9",
   "metadata": {},
   "outputs": [],
   "source": [
    "1.Create a function that takes a list of non-negative integers and strings and return a new list without the strings ?\n",
    "Examples:\n",
    "filter_list([1, 2, \"a\", \"b\"]) ➞ [1, 2]\n",
    "filter_list([1, \"a\", \"b\", 0, 15]) ➞ [1, 0, 15]\n",
    "filter_list([1, 2, \"aasf\", \"1\", \"123\", 123]) ➞ [1, 2, 123]"
   ]
  },
  {
   "cell_type": "code",
   "execution_count": 1,
   "id": "a9761e30",
   "metadata": {},
   "outputs": [
    {
     "name": "stdout",
     "output_type": "stream",
     "text": [
      "Entered List:[1, 2, 'aasf', '1', '123', 123] ➞ Filtered Values:[1, 2, 123]\n"
     ]
    }
   ],
   "source": [
    "def filter_integers(lst):\n",
    "    \n",
    "    filter = [x for x in lst if isinstance(x, int)]\n",
    "    return filter\n",
    "lst=[1, 2, \"aasf\", \"1\", \"123\", 123]\n",
    "result=filter_integers(lst)\n",
    "print(f\"Entered List:{lst} ➞ Filtered Values:{result}\")"
   ]
  },
  {
   "cell_type": "code",
   "execution_count": null,
   "id": "6dce4c06",
   "metadata": {},
   "outputs": [],
   "source": [
    "2. The \"Reverser\" takes a string as input and returns that string in reverse order, with the opposite case ?\n",
    "Examples:\n",
    "reverse(\"Hello World\") ➞ \"DLROw OLLEh\"\n",
    "reverse(\"ReVeRsE\") ➞ \"eSrEvEr\"\n",
    "reverse(\"Radar\") ➞ \"RADAr\""
   ]
  },
  {
   "cell_type": "code",
   "execution_count": 2,
   "id": "d9507269",
   "metadata": {},
   "outputs": [
    {
     "name": "stdout",
     "output_type": "stream",
     "text": [
      "Enter a String: ReVeRsE\n"
     ]
    },
    {
     "data": {
      "text/plain": [
       "'Output: eSrEvEr'"
      ]
     },
     "execution_count": 2,
     "metadata": {},
     "output_type": "execute_result"
    }
   ],
   "source": [
    "def reverser():\n",
    "    string=input(\"Enter a String: \")\n",
    "    reversed_string = string[::-1].swapcase()\n",
    "    return f\"Output: {reversed_string}\"\n",
    "reverser()"
   ]
  },
  {
   "cell_type": "code",
   "execution_count": null,
   "id": "1a99c919",
   "metadata": {},
   "outputs": [],
   "source": [
    "3.You can assign variables from lists like this:\n",
    "lst = [1, 2, 3, 4, 5, 6] \n",
    "first = lst[0] middle = lst[1:-1] last = lst[-1] \n",
    "print(first) ➞ outputs 1 print(middle) ➞ outputs [2, 3, 4, 5] print(last) ➞ outputs 6\n",
    "With Python 3, you can assign variables from lists in a much more succinct way. Create variables first, middle and last from the given list using destructuring assignment\n",
    "(check the Resources tab for some examples), where:\n",
    "first ➞ 1 middle ➞ [2, 3, 4, 5] last ➞ 6\n",
    "Your task is to unpack the list writeyourcodehere into three variables, being first, middle, and last, with middle being everything in between the first and last element. Then print all three variables."
   ]
  },
  {
   "cell_type": "code",
   "execution_count": 3,
   "id": "7062358f",
   "metadata": {},
   "outputs": [
    {
     "name": "stdout",
     "output_type": "stream",
     "text": [
      "First: 1\n",
      "Middle: [2, 3, 4, 5]\n",
      "Last: 6\n"
     ]
    }
   ],
   "source": [
    "first,*middle,last=[1,2,3,4,5,6]\n",
    "print(f\"First: {first}\\nMiddle: {middle}\\nLast: {last}\")"
   ]
  },
  {
   "cell_type": "code",
   "execution_count": null,
   "id": "4872ccb2",
   "metadata": {},
   "outputs": [],
   "source": [
    "4.Write a function that calculates the factorial of a number recursively.\n",
    "Examples:\n",
    "factorial(5) ➞ 120\n",
    "factorial(3) ➞ 6\n",
    "factorial(1) ➞ 1\n",
    "factorial(0) ➞ 1"
   ]
  },
  {
   "cell_type": "code",
   "execution_count": 4,
   "id": "909a5348",
   "metadata": {},
   "outputs": [
    {
     "name": "stdout",
     "output_type": "stream",
     "text": [
      "Enter a number:5\n",
      "Factorial of 5 ➞ 120\n"
     ]
    }
   ],
   "source": [
    "def factorial(n):\n",
    "    if n == 0:\n",
    "        return 1\n",
    "    else:\n",
    "        return n * factorial(n-1)\n",
    "n = int(input(\"Enter a number:\"))\n",
    "result = factorial(n)\n",
    "print(f\"Factorial of {n} ➞ {result}\")"
   ]
  },
  {
   "cell_type": "code",
   "execution_count": null,
   "id": "7808e3b8",
   "metadata": {},
   "outputs": [],
   "source": [
    "5.Write a function that moves all elements of one type to the end of the list.\n",
    "Examples:\n",
    "move_to_end([1, 3, 2, 4, 4, 1], 1) ➞ [3, 2, 4, 4, 1, 1]\n",
    "# Move all the 1s to the end of the array.\n",
    "move_to_end([7, 8, 9, 1, 2, 3, 4], 9) ➞ [7, 8, 1, 2, 3, 4, 9]\n",
    "move_to_end([\"a\", \"a\", \"a\", \"b\"], \"a\") ➞ [\"b\", \"a\", \"a\", \"a\"]"
   ]
  },
  {
   "cell_type": "code",
   "execution_count": 5,
   "id": "3fbbb558",
   "metadata": {},
   "outputs": [
    {
     "data": {
      "text/plain": [
       "['b', 'a', 'a', 'a']"
      ]
     },
     "execution_count": 5,
     "metadata": {},
     "output_type": "execute_result"
    }
   ],
   "source": [
    "def move_elements_to_end(lst, element):\n",
    "    result = []\n",
    "    end = []\n",
    "    for i in lst:\n",
    "        if i == element:\n",
    "            end.append(i)\n",
    "        else:\n",
    "            result.append(i)\n",
    "    return result + end\n",
    "lst=[\"a\", \"a\", \"a\", \"b\"]\n",
    "ele=\"a\"\n",
    "move_elements_to_end(lst,ele)"
   ]
  }
 ],
 "metadata": {
  "kernelspec": {
   "display_name": "Python 3 (ipykernel)",
   "language": "python",
   "name": "python3"
  },
  "language_info": {
   "codemirror_mode": {
    "name": "ipython",
    "version": 3
   },
   "file_extension": ".py",
   "mimetype": "text/x-python",
   "name": "python",
   "nbconvert_exporter": "python",
   "pygments_lexer": "ipython3",
   "version": "3.10.6"
  }
 },
 "nbformat": 4,
 "nbformat_minor": 5
}
