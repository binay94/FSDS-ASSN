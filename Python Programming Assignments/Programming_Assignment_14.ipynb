{
 "cells": [
  {
   "cell_type": "code",
   "execution_count": null,
   "id": "12531b0c-b867-4ed7-bbc1-1c44d3d48f62",
   "metadata": {},
   "outputs": [],
   "source": [
    "Question 1:\n",
    "Define a class with a generator which can iterate the numbers, which are divisible by\n",
    "7, between a given range 0 and n."
   ]
  },
  {
   "cell_type": "code",
   "execution_count": 1,
   "id": "7d1c054b",
   "metadata": {},
   "outputs": [
    {
     "name": "stdout",
     "output_type": "stream",
     "text": [
      "0\n",
      "7\n",
      "14\n",
      "21\n",
      "28\n",
      "35\n",
      "42\n",
      "49\n",
      "56\n",
      "63\n",
      "70\n",
      "77\n",
      "84\n",
      "91\n",
      "98\n"
     ]
    }
   ],
   "source": [
    "class DivisibleBySeven:\n",
    "    def __init__(self, n):\n",
    "        self.n = n\n",
    "\n",
    "    def numbers(self):\n",
    "        for i in range(self.n + 1):\n",
    "            if i % 7 == 0:\n",
    "                yield i\n",
    "                \n",
    "                \n",
    "divisible_by_seven = DivisibleBySeven(100)\n",
    "\n",
    "for number in divisible_by_seven.numbers():\n",
    "    print(number)\n",
    "\n"
   ]
  },
  {
   "cell_type": "code",
   "execution_count": null,
   "id": "31b107e8",
   "metadata": {},
   "outputs": [],
   "source": [
    "Question 2:\n",
    "Write a program to compute the frequency of the words from the input. The output\n",
    "should output after sorting the key alphanumerically.\n",
    "Suppose the following input is supplied to the program:\n",
    "New to Python or choosing between Python 2 and Python 3? Read Python 2 or\n",
    "Python 3.\n",
    "Then, the output should be:\n",
    "2:2 \n",
    "3.:1\n",
    "3?:1\n",
    "New:1\n",
    "Python:5\n",
    "Read:1\n",
    "and:1\n",
    "between:1\n",
    "choosing:1\n",
    "or:2\n",
    "to:1"
   ]
  },
  {
   "cell_type": "code",
   "execution_count": 2,
   "id": "84eca823",
   "metadata": {},
   "outputs": [
    {
     "name": "stdout",
     "output_type": "stream",
     "text": [
      "Enter text: New to Python or choosing between Python 2 and Python 3? Read Python 2 or Python 3.\n",
      "Output:\n",
      "2:2\n",
      "3.:1\n",
      "3?:1\n",
      "New:1\n",
      "Python:5\n",
      "Read:1\n",
      "and:1\n",
      "between:1\n",
      "choosing:1\n",
      "or:2\n",
      "to:1\n"
     ]
    }
   ],
   "source": [
    "text = input(\"Enter text: \")\n",
    "words = text.split()\n",
    "word_freq = {}\n",
    "\n",
    "for word in words:\n",
    "    if word not in word_freq:\n",
    "        word_freq[word] = 1\n",
    "    else:\n",
    "        word_freq[word] += 1\n",
    "\n",
    "sorted_words = sorted(word_freq.keys())\n",
    "print(\"Output:\")\n",
    "for word in sorted_words:\n",
    "    \n",
    "    print(f\"{word}:{word_freq[word]}\")"
   ]
  },
  {
   "cell_type": "code",
   "execution_count": null,
   "id": "17c101cf",
   "metadata": {},
   "outputs": [],
   "source": [
    "Question 3:\n",
    "Define a class Person and its two child classes: Male and Female. All classes have a method \"getGender\" which can print \"Male\" \n",
    "for Male class and \"Female\" for Female class. "
   ]
  },
  {
   "cell_type": "code",
   "execution_count": 3,
   "id": "d0f89efe",
   "metadata": {},
   "outputs": [
    {
     "name": "stdout",
     "output_type": "stream",
     "text": [
      "Male\n",
      "Female\n"
     ]
    }
   ],
   "source": [
    "class Person:\n",
    "    def getGender(self):\n",
    "        pass\n",
    "\n",
    "class Male(Person):\n",
    "    def getGender(self):\n",
    "        print(\"Male\")\n",
    "\n",
    "class Female(Person):\n",
    "    def getGender(self):\n",
    "        print(\"Female\")\n",
    "male = Male()\n",
    "female = Female()\n",
    "\n",
    "male.getGender()  \n",
    "female.getGender() \n"
   ]
  },
  {
   "cell_type": "code",
   "execution_count": null,
   "id": "59618fa7",
   "metadata": {},
   "outputs": [],
   "source": [
    "Question 4:\n",
    "write a program to generate all sentences where subject is in [\"I\", \"You\"] and verb is in [\"Play\", \"Love\"] \n",
    "and the object is in [\"Hockey\",\"Football\"] "
   ]
  },
  {
   "cell_type": "code",
   "execution_count": 4,
   "id": "4e4ac1fa",
   "metadata": {},
   "outputs": [
    {
     "name": "stdout",
     "output_type": "stream",
     "text": [
      "I Play Hockey.\n",
      "I Play Football.\n",
      "I Love Hockey.\n",
      "I Love Football.\n",
      "You Play Hockey.\n",
      "You Play Football.\n",
      "You Love Hockey.\n",
      "You Love Football.\n"
     ]
    }
   ],
   "source": [
    "subjects = [\"I\", \"You\"]\n",
    "verbs = [\"Play\", \"Love\"]\n",
    "objects = [\"Hockey\", \"Football\"]\n",
    "sentences = []\n",
    "def gen_sentence():\n",
    "    for subject in subjects:\n",
    "        for verb in verbs:\n",
    "            for obj in objects:\n",
    "                sentence = f\"{subject} {verb} {obj}.\"\n",
    "                sentences.append(sentence)\n",
    "    for sentence in sentences:\n",
    "        print(sentence)\n",
    "        \n",
    "gen_sentence()\n"
   ]
  },
  {
   "cell_type": "code",
   "execution_count": null,
   "id": "f9ec0073",
   "metadata": {},
   "outputs": [],
   "source": [
    "Question 5:\n",
    "write a program to compress and decompress the string \"hello world!hello world!hello world!hello world!\""
   ]
  },
  {
   "cell_type": "code",
   "execution_count": 5,
   "id": "27a77898",
   "metadata": {},
   "outputs": [
    {
     "name": "stdout",
     "output_type": "stream",
     "text": [
      "Enter a string: hello world!hello world!hello world!hello world!\n",
      "Compressed String:\n",
      " hel2o world!hel2o world!hel2o world!hel2o world!\n",
      "Decompressed String:\n",
      " hello world!hello world!hello world!hello world!\n"
     ]
    }
   ],
   "source": [
    "in_string = input(\"Enter a string: \")\n",
    "\n",
    "def compress(string):\n",
    "    output = string[0]\n",
    "    count = 1\n",
    "    for i in range(len(string)-1):\n",
    "        if string[i] == string[i+1]:\n",
    "            count +=1\n",
    "        else:\n",
    "            if count > 1:\n",
    "                output += str(count)\n",
    "            output += string[i+1]\n",
    "            count = 1\n",
    "    if count > 1:\n",
    "        output += str(count)            \n",
    "    print(\"Compressed String:\\n\",output)\n",
    "\n",
    "\n",
    "def decompress(string):\n",
    "    output = ''\n",
    "    for i in range(len(string)):\n",
    "        if string[i].isdigit():\n",
    "            output += output[-1]*(int(string[i])-1)\n",
    "        else:\n",
    "            output += string[i]\n",
    "    print(\"Decompressed String:\\n\",output)\n",
    "    \n",
    "compress(in_string)\n",
    "decompress(in_string)\n",
    "\n",
    "   "
   ]
  },
  {
   "cell_type": "code",
   "execution_count": null,
   "id": "f4beca54",
   "metadata": {},
   "outputs": [],
   "source": [
    "Question 6:\n",
    "Please write a binary search function which searches an item in a sorted list. The function should return the\n",
    "index of element to be searched in the list."
   ]
  },
  {
   "cell_type": "code",
   "execution_count": 6,
   "id": "70d1de64",
   "metadata": {},
   "outputs": [],
   "source": [
    "def input_array():\n",
    "    arr = [int(v) for v in input(\"Enter elements separated by commas: \").split(\",\")]\n",
    "    arr.sort()\n",
    "    print(\"Sorted Array: \",arr)\n",
    "    return arr\n",
    "\n",
    "def binary_search(arr, x):\n",
    "    low = 0\n",
    "    high = len(arr) - 1\n",
    "    \n",
    "    while low <= high:\n",
    "        mid = (low + high) // 2\n",
    "        \n",
    "        if arr[mid] == x:\n",
    "            return mid\n",
    "        \n",
    "        elif arr[mid] < x:\n",
    "            low = mid + 1\n",
    "        \n",
    "        else:\n",
    "            high = mid - 1\n",
    "    \n",
    "    return -1\n",
    "\n"
   ]
  },
  {
   "cell_type": "code",
   "execution_count": 7,
   "id": "1857e189",
   "metadata": {},
   "outputs": [
    {
     "name": "stdout",
     "output_type": "stream",
     "text": [
      "Enter elements separated by commas: 1,3,5,31,111,27\n",
      "Sorted Array:  [1, 3, 5, 27, 31, 111]\n",
      "Enter the search element: 27\n",
      "Element found at index 3\n"
     ]
    }
   ],
   "source": [
    "arr = input_array()\n",
    "x = int(input(\"Enter the search element: \"))\n",
    "index = binary_search(arr, x)\n",
    "if index == -1:\n",
    "    print(\"Element not found\")\n",
    "else:\n",
    "    print(f\"Element found at index {index}\")"
   ]
  }
 ],
 "metadata": {
  "kernelspec": {
   "display_name": "Python 3 (ipykernel)",
   "language": "python",
   "name": "python3"
  },
  "language_info": {
   "codemirror_mode": {
    "name": "ipython",
    "version": 3
   },
   "file_extension": ".py",
   "mimetype": "text/x-python",
   "name": "python",
   "nbconvert_exporter": "python",
   "pygments_lexer": "ipython3",
   "version": "3.10.6"
  }
 },
 "nbformat": 4,
 "nbformat_minor": 5
}
