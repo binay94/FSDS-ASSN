{
 "cells": [
  {
   "cell_type": "markdown",
   "id": "36a7c889-b167-4d9e-8755-d70f76acdc56",
   "metadata": {},
   "source": [
    "1. Why are functions advantageous to have in your programs?\n",
    "\n",
    "   Function is a sub program of main program which performs certain operation and provides code reusability"
   ]
  },
  {
   "cell_type": "markdown",
   "id": "4b0c0d00-8b46-4239-888f-3b67402e3977",
   "metadata": {},
   "source": [
    "2. When does the code in a function run: when it's specified or when it's called?\n",
    "\n",
    "   a function runs or executes only when it's called"
   ]
  },
  {
   "cell_type": "markdown",
   "id": "8371ba8b-c341-4c98-ba45-deba48a89125",
   "metadata": {},
   "source": [
    "3. What statement creates a function?\n",
    "\n",
    "   A function is defined by using the def keyword, followed by a specific name , followed by a set of      \n",
    "   parentheses which hold any formal parameters the function will take and ending with a colon(:)"
   ]
  },
  {
   "cell_type": "markdown",
   "id": "f3cec0a0-3ee3-4396-9529-74a1eb1d2a75",
   "metadata": {},
   "source": [
    "4. What is the difference between a function and a function call?\n",
    "   \n",
    "   function : it's the defination part where all parameters are defined and written code for certain            operation\n",
    "   \n",
    "   function call : it's the function call which actually runs the function to get the desired output"
   ]
  },
  {
   "cell_type": "markdown",
   "id": "9051d33e-0d41-4e29-b5f1-6552984f0d54",
   "metadata": {},
   "source": [
    "5. How many global scopes are there in a Python program? How many local scopes?\n",
    "   \n",
    "   Variables that are defined inside a function body have a local scope, and those defined outside have a        global scope.\n",
    "   "
   ]
  },
  {
   "cell_type": "markdown",
   "id": "50f9f5ca-b1f7-4144-8edd-8b8de300ecff",
   "metadata": {},
   "source": [
    "6. What happens to variables in a local scope when the function call returns?\n",
    "   \n",
    "   new local variables are created during each call of function and their lifetime expires when the function   returns to the caller "
   ]
  },
  {
   "cell_type": "markdown",
   "id": "887ad577-4e19-4710-b5ec-8c1bb87167eb",
   "metadata": {},
   "source": [
    "7. What is the concept of a return value? Is it possible to have a return value in an expression?\n",
    "   \n",
    "   return value returns a desired output value when the execution of function completed when it's called .it    possible to have    a return value in an expression provided the datatype of expression must be same as      return value datatype"
   ]
  },
  {
   "cell_type": "markdown",
   "id": "79c83a3a-2e52-4966-966e-509ede8636ef",
   "metadata": {},
   "source": [
    "8. If a function does not have a return statement, what is the return value of a call to that function?\n",
    "   \n",
    "   If a function does not have a return statement,the function call returns a void or None"
   ]
  },
  {
   "cell_type": "markdown",
   "id": "adb3099a-4456-43e5-85af-0a9bf5e5ed8e",
   "metadata": {},
   "source": [
    "9. How do you make a function variable refer to the global variable?\n",
    "   \n",
    "   To access global variables inside the function we must use global keyword"
   ]
  },
  {
   "cell_type": "markdown",
   "id": "1319132b-cb66-4871-881d-59dacaf3495c",
   "metadata": {},
   "source": [
    "10. What is the data type of None?\n",
    "    \n",
    "    The data type of None is NonType"
   ]
  },
  {
   "cell_type": "markdown",
   "id": "2e16118e-21ec-4d84-89f3-d2e4770190d3",
   "metadata": {},
   "source": [
    "11. What does the sentence import areallyourpetsnamederic do?\n",
    "    \n",
    "    The sentence import areallyourpetsnamederic imports a module named areallyourpetsnamederic    "
   ]
  },
  {
   "cell_type": "markdown",
   "id": "407d031a-44f8-4dab-a886-5a95afb5a978",
   "metadata": {},
   "source": [
    "12. If you had a bacon() feature in a spam module, what would you call it after importing spam?\n",
    "\n",
    "    This function can be called after importing spam , with spam.bacon()."
   ]
  },
  {
   "cell_type": "markdown",
   "id": "cd2f8f93-8fdc-47a1-9a05-5286cea8b841",
   "metadata": {},
   "source": [
    "13. What can you do to save a programme from crashing if it encounters an error?\n",
    "    \n",
    "    to save a programme from crashing if it encounters an error , we must use concept of exceptional       \n",
    "    handling.that part must be in try block and corresponding user friendly message be there in except block "
   ]
  },
  {
   "cell_type": "markdown",
   "id": "72c5a58f-0b1f-4fdd-91e9-ff3aaa30a744",
   "metadata": {},
   "source": [
    "14. What is the purpose of the try clause? What is the purpose of the except clause?\n",
    "\n",
    "    purpose of the try clause : here we write block of statements generating exception or technical error\n",
    "    \n",
    "    purpose of the except clause : every try block must be immidiately followed by at least one except block,     which generates     user friendly messeges"
   ]
  }
 ],
 "metadata": {
  "kernelspec": {
   "display_name": "Python 3 (ipykernel)",
   "language": "python",
   "name": "python3"
  },
  "language_info": {
   "codemirror_mode": {
    "name": "ipython",
    "version": 3
   },
   "file_extension": ".py",
   "mimetype": "text/x-python",
   "name": "python",
   "nbconvert_exporter": "python",
   "pygments_lexer": "ipython3",
   "version": "3.10.6"
  }
 },
 "nbformat": 4,
 "nbformat_minor": 5
}
