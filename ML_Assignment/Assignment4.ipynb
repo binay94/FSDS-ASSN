{
 "cells": [
  {
   "cell_type": "markdown",
   "id": "befa884e-fac7-4c26-9653-324f1e8a2bb6",
   "metadata": {},
   "source": [
    "1. What are the key tasks involved in getting ready to work with machine learning modeling?"
   ]
  },
  {
   "cell_type": "markdown",
   "id": "9d49c69d-d999-4e11-902a-e32a7ff4bbc6",
   "metadata": {},
   "source": [
    "Ans: The Key Tasks involved in getting ready to work with Machine learning Modelling are:\n",
    "\n",
    "    1) Data collection: Defining the problem and assembling a dataset.\n",
    "    2) Data preparation: Preparing your data.\n",
    "    3) Choosing a Model\n",
    "    4) Training the Model: Developing a model that does better than a baseline.\n",
    "    5) Evaluating the Model: Choosing a measure of success. Deciding on an evaluation protocol.\n",
    "    6) Parameter tuning: Scaling up: developing a model that overfits.Regularizing your model and tuning your parameters.\n",
    "    7) Prediction or Inference."
   ]
  },
  {
   "cell_type": "markdown",
   "id": "f3f7068f-67d3-441b-9a50-1de02af70c9a",
   "metadata": {},
   "source": [
    "2. What are the different forms of data used in machine learning? Give a specific example for each of them."
   ]
  },
  {
   "cell_type": "markdown",
   "id": "b16ffa0e-6f1c-48b1-9e78-0f23baf94a5c",
   "metadata": {},
   "source": [
    "Ans: There are generally three main forms of data used in machine learning:\n",
    "\n",
    "    1) Numerical Data: This is the most common form of data used in machine learning. Numerical data includes continuous or discrete values that can be represented as numbers. Examples of numerical data include temperature, height, age, and sales figures.\n",
    "\n",
    "    2) Categorical Data: Categorical data represents non-numeric data that can be grouped into categories. Examples of categorical data include gender, race, color, and product categories. Categorical data can be further divided into nominal data (where categories have no natural order) and ordinal data (where categories have a natural order).\n",
    "\n",
    "    3) Text Data: Text data refers to unstructured data that is represented as natural language text. Text data is commonly used in applications such as sentiment analysis, language translation, and chatbots.\n",
    "\n",
    "Here's a specific example of each type of data:\n",
    "\n",
    "    Numerical Data: Let's say we want to predict a person's salary based on their years of experience. In this case, the number of years of experience would be the numerical data.\n",
    "\n",
    "    Categorical Data: Let's say we want to predict a customer's purchase behavior based on their demographic information. In this case, the demographic information such as gender, age group, and income level would be categorical data.\n",
    "\n",
    "    Text Data: Let's say we want to analyze customer reviews to determine sentiment towards a product. In this case, the customer reviews would be text data that would need to be processed using natural language processing techniques before being used in a machine learning model.\n",
    "\n"
   ]
  },
  {
   "cell_type": "markdown",
   "id": "3f628caf-49ac-417a-8b60-2524c2be1028",
   "metadata": {},
   "source": [
    "3. Distinguish:\n",
    "\n",
    "    1) Numeric vs. categorical attributes\n",
    "\n",
    "    2) Feature selection vs. dimensionality reduction"
   ]
  },
  {
   "cell_type": "markdown",
   "id": "219e6803-b529-487e-9f99-7824f172031e",
   "metadata": {},
   "source": [
    "Ans: The following are the differences between:\n",
    "\n",
    "1) Numeric vs. categorical attributes:\n",
    "\n",
    "    a) Numerical data are values obtained for quantitative variable, and carries a sense of magnitude related to the context of the variable (hence, they are always numbers or symbols carrying a numerical value).\n",
    "    \n",
    "    b) Categorical data are values obtained for a qualitative variable. categorical data numbers do not carry a sense of magnitude.\n",
    "    \n",
    "    c)Numerical data always belong to either ordinal, ratio, or interval type, whereas categorical data belong to nominal type. - - Methods used to analyse quantitative data are different from the methods used for categorical data, even if the principles are the same at least the application has significant differences.\n",
    "   \n",
    "   d)Numerical data are analysed using statistical methods in descriptive statistics, regression, time series and many more.For categorical data usually descriptive methods and graphical methods are employed. Some non-parametric tests are also used.\n",
    "\n",
    "2) Feature selection vs. dimensionality reduction\n",
    "    \n",
    "    a)Feature selection you just select a subset of the original feature set, without any manipulation of the data on the other hand.\n",
    "    \n",
    "    b)Dimensionality reduction is typically choosing a new representation within which you can describe most but not all of the variance within your data, thereby retaining the relevant information, while reducing theamount of information necessary to represent it."
   ]
  },
  {
   "cell_type": "markdown",
   "id": "0232cbb3-5988-4203-8a96-9eb32c3d5c0c",
   "metadata": {},
   "source": [
    "4. Make quick notes on any two of the following:\n",
    "\n",
    "    a. The histogram\n",
    "\n",
    "    b. Use a scatter plot\n",
    "\n",
    "    c.PCA (Personal Computer Aid)"
   ]
  },
  {
   "cell_type": "markdown",
   "id": "5e851e60-9d42-42ef-bdc1-c06ea1b1644f",
   "metadata": {},
   "source": [
    "Ans: The Quick notes on the following three topics are:\n",
    "\n",
    "The histogram: A Histogram is a graphical representation that organizes a group of data points into user-specified ranges. Similar in appearance to a bar graph, the histogram condenses a data series into an easily interpreted visual by taking many data points and grouping them into logical ranges or bins.\n",
    "\n",
    "Use a scatter plot: A scatter plot (aka scatter chart, scatter graph) uses dots to represent values for two different numeric variables. The position of each dot on the horizontal and vertical axis indicates values for an individual data point. Scatter plots are used to observe relationships between variables.\n",
    "\n",
    "PCA (Personal Computer Aid): Principal Component Analysis or PCA is a widely used technique for dimensionality reduction of the large data set. Reducing the number of components or features costs some accuracy and on the other hand, it makes the large data set simpler, easy to explore and visualize."
   ]
  },
  {
   "cell_type": "markdown",
   "id": "5e3472fd-26a0-4caf-b68a-15ec8de834b1",
   "metadata": {},
   "source": [
    "5. Why is it necessary to investigate data? Is there a discrepancy in how qualitative and quantitative data are explored?"
   ]
  },
  {
   "cell_type": "markdown",
   "id": "f396203c-ce7e-4652-8485-87a7da9f0334",
   "metadata": {},
   "source": [
    "Ans: If your data set is messy, building models will not help you to solve your problem. What will happen is Garbage In, Garbage Out. In order to build a powerful machine learning algorithm. We need to explore and understand our data set before we define a predictive task and solve it."
   ]
  },
  {
   "cell_type": "markdown",
   "id": "5e41fc25-e526-41fc-8a24-e1d81ec44694",
   "metadata": {},
   "source": [
    "6. What are the various histogram shapes? What exactly are ‘bins&#39;?"
   ]
  },
  {
   "cell_type": "markdown",
   "id": "d49d2b8d-e1e5-48bc-889d-7ba5efd6c858",
   "metadata": {},
   "source": [
    "Ans: The different types of a Histogram are:\n",
    "\n",
    "1) Uniform Histogram\n",
    "2) Symmetric Histogram\n",
    "3) Bimodal Histogram\n",
    "4) Probability Histogram.\n",
    "\n",
    "The bin in a histogram is the choice of unit and spacing on the X-axis. All the data in a probability distribution represented visually by a histogram is filled into the corresponding bins. The height of each bin is a measurement of the frequency with which data appears inside the range of that bin in the distribution."
   ]
  },
  {
   "cell_type": "markdown",
   "id": "d85c1fd2-4c42-4aed-a0c1-fef96376b5f8",
   "metadata": {},
   "source": [
    "7. How do we deal with data outliers?"
   ]
  },
  {
   "cell_type": "markdown",
   "id": "6c02ab21-e064-488f-875a-c92d30a10f04",
   "metadata": {},
   "source": [
    "Ans: We can use Z-Score or any of below methods to deal with data outliers:\n",
    "\n",
    "Univariate Method: This method looks for data points with extreme values on one variable.\n",
    "\n",
    "Multivariate Method: Here, we look for unusual combinations of all the variables.\n",
    "\n",
    "Minkowski Error: This method reduces the contribution of potential outliers in the training process.\n",
    "\n",
    "Z-Score: This can be done with just one line code as we have already calculated the Z-score.\n",
    "boston_df_o = boston_df_o[(z < 3).all(axis=1)]\n",
    "\n",
    "IQR Score: Calculate IQR score to filter out the outliers by keeping only valid values.\n",
    "boston_df_out = boston_df_o1[~((boston_df_o1 < (Q1 - 1.5 * IQR)) |(boston_df_o1 > (Q3 + 1.5 *IQR))).any(axis=1)]\n",
    "boston_df_out.shape\n",
    "\n",
    "Quantile function: Use quantile() to remove amount of data."
   ]
  },
  {
   "cell_type": "markdown",
   "id": "bd57183f-ae72-4d5d-9fb3-06d75981639a",
   "metadata": {},
   "source": [
    "8. What are the various central inclination measures? Why does mean vary too much from median in certain data sets?"
   ]
  },
  {
   "cell_type": "markdown",
   "id": "354bdbc7-0429-4291-82c6-82396a73c011",
   "metadata": {},
   "source": [
    "Ans: Mean, Median and Mode are Central Inclination Measures. Mean varies more than Median due to presence of outliers, as mean is averaging all points while median in like finding a middle number."
   ]
  },
  {
   "cell_type": "markdown",
   "id": "2e43a7ec-1ad9-42da-84f3-db8459b5ffaa",
   "metadata": {},
   "source": [
    "9. Describe how a scatter plot can be used to investigate bivariate relationships. Is it possible to find outliers using a scatter plot?"
   ]
  },
  {
   "cell_type": "markdown",
   "id": "be5d2fa8-c713-40e5-bb05-83b958087b31",
   "metadata": {},
   "source": [
    "Ans: A Scatter Plot (aka scatter chart, scatter graph) uses dots to represent values for two different numeric variables. The position of each dot on the horizontal and vertical axis indicates values for an individual data point. So this visualization gives us the idea of bivariate relationship.\n",
    "\n",
    "Scatter plot can also help finding outliers as outliers can be visualized at farther distance than regular data."
   ]
  },
  {
   "cell_type": "markdown",
   "id": "a12e8800-1616-4988-ba24-f0f6660f0ad9",
   "metadata": {},
   "source": [
    "10. Describe how cross-tabs can be used to figure out how two variables are related."
   ]
  },
  {
   "cell_type": "markdown",
   "id": "397977ac-e80d-41ef-bcac-68b1e81da935",
   "metadata": {},
   "source": [
    "Ans: Cross tabulation is a method to quantitatively analyze the relationship between multiple variables. Also known as contingency tables or cross tabs, cross tabulation groups variables to understand the correlation between different variables. It also shows how correlations change from one variable grouping to another."
   ]
  }
 ],
 "metadata": {
  "kernelspec": {
   "display_name": "Python 3 (ipykernel)",
   "language": "python",
   "name": "python3"
  },
  "language_info": {
   "codemirror_mode": {
    "name": "ipython",
    "version": 3
   },
   "file_extension": ".py",
   "mimetype": "text/x-python",
   "name": "python",
   "nbconvert_exporter": "python",
   "pygments_lexer": "ipython3",
   "version": "3.10.6"
  }
 },
 "nbformat": 4,
 "nbformat_minor": 5
}
