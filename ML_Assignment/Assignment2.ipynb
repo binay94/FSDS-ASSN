{
 "cells": [
  {
   "cell_type": "markdown",
   "id": "b3b7217d-3a63-4a6b-8859-2acf61252f33",
   "metadata": {},
   "source": [
    "1. What is the concept of human learning? Please give two examples."
   ]
  },
  {
   "cell_type": "markdown",
   "id": "1336898e-2ee9-4ae1-a861-ed4954bccb4e",
   "metadata": {},
   "source": [
    "Ans: Human learning is the form of learning which requires higher order mental processes like thinking, reasoning, intelligence, etc.We learn different concepts from childhood. For example:\n",
    "\n",
    "1) Learning through Association - Classical Conditioning.\n",
    "2) Learning through consequences – Operant Conditioning.\n",
    "3) Learning through observation – Modeling/Observational Learning."
   ]
  },
  {
   "cell_type": "markdown",
   "id": "2debcd69-479f-419d-b7fa-8e072d6aa244",
   "metadata": {},
   "source": [
    "2. What different forms of human learning are there? Are there any machine learning equivalents?"
   ]
  },
  {
   "cell_type": "markdown",
   "id": "9ac66286-c213-487d-a744-3a8495b18e74",
   "metadata": {},
   "source": [
    "Ans: Different Forms of ML are as follows :\n",
    "\n",
    "1) Artificial Intelligence Learning Theories. Machine Learning. Reinforcement Learning. Supervised Learning. Unsupervised Learning.\n",
    "2) ML equivalents like Linear regression, decision trees, random forest and support vector machines are some commonly used techniques that are actually examples of supervised learning."
   ]
  },
  {
   "cell_type": "markdown",
   "id": "347de5a3-1245-4e0b-9cc1-8d37525b76cb",
   "metadata": {},
   "source": [
    "3. What is machine learning, and how does it work? What are the key responsibilities of machine learning?"
   ]
  },
  {
   "cell_type": "markdown",
   "id": "503ce505-22d1-4288-85e0-d0f87f1b5739",
   "metadata": {},
   "source": [
    "Ans: Machine learning is a branch of Artificial intelligence (AI) that teaches computers on how to think in a similar way to how humans do, like by Learning and improving upon past experiences.\n",
    "\n",
    "It works by exploring data and identifying patterns, and involves minimal human intervention.\n",
    "\n",
    "Roles and responsibilities of a machine learning engineer are:\n",
    "\n",
    "1) Designing ML systems.\n",
    "2) Researching and implementing ML algorithms and tools. Selecting appropriate data sets.\n",
    "3) Picking appropriate data representation methods. Identifying differences in data distribution that affects model performance. Verifying data quality."
   ]
  },
  {
   "cell_type": "markdown",
   "id": "f4b58156-a639-4cf9-b614-4c8ecf011102",
   "metadata": {},
   "source": [
    "4. Define the terms &quot;penalty&quot; and &quot;reward&quot; in the context of reinforcement learning."
   ]
  },
  {
   "cell_type": "markdown",
   "id": "fd7decab-4b86-41ca-9451-49c285bccfb4",
   "metadata": {},
   "source": [
    "Ans: A Reinforcement Learning Algorithm, which may also be referred to as an agent, learns by interacting with its environment. The agent receives rewards by performing correctly and penalties for performing incorrectly. The agent learns without intervention from a human by maximizing its reward and minimizing its penalty."
   ]
  },
  {
   "cell_type": "markdown",
   "id": "65b6b0d2-2faa-4302-8bb3-d3698b59793e",
   "metadata": {},
   "source": [
    "5. Explain the term &quot;learning as a search&quot;?"
   ]
  },
  {
   "cell_type": "markdown",
   "id": "66ca2e7a-0239-422f-b3c4-ff99771cf6ae",
   "metadata": {},
   "source": [
    "Ans: Learning can be viewed as a search through the space of all sentences in a concept description language for a sentence that best describes the data. Alternatively, it can be viewed as a search through all hypotheses in a hypothesis space."
   ]
  },
  {
   "cell_type": "markdown",
   "id": "cd50015b-a123-4e09-b10d-8f83ace725fa",
   "metadata": {},
   "source": [
    "6. What are the various goals of machine learning? What is the relationship between these and human learning?"
   ]
  },
  {
   "cell_type": "markdown",
   "id": "a93078fa-e4a8-4d8b-8452-104be71f1b33",
   "metadata": {},
   "source": [
    "Ans: The Goal of machine learning, closely coupled with the goal of AI, is to achieve a through understanding about the nature of learning process (both human learning and other forms of learning), about the computational aspects of learning behaviors, and to implant the learning capability in computer systems.\n",
    "\n",
    "Humans have the ability to learn, however with the progress in artificial intelligence, machine learning has become a resource which can augment or even replace human learning. Learning does not happen all at once, but it builds upon and is shaped by previous knowledge."
   ]
  },
  {
   "cell_type": "markdown",
   "id": "8b8fbc06-d7cd-48c0-b629-025053d4d84d",
   "metadata": {},
   "source": [
    "7. Illustrate the various elements of machine learning using a real-life illustration."
   ]
  },
  {
   "cell_type": "markdown",
   "id": "9a580a66-25f2-47c2-9965-435bde7e5c15",
   "metadata": {},
   "source": [
    "Ans: Let's say a company wants to predict which customers are likely to purchase a particular product based on their demographic and purchase history data.\n",
    "\n",
    "Here are the various elements of machine learning involved in this example:\n",
    "\n",
    "a) Data collection: The first step in machine learning is to collect relevant data. In this example, the company would collect demographic data such as age, gender, and location, as well as purchase history data such as previous purchases and spending patterns.\n",
    "\n",
    "b) Data preprocessing: Once the data is collected, it needs to be preprocessed to prepare it for analysis. This involves cleaning the data, removing duplicates, handling missing values, and converting the data into a format suitable for machine learning algorithms.\n",
    "\n",
    "c) Feature selection and engineering: In this step, the relevant features (or variables) that are most important for predicting customer behavior are selected. This involves identifying the most relevant variables that are likely to affect the outcome (in this case, the likelihood of purchasing the product) and engineering new features by combining or transforming existing features to improve the model's performance.\n",
    "\n",
    "d) Model selection: In this step, the appropriate machine learning algorithm is selected to build the predictive model. This could be a classification algorithm such as logistic regression or a tree-based model such as random forest.\n",
    "\n",
    "e) Model training: The selected model is trained using the preprocessed data. During training, the algorithm learns patterns and relationships in the data to make accurate predictions.\n",
    "\n",
    "f) Model evaluation: Once the model is trained, it needs to be evaluated to ensure that it is accurate and performs well on new data. This is done by testing the model on a separate dataset (known as the test set) that was not used for training.\n",
    "\n",
    "g) Model deployment: Once the model is evaluated and deemed accurate, it can be deployed to make predictions on new data. In this example, the model could be used to identify potential customers who are likely to purchase the product and target them with personalized marketing campaigns."
   ]
  },
  {
   "cell_type": "markdown",
   "id": "fa2c418f-ec01-41f5-bd9a-684cf69cb008",
   "metadata": {},
   "source": [
    "8. Provide an example of the abstraction method."
   ]
  },
  {
   "cell_type": "markdown",
   "id": "6e733d40-2175-4305-84bc-0adf38f058f0",
   "metadata": {},
   "source": [
    "Ans: In Machine Learning, Abstraction is supported primarily at the level of modules. This can be justified in two ways: first, Data abstraction is mostly a question of program interfaces and therefore it arises naturally at the point where we have to consider program composition and modules."
   ]
  },
  {
   "cell_type": "markdown",
   "id": "4fe08a50-2e88-4599-b094-25559e2cea44",
   "metadata": {},
   "source": [
    "9. What is the concept of generalization? What function does it play in the machine learning process?"
   ]
  },
  {
   "cell_type": "markdown",
   "id": "2bb62b40-1059-4108-9561-09e2136e7164",
   "metadata": {},
   "source": [
    "Ans: Generalization refers to your model's ability to adapt properly to new, previously unseen data, drawn from the same distribution as the one used to create the model.\n",
    "\n",
    "In machine learning, generalization is a definition to demonstrate how well is a trained model to classify or forecast unseen data.This issue can result to classify an actual dog image as a cat from the unseen dataset. Therefore, data diversity is very important factor in order to make a good prediction."
   ]
  },
  {
   "cell_type": "markdown",
   "id": "c8e5b4f2-726e-4769-8e24-3b9065520858",
   "metadata": {},
   "source": [
    "10. What is classification, exactly? What are the main distinctions between classification and regression?"
   ]
  },
  {
   "cell_type": "markdown",
   "id": "7f408f8b-8254-42bc-9b31-717677d1762e",
   "metadata": {},
   "source": [
    "Ans: In Machine Learning, Classification refers to a predictive modeling problem where a class label is predicted for a given example of input data.Classification is the task of predicting a discrete class label. Whereas Regression is the task of predicting a continuous quantity."
   ]
  },
  {
   "cell_type": "markdown",
   "id": "bf775f0f-a403-4b5f-a0f9-b61587d578f0",
   "metadata": {},
   "source": [
    "11. What is regression, and how does it work? Give an example of a real-world problem that was solved using regression."
   ]
  },
  {
   "cell_type": "markdown",
   "id": "3bbeb243-e2ca-43fe-9071-51fa0deed613",
   "metadata": {},
   "source": [
    "Ans: Regression is a Supervised Machine Learning technique which is used to predict continuous values. The ultimate goal of a regression algorithm is to plot a best-fit line or a curve between the data.\n",
    "\n",
    "The three main metrics that are used for evaluating the trained regression model are Variance, Bias and Error.\n",
    "\n",
    "A simple linear regression real life example could mean you finding a relationship between the revenue and temperature, with a sample size for revenue as the dependent variable. In case of multiple variable regression, you can find the relationship between temperature, pricing and number of workers to the revenue."
   ]
  },
  {
   "cell_type": "markdown",
   "id": "7fca143a-af21-4565-9e2b-7128e16f3e5b",
   "metadata": {},
   "source": [
    "12. Describe the clustering mechanism in detail."
   ]
  },
  {
   "cell_type": "markdown",
   "id": "26014b3a-d546-4179-9f00-58e8e55c88f9",
   "metadata": {},
   "source": [
    "Ans: Clustering is the task of dividing the population or data points into a number of groups such that data points in the same groups are more similar to other data points in the same group than those in other groups. In simple words, the aim is to segregate groups with similar traits and assign them into clusters."
   ]
  },
  {
   "cell_type": "markdown",
   "id": "9739c7dc-7bbe-40ac-b089-92c879ac3994",
   "metadata": {},
   "source": [
    "13. Make brief observations on two of the following topics:\n",
    "\n",
    "i. Machine learning algorithms are used\n",
    "\n",
    "ii. Studying under supervision\n",
    "\n",
    "iii. Studying without supervision\n",
    "\n",
    "iv. Reinforcement learning is a form of learning based on positive reinforcement."
   ]
  },
  {
   "cell_type": "markdown",
   "id": "14f26613-488f-49e7-bd8d-a48c0fc606ee",
   "metadata": {},
   "source": [
    "Ans: The breif observations on the following two topics is:\n",
    "\n",
    "Machine learning algorithms are used: At its Most basic, Machine Learning uses programmed algorithms that receive and analyse input data to predict output values within an acceptable range. As new data is fed to these algorithms, they learn and optimise their operations to improve performance, developing intelligence over time.\n",
    "\n",
    "Studying Under Supervision: In machine learning, there are two important categories- Supervised and Unsupervised learning.Supervised learning, an algorithm learns from a training dataset. We know the correct answers or desired output, the algorithm makes predictions using the given dataset and is corrected by the “supervisor”."
   ]
  }
 ],
 "metadata": {
  "kernelspec": {
   "display_name": "Python 3 (ipykernel)",
   "language": "python",
   "name": "python3"
  },
  "language_info": {
   "codemirror_mode": {
    "name": "ipython",
    "version": 3
   },
   "file_extension": ".py",
   "mimetype": "text/x-python",
   "name": "python",
   "nbconvert_exporter": "python",
   "pygments_lexer": "ipython3",
   "version": "3.10.6"
  }
 },
 "nbformat": 4,
 "nbformat_minor": 5
}
