{
 "cells": [
  {
   "cell_type": "markdown",
   "id": "affa9181-c8c7-468e-a9ca-80ab982fb656",
   "metadata": {},
   "source": [
    "1. What does one mean by the term &quot;machine learning&quot;?"
   ]
  },
  {
   "cell_type": "markdown",
   "id": "5c81b606-bc3a-4209-94b9-70b0283d11f2",
   "metadata": {},
   "source": [
    "Ans: Machine learning Popularly known as ML is a branch of Artificial Intelligence (AI) that allows software applications to become more accurate at predicting outcomes without being explicitly programmed to do so. Machine learning algorithms use historical data as input to predict new output values."
   ]
  },
  {
   "cell_type": "markdown",
   "id": "ea59868e-709d-4736-9304-b7ab20282c8b",
   "metadata": {},
   "source": [
    "2.Can you think of 4 distinct types of issues where it shines?"
   ]
  },
  {
   "cell_type": "markdown",
   "id": "e12545fb-21fb-4257-92eb-f208be300733",
   "metadata": {},
   "source": [
    "Ans: The following are some of the issues where Machine Learning can be used:\n",
    "1) Image and speech recognition: ML algorithms can be used to recognize and interpret images and speech. This has numerous applications such as facial recognition, object detection, and voice recognition.\n",
    "2) Fraud detection: ML algorithms can be used to detect fraud in financial transactions, insurance claims, and other areas where fraudulent behavior is a concern.\n",
    "3) Healthcare: ML algorithms can be used in healthcare applications such as medical image analysis, disease diagnosis, and drug discovery.\n",
    "4) Autonomous vehicles: ML algorithms can be used in autonomous vehicles for object detection, obstacle avoidance, and decision making."
   ]
  },
  {
   "cell_type": "markdown",
   "id": "c09c6ef0-3619-4831-bf5f-1995cbe49b5f",
   "metadata": {},
   "source": [
    "3.What is a labeled training set, and how does it work?"
   ]
  },
  {
   "cell_type": "markdown",
   "id": "64eac3ef-b3c7-4f53-ac81-6b0bfdd1cc70",
   "metadata": {},
   "source": [
    "Ans: You split up the data containing known response variable values into two pieces. The training set is used to train the algorithm, and then you use the trained model on the test set to predict the response variable values that are already known."
   ]
  },
  {
   "cell_type": "markdown",
   "id": "5a87363e-7b67-4d63-a80f-ec654d85922f",
   "metadata": {},
   "source": [
    "4.What are the two most important tasks that are supervised?"
   ]
  },
  {
   "cell_type": "markdown",
   "id": "e8b8cb48-b0f0-41d5-80c1-a473b27b340e",
   "metadata": {},
   "source": [
    "Ans: The two most common supervised learning tasks are Regression and Classification."
   ]
  },
  {
   "cell_type": "markdown",
   "id": "2050c95a-9a7b-49a5-81b9-c0d0e6d33087",
   "metadata": {},
   "source": [
    "5.Can you think of four examples of unsupervised tasks?\n"
   ]
  },
  {
   "cell_type": "markdown",
   "id": "29505cbc-c35c-4996-8e44-160d7fa0544b",
   "metadata": {},
   "source": [
    "Ans: Four common Unsupervised Tasks included Clustering, Visualization, Dimensionality Reduction, and Association Rule Learning."
   ]
  },
  {
   "cell_type": "markdown",
   "id": "552fe779-9da7-4677-8c2d-afb1d53c3446",
   "metadata": {},
   "source": [
    "6.State the machine learning model that would be best to make a robot walk through various\n",
    "unfamiliar terrains?\n"
   ]
  },
  {
   "cell_type": "markdown",
   "id": "787a8873-799e-4ef1-a1fe-2c5c1fb5d981",
   "metadata": {},
   "source": [
    "Ans: The best Machine Learning algorithm to allow a Robot to walk in unfamiliar terrains is Reinforced Learning, where the robot can learn from response of the terrain to optimize itself."
   ]
  },
  {
   "cell_type": "markdown",
   "id": "136a5bef-b0c2-4f8b-8877-44dd67f0e086",
   "metadata": {},
   "source": [
    "7.Which algorithm will you use to divide your customers into different groups?"
   ]
  },
  {
   "cell_type": "markdown",
   "id": "011ea1f7-af72-44e4-aa4c-219355660587",
   "metadata": {},
   "source": [
    "Ans: The Best Algorithm to Segment Customers into different groups is either Supervised Learning (if the groups have known labels) or Unsupervised Learning (if there are no group labels)."
   ]
  },
  {
   "cell_type": "markdown",
   "id": "353256a2-43bc-4685-92ee-5b107d285181",
   "metadata": {},
   "source": [
    "8.Will you consider the problem of spam detection to be a supervised or unsupervised learning\n",
    "problem?\n"
   ]
  },
  {
   "cell_type": "markdown",
   "id": "e7c836d9-7fac-49a2-8167-6be858564ac8",
   "metadata": {},
   "source": [
    "Ans: Spam detection is a Supervised Machine Learning problem because the labels are known (spam or no spam)."
   ]
  },
  {
   "cell_type": "markdown",
   "id": "639d2c1f-f97d-416f-a0a2-f534e9fc8370",
   "metadata": {},
   "source": [
    "9.What is the concept of an online learning system?"
   ]
  },
  {
   "cell_type": "markdown",
   "id": "461ce962-7e96-4342-8bbd-6251d8dd7b88",
   "metadata": {},
   "source": [
    "Ans: Online learning system is a learning system in which the machine learns continously, as data is given in small streams continuously."
   ]
  },
  {
   "cell_type": "markdown",
   "id": "fe5221b5-1864-4b67-be63-cba6bc7ce547",
   "metadata": {},
   "source": [
    "10.What is out-of-core learning, and how does it differ from core learning?"
   ]
  },
  {
   "cell_type": "markdown",
   "id": "0db44785-b4ac-457d-ae96-dd4f43014928",
   "metadata": {},
   "source": [
    "Ans: Out-of-core learning system is a system that can handle data that cannot fit into your computer memory. It uses online learning system to feed data in small bits."
   ]
  },
  {
   "cell_type": "markdown",
   "id": "2c0818ba-047b-4418-b8f1-5d1bd2e9abb3",
   "metadata": {},
   "source": [
    "11.What kind of learning algorithm makes predictions using a similarity measure?"
   ]
  },
  {
   "cell_type": "markdown",
   "id": "81172aca-79e5-444a-b654-6d6b8fc76250",
   "metadata": {},
   "source": [
    "Ans: Learning algorithm that relies on a similarity measure to make predictions is Instance Based Algorithm."
   ]
  },
  {
   "cell_type": "markdown",
   "id": "27a95048-e68d-4194-b9f6-b0031ba40379",
   "metadata": {},
   "source": [
    "12.What&#39;s the difference between a model parameter and a hyperparameter in a learning\n",
    "algorithm?"
   ]
  },
  {
   "cell_type": "markdown",
   "id": "0a989b18-2db1-4a43-9c4a-4eb46defeb1e",
   "metadata": {},
   "source": [
    "Ans: Model parameter determines how a model will predict given a new instance. Model usually has more than one parameter (i.e. slope of a linear model). Hyperparameter is a parameter for the learning algorithm, not of a model."
   ]
  },
  {
   "cell_type": "markdown",
   "id": "b887ca18-593a-4bad-a17d-6f4e207a9e26",
   "metadata": {},
   "source": [
    "13.What are the criteria that model-based learning algorithms look for? What is the most popular\n",
    "method they use to achieve success? What method do they use to make predictions?"
   ]
  },
  {
   "cell_type": "markdown",
   "id": "a023b2ff-d4a2-48ce-9a09-72894a08eb51",
   "metadata": {},
   "source": [
    "Ans: Model based learning algorithm search for the optimal value of parameters in a model that will give the best results for the new instances. We often use a cost function or similar to determine what the parameter value has to be in order to minimize the function. The model makes prediction by using the value of the new instance and the parameters in its function."
   ]
  },
  {
   "cell_type": "markdown",
   "id": "7e70df08-5e7e-4ccc-a274-5e1aad9e4720",
   "metadata": {},
   "source": [
    "14.Can you name four of the most important Machine Learning challenges?"
   ]
  },
  {
   "cell_type": "markdown",
   "id": "035b08df-bc0b-44c3-ab54-d66db58254ce",
   "metadata": {},
   "source": [
    "Ans: Four main challenges in Machine Learning include the following:\n",
    "\n",
    "1) Overfitting the Data (using a model too complicated)\n",
    "2) Underfitting the data (using a simple model)\n",
    "3) Lacking in Data\n",
    "4) Non Representative Data."
   ]
  },
  {
   "cell_type": "markdown",
   "id": "b75bf3fc-8671-4777-97b7-5498c89d1aa7",
   "metadata": {},
   "source": [
    "15.What happens if the model performs well on the training data but fails to generalize the results\n",
    "to new situations? Can you think of three different options?"
   ]
  },
  {
   "cell_type": "markdown",
   "id": "f27e9d1e-066e-42b3-b158-b2cbe98dfbca",
   "metadata": {},
   "source": [
    "Ans: If the model performs poorly to new instances, then it has overfitted on the training data. To solve this, we can do any of the following three:\n",
    "\n",
    "1) Get more data\n",
    "2) Implement a simpler model\n",
    "3) Eliminate outliers or noise from the existing data set."
   ]
  },
  {
   "cell_type": "markdown",
   "id": "ccb7f4d2-1155-4db9-a3dd-9742541be645",
   "metadata": {},
   "source": [
    "16.What exactly is a test set, and why would you need one?"
   ]
  },
  {
   "cell_type": "markdown",
   "id": "1fe1ea3d-f498-48d5-8321-3d6fb0bfe2be",
   "metadata": {},
   "source": [
    "Ans: Test set is a set to test your model (fit using training data) to see how it performs.Test set is necessary to determine how good (or bad) a model performs."
   ]
  },
  {
   "cell_type": "markdown",
   "id": "0dff5fed-df9e-4035-875c-b4893e808b90",
   "metadata": {},
   "source": [
    "17.What is a validation set&#39;s purpose?"
   ]
  },
  {
   "cell_type": "markdown",
   "id": "273649fc-e4e5-4a73-8fe6-0d2f8dfd37ce",
   "metadata": {},
   "source": [
    "Ans: Validation set is a set used to compare between different training models."
   ]
  },
  {
   "cell_type": "markdown",
   "id": "feb906d3-ae1d-4fd9-915f-82b91134bf76",
   "metadata": {},
   "source": [
    "18.What precisely is the train-dev kit, when will you need it, how do you put it to use?"
   ]
  },
  {
   "cell_type": "markdown",
   "id": "c0b95126-4b7a-4ca9-b3fd-465e73092f62",
   "metadata": {},
   "source": [
    "Ans: Cross-validation is a tool to compare models without needing a separate validation set. It is preferred over validation set because we can save from breaking of part of the training set to create a validation set, as having more data is valuable regardless."
   ]
  },
  {
   "cell_type": "markdown",
   "id": "ec887d33-3175-4cb8-89ba-d71945140bac",
   "metadata": {},
   "source": [
    "19.What could go wrong if you use the test set to tune hyperparameters?"
   ]
  },
  {
   "cell_type": "markdown",
   "id": "f20868e5-aed3-432e-9a74-042c09c425b3",
   "metadata": {},
   "source": [
    "Ans: If you tune hyperparameters using the test sets, then it may not perform well on the out-of-sample data because the model is tuned just for that specific set."
   ]
  }
 ],
 "metadata": {
  "kernelspec": {
   "display_name": "Python 3 (ipykernel)",
   "language": "python",
   "name": "python3"
  },
  "language_info": {
   "codemirror_mode": {
    "name": "ipython",
    "version": 3
   },
   "file_extension": ".py",
   "mimetype": "text/x-python",
   "name": "python",
   "nbconvert_exporter": "python",
   "pygments_lexer": "ipython3",
   "version": "3.10.6"
  }
 },
 "nbformat": 4,
 "nbformat_minor": 5
}
