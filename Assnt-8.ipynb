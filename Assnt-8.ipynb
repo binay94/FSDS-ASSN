{
 "cells": [
  {
   "cell_type": "markdown",
   "id": "c02b7275-53bd-448f-8d01-84f3bb1acc4c",
   "metadata": {},
   "source": [
    "1. Is the Python Standard Library included with PyInputPlus?"
   ]
  },
  {
   "cell_type": "markdown",
   "id": "f07b4c4f-9db8-4a17-ada3-67d333c453c8",
   "metadata": {},
   "source": [
    "Ans : No, PyInputPlus is not a part of Python Standard Library, it needs to be installed explicitly using the command !pip install PyInputPlus"
   ]
  },
  {
   "cell_type": "markdown",
   "id": "419d908f-c9cf-42e6-89be-3ab102fa5bc1",
   "metadata": {},
   "source": [
    "2. Why is PyInputPlus commonly imported with import pyinputplus as pypi?"
   ]
  },
  {
   "cell_type": "markdown",
   "id": "92f73a8b-16ed-4553-9066-bccae9b3878d",
   "metadata": {},
   "source": [
    "Ans : We can import the module with import pyinputplus as pyip so that you can enter a shorter name when calling the module's functions."
   ]
  },
  {
   "cell_type": "markdown",
   "id": "7aaa6fd0-9b74-4a01-ae94-3d08a5e3b284",
   "metadata": {},
   "source": [
    "3. How do you distinguish between inputInt() and inputFloat()?"
   ]
  },
  {
   "cell_type": "markdown",
   "id": "b0e6029f-5532-4cdb-aa19-9f6a4aef4e48",
   "metadata": {},
   "source": [
    "Ans : inputInt() function Accepts an integer value. This also takes additional parameters min, max, greaterThan and lessThan for bounds. And it always returns an int.\n",
    "\n",
    "Whereas inputFloat() function Accepts a floating-point numeric value. this also takes additional min, max, greaterThan and lessThan parameters and always returns a float."
   ]
  },
  {
   "cell_type": "markdown",
   "id": "3d526bb6-e977-4ef7-99d3-f5687c598d5e",
   "metadata": {},
   "source": [
    "4. Using PyInputPlus, how do you ensure that the user enters a whole number between 0 and 99?"
   ]
  },
  {
   "cell_type": "markdown",
   "id": "0d8b79c1-183c-4896-92f8-5e64ea057e71",
   "metadata": {},
   "source": [
    "Ans : PyInputPlus module provides a function called as inputInt() which only returns only integer values. inorder to restrict the input between 0 and 99, i'ii use parameters like min & max to ensure that user enters the values between the defined range only."
   ]
  },
  {
   "cell_type": "markdown",
   "id": "478521a7-527d-446a-a88b-48fd4adb1d98",
   "metadata": {},
   "source": [
    "5. What is transferred to the keyword arguments allowRegexes and blockRegexes?"
   ]
  },
  {
   "cell_type": "markdown",
   "id": "49568a64-26b7-459e-9bec-ec3125154a0c",
   "metadata": {},
   "source": [
    "Ans : we can use allowRegexes and blockRegexes keyword arguments to take list of regular expression strings to determine what the pyinputplus function will reject or accept valid input."
   ]
  },
  {
   "cell_type": "markdown",
   "id": "196ab45c-6e6d-47c2-b87b-0ff44bb93378",
   "metadata": {},
   "source": [
    "6. If a blank input is entered three times, what does inputStr(limit=3) do?"
   ]
  },
  {
   "cell_type": "markdown",
   "id": "7d3cd885-7c46-42ff-b49f-d41a6599e3b2",
   "metadata": {},
   "source": [
    "Ans : The statement inputStr(limit=3) will throw two exceptions ValidationException and RetryLimitException. The first exception is thrown because blank values are not allowed by inputStr() function by default. it we want to consider blank values as valid input, we have to set blank=True.\n",
    "\n",
    "The second exception is occured because we have reached the max limit we have specified by using limit parameter. inorder to avoid this exception we can use default parameter to return a default value when max limit is reached."
   ]
  },
  {
   "cell_type": "markdown",
   "id": "13be458c-21a9-4983-ab93-6415d3f4feac",
   "metadata": {},
   "source": [
    "7. If blank input is entered three times, what does inputStr(limit=3, default='hello') do?"
   ]
  },
  {
   "cell_type": "markdown",
   "id": "18560616-9654-4c89-8e76-cde0bbd82b36",
   "metadata": {},
   "source": [
    "Ans : Since the default parameter is set to hello. after blank input is entered three times instead of            raising RetryLimitException exception. the function will return hello as response to the calling function"
   ]
  },
  {
   "cell_type": "code",
   "execution_count": null,
   "id": "2c4648d7-eae7-47e5-b415-633c1aed93bc",
   "metadata": {},
   "outputs": [],
   "source": []
  }
 ],
 "metadata": {
  "kernelspec": {
   "display_name": "Python 3 (ipykernel)",
   "language": "python",
   "name": "python3"
  },
  "language_info": {
   "codemirror_mode": {
    "name": "ipython",
    "version": 3
   },
   "file_extension": ".py",
   "mimetype": "text/x-python",
   "name": "python",
   "nbconvert_exporter": "python",
   "pygments_lexer": "ipython3",
   "version": "3.10.6"
  }
 },
 "nbformat": 4,
 "nbformat_minor": 5
}
