{
 "cells": [
  {
   "cell_type": "markdown",
   "id": "47bbcf46-212d-4c35-92f9-8945ecd22732",
   "metadata": {},
   "source": [
    "1. To what does a relative path refer?"
   ]
  },
  {
   "cell_type": "markdown",
   "id": "bc0ae236-ab3b-4331-bead-6402f612e870",
   "metadata": {},
   "source": [
    "Ans : The relative path is the path to some file with respect to your current working directory(PWD).\n",
    " if Absolute path to a file called data.txt is: C:/users/admin/docs/stuff.txt If my PWD is C:/users/admin/ , then the relative path to stuff.txt would be: docs/stuff.txt\n",
    "\n",
    "PWD + relative path = absolute path"
   ]
  },
  {
   "cell_type": "markdown",
   "id": "dcf97425-e737-4803-9d72-38bf602f20cc",
   "metadata": {},
   "source": [
    "2. What does an absolute path start with your operating system?"
   ]
  },
  {
   "cell_type": "markdown",
   "id": "3f32368a-96d2-41a6-adc1-e147b3c411a1",
   "metadata": {},
   "source": [
    "Ans :  In Linux based systems the absolute path starts with /\n",
    "\n",
    "In Windows based systems absolute path starts with C:"
   ]
  },
  {
   "cell_type": "markdown",
   "id": "06da6ac3-de22-4004-b527-6a1fc2295f99",
   "metadata": {},
   "source": [
    "3. What do the functions os.getcwd() and os.chdir() do?"
   ]
  },
  {
   "cell_type": "markdown",
   "id": "6d463caf-66d4-40f8-bb24-2ec62aabd0cf",
   "metadata": {},
   "source": [
    "Ans : os.getcwd() method gives the location of current working directory (CWD). Whereas os.chdir() method used to change the current working directory to specified path."
   ]
  },
  {
   "cell_type": "markdown",
   "id": "67477cee-c19e-44f3-af1d-53040b03ee08",
   "metadata": {},
   "source": [
    "4. What are the . and .. folders?"
   ]
  },
  {
   "cell_type": "markdown",
   "id": "8c955161-fc47-4fc4-a935-cc7dabd0ecd7",
   "metadata": {},
   "source": [
    "Ans :  . Represents the Current Directory Whereas .. Represents the Parent Directory of the Current Directory"
   ]
  },
  {
   "cell_type": "markdown",
   "id": "f536e7c2-8b3b-4ccd-82ad-d5e47b1b60a3",
   "metadata": {},
   "source": [
    "5. In C:\\bacon\\eggs\\spam.txt, which part is the dir name, and which part is the base name?"
   ]
  },
  {
   "cell_type": "markdown",
   "id": "832a7477-384a-4c4f-b230-d56badf942a4",
   "metadata": {},
   "source": [
    "Ans : spam.txt is the base name.\n",
    "\n",
    "C:\\bacon\\eggs is the directory name"
   ]
  },
  {
   "cell_type": "markdown",
   "id": "ee0dec64-2b7b-428a-b919-0d40ee045bdc",
   "metadata": {},
   "source": [
    "6. What are the three “mode” arguments that can be passed to the open() function?"
   ]
  },
  {
   "cell_type": "code",
   "execution_count": null,
   "id": "edc7be3a-38a7-47e8-8643-bf4704a1d4aa",
   "metadata": {},
   "outputs": [],
   "source": [
    "Ans : open() function takes two arguments filename and mode of operation. if mode is not provided the default mode of opening is read mode.\n",
    "\n",
    "syntax : open(\"file name\",\"mode of open\"):\n",
    "\n",
    "‘r’ – Read Mode: This is the default mode for open(). The file is opened and a pointer is positioned at the beginning of the file’s content.\n",
    "\n",
    "‘w’ – Write Mode: Using this mode will overwrite any existing content in a file. If the given file does not exist, a new one will be created.\n",
    "\n",
    "‘r+’ – Read/Write Mode:This mode is used if we need to read and write simultaneously to a file.\n",
    "\n",
    "‘a’ – Append Mode: With this mode we can append the data without overwriting any already existing data in the file.\n",
    "\n",
    "‘a+’ – Append and Read Mode: In this mode we can read and append the data without overwriting the original file.\n",
    "\n",
    "‘x’ – Exclusive Mode: This mode is for the sole purpose of creating new files. Using this mode we are able to open the file in write mode only once \n",
    "      and performs write operation. "
   ]
  },
  {
   "cell_type": "markdown",
   "id": "cbe2bef0-b035-4940-a0d8-ddd92b9484b2",
   "metadata": {},
   "source": [
    "7. What happens if an existing file is opened in write mode?"
   ]
  },
  {
   "cell_type": "markdown",
   "id": "a0ba08bc-9d86-42a3-8466-9879e2e8202b",
   "metadata": {},
   "source": [
    "Ans : Using this mode it will overwrite any existing content in a file. If the given file does not exists, a new file will be created."
   ]
  },
  {
   "cell_type": "markdown",
   "id": "b3a2185e-ff8a-4521-874f-eedf1b8920eb",
   "metadata": {},
   "source": [
    "8. How do you tell the difference between read() and readlines()?"
   ]
  },
  {
   "cell_type": "markdown",
   "id": "0226255e-39da-4321-ae82-7246d036ae35",
   "metadata": {},
   "source": [
    "Ans : read() - This Function is used for reading ENTIRE DATA of the file in the form of str.\n",
    "\n",
    "readlines() - This Function is used for reading ALL  Lines at a time from the file in the form of list."
   ]
  },
  {
   "cell_type": "markdown",
   "id": "eec3acd8-3950-4368-8973-9631e7471fa7",
   "metadata": {},
   "source": [
    "9. What data structure does a shelf value resemble?"
   ]
  },
  {
   "cell_type": "markdown",
   "id": "cb68ee22-3958-47a3-96dd-7d2d71dfdb73",
   "metadata": {},
   "source": [
    "Ans:As dictionary contains key and values ,it has shelf value resemble."
   ]
  }
 ],
 "metadata": {
  "kernelspec": {
   "display_name": "Python 3 (ipykernel)",
   "language": "python",
   "name": "python3"
  },
  "language_info": {
   "codemirror_mode": {
    "name": "ipython",
    "version": 3
   },
   "file_extension": ".py",
   "mimetype": "text/x-python",
   "name": "python",
   "nbconvert_exporter": "python",
   "pygments_lexer": "ipython3",
   "version": "3.10.6"
  }
 },
 "nbformat": 4,
 "nbformat_minor": 5
}
