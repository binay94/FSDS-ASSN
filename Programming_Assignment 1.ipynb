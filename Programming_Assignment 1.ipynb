{
 "cells": [
  {
   "cell_type": "raw",
   "id": "5d4f425c",
   "metadata": {},
   "source": [
    "1. Write a Python program to print \"Hello Python\""
   ]
  },
  {
   "cell_type": "code",
   "execution_count": 10,
   "id": "bb8de8cb",
   "metadata": {},
   "outputs": [
    {
     "name": "stdout",
     "output_type": "stream",
     "text": [
      "Hello Python\n"
     ]
    }
   ],
   "source": [
    "print(\"Hello Python\")"
   ]
  },
  {
   "cell_type": "raw",
   "id": "64125de7",
   "metadata": {},
   "source": [
    "2. Write a Python program to do arithmetical operations addition and division.?"
   ]
  },
  {
   "cell_type": "code",
   "execution_count": 2,
   "id": "b631892e",
   "metadata": {},
   "outputs": [
    {
     "name": "stdin",
     "output_type": "stream",
     "text": [
      "Enter first number :  19\n",
      "Enter second number :  3\n"
     ]
    },
    {
     "name": "stdout",
     "output_type": "stream",
     "text": [
      "Sum of two numbers=22\n",
      "Division of two numbers=6.333\n"
     ]
    }
   ],
   "source": [
    "a=int(input(\"Enter first number : \"))\n",
    "b=int(input(\"Enter second number : \"))\n",
    "print(\"Sum of two numbers={}\".format(a+b))\n",
    "print(\"Division of two numbers=%0.3f\"%(a/b))\n"
   ]
  },
  {
   "cell_type": "raw",
   "id": "d603f859",
   "metadata": {},
   "source": [
    "3. Write a Python program to find the area of a triangle?"
   ]
  },
  {
   "cell_type": "code",
   "execution_count": 4,
   "id": "2164467d",
   "metadata": {},
   "outputs": [
    {
     "name": "stdin",
     "output_type": "stream",
     "text": [
      "Enter Base of traiangle :  12\n",
      "Enter height of triangle :  7\n"
     ]
    },
    {
     "name": "stdout",
     "output_type": "stream",
     "text": [
      "Area of triangle= 42.000\n"
     ]
    }
   ],
   "source": [
    "b=float(input(\"Enter Base of traiangle : \"))\n",
    "h=float(input(\"Enter height of triangle : \"))\n",
    "area=0.5*b*h\n",
    "print(\"Area of triangle= %0.3f\"%area)"
   ]
  },
  {
   "cell_type": "raw",
   "id": "eae67cd9",
   "metadata": {},
   "source": [
    "4. Write a Python program to swap two variables?"
   ]
  },
  {
   "cell_type": "code",
   "execution_count": 5,
   "id": "5d03aac6",
   "metadata": {},
   "outputs": [
    {
     "name": "stdin",
     "output_type": "stream",
     "text": [
      "Enter first number :  11\n",
      "Enter second number :  99\n"
     ]
    },
    {
     "name": "stdout",
     "output_type": "stream",
     "text": [
      "Value of first number= 99\n",
      "Value of second number= 11\n"
     ]
    }
   ],
   "source": [
    "a=int(input(\"Enter first number : \"))\n",
    "b=int(input(\"Enter second number : \"))\n",
    "a= a^b\n",
    "b= a^b\n",
    "a= a^b\n",
    "print(\"Value of first number=\",a)\n",
    "print(\"Value of second number=\",b)\n"
   ]
  },
  {
   "cell_type": "raw",
   "id": "adaaca96",
   "metadata": {},
   "source": [
    "5. Write a Python program to generate a random number?"
   ]
  },
  {
   "cell_type": "code",
   "execution_count": 6,
   "id": "ba073b36",
   "metadata": {},
   "outputs": [
    {
     "name": "stdout",
     "output_type": "stream",
     "text": [
      "70\n"
     ]
    }
   ],
   "source": [
    "import random\n",
    "print(random.randint(0,90))\n"
   ]
  }
 ],
 "metadata": {
  "kernelspec": {
   "display_name": "Python 3 (ipykernel)",
   "language": "python",
   "name": "python3"
  },
  "language_info": {
   "codemirror_mode": {
    "name": "ipython",
    "version": 3
   },
   "file_extension": ".py",
   "mimetype": "text/x-python",
   "name": "python",
   "nbconvert_exporter": "python",
   "pygments_lexer": "ipython3",
   "version": "3.10.6"
  }
 },
 "nbformat": 4,
 "nbformat_minor": 5
}
