{
 "cells": [
  {
   "cell_type": "markdown",
   "id": "d14c110f-6edc-4de3-901e-7cf9443ecbc1",
   "metadata": {},
   "source": [
    "Q1. What is the benefit of regular expressions?"
   ]
  },
  {
   "cell_type": "markdown",
   "id": "d9b273c7-3b42-44fa-8e9d-5b9be2201b3a",
   "metadata": {},
   "source": [
    "Ans: Regular Expressions, also known as regex or regexp, are used to match strings of text such as particular characters, words, or patterns of characters. It means that we can match and extract any string pattern from the text with the help of regular expressions. it helps the programmers to Write less and cleaner code. it also avoids multiple use of if/else statements."
   ]
  },
  {
   "cell_type": "markdown",
   "id": "7bb4c16d-1034-4921-b19d-701d4fb63592",
   "metadata": {},
   "source": [
    "Q2. Describe the difference between the effects of &quot;(ab)c+&quot; and &quot;a(bc)+.&quot; Which of these, if any, is the\n",
    "unqualified pattern &quot;abc+&quot;?"
   ]
  },
  {
   "cell_type": "markdown",
   "id": "18417336-1ecc-46a9-879f-bbeca6e1d6b7",
   "metadata": {},
   "source": [
    "Ans: Both (ab)c+ and a(bc)+ are valid patterns. the difference between both these patterns is in (ab)c+ ab is group whereas in a(bc)+ bc is a group."
   ]
  },
  {
   "cell_type": "markdown",
   "id": "18503b4c-1dca-4b46-920e-fd3ef915a987",
   "metadata": {},
   "source": [
    "Q3. How much do you need to use the following sentence while using regular expressions?\n",
    "\n",
    "import re"
   ]
  },
  {
   "cell_type": "markdown",
   "id": "38d09a05-68fe-43ee-8070-315f61cdcddd",
   "metadata": {},
   "source": [
    "Ans: import re statement always has to be imported once before using regular expressions."
   ]
  },
  {
   "cell_type": "markdown",
   "id": "8824ce9b-12b4-4436-98d9-fe1efa2348df",
   "metadata": {},
   "source": [
    "Q4. Which characters have special significance in square brackets when expressing a range, and\n",
    "under what circumstances?"
   ]
  },
  {
   "cell_type": "markdown",
   "id": "3ded4d14-76d9-489c-a119-d149bc168801",
   "metadata": {},
   "source": [
    "Ans: The Characters .,*,?,^,or,(), have a special signiface when used with square brackets. They need not be be explicitly escaped by \\ as in case of pattern texts in a raw string."
   ]
  },
  {
   "cell_type": "markdown",
   "id": "c5d4ac9f-2275-45c9-9b34-7d8e0a0ea49a",
   "metadata": {},
   "source": [
    "Q5. How does compiling a regular-expression object benefit you?"
   ]
  },
  {
   "cell_type": "markdown",
   "id": "ff751402-ba2f-4a53-ba6a-60dd44909c78",
   "metadata": {},
   "source": [
    "Ans: We can Combine a regular expression pattern into pattern Objects.Which can be used for pattern matching. it also helps to search a pattern again without rewritting it."
   ]
  },
  {
   "cell_type": "markdown",
   "id": "c12133d7-9ae6-4c05-b12c-9ad70d1d4693",
   "metadata": {},
   "source": [
    "Q6. What are some examples of how to use the match object returned by re.match and re.search?"
   ]
  },
  {
   "cell_type": "markdown",
   "id": "e2f11eed-2644-4076-a855-00bb126d210d",
   "metadata": {},
   "source": [
    "Ans: The re.search() and re.match() both are functions of re module in python. These functions are very efficient and fast for searching in strings. The function searches for some substring in a string and returns a match object if found, else it returns none.\n",
    "\n",
    "There is a difference between the use of both functions. Both return the first match of a substring found in the string, but re.match() searches only from the beginning of the string and return match object if found. But if a match of substring is found somewhere in the middle of the string, it returns none.\n",
    "\n",
    "While re.search() searches for the whole string even if the string contains multi-lines and tries to find a match of the substring in all the lines of string"
   ]
  },
  {
   "cell_type": "code",
   "execution_count": 5,
   "id": "2678f92a-058e-476e-bd18-5b944274ab51",
   "metadata": {},
   "outputs": [
    {
     "name": "stdout",
     "output_type": "stream",
     "text": [
      "<re.Match object; span=(19, 22), match='how'>\n",
      "None\n",
      "<re.Match object; span=(0, 3), match='how'>\n",
      "<re.Match object; span=(0, 3), match='how'>\n"
     ]
    }
   ],
   "source": [
    "import re\n",
    "String ='how' \n",
    "String_1 ='good morning tiku, how are you ?' \n",
    "String_2='how are you all ,hello everyone'\n",
    "print(re.search(String, String_1, re.IGNORECASE))\n",
    "print(re.match(String, String_1, re.IGNORECASE))\n",
    "print(re.search(String, String_2, re.IGNORECASE))\n",
    "print(re.match(String, String_2, re.IGNORECASE))"
   ]
  },
  {
   "cell_type": "markdown",
   "id": "82c52287-8cdf-4a00-b870-d50470f3529e",
   "metadata": {},
   "source": [
    "Q7. What is the difference between using a vertical bar (|) as an alteration and using square brackets as a character set?"
   ]
  },
  {
   "cell_type": "markdown",
   "id": "1b52bc77-b9cd-4d83-b949-3a20caed76f2",
   "metadata": {},
   "source": [
    "Ans: When | is used then patterns searches for the option. i.e <pattern_1>|<pattern_2> means it searches as <pattern_1>or<<pattern_2> in the searched string. the first occurance of matched string will be returned as the Match Object. Using Character set in square Brackets searches for all the character set in the square bracket and if match is found, it returns it."
   ]
  },
  {
   "cell_type": "markdown",
   "id": "74f92d1d-818c-4f94-9aed-f75fae77e78c",
   "metadata": {},
   "source": [
    "Q8. In regular-expression search patterns, why is it necessary to use the raw-string indicator (r)? In replacement strings?"
   ]
  },
  {
   "cell_type": "markdown",
   "id": "f913122b-bcf0-4ecb-9511-fbdfdc58a856",
   "metadata": {},
   "source": [
    "Ans: Raw Strings are used in the regular-expression search patterns, so that blackslashes donot have to be escaped."
   ]
  }
 ],
 "metadata": {
  "kernelspec": {
   "display_name": "Python 3 (ipykernel)",
   "language": "python",
   "name": "python3"
  },
  "language_info": {
   "codemirror_mode": {
    "name": "ipython",
    "version": 3
   },
   "file_extension": ".py",
   "mimetype": "text/x-python",
   "name": "python",
   "nbconvert_exporter": "python",
   "pygments_lexer": "ipython3",
   "version": "3.10.6"
  }
 },
 "nbformat": 4,
 "nbformat_minor": 5
}
