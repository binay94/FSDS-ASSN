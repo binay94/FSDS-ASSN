{
 "cells": [
  {
   "cell_type": "markdown",
   "id": "08f60b9a-6c87-4f1f-a3dd-a7c6ce78687e",
   "metadata": {},
   "source": [
    "Q1. What is the purpose of Python&#39;s OOP?"
   ]
  },
  {
   "cell_type": "markdown",
   "id": "1a97d2ce-01c5-48ce-af35-793a51dcf463",
   "metadata": {},
   "source": [
    "Ans.The main concept of OOPs is to bind the data and the functions that work on that together as a single unit so that no other part of the code can access this data.\n",
    " It comes up with the following advantages:\n",
    "1. Objects allows us to store Large Volume of Data (Platform Independent)\n",
    "2. The Data is visiting between two machines in the form of Cipher Text (encrypted Format). \n",
    "    So that we can achieve the Security \n",
    "3. The Large Volume of Data can be transferred between multiple machines all at once in the \n",
    "    form of objects and obtains effective communication.\n",
    "4. With Objects we can build high effective Re-Usable Applications.\n",
    "5. The Data is always available around Objects (Effective Memory Usage) and functions can \n",
    "    operate on the objects.\n"
   ]
  },
  {
   "cell_type": "markdown",
   "id": "73b4a617-a44f-43fb-9061-57177788a5c4",
   "metadata": {},
   "source": [
    "Q2. Where does an inheritance search look for an attribute?"
   ]
  },
  {
   "cell_type": "markdown",
   "id": "019e0de0-4751-4ff8-ba3a-432632ae085a",
   "metadata": {},
   "source": [
    "Ans.Python searches for an attribute in an upward tree of attributes. it first searches for the attribute in its instance and then looks in the class it is generated from, to all super classes listed in its class header"
   ]
  },
  {
   "cell_type": "markdown",
   "id": "9ce5a562-a975-480b-8937-babc435b1731",
   "metadata": {},
   "source": [
    "Q3. How do you distinguish between a class object and an instance object?"
   ]
  },
  {
   "cell_type": "markdown",
   "id": "105e2e65-fa10-4cc2-a2c1-c211f37e5f1e",
   "metadata": {},
   "source": [
    "Ans.The differences between a class object and an instance object are:\n",
    "\n",
    "1.Class is a template for creating objects whereas object is an instance of class\n",
    "2.Seperate memory is allocated for each object whenever an object is created. but for a class this doesnot happens.\n",
    "3.A Class is created once. Many objects are created using a class.\n",
    "4.As Classes have no allocated memory, they can't be manipulated. but objects can be manipulated."
   ]
  },
  {
   "cell_type": "markdown",
   "id": "744d52ff-929e-47dd-8898-492528b50638",
   "metadata": {},
   "source": [
    "Q4. What makes the first argument in a class’s method function special?"
   ]
  },
  {
   "cell_type": "markdown",
   "id": "a4b3c497-e38e-4352-b571-fb30e32bd952",
   "metadata": {},
   "source": [
    "Ans. Python Classes usually have three types of methods which are:\n",
    "\n",
    "        1.Instance Methods (object level methods)\n",
    "        2.Class Methods (class level methods)\n",
    "        3.Static Methods (general utility methods)\n",
    " self is the first argument for instance methods. which refers to the object itself.\n",
    " \n",
    " cls is the first argument for class methods which refers to the class itself."
   ]
  },
  {
   "cell_type": "markdown",
   "id": "61c82eb0-1586-4a06-9ab6-5ab93b4ba7b0",
   "metadata": {},
   "source": [
    "Q5. What is the purpose of the __init__ method?"
   ]
  },
  {
   "cell_type": "markdown",
   "id": "668a0723-b683-415f-9edb-324febb490ee",
   "metadata": {},
   "source": [
    "Ans.The purpose of Constructors(__init__ method) is that to Initialize the object.A Constructor is one of the Special Method which is automatically or implicitly called by PVM during object creation and whose role is to initialize the object without leaving object empty.This method is called when an object is created from a class and it allows the class to initialize the attributes of the class"
   ]
  },
  {
   "cell_type": "markdown",
   "id": "f941b3af-9506-4feb-bff5-17797a0b5134",
   "metadata": {},
   "source": [
    "Q6. What is the process for creating a class instance?"
   ]
  },
  {
   "cell_type": "markdown",
   "id": "6090412e-bcc0-44c3-b996-10214d6729c3",
   "metadata": {},
   "source": [
    "Ans. To create a class instance, we need to call the class by its name and pass the arguments to the class, which its init method accepts.\n",
    "\n",
    "Example: my_variable = my_course(\"bkp\",\"xyz\") Here my_variable is an instance of class my_course with attributes \"bkp\" and \"xyz\"."
   ]
  },
  {
   "cell_type": "markdown",
   "id": "d3708b9e-7083-40e4-8b32-5fb49976061f",
   "metadata": {},
   "source": [
    "Q7. What is the process for creating a class?"
   ]
  },
  {
   "cell_type": "markdown",
   "id": "5fd3815c-69e0-45f3-97ac-b29cdde6f4ba",
   "metadata": {},
   "source": [
    "Ans. class in python can be created by using keyword \"class\" .The syntax to create a class in python is class <classname>:\n",
    "\n",
    "Example: class Vehicle: ➞ this creates a class called Vehicle"
   ]
  },
  {
   "cell_type": "markdown",
   "id": "0918ec23-fe0b-43f3-80ef-d7797f05137e",
   "metadata": {},
   "source": [
    "Q8. How would you define the superclasses of a class?"
   ]
  },
  {
   "cell_type": "markdown",
   "id": "3547e1ee-cb7d-4e7a-a1a2-65d637097add",
   "metadata": {},
   "source": [
    "Ans. Superclass/Parent class is given as a arugment to the child class.\n",
    "\n",
    "Example: class Employee(Person): Here child class Employee inherits attributes and methofs from Superclass/Parent Person."
   ]
  }
 ],
 "metadata": {
  "kernelspec": {
   "display_name": "Python 3 (ipykernel)",
   "language": "python",
   "name": "python3"
  },
  "language_info": {
   "codemirror_mode": {
    "name": "ipython",
    "version": 3
   },
   "file_extension": ".py",
   "mimetype": "text/x-python",
   "name": "python",
   "nbconvert_exporter": "python",
   "pygments_lexer": "ipython3",
   "version": "3.10.6"
  }
 },
 "nbformat": 4,
 "nbformat_minor": 5
}
