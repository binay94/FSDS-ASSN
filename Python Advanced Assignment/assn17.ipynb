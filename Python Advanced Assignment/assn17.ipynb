{
 "cells": [
  {
   "cell_type": "markdown",
   "id": "cb0f1ab9-f1df-4dbd-807d-3b64d73859f6",
   "metadata": {},
   "source": [
    "Q1. Explain the difference between greedy and non-greedy syntax with visual terms in as few words as possible. What is the bare minimum effort required to transform a greedy pattern into a non-greedy one? What characters or characters can you introduce or change?"
   ]
  },
  {
   "cell_type": "markdown",
   "id": "166a5746-87b9-4604-b3d8-f7a15b20ff19",
   "metadata": {},
   "source": [
    "Ans: The Main difference between Greedy and Non Greedy Match Syntax is The Greedy Match will try to match as many repetitions of the quantified pattern as possible Whereas The Non Greedy Match will try to match as few repetitions of the quantified pattern as possible"
   ]
  },
  {
   "cell_type": "code",
   "execution_count": 10,
   "id": "f3efd2df-fa78-4712-987e-4c9558a8a397",
   "metadata": {},
   "outputs": [
    {
     "name": "stdout",
     "output_type": "stream",
     "text": [
      "['bbbbbb', '']\n",
      "['', 'b', '', 'b', '', 'b', '', 'b', '', 'b', '', 'b', '']\n"
     ]
    }
   ],
   "source": [
    "import re\n",
    "print(re.findall(\"b*\", \"bbbbbb\")) # Greedy Match Synatx\n",
    "print(re.findall(\"b*?\", \"bbbbbb\")) # Non Greddy Syntax"
   ]
  },
  {
   "cell_type": "markdown",
   "id": "8006c35b-09b5-48ea-8e88-1e5a637c66ff",
   "metadata": {},
   "source": [
    "Q2. When exactly does greedy versus non-greedy make a difference?  What if you&#39;re looking for a non-greedy match but the only one available is greedy?"
   ]
  },
  {
   "cell_type": "markdown",
   "id": "ac6fb760-9932-4b68-a01b-4bcdc4b932d9",
   "metadata": {},
   "source": [
    "Ans: The Greedy Match will try to match as many repetitions of the quantified pattern as possible. The Non Greedy Match will try to match as few repetitions of the quantified pattern as possible. If only Non Greedy Match is available, we can use other filtering or pattern matching methods of regex and further identify the required pattern."
   ]
  },
  {
   "cell_type": "markdown",
   "id": "772c0872-b4a0-4cd6-a5cb-19980e251e6a",
   "metadata": {},
   "source": [
    "Q3. In a simple match of a string, which looks only for one match and does not do any replacement, is the use of a nontagged group likely to make any practical difference?"
   ]
  },
  {
   "cell_type": "markdown",
   "id": "6d95c543-83ff-4fb4-9ff8-1baa06f43415",
   "metadata": {},
   "source": [
    "Ans: In a simple match of a string, which looks only for one match and does not do any replacement,In this Case The Non Tagged Group will not make any diffrence."
   ]
  },
  {
   "cell_type": "markdown",
   "id": "a441b934-286c-43ae-b269-69b255472af5",
   "metadata": {},
   "source": [
    "Q4. Describe a scenario in which using a nontagged category would have a significant impact on the program&#39;s outcomes."
   ]
  },
  {
   "cell_type": "markdown",
   "id": "fd7ab3f9-2ef9-4182-a071-d458fe0f99fd",
   "metadata": {},
   "source": [
    "Ans: Here in the below Code Snippet . decimal is not tagged or captured. It will useful in scenarios where the separator of value in a string is of no use and we need to capture only the values."
   ]
  },
  {
   "cell_type": "code",
   "execution_count": 11,
   "id": "4878e505-5cfe-4653-9222-fa6175f391a3",
   "metadata": {},
   "outputs": [
    {
     "data": {
      "text/plain": [
       "('135', '456')"
      ]
     },
     "execution_count": 11,
     "metadata": {},
     "output_type": "execute_result"
    }
   ],
   "source": [
    "import re\n",
    "text='135.456'\n",
    "pattern=r'(\\d+)(?:.)(\\d+)'\n",
    "regobj=re.compile(pattern)\n",
    "matobj=regobj.search(text)\n",
    "matobj.groups()"
   ]
  },
  {
   "cell_type": "markdown",
   "id": "c900346b-fcde-4e0c-b6b2-e7c4ebac7e7e",
   "metadata": {},
   "source": [
    "Q5. Unlike a normal regex pattern, a look-ahead condition does not consume the characters it examines. Describe a situation in which this could make a difference in the results of your programme."
   ]
  },
  {
   "cell_type": "markdown",
   "id": "89683e28-9d42-43ee-8e96-3d73cc9f48e4",
   "metadata": {},
   "source": [
    "Ans: While counting the number of multiple lines or mutiple sentence in a string the positive look ahead makes a difference, without which we wont get the correct count of lines or sentences in a string."
   ]
  },
  {
   "cell_type": "markdown",
   "id": "34af20a6-7a27-464e-834e-37c5b5ed0a5d",
   "metadata": {},
   "source": [
    "Q6. In standard expressions, what is the difference between positive look-ahead and negative look-ahead?"
   ]
  },
  {
   "cell_type": "markdown",
   "id": "1b370c3d-40fb-4889-b089-c7f0d7afe449",
   "metadata": {},
   "source": [
    "Ans: Positive Lookahead allows to add a condition for what follows. Negative Lookahead is similar, but it looks behind. That is, it allows to match a pattern only if there’s something before it."
   ]
  },
  {
   "cell_type": "markdown",
   "id": "6637b1e7-494a-40ea-a65e-f01bdc3b581d",
   "metadata": {},
   "source": [
    "Q7. What is the benefit of referring to groups by name rather than by number in a standard expression?"
   ]
  },
  {
   "cell_type": "markdown",
   "id": "bbac1e7f-987d-48b7-9a00-b1c451969f6f",
   "metadata": {},
   "source": [
    "Ans: Referring to groups by name rather than by number in a standard expression helps to keep the code clear and easy to understand."
   ]
  },
  {
   "cell_type": "markdown",
   "id": "4b4a8bb3-b491-4090-9418-0d9faba6f35b",
   "metadata": {},
   "source": [
    "Q8. Can you identify repeated items within a target string using named groups, as in &quot;The cow jumped over the moon&quot;?"
   ]
  },
  {
   "cell_type": "markdown",
   "id": "2fd9cbd4-9e99-499a-b6e9-5eb1eb1ac711",
   "metadata": {},
   "source": [
    "Ans: We can identify repeated items within a target string using named groups, as in \"The cow jumped over the moon\" as follows :"
   ]
  },
  {
   "cell_type": "code",
   "execution_count": 12,
   "id": "6c5e41ed-1440-47a7-bb36-8ae414b100e5",
   "metadata": {},
   "outputs": [
    {
     "data": {
      "text/plain": [
       "['The', 'the']"
      ]
     },
     "execution_count": 12,
     "metadata": {},
     "output_type": "execute_result"
    }
   ],
   "source": [
    "import re\n",
    "text = \"The cow jumped over the moon\"\n",
    "regobj=re.compile(r'(The)',re.IGNORECASE)\n",
    "regobj.findall(text)"
   ]
  },
  {
   "cell_type": "markdown",
   "id": "d6fb1050-c789-43d4-af78-d4758468cc8e",
   "metadata": {},
   "source": [
    "Q9. When parsing a string, what is at least one thing that the Scanner interface does for you that the re.findall feature does not?"
   ]
  },
  {
   "cell_type": "markdown",
   "id": "7b5257c8-b9b3-4dab-8105-b99630971cc4",
   "metadata": {},
   "source": [
    "Ans: re.findall() module is used to search for all occurrences that match a given pattern. In contrast, re.search() will only return the first occurrence that matches the specified pattern. re.findall() will iterate over all the lines of the file and will return all non-overlapping matches of pattern in a single step."
   ]
  },
  {
   "cell_type": "markdown",
   "id": "f17c82c0-55d4-4ff2-a792-24a457967f96",
   "metadata": {},
   "source": [
    "Q10. Does a scanner object have to be named scanner?"
   ]
  },
  {
   "cell_type": "markdown",
   "id": "9a0d6c5f-1525-4816-b692-846bb5bed00c",
   "metadata": {},
   "source": [
    "Ans: Yes, a scanner object may have any name."
   ]
  }
 ],
 "metadata": {
  "kernelspec": {
   "display_name": "Python 3 (ipykernel)",
   "language": "python",
   "name": "python3"
  },
  "language_info": {
   "codemirror_mode": {
    "name": "ipython",
    "version": 3
   },
   "file_extension": ".py",
   "mimetype": "text/x-python",
   "name": "python",
   "nbconvert_exporter": "python",
   "pygments_lexer": "ipython3",
   "version": "3.10.6"
  }
 },
 "nbformat": 4,
 "nbformat_minor": 5
}
