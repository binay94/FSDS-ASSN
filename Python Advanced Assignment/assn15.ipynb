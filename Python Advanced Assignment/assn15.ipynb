{
 "cells": [
  {
   "cell_type": "markdown",
   "id": "a25b288b-1d70-4b82-9c9b-0a0b224a30a5",
   "metadata": {},
   "source": [
    "1. What are the new features added in Python 3.8 version?"
   ]
  },
  {
   "cell_type": "markdown",
   "id": "588f55c4-c4c6-4f39-8544-7f5d1aff72af",
   "metadata": {},
   "source": [
    "Ans: New Features In Python 3.8\n",
    "\n",
    "1) Assignment expressions\n",
    "2) Positional-only parameters\n",
    "3) Parallel filesystem cache for compiled bytecode files\n",
    "4) Debug build uses the same ABI as release build\n",
    "5) f-strings support = for self-documenting expressions and debugging\n",
    "6) Python Runtime Audit Hooks\n",
    "7) Python Initialization Configuration\n",
    "8) Vectorcall: a fast calling protocol for CPython\n",
    "9) Pickle protocol 5 with out-of-band data buffers"
   ]
  },
  {
   "cell_type": "markdown",
   "id": "a1a8adb7-4be6-4846-b6b3-e5c0b6c46daa",
   "metadata": {},
   "source": [
    "2. What is monkey patching in Python?"
   ]
  },
  {
   "cell_type": "markdown",
   "id": "c52868d1-1988-4225-b1e9-ab97a7603c45",
   "metadata": {},
   "source": [
    "Ans: In Python, the term monkey patch refers to making dynamic (or run-time) modifications to a class or module.In simple words, we can change the behavior or working of a class/ module at the runtime without changing the whole python code."
   ]
  },
  {
   "cell_type": "markdown",
   "id": "d10b70b9-e92f-44a4-8879-a23a71c7dd18",
   "metadata": {},
   "source": [
    "3. What is the difference between a shallow copy and deep copy?"
   ]
  },
  {
   "cell_type": "markdown",
   "id": "86cc9428-d9f5-454e-a69d-2c4057767aa6",
   "metadata": {},
   "source": [
    "Ans: The Differences between a Shallow Copy and deep copy are as follows:\n",
    "\n",
    "When an object is copied using copy(), it is called shallow copy as changes made in copied object will also make corresponding changes in original object, because both the objects will be referencing same address location.\n",
    "\n",
    "When an object is copied using deepcopy(), it is called deep copy as changes made in copied object will not make corresponding changes in original object, because both the objects will not be referencing same address location."
   ]
  },
  {
   "cell_type": "code",
   "execution_count": 15,
   "id": "9fb88d56-e7ff-42bb-8f89-9d8794f5f728",
   "metadata": {},
   "outputs": [
    {
     "name": "stdout",
     "output_type": "stream",
     "text": [
      "id of l1 :140106955487232\n",
      "id of l2 :140106955487232\n",
      "id of l3 :140106955487744\n",
      "[[77, 666], 2, 3]\n"
     ]
    }
   ],
   "source": [
    "from copy import deepcopy, copy\n",
    "l1=[1,2,3]\n",
    "l2=l1#shallow copy\n",
    "l3=deepcopy(l1)#deep copy\n",
    "print(f\"id of l1 :{id(l1)}\\nid of l2 :{id(l2)}\\nid of l3 :{id(l3)}\")\n",
    "l3[-1]=[99,888]\n",
    "l2[0]=[77,666]\n",
    "print(l1)"
   ]
  },
  {
   "cell_type": "markdown",
   "id": "c0245406-850b-40e9-8c7a-9c07b47a70f4",
   "metadata": {},
   "source": [
    "4. What is the maximum possible length of an identifier?"
   ]
  },
  {
   "cell_type": "markdown",
   "id": "bb0a690f-2078-41e2-ae90-f4baa2e7aee7",
   "metadata": {},
   "source": [
    "Ans: In Python, the highest possible length of an identifier is 79 characters. Python is a high level programming language. It’s also a complex form and a collector of waste.\n",
    "\n",
    "Python, particularly when combined with identifiers, is case-sensitive.\n",
    "\n",
    "When writing or using identifiers in Python, it has a maximum of 79 characters.\n",
    "\n",
    "Unlikely, Python gives the identifiers unlimited length.\n",
    "\n",
    "However, the layout of PEP-8 prevents the user from breaking the rules and includes a 79-character limit."
   ]
  },
  {
   "cell_type": "markdown",
   "id": "6df8f415-89f0-43e9-9683-840c2815c400",
   "metadata": {},
   "source": [
    "5. What is generator comprehension?"
   ]
  },
  {
   "cell_type": "markdown",
   "id": "ae145bd0-65d8-4a28-8ce5-e7e5d3dc5fce",
   "metadata": {},
   "source": [
    "Ans: A generator comprehension is a single-line specification for defining a generator in Python.\n",
    "\n",
    "It is absolutely essential to learn this syntax in order to write simple and readable code.\n",
    "\n",
    "Generator comprehension uses round bracket unlike square bracket in list comprehension.\n",
    "\n",
    "The generator yields one item at a time and generates item only when in demand. Whereas, in a list comprehension, Python reserves memory for the whole list. Thus we can say that the generator expressions are memory efficient than the lists."
   ]
  }
 ],
 "metadata": {
  "kernelspec": {
   "display_name": "Python 3 (ipykernel)",
   "language": "python",
   "name": "python3"
  },
  "language_info": {
   "codemirror_mode": {
    "name": "ipython",
    "version": 3
   },
   "file_extension": ".py",
   "mimetype": "text/x-python",
   "name": "python",
   "nbconvert_exporter": "python",
   "pygments_lexer": "ipython3",
   "version": "3.10.6"
  }
 },
 "nbformat": 4,
 "nbformat_minor": 5
}
