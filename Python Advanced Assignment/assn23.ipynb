{
 "cells": [
  {
   "cell_type": "markdown",
   "id": "83778a8d-5147-4305-bcc1-625ed6f38dc6",
   "metadata": {},
   "source": [
    "Q1. If you have any, what are your choices for increasing the comparison between different figures on the same graph?"
   ]
  },
  {
   "cell_type": "markdown",
   "id": "57b7a61b-0e1f-4600-b9df-ee5e19668e57",
   "metadata": {},
   "source": [
    "Ans: Matplotlib provides a convenient method called subplots for increasing the comparison between different figures on the same graph. Subplots mean a group of smaller axes (where each axis is a plot) that can exist together within a single figure."
   ]
  },
  {
   "cell_type": "markdown",
   "id": "816864ba-5bc3-4b7f-b999-611316ad6217",
   "metadata": {},
   "source": [
    "Q2. Can you explain the benefit of compound interest over a higher rate of interest that does not compound after reading this chapter?"
   ]
  },
  {
   "cell_type": "markdown",
   "id": "e3512b82-9b5c-4557-b230-095707e418c4",
   "metadata": {},
   "source": [
    "Ans: Compound interest makes a sum of money grow at a faster rate than simple interest,because in addition to earning returns on the money you invest, you also earn returns on those returns at the end of every compounding period, which could be daily, monthly, quarterly or annually."
   ]
  },
  {
   "cell_type": "markdown",
   "id": "8542e285-60b6-4d3f-a94e-a6c1a99978fb",
   "metadata": {},
   "source": [
    "Q3. What is a histogram, exactly? Name a numpy method for creating such a graph."
   ]
  },
  {
   "cell_type": "markdown",
   "id": "1673cb6f-8155-4d5e-9d5d-e8e8b8969aa9",
   "metadata": {},
   "source": [
    "Ans: Histogram shows total values of X wrt Y. Which means at any particular position of X, Y value shows the total number of counts or data below that value of X. numpy.histogram() is the built in function used."
   ]
  },
  {
   "cell_type": "markdown",
   "id": "01eabce4-11ff-48f5-b28d-b3238434f343",
   "metadata": {},
   "source": [
    "Q4. If necessary, how do you change the aspect ratios between the X and Y axes?"
   ]
  },
  {
   "cell_type": "markdown",
   "id": "fa89ce81-3625-4052-92aa-df804c5d49ca",
   "metadata": {},
   "source": [
    "Ans: We can use figure(figsize=(10,8)) function inside the matplot.pyplot library which we scale down or up the graph."
   ]
  },
  {
   "cell_type": "markdown",
   "id": "690d0dc9-1408-4f6b-860d-4b73f5c9b7ae",
   "metadata": {},
   "source": [
    "Q5. Compare and contrast the three types of array multiplication between two numpy arrays: dot product, outer product, and regular multiplication of two numpy arrays."
   ]
  },
  {
   "cell_type": "markdown",
   "id": "39b1f03d-c7d2-4e41-a0c1-51c210d45a30",
   "metadata": {},
   "source": [
    "Ans: : In regular multiplication values of same index get multiplied.\n",
    "\n",
    "In dot product there is row wise multiplication, row of one array with column of second array and so on.\n",
    "\n",
    "In outer multiplication every element of first array a1 will be multiply by every element of other array a2 such such the number of columns will be equal to the number of element in another array a2."
   ]
  },
  {
   "cell_type": "markdown",
   "id": "b8181f56-53ad-4f88-86d1-04563388ff7f",
   "metadata": {},
   "source": [
    "Q6. Before you buy a home, which numpy function will you use to measure your monthly mortgage payment?"
   ]
  },
  {
   "cell_type": "markdown",
   "id": "25b421df-8b18-4dbf-9d3d-5403a03f856b",
   "metadata": {},
   "source": [
    "Ans: np.pmt(rate, nper, pv) function we will be using in order to calculate monthly mortgage payment before you purchase a house.\n",
    "\n",
    "1) rate = The periodic interest rate\n",
    "2) nper = The number of payment periods\n",
    "3) pv = The total value of the mortgage loan"
   ]
  },
  {
   "cell_type": "markdown",
   "id": "62f373d0-67ab-4738-90e2-f4eb07b7bc08",
   "metadata": {},
   "source": [
    "Q7. Can string data be stored in numpy arrays? If so, list at least one restriction that applies to this data."
   ]
  },
  {
   "cell_type": "markdown",
   "id": "77c08968-cb9c-421c-a128-56ebb0bd13ee",
   "metadata": {},
   "source": [
    "Ans: Yes, an array can store the string. The limitation which imposed on the string data is, whenever we store the data of string dtype then it should should keep in mind that the string which is having the maximum length is the limit."
   ]
  }
 ],
 "metadata": {
  "kernelspec": {
   "display_name": "Python 3 (ipykernel)",
   "language": "python",
   "name": "python3"
  },
  "language_info": {
   "codemirror_mode": {
    "name": "ipython",
    "version": 3
   },
   "file_extension": ".py",
   "mimetype": "text/x-python",
   "name": "python",
   "nbconvert_exporter": "python",
   "pygments_lexer": "ipython3",
   "version": "3.10.6"
  }
 },
 "nbformat": 4,
 "nbformat_minor": 5
}
