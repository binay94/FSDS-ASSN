{
 "cells": [
  {
   "cell_type": "markdown",
   "id": "7a424659-b798-4fba-be7b-f78052c6e2d5",
   "metadata": {},
   "source": [
    "Q1. What are the benefits of the built-in array package, if any?"
   ]
  },
  {
   "cell_type": "markdown",
   "id": "f8be0bdc-e8d9-4c79-8b1b-83ad16fd48df",
   "metadata": {},
   "source": [
    "Ans: Arrays represent multiple data items of the same type using a single name. In arrays, the elements can be accessed randomly by using the index number. Arrays allocate memory in contiguous memory locations for all its elements. Hence there is no chance of extra memory being allocated in case of arrays. This avoids memory overflow or shortage of memory in arrays."
   ]
  },
  {
   "cell_type": "markdown",
   "id": "13556bee-3a09-4365-a9b9-9fcb67a61d2e",
   "metadata": {},
   "source": [
    "Q2. What are some of the array package&#39;s limitations?"
   ]
  },
  {
   "cell_type": "markdown",
   "id": "8de1b1f7-1b91-496b-9054-652a188c1e79",
   "metadata": {},
   "source": [
    "Ans: The number of elements to be stored in an array should be known in advance. An array is a static structure (which means the array is of fixed size). Once declared the size of the array cannot be modified. The memory which is allocated to it cannot be increased or decreased.\n",
    "\n",
    "Insertion and deletion are quite difficult in an array as the elements are stored in consecutive memory locations and the shifting operation is costly.\n",
    "\n",
    "Allocating more memory than the requirement leads to wastage of memory space and less allocation of memory also leads to a problem"
   ]
  },
  {
   "cell_type": "markdown",
   "id": "c35b4b11-274d-4ebf-b36f-1c2f1c6d68d7",
   "metadata": {},
   "source": [
    "Q3. Describe the main differences between the array and numpy packages."
   ]
  },
  {
   "cell_type": "markdown",
   "id": "62bb6cbe-f591-4fc7-9bc3-d5ebf91bcb5b",
   "metadata": {},
   "source": [
    "Ans: The array package doesn't provide any help with numerical calculation with the items insdie it in number form while NumPy give you a wide variety of numerical operations.\n",
    "\n",
    "An array is a single dimensional entity which hold the numerical data, while numpy can have more than 1 dimension.\n",
    "\n",
    "In case of array, item can be accessed by its index position and it is easy task while in numpy item is accessed by its column and row index, which makes it slightly time taking. Same goes with appending operation.\n",
    "\n",
    "In case of array we do not form a tabular structure, while in numpy it forms a tabular structure"
   ]
  },
  {
   "cell_type": "markdown",
   "id": "e821b61f-4d9e-4c6b-b278-6d26eb1f761a",
   "metadata": {},
   "source": [
    "Q4. Explain the distinctions between the empty, ones, and zeros functions."
   ]
  },
  {
   "cell_type": "markdown",
   "id": "d9f3e520-a0c1-49b8-b341-20bfb02c2c76",
   "metadata": {},
   "source": [
    "Ans: The distinctions between the empty, ones, and zero functions are as follows :\n",
    "\n",
    "Empty function: An empty function is a function that does not contain any statement within its body. If you try to write a function definition without any statement in python ,it will return an error. To avoid this, we use pass statement. pass is a special statement in Python that does nothing. It only works as a dummy statement.\n",
    "\n",
    "Ones: This function returns a new array of given shape and data type, where the element’s value is 1.\n",
    "\n",
    "Zeros: This function returns a new array of given shape and data type, where the element’s value is 0."
   ]
  },
  {
   "cell_type": "markdown",
   "id": "4da4c9b2-55bd-497f-a696-664d8ae0667c",
   "metadata": {},
   "source": [
    "Q5. In the fromfunction function, which is used to construct new arrays, what is the role of the callable argument?"
   ]
  },
  {
   "cell_type": "markdown",
   "id": "a49650e3-5407-4480-960e-a6e748f4d09d",
   "metadata": {},
   "source": [
    "Ans: Its function is to execute the function over each coordinate and the resulting array. The function is called with N parameters, where N is the rank of shape. Each parameter represents the coordinates of the array varying along a specific axis."
   ]
  },
  {
   "cell_type": "markdown",
   "id": "4fa44ab0-8798-4d5b-a30e-a06a11e08c55",
   "metadata": {},
   "source": [
    "Q6. What happens when a numpy array is combined with a single-value operand (a scalar, such as an int or a floating-point value) through addition, as in the expression A + n?"
   ]
  },
  {
   "cell_type": "markdown",
   "id": "0442f6cf-2557-4125-bd12-b92264192830",
   "metadata": {},
   "source": [
    "Ans: If any scaler value such as integer is added to the numpy array then all the elements inside the array will add that value in it."
   ]
  },
  {
   "cell_type": "markdown",
   "id": "5d5b57e4-23c0-40ee-a8d7-5cb12bff8437",
   "metadata": {},
   "source": [
    "Q7. Can array-to-scalar operations use combined operation-assign operators (such as += or *=)? What is the outcome?"
   ]
  },
  {
   "cell_type": "markdown",
   "id": "2456c122-4669-4745-a795-086e23078252",
   "metadata": {},
   "source": [
    "Ans:  An array is a collection of elements of the same data type, while a scalar is a single value of that data type. When performing an array-to-scalar operation, the array is reduced to a single value (a scalar) using a reduction operation such as sum, min, or max."
   ]
  },
  {
   "cell_type": "markdown",
   "id": "b3306b5a-a5d4-4100-82d7-2e60023cf76b",
   "metadata": {},
   "source": [
    "Q8. Does a numpy array contain fixed-length strings? What happens if you allocate a longer string to one of these arrays?"
   ]
  },
  {
   "cell_type": "markdown",
   "id": "74fb2a8d-916c-4e3b-afc0-0fb4bd3f6d63",
   "metadata": {},
   "source": [
    "Ans: : Yes, it is possible that we can include a string of fixed length in numpy array. The dtype of any numpy array containing string values is the maximum length of any string present in the array.Once set, it will only be able to store new string having length not more than the maximum length at the time of the creation. If we try to reassign some another string value having length greater than the maximum length of the existing elements, it simply discards all the values beyond the maximum length accept upto those values which are under the limit."
   ]
  },
  {
   "cell_type": "markdown",
   "id": "4c3a265f-c2bc-487b-b027-02a61e97c885",
   "metadata": {},
   "source": [
    "Q9. What happens when you combine two numpy arrays using an operation like addition (+) or multiplication (*)? What are the conditions for combining two numpy arrays?"
   ]
  },
  {
   "cell_type": "markdown",
   "id": "7f0025d1-2a21-43bc-bc8e-6d5f0437ee53",
   "metadata": {},
   "source": [
    "Ans: While combining two numpy arrays using an operation like addition (+) or multiplication (*) ,It will simply add or multiply element to element at same position."
   ]
  },
  {
   "cell_type": "markdown",
   "id": "1a95e83f-8a47-4bc5-a614-8a57e94adf09",
   "metadata": {},
   "source": [
    "Q10. What is the best way to use a Boolean array to mask another array?"
   ]
  },
  {
   "cell_type": "markdown",
   "id": "6428c607-6bfd-4b34-a364-4d5db0cffa87",
   "metadata": {},
   "source": [
    "Ans: The best way to use a Boolean array to mask another array is by Using masked_where of numpy package"
   ]
  },
  {
   "cell_type": "markdown",
   "id": "fca1d39f-c80c-42f6-bfa9-26618cb0b087",
   "metadata": {},
   "source": [
    "Q11. What are three different ways to get the standard deviation of a wide collection of data using both standard Python and its packages? Sort the three of them by how quickly they execute."
   ]
  },
  {
   "cell_type": "markdown",
   "id": "5454a925-2aee-4e3b-9ebe-9f2254b62ea4",
   "metadata": {},
   "source": [
    "Ans: Three different ways to get the standard deviation of a wide collection of data using both standard Python and its packages:\n",
    "\n",
    "a) NumPy package: The numpy package is widely used in Python for numerical computations and offers a fast and efficient way to calculate the standard deviation of an array of data."
   ]
  },
  {
   "cell_type": "code",
   "execution_count": 5,
   "id": "3cb56d1b-a0da-4cc3-80d1-2bd8c012ffa4",
   "metadata": {},
   "outputs": [
    {
     "name": "stdout",
     "output_type": "stream",
     "text": [
      "STD of data :  1.4142135623730951\n"
     ]
    }
   ],
   "source": [
    "import numpy as np\n",
    "\n",
    "# Create an array of data\n",
    "data = np.array([1, 2, 3, 4, 5])\n",
    "\n",
    "# Calculate the standard deviation using numpy\n",
    "std_dev = np.std(data)\n",
    "\n",
    "print(\"STD of data : \",std_dev)"
   ]
  },
  {
   "cell_type": "markdown",
   "id": "2dabcb14-b0f7-4d0b-91bd-420076339467",
   "metadata": {},
   "source": [
    "b) Statistics package: The statistics package is included in the standard library of Python and provides a set of functions for statistical computations."
   ]
  },
  {
   "cell_type": "code",
   "execution_count": 6,
   "id": "3241081c-eeef-40c4-80de-1925aab940fd",
   "metadata": {},
   "outputs": [
    {
     "name": "stdout",
     "output_type": "stream",
     "text": [
      "STD of data :  1.5811388300841898\n"
     ]
    }
   ],
   "source": [
    "import statistics\n",
    "\n",
    "# Create a list of data\n",
    "data = [1, 2, 3, 4, 5]\n",
    "\n",
    "# Calculate the standard deviation using statistics\n",
    "std_dev = statistics.stdev(data)\n",
    "\n",
    "print(\"STD of data : \",std_dev)"
   ]
  },
  {
   "cell_type": "markdown",
   "id": "d58c688f-5ddb-47f9-bfc1-14fc9eeb79a1",
   "metadata": {},
   "source": [
    "c) Manual calculation: A manual calculation of the standard deviation can also be done using standard Python, although it is not as efficient as using the numpy or statistics packages."
   ]
  },
  {
   "cell_type": "code",
   "execution_count": 7,
   "id": "c399c4f0-5978-4940-876e-ee5be5880497",
   "metadata": {},
   "outputs": [
    {
     "name": "stdout",
     "output_type": "stream",
     "text": [
      "STD of data :  1.4142135623730951\n"
     ]
    }
   ],
   "source": [
    "# Create a list of data\n",
    "data = [1, 2, 3, 4, 5]\n",
    "\n",
    "# Calculate the mean of the data\n",
    "mean = sum(data) / len(data)\n",
    "\n",
    "# Calculate the variance of the data\n",
    "variance = sum([((x - mean) ** 2) for x in data]) / len(data)\n",
    "\n",
    "# Calculate the standard deviation using the variance\n",
    "std_dev = variance ** 0.5\n",
    "\n",
    "print(\"STD of data : \",std_dev)"
   ]
  },
  {
   "cell_type": "markdown",
   "id": "f070ea9d-ee1c-45c3-9ab9-6c3d20072a00",
   "metadata": {},
   "source": [
    "Q12. What is the dimensionality of a Boolean mask-generated array?"
   ]
  },
  {
   "cell_type": "markdown",
   "id": "6bdece3d-7783-4ce5-8d86-6d9058edd936",
   "metadata": {},
   "source": [
    "Ans: It will have same dimensionality as input array."
   ]
  }
 ],
 "metadata": {
  "kernelspec": {
   "display_name": "Python 3 (ipykernel)",
   "language": "python",
   "name": "python3"
  },
  "language_info": {
   "codemirror_mode": {
    "name": "ipython",
    "version": 3
   },
   "file_extension": ".py",
   "mimetype": "text/x-python",
   "name": "python",
   "nbconvert_exporter": "python",
   "pygments_lexer": "ipython3",
   "version": "3.10.6"
  }
 },
 "nbformat": 4,
 "nbformat_minor": 5
}
