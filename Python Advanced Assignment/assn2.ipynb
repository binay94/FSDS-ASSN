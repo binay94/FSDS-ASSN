{
 "cells": [
  {
   "cell_type": "markdown",
   "id": "72852095-7698-426a-b831-4dd87e6ea5a0",
   "metadata": {},
   "source": [
    "## Assignment 2 Solutions"
   ]
  },
  {
   "cell_type": "markdown",
   "id": "8754232f-f551-4802-9ece-e3d7c2a4504f",
   "metadata": {},
   "source": [
    "Q1. What is the relationship between classes and modules?"
   ]
  },
  {
   "cell_type": "markdown",
   "id": "37ed9a92-cccf-445a-be3c-d79af7d4e2f8",
   "metadata": {},
   "source": [
    "Ans.  A Python class is like an outline/blueprint/mold for creating a new object. An object is anything that you wish to manipulate or change while working through the code. Every time a class object is instantiated, which is when we declare a variable, a new object is initiated from scratch\n",
    "\n",
    "Whereas in Python, Modules are simply files with the . py extension containing Python code that can be imported inside another Python Program. In simple terms, we can consider a module to be the same as a code library or a file that contains a set of functions/Classes that you want to include in your application"
   ]
  },
  {
   "cell_type": "markdown",
   "id": "ea89caf6-cc38-4df0-804f-00af4331bad5",
   "metadata": {},
   "source": [
    "Q2. How do you make instances and classes?"
   ]
  },
  {
   "cell_type": "markdown",
   "id": "9f9859e0-c18c-4d4a-9841-4d2603bcf0e3",
   "metadata": {},
   "source": [
    "Ans.A class instance can be created by we call a class by its name and pass the arguments which is created in its __init__ method.\n",
    "Example: record = Student(22,'Male'), Here record is an instance of class student with attriubutes 22 and 'Male'.\n",
    "\n",
    "Whereas for creating a class, we use the Class keyword. Class keyword is followed by classname and semicolon.\n",
    "Example: Here Student is a class created with class keyword with arguments roll_no and gender."
   ]
  },
  {
   "cell_type": "code",
   "execution_count": 3,
   "id": "095418a1-4144-44a9-a47d-71dbd7d67586",
   "metadata": {},
   "outputs": [],
   "source": [
    "class Student:\n",
    "    def __init__(self,roll_no,gender):\n",
    "        self.roll_no=roll_no\n",
    "        self.gender=gender"
   ]
  },
  {
   "cell_type": "markdown",
   "id": "f30a1cf3-5939-40b4-ab28-49a6da187ee2",
   "metadata": {},
   "source": [
    "Q3. Where and how should be class attributes created?"
   ]
  },
  {
   "cell_type": "markdown",
   "id": "1260a049-2d7c-41ae-9bf9-38e2ad3e0783",
   "metadata": {},
   "source": [
    "Ans. Class attributes or Class level Attributes belong to the class itself. these attributes will be shared by all the instances of the class. Hence these attributes are usually created/defined in the top of class definiation outside all methods.\n",
    " \n",
    "Example: In the below code we are defining a class attribute called no_of_students which will be shared by all the instances of the class School\n",
    "\n"
   ]
  },
  {
   "cell_type": "code",
   "execution_count": 2,
   "id": "d8c41fd3-a24f-4a55-9ef7-ed9ac9e6d8b2",
   "metadata": {},
   "outputs": [],
   "source": [
    "class School:\n",
    "    no_of_students = 204\n",
    "    def __init__(self,name,rollnomarks):\n",
    "        self.name=name\n",
    "        self.rollno=rollno\n",
    "        self.marks=marks"
   ]
  },
  {
   "cell_type": "markdown",
   "id": "7ef1092a-72b4-464a-9260-b5a240e85e9b",
   "metadata": {},
   "source": [
    "Q4. Where and how are instance attributes created?"
   ]
  },
  {
   "cell_type": "markdown",
   "id": "f99c0e04-6ebf-4c0a-a191-3b92177bbb73",
   "metadata": {},
   "source": [
    "Ans. Instances attributes are passed to the class when an object of the class is created. Unlike class attributes, instance attributes are not shared by all objects of the classs. instead each object maintains its own copy of instance attributes at object level. whereas incase of class attributes all instances of class refer to a single copy. Usually instance attributes are defined within the __init__ method of class.\n",
    "\n",
    "Example: In the below sample code we are creating a class School with instance varaibles name,rollno,marks which will be provided when an instance of class School is created."
   ]
  },
  {
   "cell_type": "code",
   "execution_count": null,
   "id": "abb7a3d9-33bb-46dd-83b4-ad29c186497b",
   "metadata": {},
   "outputs": [],
   "source": [
    "class School:\n",
    "    def __init__(self,name,rollnomarks):\n",
    "        self.name=name\n",
    "        self.rollno=rollno\n",
    "        self.marks=marks\n",
    "object1=School('Jitu',42,599)\n",
    "object2=School('Goura',38,590)    "
   ]
  },
  {
   "cell_type": "markdown",
   "id": "d2d1b79c-ce9a-4c69-aceb-c6c096090313",
   "metadata": {},
   "source": [
    "Q5. What does the term \"self\" in a Python class mean?"
   ]
  },
  {
   "cell_type": "markdown",
   "id": "8810f103-6b38-42fb-aa48-73295923df0b",
   "metadata": {},
   "source": [
    "Ans.  self represents the instance of the class (it represents the object itself). By using the “self” keyword we can access the attributes and methods of the class with in the class in python. It binds the attributes with the given arguments."
   ]
  },
  {
   "cell_type": "code",
   "execution_count": 9,
   "id": "638145b5-5210-4cdf-a814-9c6f245c42ee",
   "metadata": {},
   "outputs": [
    {
     "name": "stdout",
     "output_type": "stream",
     "text": [
      "{'name': 'Jitu', 'rollno': 42, 'marks': 599}\n",
      "{'name': 'Goura', 'rollno': 38, 'marks': 590}\n"
     ]
    }
   ],
   "source": [
    "class School:\n",
    "    def __init__(self,name,rollno,marks):\n",
    "        self.name=name\n",
    "        self.rollno=rollno\n",
    "        self.marks=marks\n",
    "object1=School('Jitu',42,599)\n",
    "object2=School('Goura',38,590)  \n",
    "\n",
    "print(object1.__dict__)\n",
    "print(object2.__dict__)"
   ]
  },
  {
   "cell_type": "markdown",
   "id": "48cd6501-31bb-40c0-a40f-3afee4c50e86",
   "metadata": {},
   "source": [
    "Q6. How does a Python class handle operator overloading?"
   ]
  },
  {
   "cell_type": "code",
   "execution_count": null,
   "id": "72ba85c7-7cb3-4df2-959c-741cfe5087e0",
   "metadata": {},
   "outputs": [],
   "source": [
    "Ans. Python Classes handle operator overloading by using special methods called Magic methods. these special methods usually \n",
    "begin and end with __ (double underscore)\n",
    "\n",
    "Example: Magic methods for basic arithmetic operators are:\n",
    "1. + -> __add__()\n",
    "2. - -> __sub__()\n",
    "3. * -> __mul__()\n",
    "4. / -> __div__()"
   ]
  },
  {
   "cell_type": "code",
   "execution_count": 11,
   "id": "1452ae4f-a52f-4501-beb1-5009c65c5af7",
   "metadata": {},
   "outputs": [
    {
     "name": "stdout",
     "output_type": "stream",
     "text": [
      "The total number of pages in 2 books is 300\n"
     ]
    }
   ],
   "source": [
    "class Book:\n",
    "    def __init__(self,pages):\n",
    "        self.pages = pages\n",
    "    def __add__(self,other):\n",
    "        return self.pages + other.pages\n",
    "b1 = Book(100)\n",
    "b2 = Book(200)\n",
    "print(f'The total number of pages in 2 books is {b1+b2}')"
   ]
  },
  {
   "cell_type": "markdown",
   "id": "6fae3467-49ba-4c81-aa66-1ae8f65e909e",
   "metadata": {},
   "source": [
    "Q7. When do you consider allowing operator overloading of your classes?"
   ]
  },
  {
   "cell_type": "markdown",
   "id": "d66f8df0-9fa1-4ce7-9b2b-8a6175b84953",
   "metadata": {},
   "source": [
    "Ans. When we want to have different meaning for the same operator accroding to the context we use operator overloading."
   ]
  },
  {
   "cell_type": "markdown",
   "id": "a9726adf-2ab9-4d9d-9190-91160618bf1a",
   "metadata": {},
   "source": [
    "Q8. What is the most popular form of operator overloading?"
   ]
  },
  {
   "cell_type": "markdown",
   "id": "841f2043-34e6-4b2e-805a-7e1d43024230",
   "metadata": {},
   "source": [
    "Ans. The most popular form of operator overloading in python is by special methods called Magic methods. Which usually beign and end with double underscore __<method name>__."
   ]
  },
  {
   "cell_type": "markdown",
   "id": "5145c993-bce0-4c80-a0d5-b46c72370225",
   "metadata": {},
   "source": [
    "Q9. What are the two most important concepts to grasp in order to comprehend Python OOP code?"
   ]
  },
  {
   "cell_type": "markdown",
   "id": "9cbb226c-0619-4557-b25a-d33b4b6636b9",
   "metadata": {},
   "source": [
    "Ans. Classes and objects are the two concepts to comprehend python OOP code as more formally objects are entities that represent instances of general abstract concept called class\n",
    "\n",
    "Along with classes and objects the important concepts to grasp are:\n",
    "\n",
    "Inheritence\n",
    "Abstraction\n",
    "Polymorphism\n",
    "Encapsulation"
   ]
  }
 ],
 "metadata": {
  "kernelspec": {
   "display_name": "Python 3 (ipykernel)",
   "language": "python",
   "name": "python3"
  },
  "language_info": {
   "codemirror_mode": {
    "name": "ipython",
    "version": 3
   },
   "file_extension": ".py",
   "mimetype": "text/x-python",
   "name": "python",
   "nbconvert_exporter": "python",
   "pygments_lexer": "ipython3",
   "version": "3.10.6"
  }
 },
 "nbformat": 4,
 "nbformat_minor": 5
}
