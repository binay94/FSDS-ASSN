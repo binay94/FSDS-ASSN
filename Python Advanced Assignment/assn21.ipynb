{
 "cells": [
  {
   "cell_type": "markdown",
   "id": "9eb2f0c6-f3b4-4134-b1c8-4759657e195a",
   "metadata": {},
   "source": [
    "Q1. What is a probability distribution, exactly? If the values are meant to be random, how can you predict them at all?"
   ]
  },
  {
   "cell_type": "markdown",
   "id": "9f7071d6-d25c-4270-a154-5aa8aaca8d21",
   "metadata": {},
   "source": [
    "Ans: A probability distribution describes how a random variable is distributed.\n",
    "\n",
    "It tells us which values a random variable is most likely to take on and which values are less likely. Based on the previous data and the occurences of the random event, we can predict the outcome in terms of probabilities."
   ]
  },
  {
   "cell_type": "markdown",
   "id": "28b2fee0-aaf8-49e3-a8af-cf87486ddc52",
   "metadata": {},
   "source": [
    "Q2. Is there a distinction between true random numbers and pseudo-random numbers, if there is one? Why are the latter considered “good enough”?"
   ]
  },
  {
   "cell_type": "markdown",
   "id": "26059c74-26e4-469d-88f8-e607958ca3aa",
   "metadata": {},
   "source": [
    "Ans: : True Random Numbers are true physical values while pseudo-random numbers are generated internally by a program . Latter is considered good enough as they have sort of uniform distribution."
   ]
  },
  {
   "cell_type": "markdown",
   "id": "1c584bf0-408f-43fe-91eb-2db62f3797fc",
   "metadata": {},
   "source": [
    "Q3. What are the two main factors that influence the behaviour of a &quot;normal&quot; probability distribution?"
   ]
  },
  {
   "cell_type": "markdown",
   "id": "53c7d5f5-2349-497f-ab35-045c557e9bd3",
   "metadata": {},
   "source": [
    "Ans: Normal Probability Distribution are influenced by two factors mean and the variance."
   ]
  },
  {
   "cell_type": "markdown",
   "id": "aa6f0aa7-ef52-45a1-8ac0-3261f7536e6d",
   "metadata": {},
   "source": [
    "Q4. Provide a real-life example of a normal distribution."
   ]
  },
  {
   "cell_type": "markdown",
   "id": "1540d079-5eb4-4027-b3fd-e11f34af270d",
   "metadata": {},
   "source": [
    "Ans: One example of a real-life normal distribution is the height of adult males. If you measure the height of a large group of adult males and plot the data on a graph, you would likely get a bell-shaped curve that is symmetrical around the mean (average) height. Most adult males will have a height that is close to the mean, with fewer individuals having heights that are farther away from the mean. "
   ]
  },
  {
   "cell_type": "markdown",
   "id": "62d912e3-4ea8-48be-9ca5-b369aa6b4b10",
   "metadata": {},
   "source": [
    "Q5. In the short term, how can you expect a probability distribution to behave? What do you think will happen as the number of trials grows?"
   ]
  },
  {
   "cell_type": "markdown",
   "id": "03be6f8d-bf82-498a-abc8-bc39e8ee7035",
   "metadata": {},
   "source": [
    "Ans: In the short term, a probability distribution may not necessarily behave according to its expected theoretical distribution. This is because probability distributions are based on probabilities and probabilities are subject to random fluctuations in the short term. However, as the number of trials or sample size grows,Variance will decrease with number of trials"
   ]
  },
  {
   "cell_type": "markdown",
   "id": "006f055c-6f00-4019-befa-4f53a5e957e9",
   "metadata": {},
   "source": [
    "Q6. What kind of object can be shuffled by using random.shuffle?"
   ]
  },
  {
   "cell_type": "markdown",
   "id": "1dbc9558-849f-4b2c-8439-ef345b8d6b3f",
   "metadata": {},
   "source": [
    "Ans: lists (list), strings (str) and tuples (tuple) objects can be shuffled by using random.shuffle."
   ]
  },
  {
   "cell_type": "markdown",
   "id": "3d7a6e91-a595-46c8-9aaf-33d2f86e52ee",
   "metadata": {},
   "source": [
    "Q7. Describe the math package&#39;s general categories of functions."
   ]
  },
  {
   "cell_type": "markdown",
   "id": "8631c0fa-50a8-427b-b841-97b93bce0bc7",
   "metadata": {},
   "source": [
    "Ans: The Math package's general categories of functions are:\n",
    "\n",
    "1) Trigonometric functions\n",
    "2) Quadratic functions\n",
    "3) Exponential functions\n",
    "4) Hyperbolic functions\n",
    "5) Periodic functions\n",
    "6) Arithmetic functions\n",
    "7) Logarithimic functions\n",
    "8) Conversions to Integer"
   ]
  },
  {
   "cell_type": "markdown",
   "id": "4d7e5a35-9e8f-466d-94d8-32c268294c4e",
   "metadata": {},
   "source": [
    "Q8. What is the relationship between exponentiation and logarithms?"
   ]
  },
  {
   "cell_type": "markdown",
   "id": "662c4de9-5b55-43c8-8118-f5d920c78722",
   "metadata": {},
   "source": [
    "Ans: Exponentiation and logarithms are inverse of each other.The relationship between exponentiation and logarithms can be expressed mathematically as follows:\n",
    "\n",
    "If b^x = y, then logb(y) = x"
   ]
  },
  {
   "cell_type": "markdown",
   "id": "cd8d3732-7888-40d0-ad1c-51e1bd53be78",
   "metadata": {},
   "source": [
    "Q9. What are the three logarithmic functions that Python supports?"
   ]
  },
  {
   "cell_type": "markdown",
   "id": "dfa88183-f7af-451a-ae89-6afdcde19259",
   "metadata": {},
   "source": [
    "Ans: The Three Logarithmic Functions that Python supports are:\n",
    "\n",
    "1) log2(x) - logarithmic value of x to base 2\n",
    "2) log10(x) - logarithmic value of x to base 10\n",
    "3) log1p(a) - This function is used to compute logarithm(1+a) ."
   ]
  }
 ],
 "metadata": {
  "kernelspec": {
   "display_name": "Python 3 (ipykernel)",
   "language": "python",
   "name": "python3"
  },
  "language_info": {
   "codemirror_mode": {
    "name": "ipython",
    "version": 3
   },
   "file_extension": ".py",
   "mimetype": "text/x-python",
   "name": "python",
   "nbconvert_exporter": "python",
   "pygments_lexer": "ipython3",
   "version": "3.10.6"
  }
 },
 "nbformat": 4,
 "nbformat_minor": 5
}
