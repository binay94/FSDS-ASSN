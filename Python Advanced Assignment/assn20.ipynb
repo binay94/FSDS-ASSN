{
 "cells": [
  {
   "cell_type": "markdown",
   "id": "689be59c-0462-41f7-a5f2-0029c78a09a5",
   "metadata": {},
   "source": [
    "1. Compare and contrast the float and Decimal classes&#39; benefits and drawbacks."
   ]
  },
  {
   "cell_type": "markdown",
   "id": "befeccc5-43a0-42be-a7c1-df9c343b75a8",
   "metadata": {},
   "source": [
    "Ans: Both the float and decimal types store numerical values in Python.\n",
    "\n",
    "Use floats when convenience and speed matter. A float gives you an approximation of the number you declare.\n",
    "\n",
    "Use decimals when precision matters. Decimals can suffer from their own precision issues, but generally, decimals are more precise than floats. The performance difference between float and decimal, with Python 3, is not outlandish, and in my experience, the precision benefits of a decimal outweigh the performance benefits of a float."
   ]
  },
  {
   "cell_type": "markdown",
   "id": "4cc6e939-aa54-4c35-9923-b4fb8e401502",
   "metadata": {},
   "source": [
    "2. Decimal(&#39;1.200&#39;) and Decimal(&#39;1.2&#39;) are two objects to consider. In what sense are these the same object? Are these just two ways of representing the exact same value, or do they correspond to different internal states?"
   ]
  },
  {
   "cell_type": "markdown",
   "id": "c18699b3-1145-44d4-95d3-8eeddcdcb2f8",
   "metadata": {},
   "source": [
    "Ans: Both values are same but internal representation at storage Is different. Precsion differs, Decimal('1.200') gives internally 1.200 and Decimal('1.2') gives 1.2."
   ]
  },
  {
   "cell_type": "markdown",
   "id": "fc310e30-eeec-4efc-967c-2d38924b43e0",
   "metadata": {},
   "source": [
    "3. What happens if the equality of Decimal(&#39;1.200&#39;) and Decimal(&#39;1.2&#39;) is checked?"
   ]
  },
  {
   "cell_type": "markdown",
   "id": "fa561ae2-5183-48d1-b1a9-d7ee3de7d44c",
   "metadata": {},
   "source": [
    "Ans: Both values are checked to be equal , they only differ in precision."
   ]
  },
  {
   "cell_type": "markdown",
   "id": "6303e541-198b-4a92-9553-403ebdc5e08a",
   "metadata": {},
   "source": [
    "4. Why is it preferable to start a Decimal object with a string rather than a floating-point value?"
   ]
  },
  {
   "cell_type": "markdown",
   "id": "2f3bc0fa-bfd8-47b7-8763-0485f345e366",
   "metadata": {},
   "source": [
    "Ans: Floating-point value is converted to Decimal format. Decimal can store float value with absolute precision. But when float value is given as Decimal object,it first has to be converted from floating point value which might already have rounding error.\n",
    "Hence it is preferable to start a Decimal object with a string."
   ]
  },
  {
   "cell_type": "markdown",
   "id": "eaa8c820-81cd-4ee4-8c1b-1ac58a9b2504",
   "metadata": {},
   "source": [
    "5. In an arithmetic phrase, how simple is it to combine Decimal objects with integers?"
   ]
  },
  {
   "cell_type": "markdown",
   "id": "3c82c868-8219-4dea-bcf4-d6335d62ab6c",
   "metadata": {},
   "source": [
    "Ans: In an arithmetic phrase,to combine Decimal objects with integers ,with use of Decimal()."
   ]
  },
  {
   "cell_type": "markdown",
   "id": "41ec2c7a-2940-4927-aacf-57fdc2cc4d3e",
   "metadata": {},
   "source": [
    "6. Can Decimal objects and floating-point values be combined easily?"
   ]
  },
  {
   "cell_type": "markdown",
   "id": "a022329d-75a5-4812-88f8-7cd6a78263bc",
   "metadata": {},
   "source": [
    "Ans: Arithmetic operfations like Adding,subtracting or multiplying a Decimal object by a floating-point value is generates an error.To do these operations, the floating point has to be converted to a Decimal."
   ]
  },
  {
   "cell_type": "markdown",
   "id": "67c459eb-8e83-468a-859d-22803cb1ff69",
   "metadata": {},
   "source": [
    "7. Using the Fraction class but not the Decimal class, give an example of a quantity that can be expressed with absolute precision."
   ]
  },
  {
   "cell_type": "markdown",
   "id": "9f3a92ff-f762-4829-9569-dafbc0da109d",
   "metadata": {},
   "source": [
    "Ans: Value of 0.5 will be represented as ½."
   ]
  },
  {
   "cell_type": "markdown",
   "id": "084a22a9-ccd9-46ed-9874-97fd8696cdba",
   "metadata": {},
   "source": [
    "8. Describe a quantity that can be accurately expressed by the Decimal or Fraction classes but not by a floating-point value."
   ]
  },
  {
   "cell_type": "markdown",
   "id": "1dad9f7b-1b88-4bb6-94e2-158ac1f45a3f",
   "metadata": {},
   "source": [
    "Ans: A common example of a quantity that can be accurately expressed by the Decimal or Fraction classes but not by a floating-point value is decimal fractions that have repeating patterns.\n",
    "\n",
    "For instance, 1/3 is a simple example of a repeating decimal that cannot be represented exactly as a floating-point value. If we try to store this value in a floating-point variable, the result will be an approximation, which can lead to rounding errors when performing calculations.\n",
    "\n",
    "Another example is irrational numbers such as pi or e, which have an infinite number of non-repeating decimal places. While floating-point values can represent a close approximation of these numbers, they cannot represent them exactly, unlike the Fraction or Decimal classes."
   ]
  },
  {
   "cell_type": "markdown",
   "id": "de424cf1-0b84-4a18-b230-2e328ea8d696",
   "metadata": {},
   "source": [
    "9. Consider the following two fraction objects: Fraction(1, 2) and Fraction(1, 2). (5, 10). Is the internal state of these two Objects the same? Why do you think that is?"
   ]
  },
  {
   "cell_type": "markdown",
   "id": "9f01d897-52e9-40cf-be50-ab6be69bde63",
   "metadata": {},
   "source": [
    "Ans: Both will be reduced to 1/2"
   ]
  },
  {
   "cell_type": "markdown",
   "id": "d5b5b636-166d-48c7-beea-5bc7b205cd5b",
   "metadata": {},
   "source": [
    "10. How do the Fraction class and the integer type (int) relate to each other? Containment or inheritance?"
   ]
  },
  {
   "cell_type": "markdown",
   "id": "a625d025-369d-4361-8d2b-6a562ba42476",
   "metadata": {},
   "source": [
    "Ans: Fraction class and integer type(int) are related in form of a container.It contains two ints, one the numerator and the other the denominator"
   ]
  }
 ],
 "metadata": {
  "kernelspec": {
   "display_name": "Python 3 (ipykernel)",
   "language": "python",
   "name": "python3"
  },
  "language_info": {
   "codemirror_mode": {
    "name": "ipython",
    "version": 3
   },
   "file_extension": ".py",
   "mimetype": "text/x-python",
   "name": "python",
   "nbconvert_exporter": "python",
   "pygments_lexer": "ipython3",
   "version": "3.10.6"
  }
 },
 "nbformat": 4,
 "nbformat_minor": 5
}
