{
 "cells": [
  {
   "cell_type": "markdown",
   "id": "66fe332e-9b6f-44d6-89e1-3305b9d1046f",
   "metadata": {},
   "source": [
    "Q1. Does assigning a value to a string&#39;s indexed character violate Python&#39;s string immutability?"
   ]
  },
  {
   "cell_type": "markdown",
   "id": "e3fc6a04-76c7-45b3-9ec2-c663d5d65995",
   "metadata": {},
   "source": [
    "Ans: String’s indexed character cannot to be assigned a New value , as Strings are immutable."
   ]
  },
  {
   "cell_type": "code",
   "execution_count": 27,
   "id": "e8c7bcdc-8d60-495b-a16a-90af34f7eafd",
   "metadata": {},
   "outputs": [
    {
     "name": "stdout",
     "output_type": "stream",
     "text": [
      "139719315927088\n"
     ]
    }
   ],
   "source": [
    "#Example:\n",
    "name = \"Ineuron\"\n",
    "print(id(name)) #139719315927088\n",
    "#name[0] = \"V\" # Raises TypeError: 'str' object does not support item assignment"
   ]
  },
  {
   "cell_type": "markdown",
   "id": "ef02be8f-c884-40a0-b730-71dd5cb8fcf2",
   "metadata": {},
   "source": [
    "Q2. Does using the += operator to concatenate strings violate Python&#39;s string immutability? Why or why not?"
   ]
  },
  {
   "cell_type": "markdown",
   "id": "f2d80ff9-8aaf-4bca-a7ed-178af3b1ad61",
   "metadata": {},
   "source": [
    "Ans: += operator is used to concatenate strings, it does not violate Python’s string immutability Property. Because doing so new creates a new association with data and variable. E.g. str_1=\"a\" and str_1+=\"b. effect of this statements to create string ab and reassign it to variable str_1, any string data is not actually modified."
   ]
  },
  {
   "cell_type": "code",
   "execution_count": 28,
   "id": "e051966a-9ff0-42ba-a359-0aabf17a84ab",
   "metadata": {},
   "outputs": [
    {
     "name": "stdout",
     "output_type": "stream",
     "text": [
      "139719362605552\n",
      "139718866568368\n",
      "ab\n"
     ]
    }
   ],
   "source": [
    "str_1 = 'a'\n",
    "print(id(str_1))\n",
    "str_1 += 'b'\n",
    "print(id(str_1)) # Does not Modify existing string, Creates a New String Object\n",
    "print(str_1)"
   ]
  },
  {
   "cell_type": "markdown",
   "id": "7b1c12bd-695e-4660-b1d5-e5acb7686259",
   "metadata": {},
   "source": [
    "Q3. In Python, how many different ways are there to index a character?"
   ]
  },
  {
   "cell_type": "markdown",
   "id": "0dc28e19-8803-4f04-8de7-7ef0a163af8f",
   "metadata": {},
   "source": [
    "Ans: A Character in string can be indexed using string name followed by index number of character in square bracket. Positive Indexing i.e. first index is 0 an so on, or Negative Indexing i.e. last letter is -1 and so on can be used to index a character"
   ]
  },
  {
   "cell_type": "code",
   "execution_count": 29,
   "id": "b9d65eee-889b-47eb-81c5-7dce2562a105",
   "metadata": {},
   "outputs": [
    {
     "name": "stdout",
     "output_type": "stream",
     "text": [
      "e i c\n",
      "e i c\n"
     ]
    }
   ],
   "source": [
    "str_input = \"iNeuron Full Stack Data Science\"\n",
    "print(str_input[30],in_string[26],in_string[29]) # Positive Indexing\n",
    "print(str_input[-1],in_string[-5],in_string[-2]) # Negative Indexing"
   ]
  },
  {
   "cell_type": "markdown",
   "id": "23e5c19a-94bf-4aa0-a718-a4fc80ac51bf",
   "metadata": {},
   "source": [
    "Q4. What is the relationship between indexing and slicing?"
   ]
  },
  {
   "cell_type": "markdown",
   "id": "8d593f9c-ef53-4314-b9a0-fd76879e93a0",
   "metadata": {},
   "source": [
    "Ans: We can access elements of sequence datatypes by using slicing and indexing. Indexing is used to obtaining individual element while slicing for sequence of elements."
   ]
  },
  {
   "cell_type": "code",
   "execution_count": 30,
   "id": "6eb09bb1-9257-481c-a2a5-f4998808ad29",
   "metadata": {},
   "outputs": [
    {
     "name": "stdout",
     "output_type": "stream",
     "text": [
      "N e u r o n\n",
      "Neuron\n"
     ]
    }
   ],
   "source": [
    "str_input = \"iNeuron Full Stack Data Science\"\n",
    "print(str_input[1],str_input[2],str_input[3],str_input[4],str_input[5],str_input[6]) # Indexing\n",
    "print(str_input[1:7]) # Slicing"
   ]
  },
  {
   "cell_type": "markdown",
   "id": "327e8b83-1561-4c1b-b9cc-397f3636a857",
   "metadata": {},
   "source": [
    "Q5. What is an indexed character&#39;s exact data type? What is the data form of a slicing-generated substring?"
   ]
  },
  {
   "cell_type": "markdown",
   "id": "70d85866-9166-483d-bde9-96bda1eeb324",
   "metadata": {},
   "source": [
    "Ans: Indexed characters and sliced substrings have datatype String."
   ]
  },
  {
   "cell_type": "code",
   "execution_count": 31,
   "id": "1e8fef92-0ce3-4b74-b8fe-26397c99b023",
   "metadata": {},
   "outputs": [
    {
     "name": "stdout",
     "output_type": "stream",
     "text": [
      "<class 'str'>\n",
      "<class 'str'>\n"
     ]
    }
   ],
   "source": [
    "str_input = \"iNeuron Full Stack Data Science\"\n",
    "print(type(str_input[3])) # Indexing -> str\n",
    "print(type(str_input[1:10])) # Indexing -> str"
   ]
  },
  {
   "cell_type": "markdown",
   "id": "852bd06e-9e19-44f5-b1d0-9d6ec4271f2a",
   "metadata": {},
   "source": [
    "Q6. What is the relationship between string and character &quot;types&quot; in Python?"
   ]
  },
  {
   "cell_type": "markdown",
   "id": "cfea87fd-243d-4c83-b7ee-8d86c3dd43ec",
   "metadata": {},
   "source": [
    "Ans: Object that contains sequence of character datatypes are called String."
   ]
  },
  {
   "cell_type": "markdown",
   "id": "d3190c10-f65a-4ca7-a9af-7aee9e51ab8d",
   "metadata": {},
   "source": [
    "Q7. Identify at least two operators and one method that allow you to combine one or more smaller strings to create a larger string."
   ]
  },
  {
   "cell_type": "markdown",
   "id": "94b4ac43-1bc8-43ac-a363-6057e1925a8e",
   "metadata": {},
   "source": [
    "Ans: +, += and * allow to combine one or more smaller strings to create a larger string. <string>.join(<sep>) method joins element of iterable type like list and tuple to get a combined string."
   ]
  },
  {
   "cell_type": "code",
   "execution_count": 32,
   "id": "f114c8d0-8977-465e-b45b-29092b797430",
   "metadata": {},
   "outputs": [
    {
     "name": "stdout",
     "output_type": "stream",
     "text": [
      "iNeuron Full Stack Data Science FSDS\n",
      "iNeuron Full Stack Data ScienceiNeuron Full Stack Data Science\n",
      "I N E U R O N\n",
      "i n e u r o n\n"
     ]
    }
   ],
   "source": [
    "str_input = 'iNeuron '\n",
    "str_input += 'Full Stack Data Science'\n",
    "print(str_input + ' FSDS')\n",
    "print(str_input *2)\n",
    "print(\" \".join(['I','N','E','U','R','O','N'])) # List Iterable\n",
    "print(\" \".join(('I','N','E','U','R','O','N')).lower()) # Tuple Iterable"
   ]
  },
  {
   "cell_type": "markdown",
   "id": "8f31a520-a516-402d-b73a-9e642b93e12d",
   "metadata": {},
   "source": [
    "Q8. What is the benefit of first checking the target string with in or not in before using the index\n",
    "method to find a substring?"
   ]
  },
  {
   "cell_type": "markdown",
   "id": "3dac1ccb-0fa3-4b81-ab25-9f5b16057009",
   "metadata": {},
   "source": [
    "Ans: Checking the target string with in or not Operators before using the index method to find a substring just helps confirming availability of substring and thus avoid raising of ValueError.\n",
    "\n",
    "Example:\n",
    "\n",
    "in_string = \"ineuron\"\n",
    "\n",
    "in_string.index('x') # Raises ValueError\n",
    "\n",
    "in_string.index('u') # 3"
   ]
  },
  {
   "cell_type": "markdown",
   "id": "57a9c0a2-e047-4c17-91f8-d8a56eec7c32",
   "metadata": {},
   "source": [
    "Q9. Which operators and built-in string methods produce simple Boolean (true/false) results?"
   ]
  },
  {
   "cell_type": "markdown",
   "id": "4de88d43-903a-44d8-8160-7864153f82de",
   "metadata": {},
   "source": [
    "Ans: The String Operators and built-in methods to Produce Simple Boolean (True/False) Results are:\n",
    "\n",
    "1) in\n",
    "2) not\n",
    "3) string.isalpha()\n",
    "4) string.isalnum()\n",
    "5) string.isdecimal()\n",
    "6) string.isdigit()\n",
    "7) string.islower()\n",
    "8) string.isnumeric()\n",
    "9) string.isprintable()\n",
    "10) string.isspace()\n",
    "11) string.istitle()"
   ]
  }
 ],
 "metadata": {
  "kernelspec": {
   "display_name": "Python 3 (ipykernel)",
   "language": "python",
   "name": "python3"
  },
  "language_info": {
   "codemirror_mode": {
    "name": "ipython",
    "version": 3
   },
   "file_extension": ".py",
   "mimetype": "text/x-python",
   "name": "python",
   "nbconvert_exporter": "python",
   "pygments_lexer": "ipython3",
   "version": "3.10.6"
  }
 },
 "nbformat": 4,
 "nbformat_minor": 5
}
