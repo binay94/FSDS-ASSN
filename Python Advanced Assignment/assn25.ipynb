{
 "cells": [
  {
   "cell_type": "markdown",
   "id": "653d1a7b-eb9e-43b5-8e50-3c20754db125",
   "metadata": {},
   "source": [
    "Q1. What is the distinction between a numpy array and a pandas data frame? Is there a way to convert between the two if there is?"
   ]
  },
  {
   "cell_type": "markdown",
   "id": "6b7b4b32-e20e-4ead-9049-7d63d2615455",
   "metadata": {},
   "source": [
    "Ans: Numpy Ndarray provides a lot of convenient and optimized methods for performing several mathematical operations on vectors.\n",
    "\n",
    "Pandas Dataframe is an in-memory 2-dimensional tabular representation of data. In simpler words, it can be seen as a spreadsheet having rows and columns.\n",
    "\n",
    "Conversion : Dataframe=pandas.DataFrame(array)"
   ]
  },
  {
   "cell_type": "markdown",
   "id": "4e6a4956-1462-4c42-b34b-93e6b69f21e8",
   "metadata": {},
   "source": [
    "Q2. What can go wrong when an user enters in a stock-ticker symbol, and how do you handle it?"
   ]
  },
  {
   "cell_type": "markdown",
   "id": "60dfa9fb-0415-4485-aff2-825cb2f59374",
   "metadata": {},
   "source": [
    "Ans: When a user enters a stock-ticker symbol, several things can go wrong. Some possible issues are:\n",
    "\n",
    "  => Invalid input: The user may enter an invalid stock-ticker symbol, such as a symbol that does not exist, or a symbol that is        misspelled.\n",
    "\n",
    "  => Ambiguous input: The user may enter a stock-ticker symbol that is ambiguous, meaning that it can refer to multiple different        stocks or companies. For example, \"AAPL\" can refer to Apple Inc. or Alexandria Real Estate Equities, Inc.\n",
    "\n",
    "  => Case sensitivity: Some stock-ticker symbols are case-sensitive, which means that \"AAPL\" may not be the same as \"aapl\".\n",
    "\n",
    "To handle these issues, we can implement some error-checking and validation in our program. Here are some strategies we can use:\n",
    "\n",
    "1) Validating input: We can check if the entered stock-ticker symbol is valid by comparing it against a list of known symbols. If the symbol is not found, we can display an error message to the user.\n",
    "2) Handling ambiguity: If the entered stock-ticker symbol is ambiguous, we can ask the user to specify which company or stock they are interested in. Alternatively, we can use additional information such as the company name or stock exchange to disambiguate the symbol.\n",
    "3) Ignoring case sensitivity: We can convert all entered stock-ticker symbols to uppercase or lowercase to avoid case-sensitivity issues.\n",
    "4) Providing feedback: We can provide feedback to the user to let them know if their input was valid or not, and if there were any issues or errors. This can help the user correct their input and avoid frustration."
   ]
  },
  {
   "cell_type": "markdown",
   "id": "3752335b-1b6e-4c21-af55-201d832b4752",
   "metadata": {},
   "source": [
    "Q3. Identify some of the plotting techniques that are used to produce a stock-market chart."
   ]
  },
  {
   "cell_type": "markdown",
   "id": "76549792-d9a8-4e61-bb9f-788d11dd7427",
   "metadata": {},
   "source": [
    "Ans: Some of the plotting techniques that are used to produce a stock-market chart are :  Bar chart, Line Chart are used for plotting."
   ]
  },
  {
   "cell_type": "markdown",
   "id": "66766bf5-ae06-4d28-809e-103808f466e7",
   "metadata": {},
   "source": [
    "Q4. Why is it essential to print a legend on a stock market chart?"
   ]
  },
  {
   "cell_type": "markdown",
   "id": "cee99af8-77d8-4a5a-9597-fe141a3f6c6a",
   "metadata": {},
   "source": [
    "Ans: Legend will help comparison between different stocks, so will be essential on a stock market chart"
   ]
  },
  {
   "cell_type": "markdown",
   "id": "5f965af5-72b1-4d8a-bfb0-e0e3cb7d3628",
   "metadata": {},
   "source": [
    "Q5. What is the best way to limit the length of a pandas data frame to less than a year?"
   ]
  },
  {
   "cell_type": "markdown",
   "id": "f3f29d12-d29e-4610-ad5b-b17e57f78d55",
   "metadata": {},
   "source": [
    "Ans: : We can use start and end parameters for that. In start we write the date from where we are starting and at the end we write the end date. SO within this span we can restric the duration.Also we can use the parameters like periods for how much times we need the duration and we can also use the frequency parameter."
   ]
  },
  {
   "cell_type": "markdown",
   "id": "3c3e1d53-5990-4e55-a514-f84ee1bf068a",
   "metadata": {},
   "source": [
    "Q6. What is the definition of a 180-day moving average?"
   ]
  },
  {
   "cell_type": "markdown",
   "id": "cd45ddd8-85d2-46b8-8c1b-4a772cf1841e",
   "metadata": {},
   "source": [
    "Ans: : The 180-day moving average is represented as a line on charts and represents the average price over the past 180 days. The moving average can give traders a sense regarding whether the trend is up or down, while also identifying potential support or resistance areas."
   ]
  },
  {
   "cell_type": "markdown",
   "id": "ea59ae27-0ed6-44c3-a167-18d9a1dbb806",
   "metadata": {},
   "source": [
    "Q7. Did the chapter&#39;s final example use &quot;indirect&quot; importing? If so, how exactly do you do it?"
   ]
  },
  {
   "cell_type": "markdown",
   "id": "c7890e1b-a493-476e-a79e-ab932bba4ac9",
   "metadata": {},
   "source": [
    "Ans: Indirect importing, also known as aliasing or renaming, is a way to import a module or function under a different name in Python. This is useful when the original name is too long or when there is a naming conflict with another module or function.\n",
    "\n",
    "To perform indirect importing, you can use the as keyword followed by the new name you want to use for the module or function you are importing. Here is an example:"
   ]
  },
  {
   "cell_type": "code",
   "execution_count": 1,
   "id": "7ea6535f-e132-4c5c-bc00-f155998f71a5",
   "metadata": {},
   "outputs": [],
   "source": [
    "import seaborn as sns"
   ]
  }
 ],
 "metadata": {
  "kernelspec": {
   "display_name": "Python 3 (ipykernel)",
   "language": "python",
   "name": "python3"
  },
  "language_info": {
   "codemirror_mode": {
    "name": "ipython",
    "version": 3
   },
   "file_extension": ".py",
   "mimetype": "text/x-python",
   "name": "python",
   "nbconvert_exporter": "python",
   "pygments_lexer": "ipython3",
   "version": "3.10.6"
  }
 },
 "nbformat": 4,
 "nbformat_minor": 5
}
