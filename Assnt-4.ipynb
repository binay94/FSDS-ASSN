{
 "cells": [
  {
   "cell_type": "markdown",
   "id": "b8fe3712-fcb3-425b-a1ce-dc9c1a2156f3",
   "metadata": {},
   "source": [
    "1. What exactly is [] ?\n",
    "\n",
    "Ans: It represents an empty list "
   ]
  },
  {
   "cell_type": "markdown",
   "id": "fff31bec-0de8-427f-8776-d7acbd42e815",
   "metadata": {},
   "source": [
    "2. In a list of values stored in a variable called spam, how would you assign the value 'hello' as the third    value? (Assume 2, 4, 6, 8, 10] are in spam.)\n",
    "\n",
    "Ans: spam[2] = 'hello' or spam[-4]=\"hello\""
   ]
  },
  {
   "cell_type": "markdown",
   "id": "8d38bf8e-056f-43e0-8ce9-244de0b7d8c0",
   "metadata": {},
   "source": [
    "Let's pretend the spam includes the list ['a', 'b', 'c', 'd'] for the next three queries.\n",
    "\n",
    "3. What is the value of spam[int(int('3' * 2) / 11)]?\n",
    "\n",
    "Ans:spam[int(int(33) / 11)] = spam[int(3.0)] = spam[3] = 'd'"
   ]
  },
  {
   "cell_type": "code",
   "execution_count": 2,
   "id": "b518e7ca-6ee4-41f4-924a-4fb255026455",
   "metadata": {},
   "outputs": [
    {
     "data": {
      "text/plain": [
       "'d'"
      ]
     },
     "execution_count": 2,
     "metadata": {},
     "output_type": "execute_result"
    }
   ],
   "source": [
    "spam=['a','b','c','d']\n",
    "spam[int(int('3' * 2) / 11)]\n",
    "   "
   ]
  },
  {
   "cell_type": "markdown",
   "id": "ba089305-8f57-44d5-9893-aeedae9f616b",
   "metadata": {},
   "source": [
    "4. What is the value of spam[-1]?\n",
    "\n",
    "Ans: The value of spam[-1] is 'd'"
   ]
  },
  {
   "cell_type": "code",
   "execution_count": 3,
   "id": "d1c1d455-e764-42bd-a1d8-c6ce76e809e1",
   "metadata": {},
   "outputs": [
    {
     "data": {
      "text/plain": [
       "'d'"
      ]
     },
     "execution_count": 3,
     "metadata": {},
     "output_type": "execute_result"
    }
   ],
   "source": [
    "spam[-1]"
   ]
  },
  {
   "cell_type": "markdown",
   "id": "74b9b53c-97f8-4773-88f4-3184923f1690",
   "metadata": {},
   "source": [
    "5. What is the value of spam[:2]?\n",
    "\n",
    "Ans: The value of spam[:2] is ['a','b']"
   ]
  },
  {
   "cell_type": "code",
   "execution_count": 4,
   "id": "33fb9279-a149-45b4-aed6-6122ce48af1e",
   "metadata": {},
   "outputs": [
    {
     "data": {
      "text/plain": [
       "['a', 'b']"
      ]
     },
     "execution_count": 4,
     "metadata": {},
     "output_type": "execute_result"
    }
   ],
   "source": [
    "spam[:2]"
   ]
  },
  {
   "cell_type": "markdown",
   "id": "8264858d-3f11-4654-813f-f8a6abb8653b",
   "metadata": {},
   "source": [
    "Let's pretend bacon has the list [3.14, 'cat', 11, 'cat,' True] for the next three questions.\n",
    "\n",
    "6. What is the value of bacon.index('cat')?\n",
    "\n",
    "Ans: The value of bacon.index('cat') is 1"
   ]
  },
  {
   "cell_type": "code",
   "execution_count": 16,
   "id": "6ca52cd9-1105-4669-822d-8b081f77a8ed",
   "metadata": {},
   "outputs": [
    {
     "data": {
      "text/plain": [
       "1"
      ]
     },
     "execution_count": 16,
     "metadata": {},
     "output_type": "execute_result"
    }
   ],
   "source": [
    "bacon=[3.14, 'cat', 11, 'cat', True]\n",
    "bacon.index('cat')"
   ]
  },
  {
   "cell_type": "markdown",
   "id": "de289d46-7445-42b5-b8af-e4ab1021748c",
   "metadata": {},
   "source": [
    "7. How does bacon.append(99) change the look of the list value in bacon?\n",
    "\n",
    "Ans: bacon.append(99) change the look of the list value in bacon : [3.14, 'cat', 11, 'cat', True, 99]"
   ]
  },
  {
   "cell_type": "code",
   "execution_count": 17,
   "id": "d63e755a-d7ea-47a9-99dc-f2c706c5abbd",
   "metadata": {},
   "outputs": [
    {
     "data": {
      "text/plain": [
       "[3.14, 'cat', 11, 'cat', True, 99]"
      ]
     },
     "execution_count": 17,
     "metadata": {},
     "output_type": "execute_result"
    }
   ],
   "source": [
    "bacon.append(99)\n",
    "bacon"
   ]
  },
  {
   "cell_type": "markdown",
   "id": "dec853db-b6a6-4ff8-8590-73e25aa5e834",
   "metadata": {},
   "source": [
    "8. How does bacon.remove('cat') change the look of the list in bacon?\n",
    "\n",
    "Ans:bacon.remove('cat') change the look of the list in bacon : [3.14, 11, 'cat', True, 99]"
   ]
  },
  {
   "cell_type": "code",
   "execution_count": 18,
   "id": "557ac8e5-3a04-46b9-8d2e-c7a15e2142b4",
   "metadata": {},
   "outputs": [
    {
     "data": {
      "text/plain": [
       "[3.14, 11, 'cat', True, 99]"
      ]
     },
     "execution_count": 18,
     "metadata": {},
     "output_type": "execute_result"
    }
   ],
   "source": [
    "bacon.remove('cat')\n",
    "bacon"
   ]
  },
  {
   "cell_type": "markdown",
   "id": "8df3240d-c1bb-4928-a4ea-ea2e52057e11",
   "metadata": {},
   "source": [
    "9. What are the list concatenation and list replication operators?\n",
    "\n",
    "Ans:The operator for list concatenation is +, while the operator for replication is *"
   ]
  },
  {
   "cell_type": "markdown",
   "id": "429b0197-c344-49db-952c-306007dcafae",
   "metadata": {},
   "source": [
    "10. What is difference between the list methods append() and insert()?\n",
    "\n",
    "Ans: append() adds a value to the end of list.syntax for append() : listobject.append(value)\n",
    "\n",
    "insert() adds a value to the provided position of list.syntax for append() :listobject.insert(index,value)"
   ]
  },
  {
   "cell_type": "markdown",
   "id": "ad5818b4-cbc3-4897-a528-c41f6487a421",
   "metadata": {},
   "source": [
    "11. What are the two methods for removing items from a list?\n",
    "\n",
    "Ans:Methods for removing items from a list are : using remove() and pop()"
   ]
  },
  {
   "cell_type": "markdown",
   "id": "8bcbc066-ea1c-4653-93c5-cead0ebdd6ad",
   "metadata": {},
   "source": [
    "12. Describe how list values and string values are identical.\n",
    "    \n",
    "Ans:Both lists and strings can be passed to len(),indexing and slicing can be done, be used in for loops, be concatenated or replicated, and be used with the in and not in operators."
   ]
  },
  {
   "cell_type": "markdown",
   "id": "5e54e503-497a-4e37-ba7f-33a80602b86b",
   "metadata": {},
   "source": [
    "13. What's the difference between tuples and lists?\n",
    "\n",
    "Ans:lists are Mutable(values can be values added, removed, or changed) and denoted in square brackets[]\n",
    "\n",
    "tuples are Immutable(values can't be added, removed, or changed) and denoted in angle brackets()"
   ]
  },
  {
   "cell_type": "markdown",
   "id": "72c32b4c-24b8-46a8-8169-555107301b5a",
   "metadata": {},
   "source": [
    "14. How do you type a tuple value that only contains the integer 42?\n",
    "\n",
    "Ans: A tuple value that only contains the integer 42 : (42)"
   ]
  },
  {
   "cell_type": "markdown",
   "id": "c7364861-31d3-435c-b9c0-4a48be7e51c5",
   "metadata": {},
   "source": [
    "15. How do you get a list value's tuple form? How do you get a tuple value's list form?\n",
    "\n",
    "Ans:To get a list value's tuple form : using tuple()\n",
    "\n",
    "To get a tuple value's list form : using list()"
   ]
  },
  {
   "cell_type": "markdown",
   "id": "469e45a1-f64e-41fe-8274-c5e6c32a9efa",
   "metadata": {},
   "source": [
    "16. Variables that \"contain\" list values are not necessarily lists themselves. Instead, what do they contain?\n",
    "\n",
    "Ans : They contain references to list values"
   ]
  },
  {
   "cell_type": "markdown",
   "id": "5700fca0-1285-4b0c-a19a-9b28bfffae7f",
   "metadata": {},
   "source": [
    "17. How do you distinguish between copy.copy() and copy.deepcopy()?\n",
    "\n",
    "Ans:copy.copy() - it copies content of one object to another of different memory address implimenting shallow copy which is modification independent\n",
    "\n",
    "copy.deepcopy() - it copies content of one object to another of same memory address implimenting deep copy which is modification dependent"
   ]
  }
 ],
 "metadata": {
  "kernelspec": {
   "display_name": "Python 3 (ipykernel)",
   "language": "python",
   "name": "python3"
  },
  "language_info": {
   "codemirror_mode": {
    "name": "ipython",
    "version": 3
   },
   "file_extension": ".py",
   "mimetype": "text/x-python",
   "name": "python",
   "nbconvert_exporter": "python",
   "pygments_lexer": "ipython3",
   "version": "3.10.6"
  }
 },
 "nbformat": 4,
 "nbformat_minor": 5
}
