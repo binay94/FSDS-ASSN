{
 "cells": [
  {
   "cell_type": "markdown",
   "id": "69f9312c-0256-48ac-acf4-34c6cc68e944",
   "metadata": {},
   "source": [
    "1. In what modes should the PdfFileReader() and PdfFileWriter() File objects will be opened?"
   ]
  },
  {
   "cell_type": "markdown",
   "id": "d5a3566d-1ac1-40fc-83a0-56e673f5b536",
   "metadata": {},
   "source": [
    "Ans : For PdfFileReader() file objects should be opened in rb -> read binary mode, Whereas for PdfFileWriter() file objects should be opened in wb -> write binary mode."
   ]
  },
  {
   "cell_type": "markdown",
   "id": "199514ff-cc22-4386-b4b5-43b98f71515b",
   "metadata": {},
   "source": [
    "2. From a PdfFileReader object, how do you get a Page object for page 5?"
   ]
  },
  {
   "cell_type": "markdown",
   "id": "2f7431b1-2c9d-4c49-9376-c860bd920894",
   "metadata": {},
   "source": [
    "Ans : PdfFileReader class provides a method called pages[page_no] to get a page object."
   ]
  },
  {
   "cell_type": "code",
   "execution_count": null,
   "id": "efff0cfd-b95f-4adb-8ad1-5b9c8d1f8e8d",
   "metadata": {},
   "outputs": [],
   "source": [
    "# Example Code:\n",
    "import PyPDF2 \n",
    "pdf_reader = PyPDF2.PdfReader(\"sample.pdf\")\n",
    "for page in pdf_reader.pages:\n",
    "    print(pdf_reader.pages[5])"
   ]
  },
  {
   "cell_type": "markdown",
   "id": "ee1b6c95-b162-4384-a997-7b5bdec21066",
   "metadata": {},
   "source": [
    "3. What PdfFileReader variable stores the number of pages in the PDF document?"
   ]
  },
  {
   "cell_type": "markdown",
   "id": "c6c5d8b1-5d45-43c8-a7f2-5a5ceb6e7725",
   "metadata": {},
   "source": [
    "Ans : getNumPages() method of PdfFileReader class stores the no pages in a PDF document"
   ]
  },
  {
   "cell_type": "markdown",
   "id": "58b1465f-4066-410f-8695-08f438293efd",
   "metadata": {},
   "source": [
    "4. If a PdfFileReader object’s PDF is encrypted with the password swordfish, what must you do\n",
    "before you can obtain Page objects from it?"
   ]
  },
  {
   "cell_type": "markdown",
   "id": "0f4f25a9-d441-458d-8b9a-b981f779203e",
   "metadata": {},
   "source": [
    "Ans :If a PdfFileReader object’s PDF is encrypted with the password swordfish and you're not aware of it. first read the Pdf using the PdfFileReader Class. PdfFileReader class provides a attribute called isEncrypted to check whether a pdf is encrypted or not. the method returns true if a pdf is encrypted and vice versa.\n",
    "if pdf is encrypted use the decrypt() method provided by PdfFileReader class first then try to read the contents/pages of the pdf, else PyPDF2 will raise the following error PyPDF2.utils.PdfReadError: file has not been decrypted"
   ]
  },
  {
   "cell_type": "markdown",
   "id": "17a1c809-aa2e-4ca3-a809-e79911d28478",
   "metadata": {},
   "source": [
    "5. What methods do you use to rotate a page?"
   ]
  },
  {
   "cell_type": "markdown",
   "id": "23d2b213-f8b7-420e-9919-b483cd73032b",
   "metadata": {},
   "source": [
    "Ans :PyPDF2 Package provides 2 methods to rotate a page:\n",
    "\n",
    "1) rotateClockWise() -> For Clockwise rotation\n",
    "2) rotateCounterClockWise() -> For Counter Clockwise rotation\n",
    "\n",
    "The PyPDF2 package only allows you to rotate a page in increments of 90 degrees. You will receive an AssertionError otherwise."
   ]
  },
  {
   "cell_type": "markdown",
   "id": "c31f851e-704d-46d6-a999-73040b2a7ccf",
   "metadata": {},
   "source": [
    "6. What is the difference between a Run object and a Paragraph object?"
   ]
  },
  {
   "cell_type": "markdown",
   "id": "504120f6-3087-48b5-99e2-c1b59b900f49",
   "metadata": {},
   "source": [
    "Ans :The structure of a document is represented by three different data types in python-Docx. At the highest level, a Document object represents the entire document. The Document object contains a list of Paragraph objects for the paragraphs in the document. (A new paragraph begins whenever the user presses ENTER or RETURN while typing in a Word document.) Each of these Paragraph objects contains a list of one or more Run objects.\n",
    "\n",
    "The text in a Word document is more than just a string. It has font, size, color, and other styling information associated with it. A style in Word is a collection of these attributes. A Run object is a contiguous run of text with the same style. A new Run object is needed whenever the text style changes."
   ]
  },
  {
   "cell_type": "markdown",
   "id": "c1b69d75-4fe3-4b49-b49c-c315b4354968",
   "metadata": {},
   "source": [
    "7. How do you obtain a list of Paragraph objects for a Document object that’s stored in a variable\n",
    "named doc?"
   ]
  },
  {
   "cell_type": "markdown",
   "id": "c2a71289-1e4f-4413-9ff9-fc9d72827af7",
   "metadata": {},
   "source": [
    "Ans :print(doc.paragraphs) # Prints the list of Paragraph objects for a Document"
   ]
  },
  {
   "cell_type": "markdown",
   "id": "5f5d09a2-6b2a-4e4c-bf7d-46bcf2df33df",
   "metadata": {},
   "source": [
    "8. What type of object has bold, underline, italic, strike, and outline variables?"
   ]
  },
  {
   "cell_type": "markdown",
   "id": "41a7dffa-29fe-4c3c-bccb-5030e591bd23",
   "metadata": {},
   "source": [
    "Ans :Run object has bold, underline, italic, strike, and outline variables. The text in a Word document is more than just a string. It has font, size, color, and other styling information associated with it.\n",
    "\n",
    "A style in Word is a collection of these attributes. A Run object is a contiguous run of text with the same style. A new Run object is needed whenever the text style changes."
   ]
  },
  {
   "cell_type": "markdown",
   "id": "5bd21941-cbce-4918-9b1f-1f9f4d51bda7",
   "metadata": {},
   "source": [
    "9. What is the difference between False, True, and None for the bold variable?"
   ]
  },
  {
   "cell_type": "markdown",
   "id": "0dbeedd6-aad4-4f52-b0ba-1ba986b17d5f",
   "metadata": {},
   "source": [
    "Ans :True and False are specific bool values. Use default False when you have a bool field and you want the default to be False. Don't use False as a value for a non- bool field. None is used as a generic placeholder when the value will be set later\n",
    "\n",
    "1) bold = True ----> Style Set to Bold\n",
    "2) bold = False ---> Style Not Set to Bold\n",
    "3) bold = None ---> Style is Not Applicable"
   ]
  },
  {
   "cell_type": "markdown",
   "id": "7393eaf0-3631-49c6-a13d-93c6ce50731a",
   "metadata": {},
   "source": [
    "10. How do you create a Document object for a new Word document?"
   ]
  },
  {
   "cell_type": "markdown",
   "id": "d3e343c9-dde8-4a7f-b370-e84dfd3b2f84",
   "metadata": {},
   "source": [
    "Ans :Document object for a new Word document can be created by importing Document attribute from docx library.\n",
    "\n",
    "Syntax:\n",
    "\n",
    "from docs import Document\n",
    "\n",
    "document = Document()"
   ]
  },
  {
   "cell_type": "markdown",
   "id": "ce58626f-bb51-44d1-bd72-a3c08c4f1af7",
   "metadata": {},
   "source": [
    "11. How do you add a paragraph with the text 'Hello,there!' to a Document object stored in a\n",
    "variable named doc?"
   ]
  },
  {
   "cell_type": "markdown",
   "id": "803a6c95-74a8-4186-9ebf-698bc85975aa",
   "metadata": {},
   "source": [
    "Ans :we can add a paragraph to a document object by using add_paragraph() method.\n",
    "\n",
    "Syntax:\n",
    "\n",
    "from docx import Document\n",
    "\n",
    "doc = Document()\n",
    "\n",
    "doc.add_paragraph('Hello, there!')\n",
    "\n",
    "doc.save('hello_document.docx')\n"
   ]
  },
  {
   "cell_type": "markdown",
   "id": "ee48c1b2-d56c-47ae-8fa7-b633246a1330",
   "metadata": {},
   "source": [
    "12. What integers represent the levels of headings available in Word documents?"
   ]
  },
  {
   "cell_type": "markdown",
   "id": "b87b2131-c24b-40f9-b886-31f8b4956c84",
   "metadata": {},
   "source": [
    "Ans :The levels for a heading in a word document can be specified by using the level attribute inside the add_heading method. There are a total of 5 levels statring for 0 t0 4. where level 0 makes a headline with the horizontal line below the text, whereas the heading level 1 is the main heading. Similarly, the other headings are sub-heading with their's font-sizes in decreasing order."
   ]
  }
 ],
 "metadata": {
  "kernelspec": {
   "display_name": "Python 3 (ipykernel)",
   "language": "python",
   "name": "python3"
  },
  "language_info": {
   "codemirror_mode": {
    "name": "ipython",
    "version": 3
   },
   "file_extension": ".py",
   "mimetype": "text/x-python",
   "name": "python",
   "nbconvert_exporter": "python",
   "pygments_lexer": "ipython3",
   "version": "3.10.6"
  }
 },
 "nbformat": 4,
 "nbformat_minor": 5
}
